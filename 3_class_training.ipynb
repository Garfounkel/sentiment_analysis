{
 "cells": [
  {
   "cell_type": "code",
   "execution_count": 1,
   "metadata": {
    "ExecuteTime": {
     "end_time": "2018-10-24T13:30:02.777559Z",
     "start_time": "2018-10-24T13:29:59.996642Z"
    }
   },
   "outputs": [
    {
     "name": "stderr",
     "output_type": "stream",
     "text": [
      "Using TensorFlow backend.\n"
     ]
    }
   ],
   "source": [
    "# import tensorflow as tf\n",
    "# from keras import backend as K\n",
    "\n",
    "# num_cores = 4\n",
    "# CPU = True\n",
    "# GPU = False\n",
    "\n",
    "# if GPU:\n",
    "#     num_GPU = 1\n",
    "#     num_CPU = 1\n",
    "# if CPU:\n",
    "#     num_CPU = 1\n",
    "#     num_GPU = 0\n",
    "\n",
    "# config = tf.ConfigProto(intra_op_parallelism_threads=num_cores,\\\n",
    "#         inter_op_parallelism_threads=num_cores, allow_soft_placement=True,\\\n",
    "#         device_count = {'CPU' : num_CPU, 'GPU' : num_GPU})\n",
    "# session = tf.Session(config=config)\n",
    "# K.set_session(session)"
   ]
  },
  {
   "cell_type": "code",
   "execution_count": 15,
   "metadata": {
    "ExecuteTime": {
     "end_time": "2018-11-19T21:00:01.589810Z",
     "start_time": "2018-11-19T21:00:01.554449Z"
    }
   },
   "outputs": [],
   "source": [
    "import numpy as np\n",
    "import pandas as pd\n",
    "from keras.preprocessing.text import *\n",
    "import matplotlib.pyplot as plt\n",
    "from tokenizer import tokenizer as tweet_tokenizer\n",
    "from keras.utils.np_utils import to_categorical\n",
    "from keras.preprocessing.sequence import pad_sequences\n",
    "from keras.preprocessing.text import Tokenizer\n",
    "from keras.layers import *\n",
    "from gensim.models import KeyedVectors\n",
    "from sklearn.model_selection import train_test_split\n",
    "from keras.models import Sequential\n",
    "from keras.optimizers import * \n",
    "from keras.regularizers import *\n",
    "from keras.models import load_model\n",
    "import pickle\n",
    "import json\n",
    "\n",
    "\n",
    "%matplotlib inline\n",
    "\n",
    "PATH = './data'\n",
    "\n",
    "path_train_3 = f'{PATH}/data_train_3.csv'\n",
    "path_test_3 = f'{PATH}/data_test_3.csv'\n",
    "path_train_7 = f'{PATH}/data_train_7.csv'\n",
    "path_train_16m_3 = f'{PATH}/training.1600000.processed.noemoticon.csv'"
   ]
  },
  {
   "cell_type": "markdown",
   "metadata": {},
   "source": [
    "# Serious business"
   ]
  },
  {
   "cell_type": "markdown",
   "metadata": {},
   "source": [
    "## Preprocess Train_3"
   ]
  },
  {
   "cell_type": "code",
   "execution_count": 4,
   "metadata": {
    "ExecuteTime": {
     "end_time": "2018-11-19T20:52:47.006577Z",
     "start_time": "2018-11-19T20:52:46.770956Z"
    }
   },
   "outputs": [
    {
     "data": {
      "text/plain": [
       "((50333, 3), (1630, 3), (1630, 3))"
      ]
     },
     "execution_count": 4,
     "metadata": {},
     "output_type": "execute_result"
    }
   ],
   "source": [
    "tweets = pd.read_csv(path_train_3, sep='\\t', names=['ID', 'Class', 'Tweet'])\n",
    "tweets_7 = pd.read_csv(path_train_7, sep='\\t', names=['ID', 'Class', 'Tweet'], dtype={'Tweet': str})\n",
    "tweets_3_test = pd.read_csv(path_test_3, sep='\\t', names=['ID', 'Class', 'Tweet'], dtype={'Tweet': str})\n",
    "\n",
    "tweets.shape, tweets_7.shape, tweets_3_test.shape"
   ]
  },
  {
   "cell_type": "code",
   "execution_count": null,
   "metadata": {
    "ExecuteTime": {
     "end_time": "2018-11-19T19:19:40.599134Z",
     "start_time": "2018-11-19T19:19:40.550557Z"
    }
   },
   "outputs": [],
   "source": [
    "tweets.sample(5)"
   ]
  },
  {
   "cell_type": "code",
   "execution_count": 31,
   "metadata": {
    "ExecuteTime": {
     "end_time": "2018-11-19T20:50:08.644332Z",
     "start_time": "2018-11-19T20:50:08.621042Z"
    }
   },
   "outputs": [
    {
     "data": {
      "text/html": [
       "<div>\n",
       "<style scoped>\n",
       "    .dataframe tbody tr th:only-of-type {\n",
       "        vertical-align: middle;\n",
       "    }\n",
       "\n",
       "    .dataframe tbody tr th {\n",
       "        vertical-align: top;\n",
       "    }\n",
       "\n",
       "    .dataframe thead th {\n",
       "        text-align: right;\n",
       "    }\n",
       "</style>\n",
       "<table border=\"1\" class=\"dataframe\">\n",
       "  <thead>\n",
       "    <tr style=\"text-align: right;\">\n",
       "      <th></th>\n",
       "      <th>ID</th>\n",
       "      <th>Class</th>\n",
       "      <th>Tweet</th>\n",
       "    </tr>\n",
       "  </thead>\n",
       "  <tbody>\n",
       "    <tr>\n",
       "      <th>0</th>\n",
       "      <td>0</td>\n",
       "      <td>0</td>\n",
       "      <td>@liamch88 yeah! :) playing well</td>\n",
       "    </tr>\n",
       "    <tr>\n",
       "      <th>1</th>\n",
       "      <td>1</td>\n",
       "      <td>0</td>\n",
       "      <td>At least I don't have a guy trying to discoura...</td>\n",
       "    </tr>\n",
       "    <tr>\n",
       "      <th>2</th>\n",
       "      <td>2</td>\n",
       "      <td>0</td>\n",
       "      <td>UPLIFT: If you're still discouraged it means y...</td>\n",
       "    </tr>\n",
       "    <tr>\n",
       "      <th>3</th>\n",
       "      <td>3</td>\n",
       "      <td>0</td>\n",
       "      <td>...at your age, the heyday in the blood is tam...</td>\n",
       "    </tr>\n",
       "    <tr>\n",
       "      <th>4</th>\n",
       "      <td>4</td>\n",
       "      <td>-2</td>\n",
       "      <td>i was so embarrassed when she saw us i was lik...</td>\n",
       "    </tr>\n",
       "  </tbody>\n",
       "</table>\n",
       "</div>"
      ],
      "text/plain": [
       "   ID  Class                                              Tweet\n",
       "0   0      0                   @liamch88 yeah! :) playing well \n",
       "1   1      0  At least I don't have a guy trying to discoura...\n",
       "2   2      0  UPLIFT: If you're still discouraged it means y...\n",
       "3   3      0  ...at your age, the heyday in the blood is tam...\n",
       "4   4     -2  i was so embarrassed when she saw us i was lik..."
      ]
     },
     "execution_count": 31,
     "metadata": {},
     "output_type": "execute_result"
    }
   ],
   "source": [
    "tweets_7.head(5)"
   ]
  },
  {
   "cell_type": "code",
   "execution_count": 20,
   "metadata": {
    "ExecuteTime": {
     "end_time": "2018-11-19T20:38:16.646411Z",
     "start_time": "2018-11-19T20:37:01.660101Z"
    },
    "collapsed": true
   },
   "outputs": [],
   "source": [
    "from TP_transfer_learning_2018 import *\n",
    "from TP_transfer_learning_2018.preprocessing import standardization\n",
    "\n",
    "\n",
    "tweets['Sentiment'] = tweets['Class'].apply(lambda x: {'negative': 0, 'neutral': 1, 'positive': 2}[x])\n",
    "tweets['Tweet'] = tweets['Tweet'].apply(lambda x: standardization(x))"
   ]
  },
  {
   "cell_type": "code",
   "execution_count": 32,
   "metadata": {
    "ExecuteTime": {
     "end_time": "2018-11-19T20:50:16.366103Z",
     "start_time": "2018-11-19T20:50:13.996558Z"
    },
    "collapsed": true
   },
   "outputs": [],
   "source": [
    "tweets_7['Sentiment'] = tweets_7['Class']\n",
    "tweets_7['Tweet'] = tweets_7['Tweet'].apply(lambda x: standardization(x))"
   ]
  },
  {
   "cell_type": "code",
   "execution_count": 33,
   "metadata": {
    "ExecuteTime": {
     "end_time": "2018-11-19T20:50:18.513859Z",
     "start_time": "2018-11-19T20:50:16.370714Z"
    },
    "collapsed": true
   },
   "outputs": [],
   "source": [
    "tweets_3_test['Sentiment'] = tweets_3_test['Class'].apply(lambda x: {'negative': 0, 'neutral': 1, 'positive': 2}[x])\n",
    "tweets_3_test['Tweet'] = tweets_3_test['Tweet'].apply(lambda x: standardization(x))"
   ]
  },
  {
   "cell_type": "code",
   "execution_count": 34,
   "metadata": {
    "ExecuteTime": {
     "end_time": "2018-11-19T20:50:18.555860Z",
     "start_time": "2018-11-19T20:50:18.517333Z"
    }
   },
   "outputs": [
    {
     "data": {
      "text/html": [
       "<div>\n",
       "<style scoped>\n",
       "    .dataframe tbody tr th:only-of-type {\n",
       "        vertical-align: middle;\n",
       "    }\n",
       "\n",
       "    .dataframe tbody tr th {\n",
       "        vertical-align: top;\n",
       "    }\n",
       "\n",
       "    .dataframe thead th {\n",
       "        text-align: right;\n",
       "    }\n",
       "</style>\n",
       "<table border=\"1\" class=\"dataframe\">\n",
       "  <thead>\n",
       "    <tr style=\"text-align: right;\">\n",
       "      <th></th>\n",
       "      <th>ID</th>\n",
       "      <th>Class</th>\n",
       "      <th>Tweet</th>\n",
       "    </tr>\n",
       "  </thead>\n",
       "  <tbody>\n",
       "    <tr>\n",
       "      <th>28257</th>\n",
       "      <td>635721210806956032</td>\n",
       "      <td>neutral</td>\n",
       "      <td>For an art project in 7th grade we had to make...</td>\n",
       "    </tr>\n",
       "    <tr>\n",
       "      <th>17615</th>\n",
       "      <td>634516378268119041</td>\n",
       "      <td>negative</td>\n",
       "      <td>.@marklevinshow apparently Rick Perry is an id...</td>\n",
       "    </tr>\n",
       "  </tbody>\n",
       "</table>\n",
       "</div>"
      ],
      "text/plain": [
       "                       ID     Class  \\\n",
       "28257  635721210806956032   neutral   \n",
       "17615  634516378268119041  negative   \n",
       "\n",
       "                                                   Tweet  \n",
       "28257  For an art project in 7th grade we had to make...  \n",
       "17615  .@marklevinshow apparently Rick Perry is an id...  "
      ]
     },
     "metadata": {},
     "output_type": "display_data"
    },
    {
     "data": {
      "text/html": [
       "<div>\n",
       "<style scoped>\n",
       "    .dataframe tbody tr th:only-of-type {\n",
       "        vertical-align: middle;\n",
       "    }\n",
       "\n",
       "    .dataframe tbody tr th {\n",
       "        vertical-align: top;\n",
       "    }\n",
       "\n",
       "    .dataframe thead th {\n",
       "        text-align: right;\n",
       "    }\n",
       "</style>\n",
       "<table border=\"1\" class=\"dataframe\">\n",
       "  <thead>\n",
       "    <tr style=\"text-align: right;\">\n",
       "      <th></th>\n",
       "      <th>ID</th>\n",
       "      <th>Class</th>\n",
       "      <th>Tweet</th>\n",
       "      <th>Sentiment</th>\n",
       "    </tr>\n",
       "  </thead>\n",
       "  <tbody>\n",
       "    <tr>\n",
       "      <th>0</th>\n",
       "      <td>0</td>\n",
       "      <td>0</td>\n",
       "      <td>yeah ☺ ️ playing well</td>\n",
       "      <td>0</td>\n",
       "    </tr>\n",
       "    <tr>\n",
       "      <th>1</th>\n",
       "      <td>1</td>\n",
       "      <td>0</td>\n",
       "      <td>least not guy try discourage anymore want neve...</td>\n",
       "      <td>0</td>\n",
       "    </tr>\n",
       "  </tbody>\n",
       "</table>\n",
       "</div>"
      ],
      "text/plain": [
       "   ID  Class                                              Tweet  Sentiment\n",
       "0   0      0                              yeah ☺ ️ playing well          0\n",
       "1   1      0  least not guy try discourage anymore want neve...          0"
      ]
     },
     "metadata": {},
     "output_type": "display_data"
    },
    {
     "data": {
      "text/html": [
       "<div>\n",
       "<style scoped>\n",
       "    .dataframe tbody tr th:only-of-type {\n",
       "        vertical-align: middle;\n",
       "    }\n",
       "\n",
       "    .dataframe tbody tr th {\n",
       "        vertical-align: top;\n",
       "    }\n",
       "\n",
       "    .dataframe thead th {\n",
       "        text-align: right;\n",
       "    }\n",
       "</style>\n",
       "<table border=\"1\" class=\"dataframe\">\n",
       "  <thead>\n",
       "    <tr style=\"text-align: right;\">\n",
       "      <th></th>\n",
       "      <th>ID</th>\n",
       "      <th>Class</th>\n",
       "      <th>Tweet</th>\n",
       "      <th>Sentiment</th>\n",
       "    </tr>\n",
       "  </thead>\n",
       "  <tbody>\n",
       "    <tr>\n",
       "      <th>0</th>\n",
       "      <td>449</td>\n",
       "      <td>negative</td>\n",
       "      <td>site crash everytime try book help tell nothin...</td>\n",
       "      <td>0</td>\n",
       "    </tr>\n",
       "    <tr>\n",
       "      <th>1</th>\n",
       "      <td>450</td>\n",
       "      <td>negative</td>\n",
       "      <td>theme week ask lord strength perspective perse...</td>\n",
       "      <td>0</td>\n",
       "    </tr>\n",
       "  </tbody>\n",
       "</table>\n",
       "</div>"
      ],
      "text/plain": [
       "    ID     Class                                              Tweet  Sentiment\n",
       "0  449  negative  site crash everytime try book help tell nothin...          0\n",
       "1  450  negative  theme week ask lord strength perspective perse...          0"
      ]
     },
     "metadata": {},
     "output_type": "display_data"
    }
   ],
   "source": [
    "display(tweets.sample(2))\n",
    "display(tweets_7.head(2))\n",
    "display(tweets_3_test.head(2))"
   ]
  },
  {
   "cell_type": "code",
   "execution_count": 35,
   "metadata": {
    "ExecuteTime": {
     "end_time": "2018-11-19T20:50:24.429094Z",
     "start_time": "2018-11-19T20:50:24.396192Z"
    },
    "collapsed": true
   },
   "outputs": [],
   "source": [
    "tweets_7.to_feather('pickles/train_7.feather')"
   ]
  },
  {
   "cell_type": "code",
   "execution_count": 36,
   "metadata": {
    "ExecuteTime": {
     "end_time": "2018-11-19T20:50:25.225564Z",
     "start_time": "2018-11-19T20:50:25.203736Z"
    },
    "collapsed": true
   },
   "outputs": [],
   "source": [
    "tweets_3_test.to_feather('pickles/test_3.feather')"
   ]
  },
  {
   "cell_type": "code",
   "execution_count": 22,
   "metadata": {
    "ExecuteTime": {
     "end_time": "2018-11-01T12:06:34.034157Z",
     "start_time": "2018-11-01T12:06:33.769108Z"
    },
    "collapsed": true
   },
   "outputs": [],
   "source": [
    "tweets.to_feather('pickles/train_3.feather')"
   ]
  },
  {
   "cell_type": "markdown",
   "metadata": {},
   "source": [
    "## Training"
   ]
  },
  {
   "cell_type": "code",
   "execution_count": 5,
   "metadata": {
    "ExecuteTime": {
     "end_time": "2018-11-19T20:55:47.224744Z",
     "start_time": "2018-11-19T20:55:47.162565Z"
    }
   },
   "outputs": [],
   "source": [
    "tweets = pd.read_feather('pickles/train_3.feather')\n",
    "test_3 = pd.read_feather('pickles/test_3.feather')\n",
    "train_7 = pd.read_feather('pickles/train_7.feather')\n",
    "\n",
    "train_x, train_y = tweets['Tweet'], tweets['Sentiment']\n",
    "test_x, test_y = test_3['Tweet'], test_3['Sentiment']\n",
    "train7_x, train7_y = train_7['Tweet'], train_7['Sentiment']"
   ]
  },
  {
   "cell_type": "markdown",
   "metadata": {},
   "source": [
    "* Fitting the tokenizer on our entire tweet base to make sure the indexes are rights"
   ]
  },
  {
   "cell_type": "code",
   "execution_count": 6,
   "metadata": {
    "ExecuteTime": {
     "end_time": "2018-11-19T21:01:51.767635Z",
     "start_time": "2018-11-19T21:01:50.673044Z"
    },
    "collapsed": true
   },
   "outputs": [],
   "source": [
    "all_tweets = pd.concat([train_x, test_x, train7_x])\n",
    "tokenizer = Tokenizer(filters=' ')\n",
    "tokenizer.fit_on_texts(all_tweets)\n",
    "word_index = tokenizer.word_index\n",
    "\n",
    "pickle.dump(tokenizer, open(\"pickles/tokenizer.pickle\", \"wb\"))"
   ]
  },
  {
   "cell_type": "code",
   "execution_count": 7,
   "metadata": {
    "ExecuteTime": {
     "end_time": "2018-11-19T21:02:20.449271Z",
     "start_time": "2018-11-19T21:02:20.362218Z"
    },
    "collapsed": true
   },
   "outputs": [],
   "source": [
    "tokenizer = pickle.load(open(\"pickles/tokenizer.pickle\", 'rb'))"
   ]
  },
  {
   "cell_type": "markdown",
   "metadata": {},
   "source": [
    "* Looking for the MAX_SEQUENCE_LENGTH in all our sequences:"
   ]
  },
  {
   "cell_type": "code",
   "execution_count": 8,
   "metadata": {
    "ExecuteTime": {
     "end_time": "2018-11-19T21:03:42.730021Z",
     "start_time": "2018-11-19T21:03:41.896065Z"
    }
   },
   "outputs": [
    {
     "data": {
      "text/plain": [
       "32"
      ]
     },
     "execution_count": 8,
     "metadata": {},
     "output_type": "execute_result"
    }
   ],
   "source": [
    "train_sequences = tokenizer.texts_to_sequences(train_x)\n",
    "test_sequences = tokenizer.texts_to_sequences(test_x)\n",
    "train7_sequences = tokenizer.texts_to_sequences(train7_x)\n",
    "\n",
    "sequences = train_sequences + test_sequences + train7_sequences\n",
    "MAX_SEQUENCE_LENGTH = 0\n",
    "for elt in sequences:\n",
    "    if len(elt) > MAX_SEQUENCE_LENGTH:\n",
    "        MAX_SEQUENCE_LENGTH = len(elt)\n",
    "\n",
    "MAX_SEQUENCE_LENGTH"
   ]
  },
  {
   "cell_type": "markdown",
   "metadata": {},
   "source": [
    "* We only train on train_3:"
   ]
  },
  {
   "cell_type": "code",
   "execution_count": 9,
   "metadata": {
    "ExecuteTime": {
     "end_time": "2018-11-19T21:03:59.747388Z",
     "start_time": "2018-11-19T21:03:59.311091Z"
    }
   },
   "outputs": [
    {
     "data": {
      "text/plain": [
       "(50333, 32)"
      ]
     },
     "execution_count": 9,
     "metadata": {},
     "output_type": "execute_result"
    }
   ],
   "source": [
    "train_sequences = pad_sequences(train_sequences, MAX_SEQUENCE_LENGTH)\n",
    "train_sequences.shape"
   ]
  },
  {
   "cell_type": "markdown",
   "metadata": {},
   "source": [
    "#### Loading Datastories's embeddings"
   ]
  },
  {
   "cell_type": "code",
   "execution_count": 10,
   "metadata": {
    "ExecuteTime": {
     "end_time": "2018-11-19T21:07:57.523555Z",
     "start_time": "2018-11-19T21:04:06.439904Z"
    },
    "collapsed": true
   },
   "outputs": [],
   "source": [
    "# googlenews_w2v = KeyedVectors.load_word2vec_format('data/embeddings/GoogleNews-vectors-negative300.bin', binary=True)\n",
    "from gensim.scripts.glove2word2vec import glove2word2vec\n",
    "from gensim.test.utils import get_tmpfile\n",
    "\n",
    "\n",
    "tmp_file = get_tmpfile('datastories.300d.word2vec')\n",
    "glove2word2vec('data/embeddings/datastories.twitter.300d.txt', tmp_file)\n",
    "w2v = KeyedVectors.load_word2vec_format(tmp_file)"
   ]
  },
  {
   "cell_type": "markdown",
   "metadata": {},
   "source": [
    "### EmoLex"
   ]
  },
  {
   "cell_type": "code",
   "execution_count": 12,
   "metadata": {
    "collapsed": true
   },
   "outputs": [],
   "source": [
    "emolex = pd.read_csv('TP_transfer_learning_2018/EmoLex.txt', sep='\\t')"
   ]
  },
  {
   "cell_type": "markdown",
   "metadata": {},
   "source": [
    "### OLE"
   ]
  },
  {
   "cell_type": "code",
   "execution_count": 11,
   "metadata": {
    "collapsed": true
   },
   "outputs": [],
   "source": [
    "positive_words = []\n",
    "negative_words = []\n",
    "\n",
    "with open('data/positive-words.txt') as positive_file, open('data/negative-words.txt', encoding='ISO-8859-1') as negative_file:\n",
    "    for _ in range(35):\n",
    "        next(positive_file)\n",
    "        next(negative_file)\n",
    "        \n",
    "    for line in positive_file:\n",
    "        positive_words.append(line)\n",
    "    for line in negative_file:\n",
    "        negative_words.append(line)"
   ]
  },
  {
   "cell_type": "markdown",
   "metadata": {},
   "source": [
    "### Emoji valence and AFINN"
   ]
  },
  {
   "cell_type": "code",
   "execution_count": 13,
   "metadata": {},
   "outputs": [
    {
     "name": "stdout",
     "output_type": "stream",
     "text": [
      "         word                                val\n",
      "0     abandon  [0, 0, 0, 1, 0, 0, 0, 0, 0, 0, 0]\n",
      "1   abandoned  [0, 0, 0, 1, 0, 0, 0, 0, 0, 0, 0]\n",
      "2    abandons  [0, 0, 0, 1, 0, 0, 0, 0, 0, 0, 0]\n",
      "3    abducted  [0, 0, 0, 1, 0, 0, 0, 0, 0, 0, 0]\n",
      "4   abduction  [0, 0, 0, 1, 0, 0, 0, 0, 0, 0, 0]\n",
      "5  abductions  [0, 0, 0, 1, 0, 0, 0, 0, 0, 0, 0]\n",
      "6       abhor  [0, 0, 1, 0, 0, 0, 0, 0, 0, 0, 0]\n",
      "7    abhorred  [0, 0, 1, 0, 0, 0, 0, 0, 0, 0, 0]\n",
      "8   abhorrent  [0, 0, 1, 0, 0, 0, 0, 0, 0, 0, 0]\n",
      "9      abhors  [0, 0, 1, 0, 0, 0, 0, 0, 0, 0, 0]\n",
      "0    [0, 0, 0, 1, 0, 0, 0, 0, 0, 0, 0]\n",
      "Name: val, dtype: object\n"
     ]
    }
   ],
   "source": [
    "afinn = pd.read_csv('data/AFINN-111.txt', sep='\\t')\n",
    "\n",
    "def val_to_list(x):\n",
    "    x += 5\n",
    "    return(to_categorical(x, num_classes=11, dtype='int'))\n",
    "\n",
    "\n",
    "afinn[['val']] = afinn['val'].apply(val_to_list)\n",
    "print(afinn.head(10))\n",
    "print(afinn.loc[afinn['word'] == 'abandon'].val)"
   ]
  },
  {
   "cell_type": "code",
   "execution_count": 16,
   "metadata": {},
   "outputs": [
    {
     "data": {
      "text/plain": [
       "[{'emoji': '💯',\n",
       "  'name': '100',\n",
       "  'polarity': array([0, 0, 0, 0, 0, 0, 0, 0, 1, 0, 0])},\n",
       " {'emoji': '😠',\n",
       "  'name': 'angry',\n",
       "  'polarity': array([0, 0, 1, 0, 0, 0, 0, 0, 0, 0, 0])},\n",
       " {'emoji': '😧',\n",
       "  'name': 'anguished',\n",
       "  'polarity': array([0, 0, 1, 0, 0, 0, 0, 0, 0, 0, 0])},\n",
       " {'emoji': '😲',\n",
       "  'name': 'astonished',\n",
       "  'polarity': array([0, 0, 0, 0, 0, 0, 0, 1, 0, 0, 0])},\n",
       " {'emoji': '🖤',\n",
       "  'name': 'black_heart',\n",
       "  'polarity': array([0, 0, 0, 0, 0, 0, 0, 0, 1, 0, 0])},\n",
       " {'emoji': '💙',\n",
       "  'name': 'blue_heart',\n",
       "  'polarity': array([0, 0, 0, 0, 0, 0, 0, 0, 1, 0, 0])},\n",
       " {'emoji': '😊',\n",
       "  'name': 'blush',\n",
       "  'polarity': array([0, 0, 0, 0, 0, 0, 0, 1, 0, 0, 0])},\n",
       " {'emoji': '💔',\n",
       "  'name': 'broken_heart',\n",
       "  'polarity': array([0, 0, 1, 0, 0, 0, 0, 0, 0, 0, 0])},\n",
       " {'emoji': '👏',\n",
       "  'name': 'clap',\n",
       "  'polarity': array([0, 0, 0, 0, 0, 0, 0, 0, 1, 0, 0])},\n",
       " {'emoji': '🤡',\n",
       "  'name': 'clown_face',\n",
       "  'polarity': array([0, 0, 0, 0, 0, 1, 0, 0, 0, 0, 0])},\n",
       " {'emoji': '😰',\n",
       "  'name': 'cold_sweat',\n",
       "  'polarity': array([0, 0, 0, 1, 0, 0, 0, 0, 0, 0, 0])},\n",
       " {'emoji': '😖',\n",
       "  'name': 'confounded',\n",
       "  'polarity': array([0, 0, 0, 1, 0, 0, 0, 0, 0, 0, 0])},\n",
       " {'emoji': '😕',\n",
       "  'name': 'confused',\n",
       "  'polarity': array([0, 0, 0, 1, 0, 0, 0, 0, 0, 0, 0])},\n",
       " {'emoji': '🤠',\n",
       "  'name': 'cowboy_hat_face',\n",
       "  'polarity': array([0, 0, 0, 0, 0, 0, 0, 1, 0, 0, 0])},\n",
       " {'emoji': '🤞',\n",
       "  'name': 'crossed_fingers',\n",
       "  'polarity': array([0, 0, 0, 0, 0, 0, 0, 1, 0, 0, 0])},\n",
       " {'emoji': '😢',\n",
       "  'name': 'cry',\n",
       "  'polarity': array([0, 0, 0, 1, 0, 0, 0, 0, 0, 0, 0])},\n",
       " {'emoji': '😿',\n",
       "  'name': 'crying_cat_face',\n",
       "  'polarity': array([0, 0, 0, 1, 0, 0, 0, 0, 0, 0, 0])},\n",
       " {'emoji': '💘',\n",
       "  'name': 'cupid',\n",
       "  'polarity': array([0, 0, 0, 0, 0, 0, 0, 0, 1, 0, 0])},\n",
       " {'emoji': '😞',\n",
       "  'name': 'disappointed',\n",
       "  'polarity': array([0, 0, 0, 1, 0, 0, 0, 0, 0, 0, 0])},\n",
       " {'emoji': '😥',\n",
       "  'name': 'disappointed_relieved',\n",
       "  'polarity': array([0, 0, 0, 0, 1, 0, 0, 0, 0, 0, 0])},\n",
       " {'emoji': '😵',\n",
       "  'name': 'dizzy_face',\n",
       "  'polarity': array([0, 0, 0, 0, 1, 0, 0, 0, 0, 0, 0])},\n",
       " {'emoji': '🤤',\n",
       "  'name': 'drooling_face',\n",
       "  'polarity': array([0, 0, 0, 0, 0, 1, 0, 0, 0, 0, 0])},\n",
       " {'emoji': '😑',\n",
       "  'name': 'expressionless',\n",
       "  'polarity': array([0, 0, 0, 0, 0, 1, 0, 0, 0, 0, 0])},\n",
       " {'emoji': '🤕',\n",
       "  'name': 'face_with_head_bandage',\n",
       "  'polarity': array([0, 0, 0, 1, 0, 0, 0, 0, 0, 0, 0])},\n",
       " {'emoji': '🤒',\n",
       "  'name': 'face_with_thermometer',\n",
       "  'polarity': array([0, 0, 0, 0, 1, 0, 0, 0, 0, 0, 0])},\n",
       " {'emoji': '😨',\n",
       "  'name': 'fearful',\n",
       "  'polarity': array([0, 0, 0, 1, 0, 0, 0, 0, 0, 0, 0])},\n",
       " {'emoji': '😳',\n",
       "  'name': 'flushed',\n",
       "  'polarity': array([0, 0, 0, 1, 0, 0, 0, 0, 0, 0, 0])},\n",
       " {'emoji': '😦',\n",
       "  'name': 'frowning',\n",
       "  'polarity': array([0, 0, 0, 0, 1, 0, 0, 0, 0, 0, 0])},\n",
       " {'emoji': '☹️',\n",
       "  'name': 'frowning_face',\n",
       "  'polarity': array([0, 0, 0, 1, 0, 0, 0, 0, 0, 0, 0])},\n",
       " {'emoji': '🖕',\n",
       "  'name': 'fu',\n",
       "  'polarity': array([0, 1, 0, 0, 0, 0, 0, 0, 0, 0, 0])},\n",
       " {'emoji': '👻',\n",
       "  'name': 'ghost',\n",
       "  'polarity': array([0, 0, 0, 0, 1, 0, 0, 0, 0, 0, 0])},\n",
       " {'emoji': '💝',\n",
       "  'name': 'gift_heart',\n",
       "  'polarity': array([0, 0, 0, 0, 0, 0, 0, 0, 1, 0, 0])},\n",
       " {'emoji': '💚',\n",
       "  'name': 'green_heart',\n",
       "  'polarity': array([0, 0, 0, 0, 0, 0, 0, 0, 1, 0, 0])},\n",
       " {'emoji': '😬',\n",
       "  'name': 'grimacing',\n",
       "  'polarity': array([0, 0, 0, 1, 0, 0, 0, 0, 0, 0, 0])},\n",
       " {'emoji': '😁',\n",
       "  'name': 'grin',\n",
       "  'polarity': array([0, 0, 0, 0, 0, 0, 0, 1, 0, 0, 0])},\n",
       " {'emoji': '😀',\n",
       "  'name': 'grinning',\n",
       "  'polarity': array([0, 0, 0, 0, 0, 0, 0, 1, 0, 0, 0])},\n",
       " {'emoji': '🤝',\n",
       "  'name': 'handshake',\n",
       "  'polarity': array([0, 0, 0, 0, 0, 0, 1, 0, 0, 0, 0])},\n",
       " {'emoji': '❤️',\n",
       "  'name': 'heart',\n",
       "  'polarity': array([0, 0, 0, 0, 0, 0, 0, 0, 1, 0, 0])},\n",
       " {'emoji': '😍',\n",
       "  'name': 'heart_eyes',\n",
       "  'polarity': array([0, 0, 0, 0, 0, 0, 0, 0, 1, 0, 0])},\n",
       " {'emoji': '😻',\n",
       "  'name': 'heart_eyes_cat',\n",
       "  'polarity': array([0, 0, 0, 0, 0, 0, 0, 0, 1, 0, 0])},\n",
       " {'emoji': '💓',\n",
       "  'name': 'heartbeat',\n",
       "  'polarity': array([0, 0, 0, 0, 0, 0, 0, 0, 1, 0, 0])},\n",
       " {'emoji': '💗',\n",
       "  'name': 'heartpulse',\n",
       "  'polarity': array([0, 0, 0, 0, 0, 0, 0, 0, 1, 0, 0])},\n",
       " {'emoji': '🤗',\n",
       "  'name': 'hugs',\n",
       "  'polarity': array([0, 0, 0, 0, 0, 0, 0, 1, 0, 0, 0])},\n",
       " {'emoji': '😯',\n",
       "  'name': 'hushed',\n",
       "  'polarity': array([0, 0, 0, 0, 1, 0, 0, 0, 0, 0, 0])},\n",
       " {'emoji': '👿',\n",
       "  'name': 'imp',\n",
       "  'polarity': array([0, 1, 0, 0, 0, 0, 0, 0, 0, 0, 0])},\n",
       " {'emoji': '😇',\n",
       "  'name': 'innocent',\n",
       "  'polarity': array([0, 0, 0, 0, 0, 0, 0, 0, 1, 0, 0])},\n",
       " {'emoji': '😂',\n",
       "  'name': 'joy',\n",
       "  'polarity': array([0, 0, 0, 0, 0, 0, 0, 0, 1, 0, 0])},\n",
       " {'emoji': '😹',\n",
       "  'name': 'joy_cat',\n",
       "  'polarity': array([0, 0, 0, 0, 0, 0, 0, 0, 1, 0, 0])},\n",
       " {'emoji': '💋',\n",
       "  'name': 'kiss',\n",
       "  'polarity': array([0, 0, 0, 0, 0, 0, 0, 1, 0, 0, 0])},\n",
       " {'emoji': '😗',\n",
       "  'name': 'kissing',\n",
       "  'polarity': array([0, 0, 0, 0, 0, 0, 0, 1, 0, 0, 0])},\n",
       " {'emoji': '😽',\n",
       "  'name': 'kissing_cat',\n",
       "  'polarity': array([0, 0, 0, 0, 0, 0, 0, 1, 0, 0, 0])},\n",
       " {'emoji': '😚',\n",
       "  'name': 'kissing_closed_eyes',\n",
       "  'polarity': array([0, 0, 0, 0, 0, 0, 0, 1, 0, 0, 0])},\n",
       " {'emoji': '😘',\n",
       "  'name': 'kissing_heart',\n",
       "  'polarity': array([0, 0, 0, 0, 0, 0, 0, 0, 1, 0, 0])},\n",
       " {'emoji': '😙',\n",
       "  'name': 'kissing_smiling_eyes',\n",
       "  'polarity': array([0, 0, 0, 0, 0, 0, 0, 1, 0, 0, 0])},\n",
       " {'emoji': '😆',\n",
       "  'name': 'laughing',\n",
       "  'polarity': array([0, 0, 0, 0, 0, 0, 1, 0, 0, 0, 0])},\n",
       " {'emoji': '👄',\n",
       "  'name': 'lips',\n",
       "  'polarity': array([0, 0, 0, 0, 0, 0, 0, 1, 0, 0, 0])},\n",
       " {'emoji': '🤥',\n",
       "  'name': 'lying_face',\n",
       "  'polarity': array([0, 0, 0, 1, 0, 0, 0, 0, 0, 0, 0])},\n",
       " {'emoji': '😷',\n",
       "  'name': 'mask',\n",
       "  'polarity': array([0, 0, 0, 0, 1, 0, 0, 0, 0, 0, 0])},\n",
       " {'emoji': '🤑',\n",
       "  'name': 'money_mouth_face',\n",
       "  'polarity': array([0, 0, 0, 0, 0, 1, 0, 0, 0, 0, 0])},\n",
       " {'emoji': '🤢',\n",
       "  'name': 'nauseated_face',\n",
       "  'polarity': array([0, 0, 0, 1, 0, 0, 0, 0, 0, 0, 0])},\n",
       " {'emoji': '🤓',\n",
       "  'name': 'nerd_face',\n",
       "  'polarity': array([0, 0, 0, 0, 1, 0, 0, 0, 0, 0, 0])},\n",
       " {'emoji': '😐',\n",
       "  'name': 'neutral_face',\n",
       "  'polarity': array([0, 0, 0, 0, 0, 1, 0, 0, 0, 0, 0])},\n",
       " {'emoji': '😶',\n",
       "  'name': 'no_mouth',\n",
       "  'polarity': array([0, 0, 0, 0, 0, 1, 0, 0, 0, 0, 0])},\n",
       " {'emoji': '👌',\n",
       "  'name': 'ok_hand',\n",
       "  'polarity': array([0, 0, 0, 0, 0, 0, 0, 1, 0, 0, 0])},\n",
       " {'emoji': '😮',\n",
       "  'name': 'open_mouth',\n",
       "  'polarity': array([0, 0, 0, 1, 0, 0, 0, 0, 0, 0, 0])},\n",
       " {'emoji': '😔',\n",
       "  'name': 'pensive',\n",
       "  'polarity': array([0, 0, 0, 0, 1, 0, 0, 0, 0, 0, 0])},\n",
       " {'emoji': '😣',\n",
       "  'name': 'persevere',\n",
       "  'polarity': array([0, 0, 0, 1, 0, 0, 0, 0, 0, 0, 0])},\n",
       " {'emoji': '😾',\n",
       "  'name': 'pouting_cat',\n",
       "  'polarity': array([0, 1, 0, 0, 0, 0, 0, 0, 0, 0, 0])},\n",
       " {'emoji': '🙏',\n",
       "  'name': 'pray',\n",
       "  'polarity': array([0, 0, 0, 0, 0, 0, 1, 0, 0, 0, 0])},\n",
       " {'emoji': '👊',\n",
       "  'name': 'punch',\n",
       "  'polarity': array([0, 0, 0, 0, 1, 0, 0, 0, 0, 0, 0])},\n",
       " {'emoji': '💜',\n",
       "  'name': 'purple_heart',\n",
       "  'polarity': array([0, 0, 0, 0, 0, 0, 0, 0, 1, 0, 0])},\n",
       " {'emoji': '😡',\n",
       "  'name': 'rage',\n",
       "  'polarity': array([0, 1, 0, 0, 0, 0, 0, 0, 0, 0, 0])},\n",
       " {'emoji': '🙌',\n",
       "  'name': 'raised_hands',\n",
       "  'polarity': array([0, 0, 0, 0, 0, 0, 0, 0, 0, 1, 0])},\n",
       " {'emoji': '☺️',\n",
       "  'name': 'relaxed',\n",
       "  'polarity': array([0, 0, 0, 0, 0, 0, 0, 1, 0, 0, 0])},\n",
       " {'emoji': '😌',\n",
       "  'name': 'relieved',\n",
       "  'polarity': array([0, 0, 0, 0, 0, 0, 0, 1, 0, 0, 0])},\n",
       " {'emoji': '💞',\n",
       "  'name': 'revolving_hearts',\n",
       "  'polarity': array([0, 0, 0, 0, 0, 0, 0, 0, 1, 0, 0])},\n",
       " {'emoji': '🤣',\n",
       "  'name': 'rofl',\n",
       "  'polarity': array([0, 0, 0, 0, 0, 0, 0, 0, 0, 1, 0])},\n",
       " {'emoji': '🙄',\n",
       "  'name': 'roll_eyes',\n",
       "  'polarity': array([0, 0, 0, 0, 1, 0, 0, 0, 0, 0, 0])},\n",
       " {'emoji': '😱',\n",
       "  'name': 'scream',\n",
       "  'polarity': array([0, 0, 1, 0, 0, 0, 0, 0, 0, 0, 0])},\n",
       " {'emoji': '🙀',\n",
       "  'name': 'scream_cat',\n",
       "  'polarity': array([0, 0, 1, 0, 0, 0, 0, 0, 0, 0, 0])},\n",
       " {'emoji': '💩',\n",
       "  'name': 'shit',\n",
       "  'polarity': array([0, 0, 1, 0, 0, 0, 0, 0, 0, 0, 0])},\n",
       " {'emoji': '💀',\n",
       "  'name': 'skull',\n",
       "  'polarity': array([0, 0, 0, 1, 0, 0, 0, 0, 0, 0, 0])},\n",
       " {'emoji': '☠️',\n",
       "  'name': 'skull_and_crossbones',\n",
       "  'polarity': array([0, 0, 0, 1, 0, 0, 0, 0, 0, 0, 0])},\n",
       " {'emoji': '😴',\n",
       "  'name': 'sleeping',\n",
       "  'polarity': array([0, 0, 0, 0, 0, 1, 0, 0, 0, 0, 0])},\n",
       " {'emoji': '😪',\n",
       "  'name': 'sleepy',\n",
       "  'polarity': array([0, 0, 0, 0, 0, 1, 0, 0, 0, 0, 0])},\n",
       " {'emoji': '🙁',\n",
       "  'name': 'slightly_frowning_face',\n",
       "  'polarity': array([0, 0, 0, 0, 1, 0, 0, 0, 0, 0, 0])},\n",
       " {'emoji': '🙂',\n",
       "  'name': 'slightly_smiling_face',\n",
       "  'polarity': array([0, 0, 0, 0, 0, 0, 1, 0, 0, 0, 0])},\n",
       " {'emoji': '😄',\n",
       "  'name': 'smile',\n",
       "  'polarity': array([0, 0, 0, 0, 0, 0, 0, 1, 0, 0, 0])},\n",
       " {'emoji': '😸',\n",
       "  'name': 'smile_cat',\n",
       "  'polarity': array([0, 0, 0, 0, 0, 0, 0, 1, 0, 0, 0])},\n",
       " {'emoji': '😃',\n",
       "  'name': 'smiley',\n",
       "  'polarity': array([0, 0, 0, 0, 0, 0, 0, 1, 0, 0, 0])},\n",
       " {'emoji': '😺',\n",
       "  'name': 'smiley_cat',\n",
       "  'polarity': array([0, 0, 0, 0, 0, 0, 0, 1, 0, 0, 0])},\n",
       " {'emoji': '😈',\n",
       "  'name': 'smiling_imp',\n",
       "  'polarity': array([0, 0, 1, 0, 0, 0, 0, 0, 0, 0, 0])},\n",
       " {'emoji': '😏',\n",
       "  'name': 'smirk',\n",
       "  'polarity': array([0, 0, 0, 0, 0, 0, 0, 1, 0, 0, 0])},\n",
       " {'emoji': '😼',\n",
       "  'name': 'smirk_cat',\n",
       "  'polarity': array([0, 0, 0, 0, 0, 0, 0, 1, 0, 0, 0])},\n",
       " {'emoji': '🤧',\n",
       "  'name': 'sneezing_face',\n",
       "  'polarity': array([0, 0, 0, 1, 0, 0, 0, 0, 0, 0, 0])},\n",
       " {'emoji': '😭',\n",
       "  'name': 'sob',\n",
       "  'polarity': array([0, 0, 1, 0, 0, 0, 0, 0, 0, 0, 0])},\n",
       " {'emoji': '💖',\n",
       "  'name': 'sparkling_heart',\n",
       "  'polarity': array([0, 0, 0, 0, 0, 0, 0, 0, 1, 0, 0])},\n",
       " {'emoji': '😛',\n",
       "  'name': 'stuck_out_tongue',\n",
       "  'polarity': array([0, 0, 0, 0, 0, 0, 1, 0, 0, 0, 0])},\n",
       " {'emoji': '😝',\n",
       "  'name': 'stuck_out_tongue_closed_eyes',\n",
       "  'polarity': array([0, 0, 0, 0, 0, 1, 0, 0, 0, 0, 0])},\n",
       " {'emoji': '😜',\n",
       "  'name': 'stuck_out_tongue_winking_eye',\n",
       "  'polarity': array([0, 0, 0, 0, 1, 0, 0, 0, 0, 0, 0])},\n",
       " {'emoji': '😎',\n",
       "  'name': 'sunglasses',\n",
       "  'polarity': array([0, 0, 0, 0, 0, 0, 1, 0, 0, 0, 0])},\n",
       " {'emoji': '😓',\n",
       "  'name': 'sweat',\n",
       "  'polarity': array([0, 0, 0, 0, 1, 0, 0, 0, 0, 0, 0])},\n",
       " {'emoji': '😅',\n",
       "  'name': 'sweat_smile',\n",
       "  'polarity': array([0, 0, 0, 0, 0, 0, 0, 1, 0, 0, 0])},\n",
       " {'emoji': '🤔',\n",
       "  'name': 'thinking',\n",
       "  'polarity': array([0, 0, 0, 0, 1, 0, 0, 0, 0, 0, 0])},\n",
       " {'emoji': '👎',\n",
       "  'name': 'thumbsdown',\n",
       "  'polarity': array([0, 0, 0, 1, 0, 0, 0, 0, 0, 0, 0])},\n",
       " {'emoji': '👍',\n",
       "  'name': 'thumbsup',\n",
       "  'polarity': array([0, 0, 0, 0, 0, 0, 0, 1, 0, 0, 0])},\n",
       " {'emoji': '😫',\n",
       "  'name': 'tired_face',\n",
       "  'polarity': array([0, 0, 0, 1, 0, 0, 0, 0, 0, 0, 0])},\n",
       " {'emoji': '😤',\n",
       "  'name': 'triumph',\n",
       "  'polarity': array([0, 0, 0, 0, 0, 1, 0, 0, 0, 0, 0])},\n",
       " {'emoji': '💕',\n",
       "  'name': 'two_hearts',\n",
       "  'polarity': array([0, 0, 0, 0, 0, 0, 0, 0, 1, 0, 0])},\n",
       " {'emoji': '😒',\n",
       "  'name': 'unamused',\n",
       "  'polarity': array([0, 0, 0, 1, 0, 0, 0, 0, 0, 0, 0])},\n",
       " {'emoji': '🙃',\n",
       "  'name': 'upside_down_face',\n",
       "  'polarity': array([0, 0, 0, 0, 0, 1, 0, 0, 0, 0, 0])},\n",
       " {'emoji': '✌️',\n",
       "  'name': 'v',\n",
       "  'polarity': array([0, 0, 0, 0, 0, 0, 0, 1, 0, 0, 0])},\n",
       " {'emoji': '😩',\n",
       "  'name': 'weary',\n",
       "  'polarity': array([0, 0, 0, 1, 0, 0, 0, 0, 0, 0, 0])},\n",
       " {'emoji': '😉',\n",
       "  'name': 'wink',\n",
       "  'polarity': array([0, 0, 0, 0, 0, 0, 0, 0, 1, 0, 0])},\n",
       " {'emoji': '😟',\n",
       "  'name': 'worried',\n",
       "  'polarity': array([0, 0, 1, 0, 0, 0, 0, 0, 0, 0, 0])},\n",
       " {'emoji': '💛',\n",
       "  'name': 'yellow_heart',\n",
       "  'polarity': array([0, 0, 0, 0, 0, 0, 0, 0, 1, 0, 0])},\n",
       " {'emoji': '😋',\n",
       "  'name': 'yum',\n",
       "  'polarity': array([0, 0, 0, 0, 0, 0, 0, 0, 1, 0, 0])},\n",
       " {'emoji': '🤐',\n",
       "  'name': 'zipper_mouth_face',\n",
       "  'polarity': array([0, 0, 0, 0, 1, 0, 0, 0, 0, 0, 0])}]"
      ]
     },
     "execution_count": 16,
     "metadata": {},
     "output_type": "execute_result"
    }
   ],
   "source": [
    "with open('./data/index.json') as emojiFile:\n",
    "    emoji_valence = json.load(emojiFile)\n",
    "\n",
    "for elmt in emoji_valence:\n",
    "    val = elmt['polarity']\n",
    "    elmt['polarity'] = val_to_list(val)\n",
    "emoji_valence"
   ]
  },
  {
   "cell_type": "markdown",
   "metadata": {},
   "source": [
    "### Depeche Mood"
   ]
  },
  {
   "cell_type": "code",
   "execution_count": 17,
   "metadata": {},
   "outputs": [
    {
     "name": "stdout",
     "output_type": "stream",
     "text": [
      "['Lemma#PoS' 'AFRAID' 'AMUSED' 'ANGRY' 'ANNOYED' 'DONT_CARE' 'HAPPY'\n",
      " 'INSPIRED' 'SAD']\n",
      "['word' 'AFRAID' 'AMUSED' 'ANGRY' 'ANNOYED' 'DONT_CARE' 'HAPPY' 'INSPIRED'\n",
      " 'SAD' 'freq']\n"
     ]
    }
   ],
   "source": [
    "DepecheMoodpp = pd.read_csv('data/DepecheMood/DepecheMood_english_token_full.tsv', sep='\\t')\n",
    "DepecheMood = pd.read_csv('data/DepecheMood/DepecheMood_freq.txt', sep='\\t')\n",
    "\n",
    "print(DepecheMood.columns.values)\n",
    "print(DepecheMoodpp.columns.values)"
   ]
  },
  {
   "cell_type": "markdown",
   "metadata": {},
   "source": [
    "### Embedding matrix"
   ]
  },
  {
   "cell_type": "code",
   "execution_count": null,
   "metadata": {
    "ExecuteTime": {
     "end_time": "2018-11-19T21:08:42.894832Z",
     "start_time": "2018-11-19T21:08:42.348077Z"
    }
   },
   "outputs": [
    {
     "name": "stdout",
     "output_type": "stream",
     "text": [
      "[0 0 0 0 0 0 0 0 0 0]\n",
      "(1, 300)\n"
     ]
    }
   ],
   "source": [
    "targets = to_categorical(train_y, 3)\n",
    "nb_words = len(word_index) + 1\n",
    "\n",
    "EMBEDDING_DIM = 300\n",
    "EMOLEX_DIM = 10\n",
    "OLE_DIM = 2\n",
    "EMOJI_VALENCE_DIM = 11\n",
    "AFINN_DIM = 11 \n",
    "DEPECHE_MOOD_DIM = 8\n",
    "embedding_matrix = np.zeros((nb_words, EMBEDDING_DIM + EMOLEX_DIM + OLE_DIM + AFINN_DIM + DEPECHE_MOOD_DIM + EMOJI_VALENCE_DIM))\n",
    "\n",
    "oov = []  # Out of vocabulary\n",
    "oov.append((np.random.rand(EMBEDDING_DIM) * 2.0) - 1.0)\n",
    "oov = oov / np.linalg.norm(oov)\n",
    "empty_afinn = np.full(11, 0)\n",
    "empty_emoji = np.full(11, 0)\n",
    "empty_emolex = np.full(10, 0)\n",
    "empty_depeche = np.full(8, 0)\n",
    "\n",
    "\n",
    "print(empty_emolex)\n",
    "print(oov.shape)\n",
    "\n",
    "for word, i in word_index.items():\n",
    "    emoji_val = 0\n",
    "    \n",
    "    word_vector = oov\n",
    "    if word in w2v.vocab:\n",
    "        word_vector = w2v.word_vec(word)\n",
    "\n",
    "    emolex_row = emolex.loc[emolex['word'] == word]\n",
    "    if emolex_row.empty:\n",
    "        word_vector = np.append(word_vector, empty_emolex)\n",
    "    else:\n",
    "        word_vector = np.append(word_vector, emolex_row.values.tolist()[0][1:])\n",
    "        \n",
    "    depeche_row = DepecheMoodpp.loc[DepecheMoodpp['word'] == word]\n",
    "    if depeche_row.empty:\n",
    "        word_vector = np.append(word_vector, empty_depeche)\n",
    "    else:\n",
    "        word_vector = np.append(word_vector, depeche_row.values.tolist()[0][1:9])\n",
    "        \n",
    "    ole_val = [0, 0]\n",
    "    if word in positive_words:\n",
    "        ole_val = [1, 0]\n",
    "    elif word in negative_words:\n",
    "        ole_val = [0, 1]\n",
    "    word_vector = np.append(word_vector, ole_val)\n",
    "    \n",
    "    afinn_val = empty_afinn\n",
    "    emoji_val = empty_emoji\n",
    "    \n",
    "    afinn_row = afinn.loc[afinn['word'] == word]\n",
    "    if not afinn_row.empty:\n",
    "        afinn_val = afinn_row['val'].item()\n",
    "    else:\n",
    "        for emoji in emoji_valence:\n",
    "            if word == emoji['emoji']:\n",
    "                emoji_val = emoji['polarity']\n",
    "\n",
    "    word_vector = np.append(word_vector, afinn_val)\n",
    "    \n",
    "    word_vector = np.append(word_vector, emoji_val)\n",
    "    \n",
    "    embedding_matrix[i] = word_vector\n",
    "\n",
    "        \n",
    "print(embedding_matrix.shape)"
   ]
  },
  {
   "cell_type": "code",
   "execution_count": 90,
   "metadata": {
    "ExecuteTime": {
     "end_time": "2018-11-19T21:10:11.602740Z",
     "start_time": "2018-11-19T21:10:11.108086Z"
    },
    "collapsed": true
   },
   "outputs": [],
   "source": [
    "# Claim memory back from this very large object we don't use anymore\n",
    "del w2v"
   ]
  },
  {
   "cell_type": "code",
   "execution_count": 91,
   "metadata": {
    "ExecuteTime": {
     "end_time": "2018-11-19T21:11:24.218923Z",
     "start_time": "2018-11-19T21:11:24.146856Z"
    }
   },
   "outputs": [
    {
     "name": "stdout",
     "output_type": "stream",
     "text": [
      "training set: 35233 samples\n",
      "validation set: 15100 samples\n",
      "x_train: (35233, 32)\n",
      "y_train: (35233, 3)\n"
     ]
    }
   ],
   "source": [
    "X_train, X_val, y_train, y_val = train_test_split(train_sequences, targets, test_size=0.3)\n",
    "\n",
    "print('training set: ' + str(len(X_train)) + ' samples')\n",
    "print('validation set: ' + str(len(X_val)) + ' samples')\n",
    "\n",
    "print('x_train:', X_train.shape)\n",
    "print('y_train:', y_train.shape)"
   ]
  },
  {
   "cell_type": "code",
   "execution_count": 92,
   "metadata": {
    "ExecuteTime": {
     "end_time": "2018-11-19T21:11:26.723275Z",
     "start_time": "2018-11-19T21:11:26.692147Z"
    },
    "collapsed": true
   },
   "outputs": [],
   "source": [
    "def model_2017():\n",
    "    vocab_size = embedding_matrix.shape[0]\n",
    "    embedding_size = embedding_matrix.shape[1]\n",
    "\n",
    "    model = Sequential()\n",
    "    model.add(Embedding(vocab_size, embedding_size, weights=[embedding_matrix], \n",
    "                        input_length=MAX_SEQUENCE_LENGTH, trainable=False, name='embedding_layer'))\n",
    "    model.add(GaussianNoise(0.3))\n",
    "    # model.add(SpatialDropout1D(0.3))\n",
    "    model.add(Dropout(0.3))\n",
    "    model.add(Bidirectional(LSTM(150, recurrent_dropout=0.3, return_sequences=True)))\n",
    "    # model.add(Dropout(0.5))\n",
    "    model.add(Dropout(0.3))\n",
    "    model.add(Bidirectional(LSTM(150, recurrent_dropout=0.3, return_sequences=True)))\n",
    "    model.add(Dropout(0.3))\n",
    "    model.add(Flatten())\n",
    "    model.add(Dense(3, activity_regularizer=l2(1e-4)))\n",
    "    model.add(Activation('softmax'))\n",
    "\n",
    "    # RMSprop or lr=1e-3\n",
    "    model.compile(loss='categorical_crossentropy', optimizer=Adam(lr=1e-2), metrics=['acc'])\n",
    "\n",
    "    print(model.summary())\n",
    "    \n",
    "    return model\n",
    "\n",
    "def model_mine():\n",
    "    vocab_size = embedding_matrix.shape[0]\n",
    "    embedding_size = embedding_matrix.shape[1]\n",
    "\n",
    "    model = Sequential()\n",
    "    model.add(Embedding(vocab_size, embedding_size, weights=[embedding_matrix], \n",
    "                        input_length=MAX_SEQUENCE_LENGTH, trainable=False, name='embedding_layer'))\n",
    "    model.add(Dropout(0.3))\n",
    "    model.add(Bidirectional(LSTM(150, return_sequences=True)))\n",
    "    model.add(Dropout(0.5))\n",
    "    model.add(Bidirectional(LSTM(150, return_sequences=True)))\n",
    "    model.add(Dropout(0.5))\n",
    "    model.add(Flatten())\n",
    "    model.add(Dense(3, activation='softmax'))\n",
    "\n",
    "    model.compile(loss='categorical_crossentropy', optimizer='adam', metrics=['acc'])\n",
    "\n",
    "    print(model.summary())\n",
    "    \n",
    "    return model"
   ]
  },
  {
   "cell_type": "code",
   "execution_count": 93,
   "metadata": {
    "ExecuteTime": {
     "end_time": "2018-11-19T21:11:36.470574Z",
     "start_time": "2018-11-19T21:11:28.794568Z"
    }
   },
   "outputs": [
    {
     "name": "stdout",
     "output_type": "stream",
     "text": [
      "_________________________________________________________________\n",
      "Layer (type)                 Output Shape              Param #   \n",
      "=================================================================\n",
      "embedding_layer (Embedding)  (None, 32, 300)           11335500  \n",
      "_________________________________________________________________\n",
      "dropout_1 (Dropout)          (None, 32, 300)           0         \n",
      "_________________________________________________________________\n",
      "bidirectional_1 (Bidirection (None, 32, 300)           541200    \n",
      "_________________________________________________________________\n",
      "dropout_2 (Dropout)          (None, 32, 300)           0         \n",
      "_________________________________________________________________\n",
      "bidirectional_2 (Bidirection (None, 32, 300)           541200    \n",
      "_________________________________________________________________\n",
      "dropout_3 (Dropout)          (None, 32, 300)           0         \n",
      "_________________________________________________________________\n",
      "flatten_1 (Flatten)          (None, 9600)              0         \n",
      "_________________________________________________________________\n",
      "dense_1 (Dense)              (None, 3)                 28803     \n",
      "=================================================================\n",
      "Total params: 12,446,703\n",
      "Trainable params: 1,111,203\n",
      "Non-trainable params: 11,335,500\n",
      "_________________________________________________________________\n",
      "None\n"
     ]
    }
   ],
   "source": [
    "model = model_mine()"
   ]
  },
  {
   "cell_type": "code",
   "execution_count": 94,
   "metadata": {
    "ExecuteTime": {
     "end_time": "2018-11-19T21:22:20.073922Z",
     "start_time": "2018-11-19T21:11:43.785933Z"
    }
   },
   "outputs": [
    {
     "name": "stdout",
     "output_type": "stream",
     "text": [
      "Train on 35233 samples, validate on 15100 samples\n",
      "Epoch 1/5\n",
      "35233/35233 [==============================] - 129s 4ms/step - loss: 0.8453 - acc: 0.5889 - val_loss: 0.7882 - val_acc: 0.6365\n",
      "Epoch 2/5\n",
      "35233/35233 [==============================] - 124s 4ms/step - loss: 0.7753 - acc: 0.6378 - val_loss: 0.7691 - val_acc: 0.6319\n",
      "Epoch 3/5\n",
      "35233/35233 [==============================] - 127s 4ms/step - loss: 0.7457 - acc: 0.6527 - val_loss: 0.7332 - val_acc: 0.6591\n",
      "Epoch 4/5\n",
      "35233/35233 [==============================] - 126s 4ms/step - loss: 0.7211 - acc: 0.6665 - val_loss: 0.7522 - val_acc: 0.6555\n",
      "Epoch 5/5\n",
      "35233/35233 [==============================] - 126s 4ms/step - loss: 0.7030 - acc: 0.6776 - val_loss: 0.7273 - val_acc: 0.6644\n"
     ]
    },
    {
     "data": {
      "text/plain": [
       "<keras.callbacks.History at 0x7f50f5bcf940>"
      ]
     },
     "execution_count": 94,
     "metadata": {},
     "output_type": "execute_result"
    }
   ],
   "source": [
    "model.fit(X_train, y_train, batch_size=128, validation_data=(X_val, y_val), epochs=5)"
   ]
  },
  {
   "cell_type": "code",
   "execution_count": 99,
   "metadata": {
    "ExecuteTime": {
     "end_time": "2018-11-19T21:24:47.136329Z",
     "start_time": "2018-11-19T21:24:47.095485Z"
    },
    "collapsed": true
   },
   "outputs": [],
   "source": [
    "test_sequences = pad_sequences(test_sequences, MAX_SEQUENCE_LENGTH)\n",
    "test_sequences.shape\n",
    "Y_test = to_categorical(test_y, 3)"
   ]
  },
  {
   "cell_type": "code",
   "execution_count": 101,
   "metadata": {
    "ExecuteTime": {
     "end_time": "2018-11-19T21:25:07.057494Z",
     "start_time": "2018-11-19T21:25:04.641438Z"
    }
   },
   "outputs": [
    {
     "name": "stdout",
     "output_type": "stream",
     "text": [
      "1630/1630 [==============================] - 2s 1ms/step\n"
     ]
    },
    {
     "data": {
      "text/plain": [
       "[1.0056506370474225, 0.5263803679518905]"
      ]
     },
     "execution_count": 101,
     "metadata": {},
     "output_type": "execute_result"
    }
   ],
   "source": [
    "loss, acc = model.evaluate(test_sequences, Y_test, batch_size=128)\n",
    "\n",
    "print(f'val_loss: {loss}\\nval_acc: {acc}')"
   ]
  },
  {
   "cell_type": "code",
   "execution_count": 104,
   "metadata": {
    "ExecuteTime": {
     "end_time": "2018-11-19T21:31:05.136880Z",
     "start_time": "2018-11-19T21:31:04.382829Z"
    },
    "collapsed": true
   },
   "outputs": [],
   "source": [
    "model.save('pickles/train_3_65-mine.h5')"
   ]
  },
  {
   "cell_type": "code",
   "execution_count": null,
   "metadata": {
    "collapsed": true
   },
   "outputs": [],
   "source": []
  }
 ],
 "metadata": {
  "kernelspec": {
   "display_name": "Python 3",
   "language": "python",
   "name": "python3"
  },
  "language_info": {
   "codemirror_mode": {
    "name": "ipython",
    "version": 3
   },
   "file_extension": ".py",
   "mimetype": "text/x-python",
   "name": "python",
   "nbconvert_exporter": "python",
   "pygments_lexer": "ipython3",
   "version": "3.6.6"
  }
 },
 "nbformat": 4,
 "nbformat_minor": 2
}
