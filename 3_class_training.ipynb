{
 "cells": [
  {
   "cell_type": "code",
   "execution_count": 1,
   "metadata": {
    "ExecuteTime": {
     "end_time": "2018-10-24T13:30:02.777559Z",
     "start_time": "2018-10-24T13:29:59.996642Z"
    }
   },
   "outputs": [
    {
     "name": "stderr",
     "output_type": "stream",
     "text": [
      "Using TensorFlow backend.\n"
     ]
    }
   ],
   "source": [
    "# import tensorflow as tf\n",
    "# from keras import backend as K\n",
    "\n",
    "# num_cores = 4\n",
    "# CPU = True\n",
    "# GPU = False\n",
    "\n",
    "# if GPU:\n",
    "#     num_GPU = 1\n",
    "#     num_CPU = 1\n",
    "# if CPU:\n",
    "#     num_CPU = 1\n",
    "#     num_GPU = 0\n",
    "\n",
    "# config = tf.ConfigProto(intra_op_parallelism_threads=num_cores,\\\n",
    "#         inter_op_parallelism_threads=num_cores, allow_soft_placement=True,\\\n",
    "#         device_count = {'CPU' : num_CPU, 'GPU' : num_GPU})\n",
    "# session = tf.Session(config=config)\n",
    "# K.set_session(session)"
   ]
  },
  {
   "cell_type": "code",
   "execution_count": 7,
   "metadata": {
    "ExecuteTime": {
     "end_time": "2018-11-21T13:33:16.643938Z",
     "start_time": "2018-11-21T13:33:16.599823Z"
    }
   },
   "outputs": [],
   "source": [
    "import numpy as np\n",
    "import pandas as pd\n",
    "from keras.preprocessing.text import *\n",
    "import matplotlib.pyplot as plt\n",
    "from tokenizer import tokenizer as tweet_tokenizer\n",
    "from keras.utils.np_utils import to_categorical\n",
    "from keras.preprocessing.sequence import pad_sequences\n",
    "from keras.preprocessing.text import Tokenizer\n",
    "from keras.layers import *\n",
    "from gensim.models import KeyedVectors\n",
    "from sklearn.model_selection import train_test_split\n",
    "from keras.models import Sequential\n",
    "from keras.optimizers import * \n",
    "from keras.regularizers import *\n",
    "from keras.models import load_model\n",
    "import pickle\n",
    "import json\n",
    "from keras.callbacks import ModelCheckpoint\n",
    "from TP_transfer_learning_2018 import *\n",
    "from TP_transfer_learning_2018.preprocessing import standardization\n",
    "\n",
    "\n",
    "%matplotlib inline\n",
    "\n",
    "PATH = './data'\n",
    "\n",
    "path_train_3 = f'{PATH}/data_train_3.csv'\n",
    "path_test_3 = f'{PATH}/data_test_3.csv'\n",
    "path_train_7 = f'{PATH}/data_train_7.csv'\n",
    "path_train_16m_3 = f'{PATH}/training.1600000.processed.noemoticon.csv'\n",
    "path_dev_val = f'{PATH}/Valence_unprocessed/2018-Valence-oc-En-dev.csv'"
   ]
  },
  {
   "cell_type": "markdown",
   "metadata": {},
   "source": [
    "# Serious business"
   ]
  },
  {
   "cell_type": "markdown",
   "metadata": {},
   "source": [
    "## Preprocess"
   ]
  },
  {
   "cell_type": "code",
   "execution_count": 11,
   "metadata": {
    "ExecuteTime": {
     "end_time": "2018-11-21T13:35:29.734226Z",
     "start_time": "2018-11-21T13:35:29.442596Z"
    }
   },
   "outputs": [
    {
     "data": {
      "text/plain": [
       "((50333, 3), (1630, 3), (1630, 3))"
      ]
     },
     "execution_count": 11,
     "metadata": {},
     "output_type": "execute_result"
    }
   ],
   "source": [
    "tweets = pd.read_csv(path_train_3, sep='\\t', names=['ID', 'Class', 'Tweet'])\n",
    "tweets_7 = pd.read_csv(path_train_7, sep='\\t', names=['ID', 'Class', 'Tweet'], dtype={'Tweet': str})\n",
    "tweets_3_test = pd.read_csv(path_test_3, sep='\\t', names=['ID', 'Class', 'Tweet'], dtype={'Tweet': str})\n",
    "\n",
    "tweets.shape, tweets_7.shape, tweets_3_test.shape"
   ]
  },
  {
   "cell_type": "code",
   "execution_count": null,
   "metadata": {
    "ExecuteTime": {
     "end_time": "2018-11-19T19:19:40.599134Z",
     "start_time": "2018-11-19T19:19:40.550557Z"
    }
   },
   "outputs": [],
   "source": [
    "tweets.sample(5)"
   ]
  },
  {
   "cell_type": "code",
   "execution_count": 31,
   "metadata": {
    "ExecuteTime": {
     "end_time": "2018-11-19T20:50:08.644332Z",
     "start_time": "2018-11-19T20:50:08.621042Z"
    }
   },
   "outputs": [
    {
     "data": {
      "text/html": [
       "<div>\n",
       "<style scoped>\n",
       "    .dataframe tbody tr th:only-of-type {\n",
       "        vertical-align: middle;\n",
       "    }\n",
       "\n",
       "    .dataframe tbody tr th {\n",
       "        vertical-align: top;\n",
       "    }\n",
       "\n",
       "    .dataframe thead th {\n",
       "        text-align: right;\n",
       "    }\n",
       "</style>\n",
       "<table border=\"1\" class=\"dataframe\">\n",
       "  <thead>\n",
       "    <tr style=\"text-align: right;\">\n",
       "      <th></th>\n",
       "      <th>ID</th>\n",
       "      <th>Class</th>\n",
       "      <th>Tweet</th>\n",
       "    </tr>\n",
       "  </thead>\n",
       "  <tbody>\n",
       "    <tr>\n",
       "      <th>0</th>\n",
       "      <td>0</td>\n",
       "      <td>0</td>\n",
       "      <td>@liamch88 yeah! :) playing well</td>\n",
       "    </tr>\n",
       "    <tr>\n",
       "      <th>1</th>\n",
       "      <td>1</td>\n",
       "      <td>0</td>\n",
       "      <td>At least I don't have a guy trying to discoura...</td>\n",
       "    </tr>\n",
       "    <tr>\n",
       "      <th>2</th>\n",
       "      <td>2</td>\n",
       "      <td>0</td>\n",
       "      <td>UPLIFT: If you're still discouraged it means y...</td>\n",
       "    </tr>\n",
       "    <tr>\n",
       "      <th>3</th>\n",
       "      <td>3</td>\n",
       "      <td>0</td>\n",
       "      <td>...at your age, the heyday in the blood is tam...</td>\n",
       "    </tr>\n",
       "    <tr>\n",
       "      <th>4</th>\n",
       "      <td>4</td>\n",
       "      <td>-2</td>\n",
       "      <td>i was so embarrassed when she saw us i was lik...</td>\n",
       "    </tr>\n",
       "  </tbody>\n",
       "</table>\n",
       "</div>"
      ],
      "text/plain": [
       "   ID  Class                                              Tweet\n",
       "0   0      0                   @liamch88 yeah! :) playing well \n",
       "1   1      0  At least I don't have a guy trying to discoura...\n",
       "2   2      0  UPLIFT: If you're still discouraged it means y...\n",
       "3   3      0  ...at your age, the heyday in the blood is tam...\n",
       "4   4     -2  i was so embarrassed when she saw us i was lik..."
      ]
     },
     "execution_count": 31,
     "metadata": {},
     "output_type": "execute_result"
    }
   ],
   "source": [
    "tweets_7.head(5)"
   ]
  },
  {
   "cell_type": "code",
   "execution_count": 20,
   "metadata": {
    "ExecuteTime": {
     "end_time": "2018-11-19T20:38:16.646411Z",
     "start_time": "2018-11-19T20:37:01.660101Z"
    },
    "collapsed": true
   },
   "outputs": [],
   "source": [
    "tweets['Sentiment'] = tweets['Class'].apply(lambda x: {'negative': 0, 'neutral': 1, 'positive': 2}[x])\n",
    "tweets['Tweet'] = tweets['Tweet'].apply(lambda x: standardization(x))"
   ]
  },
  {
   "cell_type": "code",
   "execution_count": 14,
   "metadata": {
    "ExecuteTime": {
     "end_time": "2018-11-21T13:36:22.995417Z",
     "start_time": "2018-11-21T13:36:21.188619Z"
    }
   },
   "outputs": [],
   "source": [
    "tweets_7['Sentiment'] = tweets_7['Class'] + 3\n",
    "tweets_7['Tweet'] = tweets_7['Tweet'].apply(lambda x: standardization(x))"
   ]
  },
  {
   "cell_type": "code",
   "execution_count": 15,
   "metadata": {
    "ExecuteTime": {
     "end_time": "2018-11-21T13:36:24.277241Z",
     "start_time": "2018-11-21T13:36:24.246076Z"
    }
   },
   "outputs": [
    {
     "data": {
      "text/html": [
       "<div>\n",
       "<style scoped>\n",
       "    .dataframe tbody tr th:only-of-type {\n",
       "        vertical-align: middle;\n",
       "    }\n",
       "\n",
       "    .dataframe tbody tr th {\n",
       "        vertical-align: top;\n",
       "    }\n",
       "\n",
       "    .dataframe thead th {\n",
       "        text-align: right;\n",
       "    }\n",
       "</style>\n",
       "<table border=\"1\" class=\"dataframe\">\n",
       "  <thead>\n",
       "    <tr style=\"text-align: right;\">\n",
       "      <th></th>\n",
       "      <th>ID</th>\n",
       "      <th>Class</th>\n",
       "      <th>Tweet</th>\n",
       "      <th>Sentiment</th>\n",
       "    </tr>\n",
       "  </thead>\n",
       "  <tbody>\n",
       "    <tr>\n",
       "      <th>0</th>\n",
       "      <td>0</td>\n",
       "      <td>0</td>\n",
       "      <td>yeah playing well</td>\n",
       "      <td>3</td>\n",
       "    </tr>\n",
       "    <tr>\n",
       "      <th>1</th>\n",
       "      <td>1</td>\n",
       "      <td>0</td>\n",
       "      <td>least not guy try discourage anymore want neve...</td>\n",
       "      <td>3</td>\n",
       "    </tr>\n",
       "    <tr>\n",
       "      <th>2</th>\n",
       "      <td>2</td>\n",
       "      <td>0</td>\n",
       "      <td>uplift still discourage mean listen wrong voic...</td>\n",
       "      <td>3</td>\n",
       "    </tr>\n",
       "    <tr>\n",
       "      <th>3</th>\n",
       "      <td>3</td>\n",
       "      <td>0</td>\n",
       "      <td>... age heyday blood tame ...</td>\n",
       "      <td>3</td>\n",
       "    </tr>\n",
       "    <tr>\n",
       "      <th>4</th>\n",
       "      <td>4</td>\n",
       "      <td>-2</td>\n",
       "      <td>embarrass saw u like knvfkkjg think stalker n ...</td>\n",
       "      <td>1</td>\n",
       "    </tr>\n",
       "  </tbody>\n",
       "</table>\n",
       "</div>"
      ],
      "text/plain": [
       "   ID  Class                                              Tweet  Sentiment\n",
       "0   0      0                                  yeah playing well          3\n",
       "1   1      0  least not guy try discourage anymore want neve...          3\n",
       "2   2      0  uplift still discourage mean listen wrong voic...          3\n",
       "3   3      0                      ... age heyday blood tame ...          3\n",
       "4   4     -2  embarrass saw u like knvfkkjg think stalker n ...          1"
      ]
     },
     "execution_count": 15,
     "metadata": {},
     "output_type": "execute_result"
    }
   ],
   "source": [
    "tweets_7.head(5)"
   ]
  },
  {
   "cell_type": "code",
   "execution_count": 33,
   "metadata": {
    "ExecuteTime": {
     "end_time": "2018-11-19T20:50:18.513859Z",
     "start_time": "2018-11-19T20:50:16.370714Z"
    },
    "collapsed": true
   },
   "outputs": [],
   "source": [
    "tweets_3_test['Sentiment'] = tweets_3_test['Class'].apply(lambda x: {'negative': 0, 'neutral': 1, 'positive': 2}[x])\n",
    "tweets_3_test['Tweet'] = tweets_3_test['Tweet'].apply(lambda x: standardization(x))"
   ]
  },
  {
   "cell_type": "code",
   "execution_count": 34,
   "metadata": {
    "ExecuteTime": {
     "end_time": "2018-11-19T20:50:18.555860Z",
     "start_time": "2018-11-19T20:50:18.517333Z"
    }
   },
   "outputs": [
    {
     "data": {
      "text/html": [
       "<div>\n",
       "<style scoped>\n",
       "    .dataframe tbody tr th:only-of-type {\n",
       "        vertical-align: middle;\n",
       "    }\n",
       "\n",
       "    .dataframe tbody tr th {\n",
       "        vertical-align: top;\n",
       "    }\n",
       "\n",
       "    .dataframe thead th {\n",
       "        text-align: right;\n",
       "    }\n",
       "</style>\n",
       "<table border=\"1\" class=\"dataframe\">\n",
       "  <thead>\n",
       "    <tr style=\"text-align: right;\">\n",
       "      <th></th>\n",
       "      <th>ID</th>\n",
       "      <th>Class</th>\n",
       "      <th>Tweet</th>\n",
       "    </tr>\n",
       "  </thead>\n",
       "  <tbody>\n",
       "    <tr>\n",
       "      <th>28257</th>\n",
       "      <td>635721210806956032</td>\n",
       "      <td>neutral</td>\n",
       "      <td>For an art project in 7th grade we had to make...</td>\n",
       "    </tr>\n",
       "    <tr>\n",
       "      <th>17615</th>\n",
       "      <td>634516378268119041</td>\n",
       "      <td>negative</td>\n",
       "      <td>.@marklevinshow apparently Rick Perry is an id...</td>\n",
       "    </tr>\n",
       "  </tbody>\n",
       "</table>\n",
       "</div>"
      ],
      "text/plain": [
       "                       ID     Class  \\\n",
       "28257  635721210806956032   neutral   \n",
       "17615  634516378268119041  negative   \n",
       "\n",
       "                                                   Tweet  \n",
       "28257  For an art project in 7th grade we had to make...  \n",
       "17615  .@marklevinshow apparently Rick Perry is an id...  "
      ]
     },
     "metadata": {},
     "output_type": "display_data"
    },
    {
     "data": {
      "text/html": [
       "<div>\n",
       "<style scoped>\n",
       "    .dataframe tbody tr th:only-of-type {\n",
       "        vertical-align: middle;\n",
       "    }\n",
       "\n",
       "    .dataframe tbody tr th {\n",
       "        vertical-align: top;\n",
       "    }\n",
       "\n",
       "    .dataframe thead th {\n",
       "        text-align: right;\n",
       "    }\n",
       "</style>\n",
       "<table border=\"1\" class=\"dataframe\">\n",
       "  <thead>\n",
       "    <tr style=\"text-align: right;\">\n",
       "      <th></th>\n",
       "      <th>ID</th>\n",
       "      <th>Class</th>\n",
       "      <th>Tweet</th>\n",
       "      <th>Sentiment</th>\n",
       "    </tr>\n",
       "  </thead>\n",
       "  <tbody>\n",
       "    <tr>\n",
       "      <th>0</th>\n",
       "      <td>0</td>\n",
       "      <td>0</td>\n",
       "      <td>yeah ☺ ️ playing well</td>\n",
       "      <td>0</td>\n",
       "    </tr>\n",
       "    <tr>\n",
       "      <th>1</th>\n",
       "      <td>1</td>\n",
       "      <td>0</td>\n",
       "      <td>least not guy try discourage anymore want neve...</td>\n",
       "      <td>0</td>\n",
       "    </tr>\n",
       "  </tbody>\n",
       "</table>\n",
       "</div>"
      ],
      "text/plain": [
       "   ID  Class                                              Tweet  Sentiment\n",
       "0   0      0                              yeah ☺ ️ playing well          0\n",
       "1   1      0  least not guy try discourage anymore want neve...          0"
      ]
     },
     "metadata": {},
     "output_type": "display_data"
    },
    {
     "data": {
      "text/html": [
       "<div>\n",
       "<style scoped>\n",
       "    .dataframe tbody tr th:only-of-type {\n",
       "        vertical-align: middle;\n",
       "    }\n",
       "\n",
       "    .dataframe tbody tr th {\n",
       "        vertical-align: top;\n",
       "    }\n",
       "\n",
       "    .dataframe thead th {\n",
       "        text-align: right;\n",
       "    }\n",
       "</style>\n",
       "<table border=\"1\" class=\"dataframe\">\n",
       "  <thead>\n",
       "    <tr style=\"text-align: right;\">\n",
       "      <th></th>\n",
       "      <th>ID</th>\n",
       "      <th>Class</th>\n",
       "      <th>Tweet</th>\n",
       "      <th>Sentiment</th>\n",
       "    </tr>\n",
       "  </thead>\n",
       "  <tbody>\n",
       "    <tr>\n",
       "      <th>0</th>\n",
       "      <td>449</td>\n",
       "      <td>negative</td>\n",
       "      <td>site crash everytime try book help tell nothin...</td>\n",
       "      <td>0</td>\n",
       "    </tr>\n",
       "    <tr>\n",
       "      <th>1</th>\n",
       "      <td>450</td>\n",
       "      <td>negative</td>\n",
       "      <td>theme week ask lord strength perspective perse...</td>\n",
       "      <td>0</td>\n",
       "    </tr>\n",
       "  </tbody>\n",
       "</table>\n",
       "</div>"
      ],
      "text/plain": [
       "    ID     Class                                              Tweet  Sentiment\n",
       "0  449  negative  site crash everytime try book help tell nothin...          0\n",
       "1  450  negative  theme week ask lord strength perspective perse...          0"
      ]
     },
     "metadata": {},
     "output_type": "display_data"
    }
   ],
   "source": [
    "display(tweets.sample(2))\n",
    "display(tweets_7.head(2))\n",
    "display(tweets_3_test.head(2))"
   ]
  },
  {
   "cell_type": "code",
   "execution_count": 16,
   "metadata": {
    "ExecuteTime": {
     "end_time": "2018-11-21T13:36:44.879805Z",
     "start_time": "2018-11-21T13:36:44.849592Z"
    }
   },
   "outputs": [],
   "source": [
    "tweets_7.to_feather('pickles/train_7.feather')"
   ]
  },
  {
   "cell_type": "code",
   "execution_count": 36,
   "metadata": {
    "ExecuteTime": {
     "end_time": "2018-11-19T20:50:25.225564Z",
     "start_time": "2018-11-19T20:50:25.203736Z"
    },
    "collapsed": true
   },
   "outputs": [],
   "source": [
    "tweets_3_test.to_feather('pickles/test_3.feather')"
   ]
  },
  {
   "cell_type": "code",
   "execution_count": 22,
   "metadata": {
    "ExecuteTime": {
     "end_time": "2018-11-01T12:06:34.034157Z",
     "start_time": "2018-11-01T12:06:33.769108Z"
    },
    "collapsed": true
   },
   "outputs": [],
   "source": [
    "tweets.to_feather('pickles/train_3.feather')"
   ]
  },
  {
   "cell_type": "markdown",
   "metadata": {},
   "source": [
    "## Training"
   ]
  },
  {
   "cell_type": "code",
   "execution_count": 108,
   "metadata": {
    "ExecuteTime": {
     "end_time": "2018-11-20T13:51:51.943060Z",
     "start_time": "2018-11-20T13:51:51.843571Z"
    }
   },
   "outputs": [
    {
     "name": "stderr",
     "output_type": "stream",
     "text": [
      "/home/epita/.local/lib/python3.6/site-packages/pandas/io/feather_format.py:112: FutureWarning: `nthreads` argument is deprecated, pass `use_threads` instead\n",
      "  return feather.read_dataframe(path, nthreads=nthreads)\n"
     ]
    }
   ],
   "source": [
    "tweets = pd.read_feather('pickles/train_3.feather')\n",
    "test_3 = pd.read_feather('pickles/test_3.feather')\n",
    "train_7 = pd.read_feather('pickles/train_7.feather')\n",
    "\n",
    "train_x, train_y = tweets['Tweet'], tweets['Sentiment']\n",
    "test_x, test_y = test_3['Tweet'], test_3['Sentiment']\n",
    "train7_x, train7_y = train_7['Tweet'], train_7['Sentiment']"
   ]
  },
  {
   "cell_type": "markdown",
   "metadata": {},
   "source": [
    "* Fitting the tokenizer on our entire tweet base to make sure the indexes are rights"
   ]
  },
  {
   "cell_type": "code",
   "execution_count": 109,
   "metadata": {
    "ExecuteTime": {
     "end_time": "2018-11-20T13:52:30.379564Z",
     "start_time": "2018-11-20T13:52:29.219800Z"
    }
   },
   "outputs": [],
   "source": [
    "all_tweets = pd.concat([train_x, test_x, train7_x])\n",
    "tokenizer = Tokenizer(filters=' ')\n",
    "tokenizer.fit_on_texts(all_tweets)\n",
    "word_index = tokenizer.word_index\n",
    "\n",
    "pickle.dump(tokenizer, open(\"pickles/tokenizer.pickle\", \"wb\"))"
   ]
  },
  {
   "cell_type": "code",
   "execution_count": 110,
   "metadata": {
    "ExecuteTime": {
     "end_time": "2018-11-20T13:52:32.635452Z",
     "start_time": "2018-11-20T13:52:32.549012Z"
    }
   },
   "outputs": [],
   "source": [
    "tokenizer = pickle.load(open(\"pickles/tokenizer.pickle\", 'rb'))"
   ]
  },
  {
   "cell_type": "markdown",
   "metadata": {},
   "source": [
    "* Looking for the MAX_SEQUENCE_LENGTH in all our sequences:"
   ]
  },
  {
   "cell_type": "code",
   "execution_count": 111,
   "metadata": {
    "ExecuteTime": {
     "end_time": "2018-11-20T13:52:38.295175Z",
     "start_time": "2018-11-20T13:52:37.387976Z"
    }
   },
   "outputs": [
    {
     "data": {
      "text/plain": [
       "32"
      ]
     },
     "execution_count": 111,
     "metadata": {},
     "output_type": "execute_result"
    }
   ],
   "source": [
    "train_sequences = tokenizer.texts_to_sequences(train_x)\n",
    "test_sequences = tokenizer.texts_to_sequences(test_x)\n",
    "train7_sequences = tokenizer.texts_to_sequences(train7_x)\n",
    "\n",
    "sequences = train_sequences + test_sequences + train7_sequences\n",
    "MAX_SEQUENCE_LENGTH = 0\n",
    "for elt in sequences:\n",
    "    if len(elt) > MAX_SEQUENCE_LENGTH:\n",
    "        MAX_SEQUENCE_LENGTH = len(elt)\n",
    "\n",
    "MAX_SEQUENCE_LENGTH"
   ]
  },
  {
   "cell_type": "markdown",
   "metadata": {},
   "source": [
    "* We only train on train_3:"
   ]
  },
  {
   "cell_type": "code",
   "execution_count": 112,
   "metadata": {
    "ExecuteTime": {
     "end_time": "2018-11-20T13:52:39.964505Z",
     "start_time": "2018-11-20T13:52:39.536092Z"
    }
   },
   "outputs": [
    {
     "data": {
      "text/plain": [
       "(50333, 32)"
      ]
     },
     "execution_count": 112,
     "metadata": {},
     "output_type": "execute_result"
    }
   ],
   "source": [
    "train_sequences = pad_sequences(train_sequences, MAX_SEQUENCE_LENGTH)\n",
    "train_sequences.shape"
   ]
  },
  {
   "cell_type": "markdown",
   "metadata": {},
   "source": [
    "#### Loading Datastories's embeddings"
   ]
  },
  {
   "cell_type": "code",
   "execution_count": 113,
   "metadata": {
    "ExecuteTime": {
     "end_time": "2018-11-20T13:56:29.376583Z",
     "start_time": "2018-11-20T13:52:41.631270Z"
    }
   },
   "outputs": [],
   "source": [
    "# googlenews_w2v = KeyedVectors.load_word2vec_format('data/embeddings/GoogleNews-vectors-negative300.bin', binary=True)\n",
    "from gensim.scripts.glove2word2vec import glove2word2vec\n",
    "from gensim.test.utils import get_tmpfile\n",
    "\n",
    "\n",
    "tmp_file = get_tmpfile('datastories.300d.word2vec')\n",
    "glove2word2vec('data/embeddings/datastories.twitter.300d.txt', tmp_file)\n",
    "w2v = KeyedVectors.load_word2vec_format(tmp_file)"
   ]
  },
  {
   "cell_type": "markdown",
   "metadata": {},
   "source": [
    "### EmoLex"
   ]
  },
  {
   "cell_type": "code",
   "execution_count": 114,
   "metadata": {
    "ExecuteTime": {
     "end_time": "2018-11-20T13:56:29.427833Z",
     "start_time": "2018-11-20T13:56:29.383979Z"
    }
   },
   "outputs": [],
   "source": [
    "emolex = pd.read_csv('TP_transfer_learning_2018/EmoLex.txt', sep='\\t')"
   ]
  },
  {
   "cell_type": "markdown",
   "metadata": {},
   "source": [
    "### OLE"
   ]
  },
  {
   "cell_type": "code",
   "execution_count": 115,
   "metadata": {
    "ExecuteTime": {
     "end_time": "2018-11-20T13:56:29.444828Z",
     "start_time": "2018-11-20T13:56:29.431658Z"
    }
   },
   "outputs": [],
   "source": [
    "positive_words = []\n",
    "negative_words = []\n",
    "\n",
    "with open('data/positive-words.txt') as positive_file, open('data/negative-words.txt', encoding='ISO-8859-1') as negative_file:\n",
    "    for _ in range(35):\n",
    "        next(positive_file)\n",
    "        next(negative_file)\n",
    "        \n",
    "    for line in positive_file:\n",
    "        positive_words.append(line)\n",
    "    for line in negative_file:\n",
    "        negative_words.append(line)"
   ]
  },
  {
   "cell_type": "markdown",
   "metadata": {},
   "source": [
    "### Emoji valence and AFINN"
   ]
  },
  {
   "cell_type": "code",
   "execution_count": 116,
   "metadata": {
    "ExecuteTime": {
     "end_time": "2018-11-20T13:56:29.519849Z",
     "start_time": "2018-11-20T13:56:29.448733Z"
    }
   },
   "outputs": [
    {
     "name": "stdout",
     "output_type": "stream",
     "text": [
      "         word                                val\n",
      "0     abandon  [0, 0, 0, 1, 0, 0, 0, 0, 0, 0, 0]\n",
      "1   abandoned  [0, 0, 0, 1, 0, 0, 0, 0, 0, 0, 0]\n",
      "2    abandons  [0, 0, 0, 1, 0, 0, 0, 0, 0, 0, 0]\n",
      "3    abducted  [0, 0, 0, 1, 0, 0, 0, 0, 0, 0, 0]\n",
      "4   abduction  [0, 0, 0, 1, 0, 0, 0, 0, 0, 0, 0]\n",
      "5  abductions  [0, 0, 0, 1, 0, 0, 0, 0, 0, 0, 0]\n",
      "6       abhor  [0, 0, 1, 0, 0, 0, 0, 0, 0, 0, 0]\n",
      "7    abhorred  [0, 0, 1, 0, 0, 0, 0, 0, 0, 0, 0]\n",
      "8   abhorrent  [0, 0, 1, 0, 0, 0, 0, 0, 0, 0, 0]\n",
      "9      abhors  [0, 0, 1, 0, 0, 0, 0, 0, 0, 0, 0]\n",
      "0    [0, 0, 0, 1, 0, 0, 0, 0, 0, 0, 0]\n",
      "Name: val, dtype: object\n"
     ]
    }
   ],
   "source": [
    "afinn = pd.read_csv('data/AFINN-111.txt', sep='\\t')\n",
    "\n",
    "def val_to_list(x):\n",
    "    x += 5\n",
    "    return(to_categorical(x, num_classes=11, dtype='int'))\n",
    "\n",
    "\n",
    "afinn[['val']] = afinn['val'].apply(val_to_list)\n",
    "print(afinn.head(10))\n",
    "print(afinn.loc[afinn['word'] == 'abandon'].val)"
   ]
  },
  {
   "cell_type": "code",
   "execution_count": 117,
   "metadata": {
    "ExecuteTime": {
     "end_time": "2018-11-20T13:56:29.534127Z",
     "start_time": "2018-11-20T13:56:29.522876Z"
    }
   },
   "outputs": [],
   "source": [
    "with open('./data/index.json') as emojiFile:\n",
    "    emoji_valence = json.load(emojiFile)\n",
    "\n",
    "for elmt in emoji_valence:\n",
    "    val = elmt['polarity']\n",
    "    elmt['polarity'] = val_to_list(val)\n",
    "# emoji_valence"
   ]
  },
  {
   "cell_type": "markdown",
   "metadata": {},
   "source": [
    "### Depeche Mood"
   ]
  },
  {
   "cell_type": "code",
   "execution_count": 118,
   "metadata": {
    "ExecuteTime": {
     "end_time": "2018-11-20T13:56:30.267784Z",
     "start_time": "2018-11-20T13:56:29.537433Z"
    }
   },
   "outputs": [
    {
     "name": "stdout",
     "output_type": "stream",
     "text": [
      "['Lemma#PoS' 'AFRAID' 'AMUSED' 'ANGRY' 'ANNOYED' 'DONT_CARE' 'HAPPY'\n",
      " 'INSPIRED' 'SAD']\n",
      "['word' 'AFRAID' 'AMUSED' 'ANGRY' 'ANNOYED' 'DONT_CARE' 'HAPPY' 'INSPIRED'\n",
      " 'SAD' 'freq']\n"
     ]
    }
   ],
   "source": [
    "DepecheMoodpp = pd.read_csv('data/DepecheMood/DepecheMood_english_token_full.tsv', sep='\\t')\n",
    "DepecheMood = pd.read_csv('data/DepecheMood/DepecheMood_freq.txt', sep='\\t')\n",
    "\n",
    "print(DepecheMood.columns.values)\n",
    "print(DepecheMoodpp.columns.values)"
   ]
  },
  {
   "cell_type": "markdown",
   "metadata": {},
   "source": [
    "### Embedding matrix"
   ]
  },
  {
   "cell_type": "code",
   "execution_count": 119,
   "metadata": {
    "ExecuteTime": {
     "end_time": "2018-11-20T14:05:47.383684Z",
     "start_time": "2018-11-20T13:56:30.271170Z"
    }
   },
   "outputs": [
    {
     "name": "stdout",
     "output_type": "stream",
     "text": [
      "[0 0 0 0 0 0 0 0 0 0]\n",
      "(1, 300)\n",
      "(37785, 342)\n"
     ]
    }
   ],
   "source": [
    "targets = to_categorical(train_y, 3)\n",
    "nb_words = len(word_index) + 1\n",
    "\n",
    "EMBEDDING_DIM = 300\n",
    "EMOLEX_DIM = 10\n",
    "OLE_DIM = 2\n",
    "EMOJI_VALENCE_DIM = 11\n",
    "AFINN_DIM = 11 \n",
    "DEPECHE_MOOD_DIM = 8\n",
    "embedding_matrix = np.zeros((nb_words, EMBEDDING_DIM + EMOLEX_DIM + OLE_DIM + AFINN_DIM + DEPECHE_MOOD_DIM + EMOJI_VALENCE_DIM))\n",
    "\n",
    "oov = []  # Out of vocabulary\n",
    "oov.append((np.random.rand(EMBEDDING_DIM) * 2.0) - 1.0)\n",
    "oov = oov / np.linalg.norm(oov)\n",
    "empty_afinn = np.full(11, 0)\n",
    "empty_emoji = np.full(11, 0)\n",
    "empty_emolex = np.full(10, 0)\n",
    "empty_depeche = np.full(8, 0)\n",
    "\n",
    "\n",
    "print(empty_emolex)\n",
    "print(oov.shape)\n",
    "\n",
    "for word, i in word_index.items():\n",
    "    emoji_val = 0\n",
    "    \n",
    "    word_vector = oov\n",
    "    if word in w2v.vocab:\n",
    "        word_vector = w2v.word_vec(word)\n",
    "\n",
    "    emolex_row = emolex.loc[emolex['word'] == word]\n",
    "    if emolex_row.empty:\n",
    "        word_vector = np.append(word_vector, empty_emolex)\n",
    "    else:\n",
    "        word_vector = np.append(word_vector, emolex_row.values.tolist()[0][1:])\n",
    "        \n",
    "    depeche_row = DepecheMoodpp.loc[DepecheMoodpp['word'] == word]\n",
    "    if depeche_row.empty:\n",
    "        word_vector = np.append(word_vector, empty_depeche)\n",
    "    else:\n",
    "        word_vector = np.append(word_vector, depeche_row.values.tolist()[0][1:9])\n",
    "        \n",
    "    ole_val = [0, 0]\n",
    "    if word in positive_words:\n",
    "        ole_val = [1, 0]\n",
    "    elif word in negative_words:\n",
    "        ole_val = [0, 1]\n",
    "    word_vector = np.append(word_vector, ole_val)\n",
    "    \n",
    "    afinn_val = empty_afinn\n",
    "    emoji_val = empty_emoji\n",
    "    \n",
    "    afinn_row = afinn.loc[afinn['word'] == word]\n",
    "    if not afinn_row.empty:\n",
    "        afinn_val = afinn_row['val'].item()\n",
    "    else:\n",
    "        for emoji in emoji_valence:\n",
    "            if word == emoji['emoji']:\n",
    "                emoji_val = emoji['polarity']\n",
    "\n",
    "    word_vector = np.append(word_vector, afinn_val)\n",
    "    \n",
    "    word_vector = np.append(word_vector, emoji_val)\n",
    "    \n",
    "    embedding_matrix[i] = word_vector\n",
    "\n",
    "        \n",
    "print(embedding_matrix.shape)"
   ]
  },
  {
   "cell_type": "code",
   "execution_count": 120,
   "metadata": {
    "ExecuteTime": {
     "end_time": "2018-11-20T14:07:10.536717Z",
     "start_time": "2018-11-20T14:07:09.868908Z"
    }
   },
   "outputs": [],
   "source": [
    "pickle.dump(embedding_matrix, open(\"pickles/embedding_matrix.pickle\", \"wb\"))"
   ]
  },
  {
   "cell_type": "code",
   "execution_count": 121,
   "metadata": {
    "ExecuteTime": {
     "end_time": "2018-11-20T14:07:19.675209Z",
     "start_time": "2018-11-20T14:07:19.254848Z"
    }
   },
   "outputs": [],
   "source": [
    "# Claim memory back from this very large object we don't use anymore\n",
    "del w2v"
   ]
  },
  {
   "cell_type": "code",
   "execution_count": 122,
   "metadata": {
    "ExecuteTime": {
     "end_time": "2018-11-20T14:07:26.240906Z",
     "start_time": "2018-11-20T14:07:26.195843Z"
    }
   },
   "outputs": [
    {
     "name": "stdout",
     "output_type": "stream",
     "text": [
      "training set: 35233 samples\n",
      "validation set: 15100 samples\n",
      "x_train: (35233, 32)\n",
      "y_train: (35233, 3)\n"
     ]
    }
   ],
   "source": [
    "X_train, X_val, y_train, y_val = train_test_split(train_sequences, targets, test_size=0.3)\n",
    "\n",
    "print('training set: ' + str(len(X_train)) + ' samples')\n",
    "print('validation set: ' + str(len(X_val)) + ' samples')\n",
    "\n",
    "print('x_train:', X_train.shape)\n",
    "print('y_train:', y_train.shape)"
   ]
  },
  {
   "cell_type": "code",
   "execution_count": 123,
   "metadata": {
    "ExecuteTime": {
     "end_time": "2018-11-20T14:07:27.479765Z",
     "start_time": "2018-11-20T14:07:27.454353Z"
    }
   },
   "outputs": [],
   "source": [
    "def model_2017():\n",
    "    vocab_size = embedding_matrix.shape[0]\n",
    "    embedding_size = embedding_matrix.shape[1]\n",
    "\n",
    "    model = Sequential()\n",
    "    model.add(Embedding(vocab_size, embedding_size, weights=[embedding_matrix], \n",
    "                        input_length=MAX_SEQUENCE_LENGTH, trainable=False, name='embedding_layer'))\n",
    "    model.add(GaussianNoise(0.3))\n",
    "    # model.add(SpatialDropout1D(0.3))\n",
    "    model.add(Dropout(0.3))\n",
    "    model.add(Bidirectional(LSTM(150, recurrent_dropout=0.3, return_sequences=True)))\n",
    "    # model.add(Dropout(0.5))\n",
    "    model.add(Dropout(0.3))\n",
    "    model.add(Bidirectional(LSTM(150, recurrent_dropout=0.3, return_sequences=True)))\n",
    "    model.add(Dropout(0.3))\n",
    "    model.add(Flatten())\n",
    "    model.add(Dense(3, activity_regularizer=l2(1e-4)))\n",
    "    model.add(Activation('softmax'))\n",
    "\n",
    "    # RMSprop or lr=1e-3\n",
    "    model.compile(loss='categorical_crossentropy', optimizer=Adam(lr=1e-2), metrics=['acc'])\n",
    "\n",
    "    print(model.summary())\n",
    "    \n",
    "    return model\n",
    "\n",
    "def model_mine():\n",
    "    vocab_size = embedding_matrix.shape[0]\n",
    "    embedding_size = embedding_matrix.shape[1]\n",
    "\n",
    "    model = Sequential()\n",
    "    model.add(Embedding(vocab_size, embedding_size, weights=[embedding_matrix], \n",
    "                        input_length=MAX_SEQUENCE_LENGTH, trainable=False, name='embedding_layer'))\n",
    "    model.add(Dropout(0.3))\n",
    "    model.add(Bidirectional(LSTM(150, return_sequences=True)))\n",
    "    model.add(Dropout(0.5))\n",
    "    model.add(Bidirectional(LSTM(150, return_sequences=True)))\n",
    "    model.add(Dropout(0.5))\n",
    "    model.add(Flatten())\n",
    "    model.add(Dense(3, activation='softmax'))\n",
    "\n",
    "    model.compile(loss='categorical_crossentropy', optimizer='adam', metrics=['acc'])\n",
    "\n",
    "    print(model.summary())\n",
    "    \n",
    "    return model"
   ]
  },
  {
   "cell_type": "code",
   "execution_count": 158,
   "metadata": {
    "ExecuteTime": {
     "end_time": "2018-11-20T17:57:02.785281Z",
     "start_time": "2018-11-20T17:56:55.259047Z"
    }
   },
   "outputs": [
    {
     "name": "stdout",
     "output_type": "stream",
     "text": [
      "_________________________________________________________________\n",
      "Layer (type)                 Output Shape              Param #   \n",
      "=================================================================\n",
      "embedding_layer (Embedding)  (None, 32, 342)           12922470  \n",
      "_________________________________________________________________\n",
      "dropout_10 (Dropout)         (None, 32, 342)           0         \n",
      "_________________________________________________________________\n",
      "bidirectional_7 (Bidirection (None, 32, 300)           591600    \n",
      "_________________________________________________________________\n",
      "dropout_11 (Dropout)         (None, 32, 300)           0         \n",
      "_________________________________________________________________\n",
      "bidirectional_8 (Bidirection (None, 32, 300)           541200    \n",
      "_________________________________________________________________\n",
      "dropout_12 (Dropout)         (None, 32, 300)           0         \n",
      "_________________________________________________________________\n",
      "flatten_4 (Flatten)          (None, 9600)              0         \n",
      "_________________________________________________________________\n",
      "dense_4 (Dense)              (None, 3)                 28803     \n",
      "=================================================================\n",
      "Total params: 14,084,073\n",
      "Trainable params: 1,161,603\n",
      "Non-trainable params: 12,922,470\n",
      "_________________________________________________________________\n",
      "None\n"
     ]
    }
   ],
   "source": [
    "model = model_mine()"
   ]
  },
  {
   "cell_type": "code",
   "execution_count": 159,
   "metadata": {
    "ExecuteTime": {
     "end_time": "2018-11-20T17:57:02.796837Z",
     "start_time": "2018-11-20T17:57:02.788961Z"
    }
   },
   "outputs": [],
   "source": [
    "checkpoint_file = 'pickles/train3_weights-{epoch:02d}-{val_acc:.2f}.hdf5'\n",
    "checkpointer = ModelCheckpoint(filepath=checkpoint_file, verbose=0, save_best_only=True)"
   ]
  },
  {
   "cell_type": "code",
   "execution_count": 160,
   "metadata": {
    "ExecuteTime": {
     "end_time": "2018-11-20T18:07:59.147402Z",
     "start_time": "2018-11-20T17:57:03.860463Z"
    }
   },
   "outputs": [
    {
     "name": "stdout",
     "output_type": "stream",
     "text": [
      "Train on 35233 samples, validate on 15100 samples\n",
      "Epoch 1/5\n",
      "35233/35233 [==============================] - 135s 4ms/step - loss: 0.8337 - acc: 0.5962 - val_loss: 0.7575 - val_acc: 0.6434\n",
      "\n",
      "Epoch 00001: val_loss improved from inf to 0.75754, saving model to pickles/train3_weights-01-0.64.hdf5\n",
      "Epoch 2/5\n",
      "35233/35233 [==============================] - 126s 4ms/step - loss: 0.7653 - acc: 0.6402 - val_loss: 0.7406 - val_acc: 0.6593\n",
      "\n",
      "Epoch 00002: val_loss improved from 0.75754 to 0.74058, saving model to pickles/train3_weights-02-0.66.hdf5\n",
      "Epoch 3/5\n",
      "35233/35233 [==============================] - 129s 4ms/step - loss: 0.7400 - acc: 0.6547 - val_loss: 0.7486 - val_acc: 0.6602\n",
      "\n",
      "Epoch 00003: val_loss did not improve from 0.74058\n",
      "Epoch 4/5\n",
      "35233/35233 [==============================] - 128s 4ms/step - loss: 0.7173 - acc: 0.6691 - val_loss: 0.7265 - val_acc: 0.6619\n",
      "\n",
      "Epoch 00004: val_loss improved from 0.74058 to 0.72648, saving model to pickles/train3_weights-04-0.66.hdf5\n",
      "Epoch 5/5\n",
      "35233/35233 [==============================] - 128s 4ms/step - loss: 0.6928 - acc: 0.6812 - val_loss: 0.7244 - val_acc: 0.6677\n",
      "\n",
      "Epoch 00005: val_loss improved from 0.72648 to 0.72440, saving model to pickles/train3_weights-05-0.67.hdf5\n"
     ]
    },
    {
     "data": {
      "text/plain": [
       "<keras.callbacks.History at 0x7f4ddccf2eb8>"
      ]
     },
     "execution_count": 160,
     "metadata": {},
     "output_type": "execute_result"
    }
   ],
   "source": [
    "model.fit(X_train, y_train, batch_size=128, validation_data=(X_val, y_val), callbacks=[checkpointer], epochs=5)"
   ]
  },
  {
   "cell_type": "code",
   "execution_count": 126,
   "metadata": {
    "ExecuteTime": {
     "end_time": "2018-11-20T14:20:21.308331Z",
     "start_time": "2018-11-20T14:20:20.041267Z"
    }
   },
   "outputs": [],
   "source": [
    "model.save('pickles/train_3_6668-mine.h5')"
   ]
  },
  {
   "cell_type": "code",
   "execution_count": 128,
   "metadata": {
    "ExecuteTime": {
     "end_time": "2018-11-20T14:31:46.226106Z",
     "start_time": "2018-11-20T14:31:36.970441Z"
    }
   },
   "outputs": [],
   "source": [
    "model = load_model('pickles/train_3_6668-mine.h5')"
   ]
  },
  {
   "cell_type": "code",
   "execution_count": 161,
   "metadata": {
    "ExecuteTime": {
     "end_time": "2018-11-20T18:19:09.947276Z",
     "start_time": "2018-11-20T18:17:03.475200Z"
    }
   },
   "outputs": [
    {
     "name": "stdout",
     "output_type": "stream",
     "text": [
      "Train on 35233 samples, validate on 15100 samples\n",
      "Epoch 1/1\n",
      "35233/35233 [==============================] - 126s 4ms/step - loss: 0.6723 - acc: 0.6951 - val_loss: 0.7369 - val_acc: 0.6613\n",
      "\n",
      "Epoch 00001: val_loss did not improve from 0.72440\n"
     ]
    },
    {
     "data": {
      "text/plain": [
       "<keras.callbacks.History at 0x7f509467fd30>"
      ]
     },
     "execution_count": 161,
     "metadata": {},
     "output_type": "execute_result"
    }
   ],
   "source": [
    "model.fit(X_train, y_train, batch_size=128, validation_data=(X_val, y_val), callbacks=[checkpointer], epochs=1)"
   ]
  },
  {
   "cell_type": "code",
   "execution_count": 133,
   "metadata": {
    "ExecuteTime": {
     "end_time": "2018-11-20T14:36:57.884454Z",
     "start_time": "2018-11-20T14:36:56.460853Z"
    }
   },
   "outputs": [],
   "source": [
    "model.save('pickles/train_3_6715-mine.h5')"
   ]
  },
  {
   "cell_type": "code",
   "execution_count": 137,
   "metadata": {
    "ExecuteTime": {
     "end_time": "2018-11-20T14:41:30.918974Z",
     "start_time": "2018-11-20T14:41:20.353625Z"
    }
   },
   "outputs": [],
   "source": [
    "model = load_model('pickles/train_3_6715-mine.h5')"
   ]
  },
  {
   "cell_type": "code",
   "execution_count": 138,
   "metadata": {
    "ExecuteTime": {
     "end_time": "2018-11-20T14:41:32.670619Z",
     "start_time": "2018-11-20T14:41:32.628845Z"
    }
   },
   "outputs": [],
   "source": [
    "test_sequences = pad_sequences(test_sequences, MAX_SEQUENCE_LENGTH)\n",
    "test_sequences.shape\n",
    "Y_test = to_categorical(test_y, 3)"
   ]
  },
  {
   "cell_type": "code",
   "execution_count": 139,
   "metadata": {
    "ExecuteTime": {
     "end_time": "2018-11-20T14:41:37.765614Z",
     "start_time": "2018-11-20T14:41:34.777153Z"
    }
   },
   "outputs": [
    {
     "name": "stdout",
     "output_type": "stream",
     "text": [
      "1630/1630 [==============================] - 3s 2ms/step\n",
      "val_loss: 1.0251555976692153\n",
      "val_acc: 0.5460122699386503\n"
     ]
    }
   ],
   "source": [
    "loss, acc = model.evaluate(test_sequences, Y_test, batch_size=128)\n",
    "\n",
    "print(f'val_loss: {loss}\\nval_acc: {acc}')"
   ]
  },
  {
   "cell_type": "markdown",
   "metadata": {},
   "source": [
    "## Model evalutation"
   ]
  },
  {
   "cell_type": "code",
   "execution_count": 148,
   "metadata": {
    "ExecuteTime": {
     "end_time": "2018-11-20T14:44:19.090652Z",
     "start_time": "2018-11-20T14:44:16.634990Z"
    }
   },
   "outputs": [],
   "source": [
    "y_pred = np.argmax(model.predict(test_sequences, batch_size=128), axis=1)\n",
    "y_true = test_y"
   ]
  },
  {
   "cell_type": "code",
   "execution_count": 150,
   "metadata": {
    "ExecuteTime": {
     "end_time": "2018-11-20T14:44:25.722537Z",
     "start_time": "2018-11-20T14:44:25.709302Z"
    }
   },
   "outputs": [
    {
     "data": {
      "text/plain": [
       "((1630,), (1630,))"
      ]
     },
     "execution_count": 150,
     "metadata": {},
     "output_type": "execute_result"
    }
   ],
   "source": [
    "y_pred.shape, test_y.shape"
   ]
  },
  {
   "cell_type": "code",
   "execution_count": 151,
   "metadata": {
    "ExecuteTime": {
     "end_time": "2018-11-20T14:44:27.874095Z",
     "start_time": "2018-11-20T14:44:27.850467Z"
    }
   },
   "outputs": [
    {
     "data": {
      "text/plain": [
       "array([[330, 248,  76],\n",
       "       [ 85, 182, 179],\n",
       "       [ 30, 122, 378]])"
      ]
     },
     "execution_count": 151,
     "metadata": {},
     "output_type": "execute_result"
    }
   ],
   "source": [
    "from sklearn.metrics import confusion_matrix\n",
    "\n",
    "\n",
    "cm = confusion_matrix(y_true, y_pred)\n",
    "cm"
   ]
  },
  {
   "cell_type": "code",
   "execution_count": 153,
   "metadata": {
    "ExecuteTime": {
     "end_time": "2018-11-20T14:45:25.385762Z",
     "start_time": "2018-11-20T14:45:24.941100Z"
    }
   },
   "outputs": [
    {
     "data": {
      "image/png": "[encoded data removed]",
      "text/plain": [
       "<Figure size 432x288 with 2 Axes>"
      ]
     },
     "metadata": {
      "needs_background": "light"
     },
     "output_type": "display_data"
    }
   ],
   "source": [
    "plot_confusion_matrix(cm, ['Negative', 'Neutral', 'Positive'])"
   ]
  },
  {
   "cell_type": "code",
   "execution_count": 142,
   "metadata": {
    "ExecuteTime": {
     "end_time": "2018-11-20T14:42:04.528340Z",
     "start_time": "2018-11-20T14:42:04.076401Z"
    }
   },
   "outputs": [
    {
     "data": {
      "text/html": [
       "<div>\n",
       "<style scoped>\n",
       "    .dataframe tbody tr th:only-of-type {\n",
       "        vertical-align: middle;\n",
       "    }\n",
       "\n",
       "    .dataframe tbody tr th {\n",
       "        vertical-align: top;\n",
       "    }\n",
       "\n",
       "    .dataframe thead th {\n",
       "        text-align: right;\n",
       "    }\n",
       "</style>\n",
       "<table border=\"1\" class=\"dataframe\">\n",
       "  <thead>\n",
       "    <tr style=\"text-align: right;\">\n",
       "      <th>Class</th>\n",
       "      <th>negative</th>\n",
       "      <th>neutral</th>\n",
       "      <th>positive</th>\n",
       "    </tr>\n",
       "  </thead>\n",
       "  <tbody>\n",
       "    <tr>\n",
       "      <th>ID</th>\n",
       "      <td>7839</td>\n",
       "      <td>22591</td>\n",
       "      <td>19903</td>\n",
       "    </tr>\n",
       "    <tr>\n",
       "      <th>Tweet</th>\n",
       "      <td>7839</td>\n",
       "      <td>22591</td>\n",
       "      <td>19903</td>\n",
       "    </tr>\n",
       "    <tr>\n",
       "      <th>Sentiment</th>\n",
       "      <td>7839</td>\n",
       "      <td>22591</td>\n",
       "      <td>19903</td>\n",
       "    </tr>\n",
       "  </tbody>\n",
       "</table>\n",
       "</div>"
      ],
      "text/plain": [
       "Class      negative  neutral  positive\n",
       "ID             7839    22591     19903\n",
       "Tweet          7839    22591     19903\n",
       "Sentiment      7839    22591     19903"
      ]
     },
     "metadata": {},
     "output_type": "display_data"
    },
    {
     "data": {
      "text/plain": [
       "<matplotlib.axes._subplots.AxesSubplot at 0x7f50947f5b70>"
      ]
     },
     "execution_count": 142,
     "metadata": {},
     "output_type": "execute_result"
    },
    {
     "data": {
      "image/png": "[encoded data removed]",
      "text/plain": [
       "<Figure size 432x288 with 1 Axes>"
      ]
     },
     "metadata": {
      "needs_background": "light"
     },
     "output_type": "display_data"
    }
   ],
   "source": [
    "display(tweets.groupby('Class').count().T)\n",
    "train_y.hist()"
   ]
  },
  {
   "cell_type": "code",
   "execution_count": 152,
   "metadata": {
    "ExecuteTime": {
     "end_time": "2018-11-20T14:44:53.428256Z",
     "start_time": "2018-11-20T14:44:53.405420Z"
    }
   },
   "outputs": [],
   "source": [
    "import itertools\n",
    "import matplotlib.pyplot as plt\n",
    "\n",
    "def plot_confusion_matrix(cm, classes,\n",
    "                          title='Confusion matrix',\n",
    "                          cmap=plt.cm.Blues):\n",
    "    plt.imshow(cm, interpolation='nearest', cmap=cmap)\n",
    "    plt.title(title)\n",
    "    plt.colorbar()\n",
    "    tick_marks = np.arange(len(classes))\n",
    "    plt.xticks(tick_marks, classes, rotation=45)\n",
    "    plt.yticks(tick_marks, classes)\n",
    "\n",
    "    fmt = 'd'\n",
    "    thresh = cm.max() / 2.\n",
    "    for i, j in itertools.product(range(cm.shape[0]), range(cm.shape[1])):\n",
    "        plt.text(j, i, format(cm[i, j], fmt),\n",
    "                 horizontalalignment=\"center\",\n",
    "                 color=\"white\" if cm[i, j] > thresh else \"black\")\n",
    "\n",
    "    plt.ylabel('True label')\n",
    "    plt.xlabel('Predicted label')\n",
    "    plt.tight_layout()"
   ]
  },
  {
   "cell_type": "markdown",
   "metadata": {},
   "source": [
    "## Testing on dev set"
   ]
  },
  {
   "cell_type": "code",
   "execution_count": 3,
   "metadata": {
    "ExecuteTime": {
     "end_time": "2018-11-21T13:32:35.130498Z",
     "start_time": "2018-11-21T13:32:35.100434Z"
    }
   },
   "outputs": [],
   "source": [
    "val_dev = pd.read_csv(path_dev_val, sep='\\t')"
   ]
  },
  {
   "cell_type": "code",
   "execution_count": 4,
   "metadata": {
    "ExecuteTime": {
     "end_time": "2018-11-21T13:32:36.198666Z",
     "start_time": "2018-11-21T13:32:36.137680Z"
    }
   },
   "outputs": [
    {
     "data": {
      "text/html": [
       "<div>\n",
       "<style scoped>\n",
       "    .dataframe tbody tr th:only-of-type {\n",
       "        vertical-align: middle;\n",
       "    }\n",
       "\n",
       "    .dataframe tbody tr th {\n",
       "        vertical-align: top;\n",
       "    }\n",
       "\n",
       "    .dataframe thead th {\n",
       "        text-align: right;\n",
       "    }\n",
       "</style>\n",
       "<table border=\"1\" class=\"dataframe\">\n",
       "  <thead>\n",
       "    <tr style=\"text-align: right;\">\n",
       "      <th></th>\n",
       "      <th>ID</th>\n",
       "      <th>Tweet</th>\n",
       "      <th>Affect Dimension</th>\n",
       "      <th>Intensity Class</th>\n",
       "    </tr>\n",
       "  </thead>\n",
       "  <tbody>\n",
       "    <tr>\n",
       "      <th>0</th>\n",
       "      <td>2018-En-02354</td>\n",
       "      <td>So @Ryanair site crashes everytime I try to bo...</td>\n",
       "      <td>valence</td>\n",
       "      <td>-3: very negative emotional state can be inferred</td>\n",
       "    </tr>\n",
       "    <tr>\n",
       "      <th>1</th>\n",
       "      <td>2018-En-00124</td>\n",
       "      <td>Theme of week: Ask the Lord for strength &amp;amp;...</td>\n",
       "      <td>valence</td>\n",
       "      <td>-2: moderately negative emotional state can be...</td>\n",
       "    </tr>\n",
       "    <tr>\n",
       "      <th>2</th>\n",
       "      <td>2018-En-02603</td>\n",
       "      <td>@F1 Why announcing so late, it will be hard to...</td>\n",
       "      <td>valence</td>\n",
       "      <td>-3: very negative emotional state can be inferred</td>\n",
       "    </tr>\n",
       "    <tr>\n",
       "      <th>3</th>\n",
       "      <td>2018-En-00450</td>\n",
       "      <td>The greatest happiness is seeing someone you l...</td>\n",
       "      <td>valence</td>\n",
       "      <td>3: very positive emotional state can be inferred</td>\n",
       "    </tr>\n",
       "    <tr>\n",
       "      <th>4</th>\n",
       "      <td>2018-En-00502</td>\n",
       "      <td>omg so grateful to have an education but ive b...</td>\n",
       "      <td>valence</td>\n",
       "      <td>1: slightly positive emotional state can be in...</td>\n",
       "    </tr>\n",
       "  </tbody>\n",
       "</table>\n",
       "</div>"
      ],
      "text/plain": [
       "              ID                                              Tweet  \\\n",
       "0  2018-En-02354  So @Ryanair site crashes everytime I try to bo...   \n",
       "1  2018-En-00124  Theme of week: Ask the Lord for strength &amp;...   \n",
       "2  2018-En-02603  @F1 Why announcing so late, it will be hard to...   \n",
       "3  2018-En-00450  The greatest happiness is seeing someone you l...   \n",
       "4  2018-En-00502  omg so grateful to have an education but ive b...   \n",
       "\n",
       "  Affect Dimension                                    Intensity Class  \n",
       "0          valence  -3: very negative emotional state can be inferred  \n",
       "1          valence  -2: moderately negative emotional state can be...  \n",
       "2          valence  -3: very negative emotional state can be inferred  \n",
       "3          valence   3: very positive emotional state can be inferred  \n",
       "4          valence  1: slightly positive emotional state can be in...  "
      ]
     },
     "execution_count": 4,
     "metadata": {},
     "output_type": "execute_result"
    }
   ],
   "source": [
    "val_dev.head()"
   ]
  },
  {
   "cell_type": "code",
   "execution_count": 5,
   "metadata": {
    "ExecuteTime": {
     "end_time": "2018-11-21T13:32:36.741993Z",
     "start_time": "2018-11-21T13:32:36.728919Z"
    }
   },
   "outputs": [
    {
     "data": {
      "text/plain": [
       "array(['-3: very negative emotional state can be inferred',\n",
       "       '-2: moderately negative emotional state can be inferred',\n",
       "       '3: very positive emotional state can be inferred',\n",
       "       '1: slightly positive emotional state can be inferred',\n",
       "       '2: moderately positive emotional state can be inferred',\n",
       "       '-1: slightly negative emotional state can be inferred',\n",
       "       '0: neutral or mixed emotional state can be inferred'],\n",
       "      dtype=object)"
      ]
     },
     "execution_count": 5,
     "metadata": {},
     "output_type": "execute_result"
    }
   ],
   "source": [
    "val_dev['Intensity Class'].unique()"
   ]
  },
  {
   "cell_type": "code",
   "execution_count": 8,
   "metadata": {
    "ExecuteTime": {
     "end_time": "2018-11-21T13:33:33.234114Z",
     "start_time": "2018-11-21T13:33:29.862369Z"
    }
   },
   "outputs": [],
   "source": [
    "seven_to_3 = {'-3: very negative emotional state can be inferred': 0,\n",
    "              '-2: moderately negative emotional state can be inferred': 0,\n",
    "              '-1: slightly negative emotional state can be inferred': 0,\n",
    "              '3: very positive emotional state can be inferred': 2,\n",
    "              '1: slightly positive emotional state can be inferred': 2,\n",
    "              '2: moderately positive emotional state can be inferred': 2,\n",
    "              '0: neutral or mixed emotional state can be inferred': 1}\n",
    "\n",
    "seven_to_7 = {'-3: very negative emotional state can be inferred': -3,\n",
    "              '-2: moderately negative emotional state can be inferred': -2,\n",
    "              '-1: slightly negative emotional state can be inferred': -1,\n",
    "              '3: very positive emotional state can be inferred': 3,\n",
    "              '1: slightly positive emotional state can be inferred': 1,\n",
    "              '2: moderately positive emotional state can be inferred': 2,\n",
    "              '0: neutral or mixed emotional state can be inferred': 0}\n",
    "\n",
    "\n",
    "val_dev['Sentiment'] = val_dev['Intensity Class'].apply(lambda x: seven_to_3[x])\n",
    "val_dev['Target'] = val_dev['Intensity Class'].apply(lambda x: seven_to_7[x])\n",
    "val_dev['Target_from_0'] = val_dev['Intensity Class'].apply(lambda x: seven_to_7[x] + 3)\n",
    "val_dev['Tweet'] = val_dev['Tweet'].apply(lambda x: standardization(x))"
   ]
  },
  {
   "cell_type": "code",
   "execution_count": 10,
   "metadata": {
    "ExecuteTime": {
     "end_time": "2018-11-21T13:33:57.028148Z",
     "start_time": "2018-11-21T13:33:56.893426Z"
    }
   },
   "outputs": [],
   "source": [
    "val_dev.to_feather('pickles/dev_7.feather')"
   ]
  },
  {
   "cell_type": "code",
   "execution_count": 9,
   "metadata": {
    "ExecuteTime": {
     "end_time": "2018-11-21T13:33:42.326646Z",
     "start_time": "2018-11-21T13:33:42.290903Z"
    }
   },
   "outputs": [
    {
     "data": {
      "text/html": [
       "<div>\n",
       "<style scoped>\n",
       "    .dataframe tbody tr th:only-of-type {\n",
       "        vertical-align: middle;\n",
       "    }\n",
       "\n",
       "    .dataframe tbody tr th {\n",
       "        vertical-align: top;\n",
       "    }\n",
       "\n",
       "    .dataframe thead th {\n",
       "        text-align: right;\n",
       "    }\n",
       "</style>\n",
       "<table border=\"1\" class=\"dataframe\">\n",
       "  <thead>\n",
       "    <tr style=\"text-align: right;\">\n",
       "      <th></th>\n",
       "      <th>ID</th>\n",
       "      <th>Tweet</th>\n",
       "      <th>Affect Dimension</th>\n",
       "      <th>Intensity Class</th>\n",
       "      <th>Sentiment</th>\n",
       "      <th>Target</th>\n",
       "      <th>Target_from_0</th>\n",
       "    </tr>\n",
       "  </thead>\n",
       "  <tbody>\n",
       "    <tr>\n",
       "      <th>0</th>\n",
       "      <td>2018-En-02354</td>\n",
       "      <td>site crash everytime try book help tell nothin...</td>\n",
       "      <td>valence</td>\n",
       "      <td>-3: very negative emotional state can be inferred</td>\n",
       "      <td>0</td>\n",
       "      <td>-3</td>\n",
       "      <td>0</td>\n",
       "    </tr>\n",
       "    <tr>\n",
       "      <th>1</th>\n",
       "      <td>2018-En-00124</td>\n",
       "      <td>theme week ask lord strength perspective perse...</td>\n",
       "      <td>valence</td>\n",
       "      <td>-2: moderately negative emotional state can be...</td>\n",
       "      <td>0</td>\n",
       "      <td>-2</td>\n",
       "      <td>1</td>\n",
       "    </tr>\n",
       "    <tr>\n",
       "      <th>2</th>\n",
       "      <td>2018-En-02603</td>\n",
       "      <td>announce late hard make manchester organise day</td>\n",
       "      <td>valence</td>\n",
       "      <td>-3: very negative emotional state can be inferred</td>\n",
       "      <td>0</td>\n",
       "      <td>-3</td>\n",
       "      <td>0</td>\n",
       "    </tr>\n",
       "    <tr>\n",
       "      <th>3</th>\n",
       "      <td>2018-En-00450</td>\n",
       "      <td>greatest happiness see someone like stay happy...</td>\n",
       "      <td>valence</td>\n",
       "      <td>3: very positive emotional state can be inferred</td>\n",
       "      <td>2</td>\n",
       "      <td>3</td>\n",
       "      <td>6</td>\n",
       "    </tr>\n",
       "    <tr>\n",
       "      <th>4</th>\n",
       "      <td>2018-En-00502</td>\n",
       "      <td>omg grateful education ive back school two day...</td>\n",
       "      <td>valence</td>\n",
       "      <td>1: slightly positive emotional state can be in...</td>\n",
       "      <td>2</td>\n",
       "      <td>1</td>\n",
       "      <td>4</td>\n",
       "    </tr>\n",
       "  </tbody>\n",
       "</table>\n",
       "</div>"
      ],
      "text/plain": [
       "              ID                                              Tweet  \\\n",
       "0  2018-En-02354  site crash everytime try book help tell nothin...   \n",
       "1  2018-En-00124  theme week ask lord strength perspective perse...   \n",
       "2  2018-En-02603    announce late hard make manchester organise day   \n",
       "3  2018-En-00450  greatest happiness see someone like stay happy...   \n",
       "4  2018-En-00502  omg grateful education ive back school two day...   \n",
       "\n",
       "  Affect Dimension                                    Intensity Class  \\\n",
       "0          valence  -3: very negative emotional state can be inferred   \n",
       "1          valence  -2: moderately negative emotional state can be...   \n",
       "2          valence  -3: very negative emotional state can be inferred   \n",
       "3          valence   3: very positive emotional state can be inferred   \n",
       "4          valence  1: slightly positive emotional state can be in...   \n",
       "\n",
       "   Sentiment  Target  Target_from_0  \n",
       "0          0      -3              0  \n",
       "1          0      -2              1  \n",
       "2          0      -3              0  \n",
       "3          2       3              6  \n",
       "4          2       1              4  "
      ]
     },
     "execution_count": 9,
     "metadata": {},
     "output_type": "execute_result"
    }
   ],
   "source": [
    "val_dev.head()"
   ]
  },
  {
   "cell_type": "code",
   "execution_count": 174,
   "metadata": {
    "ExecuteTime": {
     "end_time": "2018-11-20T18:49:34.406035Z",
     "start_time": "2018-11-20T18:49:34.321993Z"
    }
   },
   "outputs": [],
   "source": [
    "dev_x, dev_y = val_dev['Tweet'], val_dev['Sentiment']\n",
    "\n",
    "dev_sequences = tokenizer.texts_to_sequences(dev_x)\n",
    "dev_sequences = pad_sequences(dev_sequences, MAX_SEQUENCE_LENGTH)"
   ]
  },
  {
   "cell_type": "code",
   "execution_count": 176,
   "metadata": {
    "ExecuteTime": {
     "end_time": "2018-11-20T18:52:40.083902Z",
     "start_time": "2018-11-20T18:52:39.317630Z"
    }
   },
   "outputs": [],
   "source": [
    "y_pred = model.predict_classes(dev_sequences, batch_size=128)"
   ]
  },
  {
   "cell_type": "code",
   "execution_count": 177,
   "metadata": {
    "ExecuteTime": {
     "end_time": "2018-11-20T18:52:48.516788Z",
     "start_time": "2018-11-20T18:52:48.492533Z"
    }
   },
   "outputs": [
    {
     "data": {
      "text/plain": [
       "array([[104,  73,  21],\n",
       "       [ 22,  47,  36],\n",
       "       [  6,  41,  99]])"
      ]
     },
     "execution_count": 177,
     "metadata": {},
     "output_type": "execute_result"
    }
   ],
   "source": [
    "cm = confusion_matrix(dev_y, y_pred)\n",
    "cm"
   ]
  },
  {
   "cell_type": "code",
   "execution_count": 179,
   "metadata": {
    "ExecuteTime": {
     "end_time": "2018-11-20T18:53:47.523284Z",
     "start_time": "2018-11-20T18:53:46.715598Z"
    }
   },
   "outputs": [
    {
     "name": "stdout",
     "output_type": "stream",
     "text": [
      "449/449 [==============================] - 1s 2ms/step\n",
      "val_loss: 0.9411097316274665\n",
      "val_acc: 0.5567928770337179\n"
     ]
    }
   ],
   "source": [
    "loss, acc = model.evaluate(dev_sequences, to_categorical(dev_y, 3), batch_size=128)\n",
    "\n",
    "print(f'val_loss: {loss}\\nval_acc: {acc}')"
   ]
  },
  {
   "cell_type": "code",
   "execution_count": null,
   "metadata": {},
   "outputs": [],
   "source": []
  }
 ],
 "metadata": {
  "kernelspec": {
   "display_name": "Python 3",
   "language": "python",
   "name": "python3"
  },
  "language_info": {
   "codemirror_mode": {
    "name": "ipython",
    "version": 3
   },
   "file_extension": ".py",
   "mimetype": "text/x-python",
   "name": "python",
   "nbconvert_exporter": "python",
   "pygments_lexer": "ipython3",
   "version": "3.6.6"
  }
 },
 "nbformat": 4,
 "nbformat_minor": 2
}
