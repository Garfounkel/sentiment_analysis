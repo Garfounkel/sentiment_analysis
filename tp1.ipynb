{
 "cells": [
  {
   "cell_type": "code",
   "execution_count": 1,
   "metadata": {
    "ExecuteTime": {
     "end_time": "2018-10-24T13:30:02.777559Z",
     "start_time": "2018-10-24T13:29:59.996642Z"
    }
   },
   "outputs": [
    {
     "name": "stderr",
     "output_type": "stream",
     "text": [
      "Using TensorFlow backend.\n"
     ]
    }
   ],
   "source": [
    "# import tensorflow as tf\n",
    "# from keras import backend as K\n",
    "\n",
    "# num_cores = 4\n",
    "# CPU = True\n",
    "# GPU = False\n",
    "\n",
    "# if GPU:\n",
    "#     num_GPU = 1\n",
    "#     num_CPU = 1\n",
    "# if CPU:\n",
    "#     num_CPU = 1\n",
    "#     num_GPU = 0\n",
    "\n",
    "# config = tf.ConfigProto(intra_op_parallelism_threads=num_cores,\\\n",
    "#         inter_op_parallelism_threads=num_cores, allow_soft_placement=True,\\\n",
    "#         device_count = {'CPU' : num_CPU, 'GPU' : num_GPU})\n",
    "# session = tf.Session(config=config)\n",
    "# K.set_session(session)"
   ]
  },
  {
   "cell_type": "code",
   "execution_count": 80,
   "metadata": {
    "ExecuteTime": {
     "end_time": "2018-11-19T21:00:01.589810Z",
     "start_time": "2018-11-19T21:00:01.554449Z"
    }
   },
   "outputs": [],
   "source": [
    "import numpy as np\n",
    "import pandas as pd\n",
    "from keras.preprocessing.text import *\n",
    "import matplotlib.pyplot as plt\n",
    "from tokenizer import tokenizer as tweet_tokenizer\n",
    "from keras.utils.np_utils import to_categorical\n",
    "from keras.preprocessing.sequence import pad_sequences\n",
    "from keras.preprocessing.text import Tokenizer\n",
    "from keras.layers import *\n",
    "from gensim.models import KeyedVectors\n",
    "from sklearn.model_selection import train_test_split\n",
    "from keras.models import Sequential\n",
    "from keras.optimizers import * \n",
    "from keras.regularizers import *\n",
    "from keras.models import load_model\n",
    "import pickle\n",
    "\n",
    "\n",
    "%matplotlib inline\n",
    "\n",
    "PATH = '/home/epita/sim/sentiment_analysis/data/'\n",
    "\n",
    "path_train_3 = f'{PATH}/data_train_3.csv'\n",
    "path_test_3 = f'{PATH}/data_test_3.csv'\n",
    "path_train_7 = f'{PATH}/data_train_7.csv'\n",
    "path_train_16m_3 = f'{PATH}/training.1600000.processed.noemoticon.csv'"
   ]
  },
  {
   "cell_type": "markdown",
   "metadata": {
    "heading_collapsed": true
   },
   "source": [
    "## One hot sample"
   ]
  },
  {
   "cell_type": "code",
   "execution_count": 16,
   "metadata": {
    "ExecuteTime": {
     "end_time": "2018-10-20T19:13:44.756774Z",
     "start_time": "2018-10-20T19:13:44.742287Z"
    },
    "hidden": true
   },
   "outputs": [
    {
     "name": "stdout",
     "output_type": "stream",
     "text": [
      "8\n",
      "[6, 2, 7, 1, 4, 4, 6, 6, 7]\n"
     ]
    }
   ],
   "source": [
    "text = 'The quick brown fox jumped over the lazy dog.'\n",
    "\n",
    "words = set(text_to_word_sequence(text))\n",
    "vocab_size = len(words)\n",
    "print(vocab_size)\n",
    "\n",
    "result = one_hot(text, round(vocab_size*1.3))\n",
    "print(result)"
   ]
  },
  {
   "cell_type": "markdown",
   "metadata": {
    "heading_collapsed": true
   },
   "source": [
    "## Tweet Tokenizer sample"
   ]
  },
  {
   "cell_type": "code",
   "execution_count": 60,
   "metadata": {
    "ExecuteTime": {
     "end_time": "2018-10-24T12:46:21.628712Z",
     "start_time": "2018-10-24T12:46:21.609088Z"
    },
    "hidden": true
   },
   "outputs": [
    {
     "data": {
      "text/plain": [
       "['the', 'quick', 'brown', 'fox', 'jumped', 'over', 'the', 'lazy', 'dog', '.']"
      ]
     },
     "execution_count": 60,
     "metadata": {},
     "output_type": "execute_result"
    }
   ],
   "source": [
    "T = tweet_tokenizer.TweetTokenizer(preserve_case=False, preserve_url=False)\n",
    "\n",
    "text = 'The quick brown fox jumped over the lazy dog.'\n",
    "\n",
    "T.tokenize(text)"
   ]
  },
  {
   "cell_type": "markdown",
   "metadata": {
    "heading_collapsed": true
   },
   "source": [
    "## Lemmatizer / Stemmer samples"
   ]
  },
  {
   "cell_type": "code",
   "execution_count": 22,
   "metadata": {
    "ExecuteTime": {
     "end_time": "2018-10-20T19:18:52.094815Z",
     "start_time": "2018-10-20T19:18:52.072891Z"
    },
    "hidden": true
   },
   "outputs": [
    {
     "name": "stdout",
     "output_type": "stream",
     "text": [
      "Stem studying: studi\n",
      "Lemmatise studying: studying\n",
      "Lemmatise studying: study\n"
     ]
    }
   ],
   "source": [
    "from nltk.stem import PorterStemmer, WordNetLemmatizer\n",
    " \n",
    "stemmer = PorterStemmer()\n",
    "lemmatiser = WordNetLemmatizer()\n",
    " \n",
    "print(\"Stem %s: %s\" % (\"studying\", stemmer.stem(\"studying\")))\n",
    "print(\"Lemmatise %s: %s\" % (\"studying\", lemmatiser.lemmatize(\"studying\")))\n",
    "print(\"Lemmatise %s: %s\" % (\"studying\", lemmatiser.lemmatize(\"studying\", pos=\"v\")))"
   ]
  },
  {
   "cell_type": "code",
   "execution_count": 33,
   "metadata": {
    "ExecuteTime": {
     "end_time": "2018-10-20T19:26:23.149301Z",
     "start_time": "2018-10-20T19:26:23.130556Z"
    },
    "hidden": true
   },
   "outputs": [
    {
     "name": "stdout",
     "output_type": "stream",
     "text": [
      "[('This', 'DT'), ('is', 'VBZ'), ('a', 'DT'), ('simple', 'JJ'), ('sentence', 'NN'), ('that', 'WDT'), ('would', 'MD'), ('be', 'VB'), ('allowing', 'VBG'), ('us', 'PRP'), ('to', 'TO'), ('try', 'VB'), ('lemmatizing', 'VBG')]\n",
      "['This', 'be', 'a', 'simple', 'sentence', 'that', 'would', 'be', 'allow', 'u', 'to', 'try', 'lemmatizing']\n"
     ]
    }
   ],
   "source": [
    "from nltk import pos_tag\n",
    "from nltk.tokenize import word_tokenize\n",
    "from collections import defaultdict\n",
    "from nltk.corpus import wordnet as wn\n",
    "\n",
    "\n",
    "tag_map = defaultdict(lambda: wn.NOUN, {'J': wn.ADJ, 'V': wn.VERB, 'R': wn.ADV})\n",
    "\n",
    "s = \"This is a simple sentence that would be allowing us to try lemmatizing\"\n",
    "\n",
    "tokens = word_tokenize(s)\n",
    "tokens_pos = pos_tag(tokens)\n",
    " \n",
    "print(tokens_pos)\n",
    "\n",
    "\n",
    "lems = [lemmatiser.lemmatize(word, tag_map[pos[0]]) for word, pos in tokens_pos]\n",
    "print(lems)"
   ]
  },
  {
   "cell_type": "markdown",
   "metadata": {},
   "source": [
    "# Serious business"
   ]
  },
  {
   "cell_type": "markdown",
   "metadata": {
    "heading_collapsed": true
   },
   "source": [
    "## Preprocess Train_16m_3"
   ]
  },
  {
   "cell_type": "code",
   "execution_count": 19,
   "metadata": {
    "ExecuteTime": {
     "end_time": "2018-11-01T11:34:00.813555Z",
     "start_time": "2018-11-01T11:33:55.355808Z"
    },
    "hidden": true
   },
   "outputs": [
    {
     "name": "stdout",
     "output_type": "stream",
     "text": [
      "(1600000, 3)\n"
     ]
    },
    {
     "data": {
      "text/html": [
       "<div>\n",
       "<style scoped>\n",
       "    .dataframe tbody tr th:only-of-type {\n",
       "        vertical-align: middle;\n",
       "    }\n",
       "\n",
       "    .dataframe tbody tr th {\n",
       "        vertical-align: top;\n",
       "    }\n",
       "\n",
       "    .dataframe thead th {\n",
       "        text-align: right;\n",
       "    }\n",
       "</style>\n",
       "<table border=\"1\" class=\"dataframe\">\n",
       "  <thead>\n",
       "    <tr style=\"text-align: right;\">\n",
       "      <th></th>\n",
       "      <th>target</th>\n",
       "      <th>id</th>\n",
       "      <th>text</th>\n",
       "    </tr>\n",
       "  </thead>\n",
       "  <tbody>\n",
       "    <tr>\n",
       "      <th>1136298</th>\n",
       "      <td>4</td>\n",
       "      <td>1976586207</td>\n",
       "      <td>@Doc_Sprocket sorry - i thought i wasn't going...</td>\n",
       "    </tr>\n",
       "    <tr>\n",
       "      <th>82391</th>\n",
       "      <td>0</td>\n",
       "      <td>1753038955</td>\n",
       "      <td>horrible headache</td>\n",
       "    </tr>\n",
       "    <tr>\n",
       "      <th>883382</th>\n",
       "      <td>4</td>\n",
       "      <td>1686122324</td>\n",
       "      <td>YES! ... finished my assignment! 1 down and 3 ...</td>\n",
       "    </tr>\n",
       "    <tr>\n",
       "      <th>1473925</th>\n",
       "      <td>4</td>\n",
       "      <td>2065642051</td>\n",
       "      <td>best #kiss i ever seen  http://bit.ly/kdepj</td>\n",
       "    </tr>\n",
       "    <tr>\n",
       "      <th>795603</th>\n",
       "      <td>0</td>\n",
       "      <td>2327426618</td>\n",
       "      <td>thinking she failed her geo exam, and possibly...</td>\n",
       "    </tr>\n",
       "  </tbody>\n",
       "</table>\n",
       "</div>"
      ],
      "text/plain": [
       "         target          id                                               text\n",
       "1136298       4  1976586207  @Doc_Sprocket sorry - i thought i wasn't going...\n",
       "82391         0  1753038955                                 horrible headache \n",
       "883382        4  1686122324  YES! ... finished my assignment! 1 down and 3 ...\n",
       "1473925       4  2065642051        best #kiss i ever seen  http://bit.ly/kdepj\n",
       "795603        0  2327426618  thinking she failed her geo exam, and possibly..."
      ]
     },
     "execution_count": 19,
     "metadata": {},
     "output_type": "execute_result"
    }
   ],
   "source": [
    "tweets_16m = pd.read_csv(train_16m_3, sep=',', encoding='latin-1').drop(columns=['date', 'flag', 'user'])\n",
    "\n",
    "print(tweets_16m.shape)\n",
    "tweets_16m.sample(5)"
   ]
  },
  {
   "cell_type": "code",
   "execution_count": 20,
   "metadata": {
    "ExecuteTime": {
     "end_time": "2018-11-01T12:06:33.553573Z",
     "start_time": "2018-11-01T11:37:19.546472Z"
    },
    "hidden": true
   },
   "outputs": [],
   "source": [
    "from TP_transfer_learning_2018 import *\n",
    "from TP_transfer_learning_2018.preprocessing import standardization\n",
    "\n",
    "\n",
    "tweets_16m['target'] = tweets_16m['target'].apply(lambda x: {0: 0, 2: 1, 4: 2}[x])  # Neg (0), Neu (2), Pos (4)\n",
    "tweets_16m['text'] = tweets_16m['text'].apply(lambda x: standardization(x))"
   ]
  },
  {
   "cell_type": "code",
   "execution_count": 21,
   "metadata": {
    "ExecuteTime": {
     "end_time": "2018-11-01T12:06:33.764607Z",
     "start_time": "2018-11-01T12:06:33.577280Z"
    },
    "hidden": true
   },
   "outputs": [
    {
     "data": {
      "text/html": [
       "<div>\n",
       "<style scoped>\n",
       "    .dataframe tbody tr th:only-of-type {\n",
       "        vertical-align: middle;\n",
       "    }\n",
       "\n",
       "    .dataframe tbody tr th {\n",
       "        vertical-align: top;\n",
       "    }\n",
       "\n",
       "    .dataframe thead th {\n",
       "        text-align: right;\n",
       "    }\n",
       "</style>\n",
       "<table border=\"1\" class=\"dataframe\">\n",
       "  <thead>\n",
       "    <tr style=\"text-align: right;\">\n",
       "      <th></th>\n",
       "      <th>target</th>\n",
       "      <th>id</th>\n",
       "      <th>text</th>\n",
       "    </tr>\n",
       "  </thead>\n",
       "  <tbody>\n",
       "    <tr>\n",
       "      <th>174553</th>\n",
       "      <td>0</td>\n",
       "      <td>1964566165</td>\n",
       "      <td>babe u aint read tweet phone fall apart new co...</td>\n",
       "    </tr>\n",
       "    <tr>\n",
       "      <th>235416</th>\n",
       "      <td>0</td>\n",
       "      <td>1979777211</td>\n",
       "      <td>not cold go get</td>\n",
       "    </tr>\n",
       "    <tr>\n",
       "      <th>901553</th>\n",
       "      <td>2</td>\n",
       "      <td>1694256723</td>\n",
       "      <td>get new frens-frm germany mexico n france havi...</td>\n",
       "    </tr>\n",
       "    <tr>\n",
       "      <th>913630</th>\n",
       "      <td>2</td>\n",
       "      <td>1752671998</td>\n",
       "      <td>im not cookie wont comment heh girl sing crush...</td>\n",
       "    </tr>\n",
       "    <tr>\n",
       "      <th>832154</th>\n",
       "      <td>2</td>\n",
       "      <td>1557553994</td>\n",
       "      <td>ah sunday morning nice day get realize money a...</td>\n",
       "    </tr>\n",
       "  </tbody>\n",
       "</table>\n",
       "</div>"
      ],
      "text/plain": [
       "        target          id                                               text\n",
       "174553       0  1964566165  babe u aint read tweet phone fall apart new co...\n",
       "235416       0  1979777211                                    not cold go get\n",
       "901553       2  1694256723  get new frens-frm germany mexico n france havi...\n",
       "913630       2  1752671998  im not cookie wont comment heh girl sing crush...\n",
       "832154       2  1557553994  ah sunday morning nice day get realize money a..."
      ]
     },
     "metadata": {},
     "output_type": "display_data"
    },
    {
     "data": {
      "text/plain": [
       "'night twitterverse seek ever elusive prince sleep sweet dream u good morning ever apply zzzz'"
      ]
     },
     "execution_count": 21,
     "metadata": {},
     "output_type": "execute_result"
    }
   ],
   "source": [
    "display(tweets_16m.sample(5))\n",
    "tweets_16m.sample(5)['text'].iloc[0]"
   ]
  },
  {
   "cell_type": "code",
   "execution_count": 23,
   "metadata": {
    "ExecuteTime": {
     "end_time": "2018-11-01T12:06:34.472709Z",
     "start_time": "2018-11-01T12:06:34.039450Z"
    },
    "hidden": true
   },
   "outputs": [],
   "source": [
    "tweets_16m.to_feather('pickles/train_16m_3.feather')"
   ]
  },
  {
   "cell_type": "markdown",
   "metadata": {},
   "source": [
    "## Preprocess Train_3"
   ]
  },
  {
   "cell_type": "code",
   "execution_count": 50,
   "metadata": {
    "ExecuteTime": {
     "end_time": "2018-11-19T20:52:47.006577Z",
     "start_time": "2018-11-19T20:52:46.770956Z"
    }
   },
   "outputs": [
    {
     "data": {
      "text/plain": [
       "((50333, 3), (1630, 3), (1630, 3))"
      ]
     },
     "execution_count": 50,
     "metadata": {},
     "output_type": "execute_result"
    }
   ],
   "source": [
    "tweets = pd.read_csv(path_train_3, sep='\\t', names=['ID', 'Class', 'Tweet'])\n",
    "tweets_7 = pd.read_csv(path_train_7, sep='\\t', names=['ID', 'Class', 'Tweet'], dtype={'Tweet': str})\n",
    "tweets_3_test = pd.read_csv(path_test_3, sep='\\t', names=['ID', 'Class', 'Tweet'], dtype={'Tweet': str})\n",
    "\n",
    "tweets.shape, tweets_7.shape, tweets_3_test.shape"
   ]
  },
  {
   "cell_type": "code",
   "execution_count": 5,
   "metadata": {
    "ExecuteTime": {
     "end_time": "2018-11-19T19:19:40.599134Z",
     "start_time": "2018-11-19T19:19:40.550557Z"
    }
   },
   "outputs": [
    {
     "data": {
      "text/html": [
       "<div>\n",
       "<style scoped>\n",
       "    .dataframe tbody tr th:only-of-type {\n",
       "        vertical-align: middle;\n",
       "    }\n",
       "\n",
       "    .dataframe tbody tr th {\n",
       "        vertical-align: top;\n",
       "    }\n",
       "\n",
       "    .dataframe thead th {\n",
       "        text-align: right;\n",
       "    }\n",
       "</style>\n",
       "<table border=\"1\" class=\"dataframe\">\n",
       "  <thead>\n",
       "    <tr style=\"text-align: right;\">\n",
       "      <th></th>\n",
       "      <th>ID</th>\n",
       "      <th>Class</th>\n",
       "      <th>Tweet</th>\n",
       "    </tr>\n",
       "  </thead>\n",
       "  <tbody>\n",
       "    <tr>\n",
       "      <th>24563</th>\n",
       "      <td>630258702054916096</td>\n",
       "      <td>neutral</td>\n",
       "      <td>y'all are gonna get spammed af on tuesday for ...</td>\n",
       "    </tr>\n",
       "    <tr>\n",
       "      <th>11995</th>\n",
       "      <td>238557845359038465</td>\n",
       "      <td>neutral</td>\n",
       "      <td>@LawsonRyan AND you were played on Styled To R...</td>\n",
       "    </tr>\n",
       "    <tr>\n",
       "      <th>26247</th>\n",
       "      <td>632984127277539328</td>\n",
       "      <td>neutral</td>\n",
       "      <td>Paper Towns is released in the UK tomorrow and...</td>\n",
       "    </tr>\n",
       "    <tr>\n",
       "      <th>26208</th>\n",
       "      <td>632971809802047488</td>\n",
       "      <td>positive</td>\n",
       "      <td>@NGfootyactivist kindly Retweet my last tweet ...</td>\n",
       "    </tr>\n",
       "    <tr>\n",
       "      <th>5374</th>\n",
       "      <td>172548568329093120</td>\n",
       "      <td>neutral</td>\n",
       "      <td>See John Lloyd Cruz &amp; Angel Locsin at the \\Uno...</td>\n",
       "    </tr>\n",
       "  </tbody>\n",
       "</table>\n",
       "</div>"
      ],
      "text/plain": [
       "                       ID     Class  \\\n",
       "24563  630258702054916096   neutral   \n",
       "11995  238557845359038465   neutral   \n",
       "26247  632984127277539328   neutral   \n",
       "26208  632971809802047488  positive   \n",
       "5374   172548568329093120   neutral   \n",
       "\n",
       "                                                   Tweet  \n",
       "24563  y'all are gonna get spammed af on tuesday for ...  \n",
       "11995  @LawsonRyan AND you were played on Styled To R...  \n",
       "26247  Paper Towns is released in the UK tomorrow and...  \n",
       "26208  @NGfootyactivist kindly Retweet my last tweet ...  \n",
       "5374   See John Lloyd Cruz & Angel Locsin at the \\Uno...  "
      ]
     },
     "execution_count": 5,
     "metadata": {},
     "output_type": "execute_result"
    }
   ],
   "source": [
    "tweets.sample(5)"
   ]
  },
  {
   "cell_type": "code",
   "execution_count": 31,
   "metadata": {
    "ExecuteTime": {
     "end_time": "2018-11-19T20:50:08.644332Z",
     "start_time": "2018-11-19T20:50:08.621042Z"
    }
   },
   "outputs": [
    {
     "data": {
      "text/html": [
       "<div>\n",
       "<style scoped>\n",
       "    .dataframe tbody tr th:only-of-type {\n",
       "        vertical-align: middle;\n",
       "    }\n",
       "\n",
       "    .dataframe tbody tr th {\n",
       "        vertical-align: top;\n",
       "    }\n",
       "\n",
       "    .dataframe thead th {\n",
       "        text-align: right;\n",
       "    }\n",
       "</style>\n",
       "<table border=\"1\" class=\"dataframe\">\n",
       "  <thead>\n",
       "    <tr style=\"text-align: right;\">\n",
       "      <th></th>\n",
       "      <th>ID</th>\n",
       "      <th>Class</th>\n",
       "      <th>Tweet</th>\n",
       "    </tr>\n",
       "  </thead>\n",
       "  <tbody>\n",
       "    <tr>\n",
       "      <th>0</th>\n",
       "      <td>0</td>\n",
       "      <td>0</td>\n",
       "      <td>@liamch88 yeah! :) playing well</td>\n",
       "    </tr>\n",
       "    <tr>\n",
       "      <th>1</th>\n",
       "      <td>1</td>\n",
       "      <td>0</td>\n",
       "      <td>At least I don't have a guy trying to discoura...</td>\n",
       "    </tr>\n",
       "    <tr>\n",
       "      <th>2</th>\n",
       "      <td>2</td>\n",
       "      <td>0</td>\n",
       "      <td>UPLIFT: If you're still discouraged it means y...</td>\n",
       "    </tr>\n",
       "    <tr>\n",
       "      <th>3</th>\n",
       "      <td>3</td>\n",
       "      <td>0</td>\n",
       "      <td>...at your age, the heyday in the blood is tam...</td>\n",
       "    </tr>\n",
       "    <tr>\n",
       "      <th>4</th>\n",
       "      <td>4</td>\n",
       "      <td>-2</td>\n",
       "      <td>i was so embarrassed when she saw us i was lik...</td>\n",
       "    </tr>\n",
       "  </tbody>\n",
       "</table>\n",
       "</div>"
      ],
      "text/plain": [
       "   ID  Class                                              Tweet\n",
       "0   0      0                   @liamch88 yeah! :) playing well \n",
       "1   1      0  At least I don't have a guy trying to discoura...\n",
       "2   2      0  UPLIFT: If you're still discouraged it means y...\n",
       "3   3      0  ...at your age, the heyday in the blood is tam...\n",
       "4   4     -2  i was so embarrassed when she saw us i was lik..."
      ]
     },
     "execution_count": 31,
     "metadata": {},
     "output_type": "execute_result"
    }
   ],
   "source": [
    "tweets_7.head(5)"
   ]
  },
  {
   "cell_type": "code",
   "execution_count": 20,
   "metadata": {
    "ExecuteTime": {
     "end_time": "2018-11-19T20:38:16.646411Z",
     "start_time": "2018-11-19T20:37:01.660101Z"
    }
   },
   "outputs": [],
   "source": [
    "from TP_transfer_learning_2018 import *\n",
    "from TP_transfer_learning_2018.preprocessing import standardization\n",
    "\n",
    "\n",
    "tweets['Sentiment'] = tweets['Class'].apply(lambda x: {'negative': 0, 'neutral': 1, 'positive': 2}[x])\n",
    "tweets['Tweet'] = tweets['Tweet'].apply(lambda x: standardization(x))"
   ]
  },
  {
   "cell_type": "code",
   "execution_count": 32,
   "metadata": {
    "ExecuteTime": {
     "end_time": "2018-11-19T20:50:16.366103Z",
     "start_time": "2018-11-19T20:50:13.996558Z"
    }
   },
   "outputs": [],
   "source": [
    "tweets_7['Sentiment'] = tweets_7['Class']\n",
    "tweets_7['Tweet'] = tweets_7['Tweet'].apply(lambda x: standardization(x))"
   ]
  },
  {
   "cell_type": "code",
   "execution_count": 33,
   "metadata": {
    "ExecuteTime": {
     "end_time": "2018-11-19T20:50:18.513859Z",
     "start_time": "2018-11-19T20:50:16.370714Z"
    }
   },
   "outputs": [],
   "source": [
    "tweets_3_test['Sentiment'] = tweets_3_test['Class'].apply(lambda x: {'negative': 0, 'neutral': 1, 'positive': 2}[x])\n",
    "tweets_3_test['Tweet'] = tweets_3_test['Tweet'].apply(lambda x: standardization(x))"
   ]
  },
  {
   "cell_type": "code",
   "execution_count": 34,
   "metadata": {
    "ExecuteTime": {
     "end_time": "2018-11-19T20:50:18.555860Z",
     "start_time": "2018-11-19T20:50:18.517333Z"
    }
   },
   "outputs": [
    {
     "data": {
      "text/html": [
       "<div>\n",
       "<style scoped>\n",
       "    .dataframe tbody tr th:only-of-type {\n",
       "        vertical-align: middle;\n",
       "    }\n",
       "\n",
       "    .dataframe tbody tr th {\n",
       "        vertical-align: top;\n",
       "    }\n",
       "\n",
       "    .dataframe thead th {\n",
       "        text-align: right;\n",
       "    }\n",
       "</style>\n",
       "<table border=\"1\" class=\"dataframe\">\n",
       "  <thead>\n",
       "    <tr style=\"text-align: right;\">\n",
       "      <th></th>\n",
       "      <th>ID</th>\n",
       "      <th>Class</th>\n",
       "      <th>Tweet</th>\n",
       "    </tr>\n",
       "  </thead>\n",
       "  <tbody>\n",
       "    <tr>\n",
       "      <th>28257</th>\n",
       "      <td>635721210806956032</td>\n",
       "      <td>neutral</td>\n",
       "      <td>For an art project in 7th grade we had to make...</td>\n",
       "    </tr>\n",
       "    <tr>\n",
       "      <th>17615</th>\n",
       "      <td>634516378268119041</td>\n",
       "      <td>negative</td>\n",
       "      <td>.@marklevinshow apparently Rick Perry is an id...</td>\n",
       "    </tr>\n",
       "  </tbody>\n",
       "</table>\n",
       "</div>"
      ],
      "text/plain": [
       "                       ID     Class  \\\n",
       "28257  635721210806956032   neutral   \n",
       "17615  634516378268119041  negative   \n",
       "\n",
       "                                                   Tweet  \n",
       "28257  For an art project in 7th grade we had to make...  \n",
       "17615  .@marklevinshow apparently Rick Perry is an id...  "
      ]
     },
     "metadata": {},
     "output_type": "display_data"
    },
    {
     "data": {
      "text/html": [
       "<div>\n",
       "<style scoped>\n",
       "    .dataframe tbody tr th:only-of-type {\n",
       "        vertical-align: middle;\n",
       "    }\n",
       "\n",
       "    .dataframe tbody tr th {\n",
       "        vertical-align: top;\n",
       "    }\n",
       "\n",
       "    .dataframe thead th {\n",
       "        text-align: right;\n",
       "    }\n",
       "</style>\n",
       "<table border=\"1\" class=\"dataframe\">\n",
       "  <thead>\n",
       "    <tr style=\"text-align: right;\">\n",
       "      <th></th>\n",
       "      <th>ID</th>\n",
       "      <th>Class</th>\n",
       "      <th>Tweet</th>\n",
       "      <th>Sentiment</th>\n",
       "    </tr>\n",
       "  </thead>\n",
       "  <tbody>\n",
       "    <tr>\n",
       "      <th>0</th>\n",
       "      <td>0</td>\n",
       "      <td>0</td>\n",
       "      <td>yeah ☺ ️ playing well</td>\n",
       "      <td>0</td>\n",
       "    </tr>\n",
       "    <tr>\n",
       "      <th>1</th>\n",
       "      <td>1</td>\n",
       "      <td>0</td>\n",
       "      <td>least not guy try discourage anymore want neve...</td>\n",
       "      <td>0</td>\n",
       "    </tr>\n",
       "  </tbody>\n",
       "</table>\n",
       "</div>"
      ],
      "text/plain": [
       "   ID  Class                                              Tweet  Sentiment\n",
       "0   0      0                              yeah ☺ ️ playing well          0\n",
       "1   1      0  least not guy try discourage anymore want neve...          0"
      ]
     },
     "metadata": {},
     "output_type": "display_data"
    },
    {
     "data": {
      "text/html": [
       "<div>\n",
       "<style scoped>\n",
       "    .dataframe tbody tr th:only-of-type {\n",
       "        vertical-align: middle;\n",
       "    }\n",
       "\n",
       "    .dataframe tbody tr th {\n",
       "        vertical-align: top;\n",
       "    }\n",
       "\n",
       "    .dataframe thead th {\n",
       "        text-align: right;\n",
       "    }\n",
       "</style>\n",
       "<table border=\"1\" class=\"dataframe\">\n",
       "  <thead>\n",
       "    <tr style=\"text-align: right;\">\n",
       "      <th></th>\n",
       "      <th>ID</th>\n",
       "      <th>Class</th>\n",
       "      <th>Tweet</th>\n",
       "      <th>Sentiment</th>\n",
       "    </tr>\n",
       "  </thead>\n",
       "  <tbody>\n",
       "    <tr>\n",
       "      <th>0</th>\n",
       "      <td>449</td>\n",
       "      <td>negative</td>\n",
       "      <td>site crash everytime try book help tell nothin...</td>\n",
       "      <td>0</td>\n",
       "    </tr>\n",
       "    <tr>\n",
       "      <th>1</th>\n",
       "      <td>450</td>\n",
       "      <td>negative</td>\n",
       "      <td>theme week ask lord strength perspective perse...</td>\n",
       "      <td>0</td>\n",
       "    </tr>\n",
       "  </tbody>\n",
       "</table>\n",
       "</div>"
      ],
      "text/plain": [
       "    ID     Class                                              Tweet  Sentiment\n",
       "0  449  negative  site crash everytime try book help tell nothin...          0\n",
       "1  450  negative  theme week ask lord strength perspective perse...          0"
      ]
     },
     "metadata": {},
     "output_type": "display_data"
    }
   ],
   "source": [
    "display(tweets.sample(2))\n",
    "display(tweets_7.head(2))\n",
    "display(tweets_3_test.head(2))"
   ]
  },
  {
   "cell_type": "code",
   "execution_count": 35,
   "metadata": {
    "ExecuteTime": {
     "end_time": "2018-11-19T20:50:24.429094Z",
     "start_time": "2018-11-19T20:50:24.396192Z"
    }
   },
   "outputs": [],
   "source": [
    "tweets_7.to_feather('pickles/train_7.feather')"
   ]
  },
  {
   "cell_type": "code",
   "execution_count": 36,
   "metadata": {
    "ExecuteTime": {
     "end_time": "2018-11-19T20:50:25.225564Z",
     "start_time": "2018-11-19T20:50:25.203736Z"
    }
   },
   "outputs": [],
   "source": [
    "tweets_3_test.to_feather('pickles/test_3.feather')"
   ]
  },
  {
   "cell_type": "code",
   "execution_count": 22,
   "metadata": {
    "ExecuteTime": {
     "end_time": "2018-11-01T12:06:34.034157Z",
     "start_time": "2018-11-01T12:06:33.769108Z"
    }
   },
   "outputs": [],
   "source": [
    "tweets.to_feather('pickles/train_3.feather')"
   ]
  },
  {
   "cell_type": "markdown",
   "metadata": {},
   "source": [
    "## Training"
   ]
  },
  {
   "cell_type": "code",
   "execution_count": 60,
   "metadata": {
    "ExecuteTime": {
     "end_time": "2018-11-19T20:55:47.224744Z",
     "start_time": "2018-11-19T20:55:47.162565Z"
    }
   },
   "outputs": [
    {
     "name": "stderr",
     "output_type": "stream",
     "text": [
      "/home/epita/.local/lib/python3.6/site-packages/pandas/io/feather_format.py:112: FutureWarning: `nthreads` argument is deprecated, pass `use_threads` instead\n",
      "  return feather.read_dataframe(path, nthreads=nthreads)\n"
     ]
    }
   ],
   "source": [
    "tweets = pd.read_feather('pickles/train_3.feather')\n",
    "test_3 = pd.read_feather('pickles/test_3.feather')\n",
    "train_7 = pd.read_feather('pickles/train_7.feather')\n",
    "\n",
    "train_x, train_y = tweets['Tweet'], tweets['Sentiment']\n",
    "test_x, test_y = test_3['Tweet'], test_3['Sentiment']\n",
    "train7_x, train7_y = train_7['Tweet'], train_7['Sentiment']"
   ]
  },
  {
   "cell_type": "markdown",
   "metadata": {},
   "source": [
    "* Fitting the tokenizer on our entire tweet base to make sure the indexes are rights"
   ]
  },
  {
   "cell_type": "code",
   "execution_count": 81,
   "metadata": {
    "ExecuteTime": {
     "end_time": "2018-11-19T21:01:51.767635Z",
     "start_time": "2018-11-19T21:01:50.673044Z"
    }
   },
   "outputs": [],
   "source": [
    "all_tweets = pd.concat([train_x, test_x, train7_x])\n",
    "tokenizer = Tokenizer(filters=' ')\n",
    "tokenizer.fit_on_texts(all_tweets)\n",
    "word_index = tokenizer.word_index\n",
    "\n",
    "pickle.dump(tokenizer, open(\"pickles/tokenizer.pickle\", \"wb\"))"
   ]
  },
  {
   "cell_type": "code",
   "execution_count": 82,
   "metadata": {
    "ExecuteTime": {
     "end_time": "2018-11-19T21:02:20.449271Z",
     "start_time": "2018-11-19T21:02:20.362218Z"
    }
   },
   "outputs": [],
   "source": [
    "tokenizer = pickle.load(open(\"pickles/tokenizer.pickle\", 'rb'))"
   ]
  },
  {
   "cell_type": "markdown",
   "metadata": {},
   "source": [
    "* Looking for the MAX_SEQUENCE_LENGTH in all our sequences:"
   ]
  },
  {
   "cell_type": "code",
   "execution_count": 84,
   "metadata": {
    "ExecuteTime": {
     "end_time": "2018-11-19T21:03:42.730021Z",
     "start_time": "2018-11-19T21:03:41.896065Z"
    }
   },
   "outputs": [
    {
     "data": {
      "text/plain": [
       "32"
      ]
     },
     "execution_count": 84,
     "metadata": {},
     "output_type": "execute_result"
    }
   ],
   "source": [
    "train_sequences = tokenizer.texts_to_sequences(train_x)\n",
    "test_sequences = tokenizer.texts_to_sequences(test_x)\n",
    "train7_sequences = tokenizer.texts_to_sequences(train7_x)\n",
    "\n",
    "sequences = train_sequences + test_sequences + train7_sequences\n",
    "MAX_SEQUENCE_LENGTH = 0\n",
    "for elt in sequences:\n",
    "    if len(elt) > MAX_SEQUENCE_LENGTH:\n",
    "        MAX_SEQUENCE_LENGTH = len(elt)\n",
    "\n",
    "MAX_SEQUENCE_LENGTH"
   ]
  },
  {
   "cell_type": "markdown",
   "metadata": {},
   "source": [
    "* We only train on train_3:"
   ]
  },
  {
   "cell_type": "code",
   "execution_count": 86,
   "metadata": {
    "ExecuteTime": {
     "end_time": "2018-11-19T21:03:59.747388Z",
     "start_time": "2018-11-19T21:03:59.311091Z"
    }
   },
   "outputs": [
    {
     "data": {
      "text/plain": [
       "(50333, 32)"
      ]
     },
     "execution_count": 86,
     "metadata": {},
     "output_type": "execute_result"
    }
   ],
   "source": [
    "train_sequences = pad_sequences(train_sequences, MAX_SEQUENCE_LENGTH)\n",
    "train_sequences.shape"
   ]
  },
  {
   "cell_type": "markdown",
   "metadata": {},
   "source": [
    "#### Loading Datastories's embeddings"
   ]
  },
  {
   "cell_type": "code",
   "execution_count": 87,
   "metadata": {
    "ExecuteTime": {
     "end_time": "2018-11-19T21:07:57.523555Z",
     "start_time": "2018-11-19T21:04:06.439904Z"
    }
   },
   "outputs": [],
   "source": [
    "# googlenews_w2v = KeyedVectors.load_word2vec_format('data/embeddings/GoogleNews-vectors-negative300.bin', binary=True)\n",
    "from gensim.scripts.glove2word2vec import glove2word2vec\n",
    "from gensim.test.utils import get_tmpfile\n",
    "\n",
    "\n",
    "tmp_file = get_tmpfile('datastories.300d.word2vec')\n",
    "glove2word2vec('data/embeddings/datastories.twitter.300d.txt', tmp_file)\n",
    "w2v = KeyedVectors.load_word2vec_format(tmp_file)"
   ]
  },
  {
   "cell_type": "code",
   "execution_count": 89,
   "metadata": {
    "ExecuteTime": {
     "end_time": "2018-11-19T21:08:42.894832Z",
     "start_time": "2018-11-19T21:08:42.348077Z"
    }
   },
   "outputs": [
    {
     "name": "stdout",
     "output_type": "stream",
     "text": [
      "(1, 300)\n",
      "(37785, 300)\n"
     ]
    }
   ],
   "source": [
    "targets = to_categorical(train_y, 3)\n",
    "nb_words = len(word_index) + 1\n",
    "\n",
    "EMBEDDING_DIM = 300\n",
    "embedding_matrix = np.zeros((nb_words, EMBEDDING_DIM))\n",
    "\n",
    "oov = []  # Out of vocabulary\n",
    "oov.append((np.random.rand(EMBEDDING_DIM) * 2.0) - 1.0)\n",
    "oov = oov / np.linalg.norm(oov)\n",
    "\n",
    "print(oov.shape)\n",
    "\n",
    "for word, i in word_index.items():\n",
    "    if word in w2v.vocab:\n",
    "        embedding_matrix[i] = w2v.word_vec(word)\n",
    "    else:\n",
    "        embedding_matrix[i] = oov\n",
    "\n",
    "print(embedding_matrix.shape)"
   ]
  },
  {
   "cell_type": "code",
   "execution_count": 90,
   "metadata": {
    "ExecuteTime": {
     "end_time": "2018-11-19T21:10:11.602740Z",
     "start_time": "2018-11-19T21:10:11.108086Z"
    }
   },
   "outputs": [],
   "source": [
    "# Claim memory back from this very large object we don't use anymore\n",
    "del w2v"
   ]
  },
  {
   "cell_type": "code",
   "execution_count": 91,
   "metadata": {
    "ExecuteTime": {
     "end_time": "2018-11-19T21:11:24.218923Z",
     "start_time": "2018-11-19T21:11:24.146856Z"
    }
   },
   "outputs": [
    {
     "name": "stdout",
     "output_type": "stream",
     "text": [
      "training set: 35233 samples\n",
      "validation set: 15100 samples\n",
      "x_train: (35233, 32)\n",
      "y_train: (35233, 3)\n"
     ]
    }
   ],
   "source": [
    "X_train, X_val, y_train, y_val = train_test_split(train_sequences, targets, test_size=0.3)\n",
    "\n",
    "print('training set: ' + str(len(X_train)) + ' samples')\n",
    "print('validation set: ' + str(len(X_val)) + ' samples')\n",
    "\n",
    "print('x_train:', X_train.shape)\n",
    "print('y_train:', y_train.shape)"
   ]
  },
  {
   "cell_type": "code",
   "execution_count": 92,
   "metadata": {
    "ExecuteTime": {
     "end_time": "2018-11-19T21:11:26.723275Z",
     "start_time": "2018-11-19T21:11:26.692147Z"
    }
   },
   "outputs": [],
   "source": [
    "def model_2017():\n",
    "    vocab_size = embedding_matrix.shape[0]\n",
    "    embedding_size = embedding_matrix.shape[1]\n",
    "\n",
    "    model = Sequential()\n",
    "    model.add(Embedding(vocab_size, embedding_size, weights=[embedding_matrix], \n",
    "                        input_length=MAX_SEQUENCE_LENGTH, trainable=False, name='embedding_layer'))\n",
    "    model.add(GaussianNoise(0.3))\n",
    "    # model.add(SpatialDropout1D(0.3))\n",
    "    model.add(Dropout(0.3))\n",
    "    model.add(Bidirectional(LSTM(150, recurrent_dropout=0.3, return_sequences=True)))\n",
    "    # model.add(Dropout(0.5))\n",
    "    model.add(Dropout(0.3))\n",
    "    model.add(Bidirectional(LSTM(150, recurrent_dropout=0.3, return_sequences=True)))\n",
    "    model.add(Dropout(0.3))\n",
    "    model.add(Flatten())\n",
    "    model.add(Dense(3, activity_regularizer=l2(1e-4)))\n",
    "    model.add(Activation('softmax'))\n",
    "\n",
    "    # RMSprop or lr=1e-3\n",
    "    model.compile(loss='categorical_crossentropy', optimizer=Adam(lr=1e-2), metrics=['acc'])\n",
    "\n",
    "    print(model.summary())\n",
    "    \n",
    "    return model\n",
    "\n",
    "def model_mine():\n",
    "    vocab_size = embedding_matrix.shape[0]\n",
    "    embedding_size = embedding_matrix.shape[1]\n",
    "\n",
    "    model = Sequential()\n",
    "    model.add(Embedding(vocab_size, embedding_size, weights=[embedding_matrix], \n",
    "                        input_length=MAX_SEQUENCE_LENGTH, trainable=False, name='embedding_layer'))\n",
    "    model.add(Dropout(0.3))\n",
    "    model.add(Bidirectional(LSTM(150, return_sequences=True)))\n",
    "    model.add(Dropout(0.5))\n",
    "    model.add(Bidirectional(LSTM(150, return_sequences=True)))\n",
    "    model.add(Dropout(0.5))\n",
    "    model.add(Flatten())\n",
    "    model.add(Dense(3, activation='softmax'))\n",
    "\n",
    "    model.compile(loss='categorical_crossentropy', optimizer='adam', metrics=['acc'])\n",
    "\n",
    "    print(model.summary())\n",
    "    \n",
    "    return model"
   ]
  },
  {
   "cell_type": "code",
   "execution_count": 93,
   "metadata": {
    "ExecuteTime": {
     "end_time": "2018-11-19T21:11:36.470574Z",
     "start_time": "2018-11-19T21:11:28.794568Z"
    }
   },
   "outputs": [
    {
     "name": "stdout",
     "output_type": "stream",
     "text": [
      "_________________________________________________________________\n",
      "Layer (type)                 Output Shape              Param #   \n",
      "=================================================================\n",
      "embedding_layer (Embedding)  (None, 32, 300)           11335500  \n",
      "_________________________________________________________________\n",
      "dropout_1 (Dropout)          (None, 32, 300)           0         \n",
      "_________________________________________________________________\n",
      "bidirectional_1 (Bidirection (None, 32, 300)           541200    \n",
      "_________________________________________________________________\n",
      "dropout_2 (Dropout)          (None, 32, 300)           0         \n",
      "_________________________________________________________________\n",
      "bidirectional_2 (Bidirection (None, 32, 300)           541200    \n",
      "_________________________________________________________________\n",
      "dropout_3 (Dropout)          (None, 32, 300)           0         \n",
      "_________________________________________________________________\n",
      "flatten_1 (Flatten)          (None, 9600)              0         \n",
      "_________________________________________________________________\n",
      "dense_1 (Dense)              (None, 3)                 28803     \n",
      "=================================================================\n",
      "Total params: 12,446,703\n",
      "Trainable params: 1,111,203\n",
      "Non-trainable params: 11,335,500\n",
      "_________________________________________________________________\n",
      "None\n"
     ]
    }
   ],
   "source": [
    "model = model_mine()"
   ]
  },
  {
   "cell_type": "code",
   "execution_count": 94,
   "metadata": {
    "ExecuteTime": {
     "end_time": "2018-11-19T21:22:20.073922Z",
     "start_time": "2018-11-19T21:11:43.785933Z"
    }
   },
   "outputs": [
    {
     "name": "stdout",
     "output_type": "stream",
     "text": [
      "Train on 35233 samples, validate on 15100 samples\n",
      "Epoch 1/5\n",
      "35233/35233 [==============================] - 129s 4ms/step - loss: 0.8453 - acc: 0.5889 - val_loss: 0.7882 - val_acc: 0.6365\n",
      "Epoch 2/5\n",
      "35233/35233 [==============================] - 124s 4ms/step - loss: 0.7753 - acc: 0.6378 - val_loss: 0.7691 - val_acc: 0.6319\n",
      "Epoch 3/5\n",
      "35233/35233 [==============================] - 127s 4ms/step - loss: 0.7457 - acc: 0.6527 - val_loss: 0.7332 - val_acc: 0.6591\n",
      "Epoch 4/5\n",
      "35233/35233 [==============================] - 126s 4ms/step - loss: 0.7211 - acc: 0.6665 - val_loss: 0.7522 - val_acc: 0.6555\n",
      "Epoch 5/5\n",
      "35233/35233 [==============================] - 126s 4ms/step - loss: 0.7030 - acc: 0.6776 - val_loss: 0.7273 - val_acc: 0.6644\n"
     ]
    },
    {
     "data": {
      "text/plain": [
       "<keras.callbacks.History at 0x7f50f5bcf940>"
      ]
     },
     "execution_count": 94,
     "metadata": {},
     "output_type": "execute_result"
    }
   ],
   "source": [
    "model.fit(X_train, y_train, batch_size=128, validation_data=(X_val, y_val), epochs=5)"
   ]
  },
  {
   "cell_type": "code",
   "execution_count": 99,
   "metadata": {
    "ExecuteTime": {
     "end_time": "2018-11-19T21:24:47.136329Z",
     "start_time": "2018-11-19T21:24:47.095485Z"
    }
   },
   "outputs": [],
   "source": [
    "test_sequences = pad_sequences(test_sequences, MAX_SEQUENCE_LENGTH)\n",
    "test_sequences.shape\n",
    "Y_test = to_categorical(test_y, 3)"
   ]
  },
  {
   "cell_type": "code",
   "execution_count": 101,
   "metadata": {
    "ExecuteTime": {
     "end_time": "2018-11-19T21:25:07.057494Z",
     "start_time": "2018-11-19T21:25:04.641438Z"
    }
   },
   "outputs": [
    {
     "name": "stdout",
     "output_type": "stream",
     "text": [
      "1630/1630 [==============================] - 2s 1ms/step\n"
     ]
    },
    {
     "data": {
      "text/plain": [
       "[1.0056506370474225, 0.5263803679518905]"
      ]
     },
     "execution_count": 101,
     "metadata": {},
     "output_type": "execute_result"
    }
   ],
   "source": [
    "model.evaluate(test_sequences, Y_test, batch_size=128)"
   ]
  },
  {
   "cell_type": "code",
   "execution_count": 102,
   "metadata": {
    "ExecuteTime": {
     "end_time": "2018-11-19T21:30:10.980648Z",
     "start_time": "2018-11-19T21:25:57.989606Z"
    }
   },
   "outputs": [
    {
     "name": "stdout",
     "output_type": "stream",
     "text": [
      "Train on 35233 samples, validate on 15100 samples\n",
      "Epoch 6/7\n",
      "35233/35233 [==============================] - 128s 4ms/step - loss: 0.6775 - acc: 0.6945 - val_loss: 0.7299 - val_acc: 0.6666\n",
      "Epoch 7/7\n",
      "35233/35233 [==============================] - 125s 4ms/step - loss: 0.6517 - acc: 0.7067 - val_loss: 0.7582 - val_acc: 0.6548\n"
     ]
    },
    {
     "data": {
      "text/plain": [
       "<keras.callbacks.History at 0x7f50a29f34e0>"
      ]
     },
     "execution_count": 102,
     "metadata": {},
     "output_type": "execute_result"
    }
   ],
   "source": [
    "model.fit(X_train, y_train, batch_size=128, validation_data=(X_val, y_val), epochs=7, initial_epoch=5)"
   ]
  },
  {
   "cell_type": "code",
   "execution_count": 103,
   "metadata": {
    "ExecuteTime": {
     "end_time": "2018-11-19T21:30:13.308392Z",
     "start_time": "2018-11-19T21:30:10.993100Z"
    }
   },
   "outputs": [
    {
     "name": "stdout",
     "output_type": "stream",
     "text": [
      "1630/1630 [==============================] - 2s 1ms/step\n"
     ]
    },
    {
     "data": {
      "text/plain": [
       "[1.1275912613956476, 0.5128834352902839]"
      ]
     },
     "execution_count": 103,
     "metadata": {},
     "output_type": "execute_result"
    }
   ],
   "source": [
    "model.evaluate(test_sequences, Y_test, batch_size=128)"
   ]
  },
  {
   "cell_type": "code",
   "execution_count": 104,
   "metadata": {
    "ExecuteTime": {
     "end_time": "2018-11-19T21:31:05.136880Z",
     "start_time": "2018-11-19T21:31:04.382829Z"
    }
   },
   "outputs": [],
   "source": [
    "model.save('pickles/train_3_65-mine.h5')"
   ]
  },
  {
   "cell_type": "code",
   "execution_count": 16,
   "metadata": {
    "ExecuteTime": {
     "end_time": "2018-11-02T16:21:01.838358Z",
     "start_time": "2018-11-02T16:09:52.662125Z"
    }
   },
   "outputs": [
    {
     "name": "stdout",
     "output_type": "stream",
     "text": [
      "Train on 35233 samples, validate on 15100 samples\n",
      "Epoch 1/5\n",
      "35233/35233 [==============================] - 135s 4ms/step - loss: 0.8453 - acc: 0.5898 - val_loss: 0.7717 - val_acc: 0.6374\n",
      "Epoch 2/5\n",
      "35233/35233 [==============================] - 133s 4ms/step - loss: 0.7761 - acc: 0.6362 - val_loss: 0.7497 - val_acc: 0.6522\n",
      "Epoch 3/5\n",
      "35233/35233 [==============================] - 131s 4ms/step - loss: 0.7480 - acc: 0.6517 - val_loss: 0.7484 - val_acc: 0.6479\n",
      "Epoch 4/5\n",
      "35233/35233 [==============================] - 134s 4ms/step - loss: 0.7245 - acc: 0.6649 - val_loss: 0.7320 - val_acc: 0.6603\n",
      "Epoch 5/5\n",
      "35233/35233 [==============================] - 131s 4ms/step - loss: 0.7048 - acc: 0.6773 - val_loss: 0.7240 - val_acc: 0.6668\n"
     ]
    },
    {
     "data": {
      "text/plain": [
       "<keras.callbacks.History at 0x7f98cc65e518>"
      ]
     },
     "execution_count": 16,
     "metadata": {},
     "output_type": "execute_result"
    }
   ],
   "source": [
    "model.fit(X_train, y_train, batch_size=128, validation_data=(X_val, y_val), epochs=5)"
   ]
  },
  {
   "cell_type": "code",
   "execution_count": 17,
   "metadata": {
    "ExecuteTime": {
     "end_time": "2018-11-02T16:26:27.712496Z",
     "start_time": "2018-11-02T16:26:26.929262Z"
    }
   },
   "outputs": [],
   "source": [
    "# model.save('pickles/train_3_66.7-emb_dr3_bi_dr5_bi_dr4.h5')"
   ]
  },
  {
   "cell_type": "code",
   "execution_count": 24,
   "metadata": {
    "ExecuteTime": {
     "end_time": "2018-11-02T17:02:42.994665Z",
     "start_time": "2018-11-02T17:02:33.933385Z"
    }
   },
   "outputs": [],
   "source": [
    "model = load_model('pickles/train_3_66.7-emb_dr3_bi_dr5_bi_dr4.h5')"
   ]
  },
  {
   "cell_type": "code",
   "execution_count": 25,
   "metadata": {
    "ExecuteTime": {
     "end_time": "2018-11-02T17:07:23.324617Z",
     "start_time": "2018-11-02T17:02:49.214832Z"
    }
   },
   "outputs": [
    {
     "name": "stdout",
     "output_type": "stream",
     "text": [
      "Train on 35233 samples, validate on 15100 samples\n",
      "Epoch 6/7\n",
      "35233/35233 [==============================] - 140s 4ms/step - loss: 0.6850 - acc: 0.6889 - val_loss: 0.7250 - val_acc: 0.6699\n",
      "Epoch 7/7\n",
      "35233/35233 [==============================] - 134s 4ms/step - loss: 0.6630 - acc: 0.7009 - val_loss: 0.7242 - val_acc: 0.6721\n"
     ]
    },
    {
     "data": {
      "text/plain": [
       "<keras.callbacks.History at 0x7f9860e84978>"
      ]
     },
     "execution_count": 25,
     "metadata": {},
     "output_type": "execute_result"
    }
   ],
   "source": [
    "model.fit(X_train, y_train, batch_size=128, validation_data=(X_val, y_val), epochs=7, initial_epoch=5)"
   ]
  },
  {
   "cell_type": "code",
   "execution_count": 26,
   "metadata": {
    "ExecuteTime": {
     "end_time": "2018-11-02T17:17:07.118180Z",
     "start_time": "2018-11-02T17:17:05.924679Z"
    }
   },
   "outputs": [],
   "source": [
    "# model.save('pickles/train_3_67.2-emb_dr3_bi_dr5_bi_dr4.h5')"
   ]
  },
  {
   "cell_type": "code",
   "execution_count": 27,
   "metadata": {
    "ExecuteTime": {
     "end_time": "2018-11-02T17:20:10.422105Z",
     "start_time": "2018-11-02T17:18:42.230547Z"
    }
   },
   "outputs": [
    {
     "name": "stdout",
     "output_type": "stream",
     "text": [
      "15100/15100 [==============================] - 88s 6ms/step\n",
      "val_loss: 0.7242394660956023\n",
      "val_acc: 0.6721192052664346\n"
     ]
    }
   ],
   "source": [
    "loss, acc = model.evaluate(X_val, y_val)\n",
    "\n",
    "print(f'val_loss: {loss}\\nval_acc: {acc}')"
   ]
  },
  {
   "cell_type": "markdown",
   "metadata": {
    "heading_collapsed": true
   },
   "source": [
    "### Bi-derectional LSTM x2"
   ]
  },
  {
   "cell_type": "code",
   "execution_count": 20,
   "metadata": {
    "ExecuteTime": {
     "end_time": "2018-10-31T20:19:53.195177Z",
     "start_time": "2018-10-31T19:36:32.457074Z"
    },
    "hidden": true,
    "scrolled": true
   },
   "outputs": [
    {
     "name": "stdout",
     "output_type": "stream",
     "text": [
      "Train on 35233 samples, validate on 15100 samples\n",
      "Epoch 1/20\n",
      "35233/35233 [==============================] - 133s 4ms/step - loss: 0.8855 - acc: 0.5888 - val_loss: 0.7555 - val_acc: 0.6511\n",
      "Epoch 2/20\n",
      "35233/35233 [==============================] - 131s 4ms/step - loss: 0.7755 - acc: 0.6376 - val_loss: 0.7467 - val_acc: 0.6560\n",
      "Epoch 3/20\n",
      "35233/35233 [==============================] - 128s 4ms/step - loss: 0.7400 - acc: 0.6575 - val_loss: 0.7229 - val_acc: 0.6686\n",
      "Epoch 4/20\n",
      "35233/35233 [==============================] - 131s 4ms/step - loss: 0.7124 - acc: 0.6727 - val_loss: 0.7285 - val_acc: 0.6725\n",
      "Epoch 5/20\n",
      "35233/35233 [==============================] - 129s 4ms/step - loss: 0.6925 - acc: 0.6867 - val_loss: 0.7240 - val_acc: 0.6644\n",
      "Epoch 6/20\n",
      "35233/35233 [==============================] - 131s 4ms/step - loss: 0.6774 - acc: 0.6938 - val_loss: 0.7288 - val_acc: 0.6676\n",
      "Epoch 7/20\n",
      "35233/35233 [==============================] - 122s 3ms/step - loss: 0.6579 - acc: 0.7035 - val_loss: 0.7342 - val_acc: 0.6681\n",
      "Epoch 8/20\n",
      "35233/35233 [==============================] - 128s 4ms/step - loss: 0.6488 - acc: 0.7106 - val_loss: 0.7537 - val_acc: 0.6655\n",
      "Epoch 9/20\n",
      "35233/35233 [==============================] - 130s 4ms/step - loss: 0.6424 - acc: 0.7128 - val_loss: 0.7414 - val_acc: 0.6607\n",
      "Epoch 10/20\n",
      "35233/35233 [==============================] - 129s 4ms/step - loss: 0.6291 - acc: 0.7222 - val_loss: 0.7433 - val_acc: 0.6617\n",
      "Epoch 11/20\n",
      "35233/35233 [==============================] - 131s 4ms/step - loss: 0.6194 - acc: 0.7259 - val_loss: 0.7363 - val_acc: 0.6631\n",
      "Epoch 12/20\n",
      "35233/35233 [==============================] - 129s 4ms/step - loss: 0.6008 - acc: 0.7366 - val_loss: 0.7430 - val_acc: 0.6657\n",
      "Epoch 13/20\n",
      "35233/35233 [==============================] - 130s 4ms/step - loss: 0.5938 - acc: 0.7382 - val_loss: 0.7485 - val_acc: 0.6595\n",
      "Epoch 14/20\n",
      "35233/35233 [==============================] - 130s 4ms/step - loss: 0.5853 - acc: 0.7436 - val_loss: 0.7622 - val_acc: 0.6644\n",
      "Epoch 15/20\n",
      "35233/35233 [==============================] - 131s 4ms/step - loss: 0.5749 - acc: 0.7498 - val_loss: 0.7486 - val_acc: 0.6655\n",
      "Epoch 16/20\n",
      "35233/35233 [==============================] - 128s 4ms/step - loss: 0.5637 - acc: 0.7566 - val_loss: 0.7634 - val_acc: 0.6597\n",
      "Epoch 17/20\n",
      "35233/35233 [==============================] - 133s 4ms/step - loss: 0.5560 - acc: 0.7604 - val_loss: 0.7639 - val_acc: 0.6631\n",
      "Epoch 18/20\n",
      "35233/35233 [==============================] - 132s 4ms/step - loss: 0.5513 - acc: 0.7618 - val_loss: 0.7610 - val_acc: 0.6663\n",
      "Epoch 19/20\n",
      "35233/35233 [==============================] - 131s 4ms/step - loss: 0.5395 - acc: 0.7670 - val_loss: 0.7759 - val_acc: 0.6575\n",
      "Epoch 20/20\n",
      "35233/35233 [==============================] - 129s 4ms/step - loss: 0.5302 - acc: 0.7721 - val_loss: 0.7810 - val_acc: 0.6540\n"
     ]
    },
    {
     "data": {
      "text/plain": [
       "<keras.callbacks.History at 0x7f3fac06d550>"
      ]
     },
     "execution_count": 20,
     "metadata": {},
     "output_type": "execute_result"
    }
   ],
   "source": [
    "model.fit(X_train, y_train, batch_size=128, validation_data=(X_val, y_val), epochs=20)"
   ]
  },
  {
   "cell_type": "markdown",
   "metadata": {},
   "source": [
    "## Transfer Learning"
   ]
  },
  {
   "cell_type": "code",
   "execution_count": 31,
   "metadata": {
    "ExecuteTime": {
     "end_time": "2018-11-02T17:38:20.715325Z",
     "start_time": "2018-11-02T17:38:08.358535Z"
    }
   },
   "outputs": [
    {
     "name": "stdout",
     "output_type": "stream",
     "text": [
      "_________________________________________________________________\n",
      "Layer (type)                 Output Shape              Param #   \n",
      "=================================================================\n",
      "embedding_layer (Embedding)  (None, 32, 300)           11090400  \n",
      "_________________________________________________________________\n",
      "dropout_1 (Dropout)          (None, 32, 300)           0         \n",
      "_________________________________________________________________\n",
      "bidirectional_1 (Bidirection (None, 32, 300)           541200    \n",
      "_________________________________________________________________\n",
      "dropout_2 (Dropout)          (None, 32, 300)           0         \n",
      "_________________________________________________________________\n",
      "bidirectional_2 (Bidirection (None, 32, 300)           541200    \n",
      "_________________________________________________________________\n",
      "dropout_3 (Dropout)          (None, 32, 300)           0         \n",
      "_________________________________________________________________\n",
      "flatten_1 (Flatten)          (None, 9600)              0         \n",
      "_________________________________________________________________\n",
      "dense_1 (Dense)              (None, 3)                 28803     \n",
      "_________________________________________________________________\n",
      "dense_3 (Dense)              (None, 150)               600       \n",
      "_________________________________________________________________\n",
      "dense_4 (Dense)              (None, 7)                 1057      \n",
      "=================================================================\n",
      "Total params: 12,203,260\n",
      "Trainable params: 1,657\n",
      "Non-trainable params: 12,201,603\n",
      "_________________________________________________________________\n",
      "None\n"
     ]
    }
   ],
   "source": [
    "model = load_model('pickles/train_3_67.2-emb_dr3_bi_dr5_bi_dr4.h5')\n",
    "\n",
    "model.layers.pop()\n",
    "model.layers.pop()\n",
    "for layer in model.layers:\n",
    "    layer.trainable = False\n",
    "model.add(Dense(150, activation='relu'))\n",
    "# model.add(Flatten())\n",
    "model.add(Dense(7, activation='softmax'))\n",
    "model.compile(loss='categorical_crossentropy', optimizer='adam', metrics=['acc'])\n",
    "print(model.summary())"
   ]
  },
  {
   "cell_type": "code",
   "execution_count": null,
   "metadata": {},
   "outputs": [],
   "source": [
    "history = model.fit(x_train_7, y_train_7, validation_data=(x_val_7,y_val_7), epochs=11, batch_size=50)"
   ]
  },
  {
   "cell_type": "markdown",
   "metadata": {
    "heading_collapsed": true
   },
   "source": [
    "### Logistic Regression"
   ]
  },
  {
   "cell_type": "code",
   "execution_count": 6,
   "metadata": {
    "ExecuteTime": {
     "end_time": "2018-10-20T21:33:38.790775Z",
     "start_time": "2018-10-20T21:33:37.153969Z"
    },
    "hidden": true
   },
   "outputs": [],
   "source": [
    "from sklearn.feature_extraction.text import CountVectorizer\n",
    "\n",
    "cv = CountVectorizer(binary=True)\n",
    "\n",
    "X = cv.fit_transform(tweets['Tweet'])\n",
    "target = tweets['Sentiment']"
   ]
  },
  {
   "cell_type": "code",
   "execution_count": 7,
   "metadata": {
    "ExecuteTime": {
     "end_time": "2018-10-20T21:33:54.361787Z",
     "start_time": "2018-10-20T21:33:38.793650Z"
    },
    "hidden": true
   },
   "outputs": [
    {
     "name": "stdout",
     "output_type": "stream",
     "text": [
      "Accuracy for C=0.01: 0.6240464081373173\n",
      "Accuracy for C=0.05: 0.6523363000635728\n",
      "Accuracy for C=0.25: 0.6594882390336936\n",
      "Accuracy for C=0.5: 0.6562301335028607\n",
      "Accuracy for C=1: 0.6511443102352193\n"
     ]
    }
   ],
   "source": [
    "from sklearn.linear_model import LogisticRegression\n",
    "from sklearn.metrics import accuracy_score\n",
    "from sklearn.model_selection import train_test_split\n",
    "\n",
    "\n",
    "X_train, X_val, y_train, y_val = train_test_split(X, target)\n",
    "\n",
    "for c in [0.01, 0.05, 0.25, 0.5, 1]:\n",
    "    lr = LogisticRegression(C=c, solver='saga', multi_class='auto')\n",
    "    lr.fit(X_train, y_train)\n",
    "    print (\"Accuracy for C=%s: %s\" % (c, accuracy_score(y_val, lr.predict(X_val))))"
   ]
  },
  {
   "cell_type": "markdown",
   "metadata": {
    "heading_collapsed": true,
    "hidden": true
   },
   "source": [
    "#### Best and worst features"
   ]
  },
  {
   "cell_type": "code",
   "execution_count": 11,
   "metadata": {
    "ExecuteTime": {
     "end_time": "2018-10-20T21:35:18.047652Z",
     "start_time": "2018-10-20T21:35:17.534418Z"
    },
    "hidden": true
   },
   "outputs": [
    {
     "name": "stdout",
     "output_type": "stream",
     "text": [
      "('gifford', -1.2377102595086205)\n",
      "('seinfeld', -1.208227717966838)\n",
      "('bout', -1.121596723479545)\n",
      "('bless', -1.1170007079307602)\n",
      "('greatest', -1.0976803765492371)\n",
      "\n",
      "('worst', 2.4448066170437612)\n",
      "('sucks', 2.221116192138116)\n",
      "('stupid', 2.2174777929515206)\n",
      "('fucked', 2.1713174119575873)\n",
      "('fuck', 2.127179056507483)\n"
     ]
    }
   ],
   "source": [
    "feature_to_coef = {word: coef for word, coef in zip(cv.get_feature_names(), lr.coef_[0])}\n",
    "\n",
    "for best_positive in sorted(feature_to_coef.items(), key=lambda x: x[1])[:5]:\n",
    "    print (best_positive)\n",
    "    \n",
    "print()\n",
    "for best_negative in sorted(feature_to_coef.items(), key=lambda x: x[1], reverse=True)[:5]:\n",
    "    print (best_negative)"
   ]
  },
  {
   "cell_type": "markdown",
   "metadata": {},
   "source": [
    "## Learning (pseudo-code)"
   ]
  },
  {
   "cell_type": "code",
   "execution_count": null,
   "metadata": {
    "ExecuteTime": {
     "end_time": "2018-10-20T18:58:24.330024Z",
     "start_time": "2018-10-20T18:58:24.280540Z"
    }
   },
   "outputs": [],
   "source": [
    "# transfer:\n",
    "\n",
    "model.layers.pop()\n",
    "model.layers.pop()\n",
    "for layer in model.layers:\n",
    "    layer.trainable = False\n",
    "Dense(150, 'relu')\n",
    "Dense(64, 'relu')\n",
    "Dense(7, 'softmax')\n",
    "model.compile(optimizer='rmsprop', loss='categorical_crossentropy', metrics=['accuracy'])"
   ]
  },
  {
   "cell_type": "markdown",
   "metadata": {},
   "source": [
    "## Notes\n",
    "* Télécharger 50 millions de tweets pour le word2vec\n",
    "* Metric pour le script du prof: pearson\n",
    "* Utiliser pearson au lieu d'accuracy\n",
    "* L'année dernière le prof a eu 78% accuracy \n",
    "\n",
    "**Output attendu**: produire un fichier avec les mêmes noms de cartégories sur un fichier de test façon kaggle"
   ]
  },
  {
   "cell_type": "code",
   "execution_count": null,
   "metadata": {},
   "outputs": [],
   "source": []
  }
 ],
 "metadata": {
  "kernelspec": {
   "display_name": "Python 3",
   "language": "python",
   "name": "python3"
  },
  "language_info": {
   "codemirror_mode": {
    "name": "ipython",
    "version": 3
   },
   "file_extension": ".py",
   "mimetype": "text/x-python",
   "name": "python",
   "nbconvert_exporter": "python",
   "pygments_lexer": "ipython3",
   "version": "3.6.6"
  }
 },
 "nbformat": 4,
 "nbformat_minor": 2
}
