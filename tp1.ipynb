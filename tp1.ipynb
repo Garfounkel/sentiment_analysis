{
 "cells": [
  {
   "cell_type": "code",
   "execution_count": 1,
   "metadata": {
    "ExecuteTime": {
     "end_time": "2018-10-24T13:30:02.777559Z",
     "start_time": "2018-10-24T13:29:59.996642Z"
    }
   },
   "outputs": [
    {
     "name": "stderr",
     "output_type": "stream",
     "text": [
      "Using TensorFlow backend.\n"
     ]
    }
   ],
   "source": [
    "import tensorflow as tf\n",
    "from keras import backend as K\n",
    "\n",
    "num_cores = 4\n",
    "CPU = True\n",
    "GPU = False\n",
    "\n",
    "if GPU:\n",
    "    num_GPU = 1\n",
    "    num_CPU = 1\n",
    "if CPU:\n",
    "    num_CPU = 1\n",
    "    num_GPU = 0\n",
    "\n",
    "config = tf.ConfigProto(intra_op_parallelism_threads=num_cores,\\\n",
    "        inter_op_parallelism_threads=num_cores, allow_soft_placement=True,\\\n",
    "        device_count = {'CPU' : num_CPU, 'GPU' : num_GPU})\n",
    "session = tf.Session(config=config)\n",
    "K.set_session(session)"
   ]
  },
  {
   "cell_type": "code",
   "execution_count": 2,
   "metadata": {
    "ExecuteTime": {
     "end_time": "2018-10-24T13:30:06.367703Z",
     "start_time": "2018-10-24T13:30:04.936872Z"
    }
   },
   "outputs": [],
   "source": [
    "import numpy as np\n",
    "import pandas as pd\n",
    "from keras.preprocessing.text import *\n",
    "import matplotlib.pyplot as plt\n",
    "from tokenizer import tokenizer as tweet_tokenizer\n",
    "from keras.utils.np_utils import to_categorical\n",
    "from keras.preprocessing.sequence import pad_sequences\n",
    "from keras.preprocessing.text import Tokenizer\n",
    "from keras.layers import *\n",
    "from gensim.models import KeyedVectors\n",
    "from sklearn.model_selection import train_test_split\n",
    "from keras.models import Sequential\n",
    "\n",
    "\n",
    "%matplotlib inline\n",
    "\n",
    "PATH = '/home/epita/sim/sentiment_analysis/data/'\n",
    "\n",
    "train_3 = f'{PATH}/data_train_3.csv'\n",
    "test_3 = f'{PATH}/data_test_3.csv'\n",
    "train_7 = f'{PATH}/data_train_7.csv'\n",
    "train_16m_3 = f'{PATH}/training.1600000.processed.noemoticon.csv'"
   ]
  },
  {
   "cell_type": "markdown",
   "metadata": {},
   "source": [
    "## One hot sample"
   ]
  },
  {
   "cell_type": "code",
   "execution_count": 16,
   "metadata": {
    "ExecuteTime": {
     "end_time": "2018-10-20T19:13:44.756774Z",
     "start_time": "2018-10-20T19:13:44.742287Z"
    }
   },
   "outputs": [
    {
     "name": "stdout",
     "output_type": "stream",
     "text": [
      "8\n",
      "[6, 2, 7, 1, 4, 4, 6, 6, 7]\n"
     ]
    }
   ],
   "source": [
    "text = 'The quick brown fox jumped over the lazy dog.'\n",
    "\n",
    "words = set(text_to_word_sequence(text))\n",
    "vocab_size = len(words)\n",
    "print(vocab_size)\n",
    "\n",
    "result = one_hot(text, round(vocab_size*1.3))\n",
    "print(result)"
   ]
  },
  {
   "cell_type": "markdown",
   "metadata": {},
   "source": [
    "## Tweet Tokenizer sample"
   ]
  },
  {
   "cell_type": "code",
   "execution_count": 60,
   "metadata": {
    "ExecuteTime": {
     "end_time": "2018-10-24T12:46:21.628712Z",
     "start_time": "2018-10-24T12:46:21.609088Z"
    }
   },
   "outputs": [
    {
     "data": {
      "text/plain": [
       "['the', 'quick', 'brown', 'fox', 'jumped', 'over', 'the', 'lazy', 'dog', '.']"
      ]
     },
     "execution_count": 60,
     "metadata": {},
     "output_type": "execute_result"
    }
   ],
   "source": [
    "T = tweet_tokenizer.TweetTokenizer(preserve_case=False, preserve_url=False)\n",
    "\n",
    "text = 'The quick brown fox jumped over the lazy dog.'\n",
    "\n",
    "T.tokenize(text)"
   ]
  },
  {
   "cell_type": "markdown",
   "metadata": {},
   "source": [
    "## Lemmatizer / Stemmer samples"
   ]
  },
  {
   "cell_type": "code",
   "execution_count": 22,
   "metadata": {
    "ExecuteTime": {
     "end_time": "2018-10-20T19:18:52.094815Z",
     "start_time": "2018-10-20T19:18:52.072891Z"
    }
   },
   "outputs": [
    {
     "name": "stdout",
     "output_type": "stream",
     "text": [
      "Stem studying: studi\n",
      "Lemmatise studying: studying\n",
      "Lemmatise studying: study\n"
     ]
    }
   ],
   "source": [
    "from nltk.stem import PorterStemmer, WordNetLemmatizer\n",
    " \n",
    "stemmer = PorterStemmer()\n",
    "lemmatiser = WordNetLemmatizer()\n",
    " \n",
    "print(\"Stem %s: %s\" % (\"studying\", stemmer.stem(\"studying\")))\n",
    "print(\"Lemmatise %s: %s\" % (\"studying\", lemmatiser.lemmatize(\"studying\")))\n",
    "print(\"Lemmatise %s: %s\" % (\"studying\", lemmatiser.lemmatize(\"studying\", pos=\"v\")))"
   ]
  },
  {
   "cell_type": "code",
   "execution_count": 33,
   "metadata": {
    "ExecuteTime": {
     "end_time": "2018-10-20T19:26:23.149301Z",
     "start_time": "2018-10-20T19:26:23.130556Z"
    }
   },
   "outputs": [
    {
     "name": "stdout",
     "output_type": "stream",
     "text": [
      "[('This', 'DT'), ('is', 'VBZ'), ('a', 'DT'), ('simple', 'JJ'), ('sentence', 'NN'), ('that', 'WDT'), ('would', 'MD'), ('be', 'VB'), ('allowing', 'VBG'), ('us', 'PRP'), ('to', 'TO'), ('try', 'VB'), ('lemmatizing', 'VBG')]\n",
      "['This', 'be', 'a', 'simple', 'sentence', 'that', 'would', 'be', 'allow', 'u', 'to', 'try', 'lemmatizing']\n"
     ]
    }
   ],
   "source": [
    "from nltk import pos_tag\n",
    "from nltk.tokenize import word_tokenize\n",
    "from collections import defaultdict\n",
    "from nltk.corpus import wordnet as wn\n",
    "\n",
    "\n",
    "tag_map = defaultdict(lambda: wn.NOUN, {'J': wn.ADJ, 'V': wn.VERB, 'R': wn.ADV})\n",
    "\n",
    "s = \"This is a simple sentence that would be allowing us to try lemmatizing\"\n",
    "\n",
    "tokens = word_tokenize(s)\n",
    "tokens_pos = pos_tag(tokens)\n",
    " \n",
    "print(tokens_pos)\n",
    "\n",
    "\n",
    "lems = [lemmatiser.lemmatize(word, tag_map[pos[0]]) for word, pos in tokens_pos]\n",
    "print(lems)"
   ]
  },
  {
   "cell_type": "markdown",
   "metadata": {},
   "source": [
    "# Serious business"
   ]
  },
  {
   "cell_type": "code",
   "execution_count": 3,
   "metadata": {
    "ExecuteTime": {
     "end_time": "2018-10-24T13:30:11.162755Z",
     "start_time": "2018-10-24T13:30:10.847660Z"
    }
   },
   "outputs": [
    {
     "data": {
      "text/plain": [
       "(50333, 3)"
      ]
     },
     "execution_count": 3,
     "metadata": {},
     "output_type": "execute_result"
    }
   ],
   "source": [
    "tweets = pd.read_csv(train_3, sep='\\t', names=['ID', 'Class', 'Tweet'])\n",
    "\n",
    "tweets.shape"
   ]
  },
  {
   "cell_type": "code",
   "execution_count": 4,
   "metadata": {
    "ExecuteTime": {
     "end_time": "2018-10-24T13:30:11.798091Z",
     "start_time": "2018-10-24T13:30:11.758726Z"
    }
   },
   "outputs": [
    {
     "data": {
      "text/html": [
       "<div>\n",
       "<style scoped>\n",
       "    .dataframe tbody tr th:only-of-type {\n",
       "        vertical-align: middle;\n",
       "    }\n",
       "\n",
       "    .dataframe tbody tr th {\n",
       "        vertical-align: top;\n",
       "    }\n",
       "\n",
       "    .dataframe thead th {\n",
       "        text-align: right;\n",
       "    }\n",
       "</style>\n",
       "<table border=\"1\" class=\"dataframe\">\n",
       "  <thead>\n",
       "    <tr style=\"text-align: right;\">\n",
       "      <th></th>\n",
       "      <th>ID</th>\n",
       "      <th>Class</th>\n",
       "      <th>Tweet</th>\n",
       "    </tr>\n",
       "  </thead>\n",
       "  <tbody>\n",
       "    <tr>\n",
       "      <th>12085</th>\n",
       "      <td>229397284352299009</td>\n",
       "      <td>positive</td>\n",
       "      <td>Miss WV Teen USA 1ST runner up at Miss Teen US...</td>\n",
       "    </tr>\n",
       "    <tr>\n",
       "      <th>2106</th>\n",
       "      <td>264191178113708034</td>\n",
       "      <td>neutral</td>\n",
       "      <td>@ImmortalTech Dublin this Saturday... Gotta ge...</td>\n",
       "    </tr>\n",
       "    <tr>\n",
       "      <th>3731</th>\n",
       "      <td>263149282939527168</td>\n",
       "      <td>neutral</td>\n",
       "      <td>If you\\u2019re calling this little thing right...</td>\n",
       "    </tr>\n",
       "    <tr>\n",
       "      <th>1827</th>\n",
       "      <td>263740861031010304</td>\n",
       "      <td>neutral</td>\n",
       "      <td>HT: Norwich 0-0 #Spurs. We\\u2019ve edged the 1...</td>\n",
       "    </tr>\n",
       "    <tr>\n",
       "      <th>45312</th>\n",
       "      <td>638491743185297408</td>\n",
       "      <td>negative</td>\n",
       "      <td>OMG A Trump supporter on #CNN just suggested t...</td>\n",
       "    </tr>\n",
       "  </tbody>\n",
       "</table>\n",
       "</div>"
      ],
      "text/plain": [
       "                       ID     Class  \\\n",
       "12085  229397284352299009  positive   \n",
       "2106   264191178113708034   neutral   \n",
       "3731   263149282939527168   neutral   \n",
       "1827   263740861031010304   neutral   \n",
       "45312  638491743185297408  negative   \n",
       "\n",
       "                                                   Tweet  \n",
       "12085  Miss WV Teen USA 1ST runner up at Miss Teen US...  \n",
       "2106   @ImmortalTech Dublin this Saturday... Gotta ge...  \n",
       "3731   If you\\u2019re calling this little thing right...  \n",
       "1827   HT: Norwich 0-0 #Spurs. We\\u2019ve edged the 1...  \n",
       "45312  OMG A Trump supporter on #CNN just suggested t...  "
      ]
     },
     "execution_count": 4,
     "metadata": {},
     "output_type": "execute_result"
    }
   ],
   "source": [
    "tweets.sample(5)"
   ]
  },
  {
   "cell_type": "code",
   "execution_count": 8,
   "metadata": {
    "ExecuteTime": {
     "end_time": "2018-10-24T13:32:17.643962Z",
     "start_time": "2018-10-24T13:30:36.312056Z"
    }
   },
   "outputs": [],
   "source": [
    "from TP_transfer_learning_2018 import *\n",
    "from TP_transfer_learning_2018.preprocessing import standardization\n",
    "\n",
    "\n",
    "tweets['Sentiment'] = tweets['Class'].apply(lambda x: {'negative': 0, 'neutral': 1, 'positive': 2}[x])\n",
    "tweets['Tweet'] = tweets['Tweet'].apply(lambda x: standardization(x))"
   ]
  },
  {
   "cell_type": "code",
   "execution_count": 9,
   "metadata": {
    "ExecuteTime": {
     "end_time": "2018-10-24T13:32:17.696726Z",
     "start_time": "2018-10-24T13:32:17.655795Z"
    }
   },
   "outputs": [
    {
     "data": {
      "text/html": [
       "<div>\n",
       "<style scoped>\n",
       "    .dataframe tbody tr th:only-of-type {\n",
       "        vertical-align: middle;\n",
       "    }\n",
       "\n",
       "    .dataframe tbody tr th {\n",
       "        vertical-align: top;\n",
       "    }\n",
       "\n",
       "    .dataframe thead th {\n",
       "        text-align: right;\n",
       "    }\n",
       "</style>\n",
       "<table border=\"1\" class=\"dataframe\">\n",
       "  <thead>\n",
       "    <tr style=\"text-align: right;\">\n",
       "      <th></th>\n",
       "      <th>ID</th>\n",
       "      <th>Class</th>\n",
       "      <th>Tweet</th>\n",
       "      <th>Sentiment</th>\n",
       "    </tr>\n",
       "  </thead>\n",
       "  <tbody>\n",
       "    <tr>\n",
       "      <th>358</th>\n",
       "      <td>263251461268451331</td>\n",
       "      <td>neutral</td>\n",
       "      <td>wiki say 3rd marriage rt hahaha try understand...</td>\n",
       "      <td>1</td>\n",
       "    </tr>\n",
       "    <tr>\n",
       "      <th>29187</th>\n",
       "      <td>636697580571918336</td>\n",
       "      <td>neutral</td>\n",
       "      <td>t2 1o white sox challenge play 1st call field ...</td>\n",
       "      <td>1</td>\n",
       "    </tr>\n",
       "    <tr>\n",
       "      <th>48836</th>\n",
       "      <td>261600914807324673</td>\n",
       "      <td>positive</td>\n",
       "      <td>calle softy happy thursday bikers actually mak...</td>\n",
       "      <td>2</td>\n",
       "    </tr>\n",
       "    <tr>\n",
       "      <th>18517</th>\n",
       "      <td>638215956557271040</td>\n",
       "      <td>neutral</td>\n",
       "      <td>think might walk t-mobile get phone tomorrow d...</td>\n",
       "      <td>1</td>\n",
       "    </tr>\n",
       "    <tr>\n",
       "      <th>42167</th>\n",
       "      <td>641335091088728064</td>\n",
       "      <td>neutral</td>\n",
       "      <td>go bernie sander rally woodruff park 17th</td>\n",
       "      <td>1</td>\n",
       "    </tr>\n",
       "  </tbody>\n",
       "</table>\n",
       "</div>"
      ],
      "text/plain": [
       "                       ID     Class  \\\n",
       "358    263251461268451331   neutral   \n",
       "29187  636697580571918336   neutral   \n",
       "48836  261600914807324673  positive   \n",
       "18517  638215956557271040   neutral   \n",
       "42167  641335091088728064   neutral   \n",
       "\n",
       "                                                   Tweet  Sentiment  \n",
       "358    wiki say 3rd marriage rt hahaha try understand...          1  \n",
       "29187  t2 1o white sox challenge play 1st call field ...          1  \n",
       "48836  calle softy happy thursday bikers actually mak...          2  \n",
       "18517  think might walk t-mobile get phone tomorrow d...          1  \n",
       "42167          go bernie sander rally woodruff park 17th          1  "
      ]
     },
     "metadata": {},
     "output_type": "display_data"
    },
    {
     "data": {
      "text/plain": [
       "'hey friend dst end sunday 11/4 give heads-up set clock back 1hr bed saturday evening ☺ ️'"
      ]
     },
     "execution_count": 9,
     "metadata": {},
     "output_type": "execute_result"
    }
   ],
   "source": [
    "display(tweets.sample(5))\n",
    "tweets.sample(5)['Tweet'].iloc[0]"
   ]
  },
  {
   "cell_type": "code",
   "execution_count": 10,
   "metadata": {
    "ExecuteTime": {
     "end_time": "2018-10-24T13:32:18.802746Z",
     "start_time": "2018-10-24T13:32:17.700336Z"
    }
   },
   "outputs": [],
   "source": [
    "train_tweets, sentiments = tweets['Tweet'], tweets['Sentiment']\n",
    "\n",
    "all_tweets = train_tweets # + test_tweets\n",
    "tokenizer = Tokenizer(filters=' ')\n",
    "tokenizer.fit_on_texts(all_tweets)\n",
    "word_index = tokenizer.word_index"
   ]
  },
  {
   "cell_type": "code",
   "execution_count": 11,
   "metadata": {
    "ExecuteTime": {
     "end_time": "2018-10-24T13:32:20.096247Z",
     "start_time": "2018-10-24T13:32:18.807080Z"
    }
   },
   "outputs": [
    {
     "data": {
      "text/plain": [
       "32"
      ]
     },
     "execution_count": 11,
     "metadata": {},
     "output_type": "execute_result"
    }
   ],
   "source": [
    "train_sequences = tokenizer.texts_to_sequences(train_tweets)\n",
    "\n",
    "sequences = train_sequences # + test_sequences\n",
    "MAX_SEQUENCE_LENGTH = 0\n",
    "for elt in sequences:\n",
    "    if len(elt) > MAX_SEQUENCE_LENGTH:\n",
    "        MAX_SEQUENCE_LENGTH = len(elt)\n",
    "\n",
    "MAX_SEQUENCE_LENGTH"
   ]
  },
  {
   "cell_type": "code",
   "execution_count": 12,
   "metadata": {
    "ExecuteTime": {
     "end_time": "2018-10-24T13:32:20.588397Z",
     "start_time": "2018-10-24T13:32:20.100618Z"
    }
   },
   "outputs": [
    {
     "data": {
      "text/plain": [
       "(50333, 32)"
      ]
     },
     "execution_count": 12,
     "metadata": {},
     "output_type": "execute_result"
    }
   ],
   "source": [
    "train_sequences = pad_sequences(train_sequences, MAX_SEQUENCE_LENGTH)\n",
    "train_sequences.shape"
   ]
  },
  {
   "cell_type": "code",
   "execution_count": 13,
   "metadata": {
    "ExecuteTime": {
     "end_time": "2018-10-24T13:34:06.921270Z",
     "start_time": "2018-10-24T13:32:20.591643Z"
    }
   },
   "outputs": [],
   "source": [
    "googlenews_w2v = KeyedVectors.load_word2vec_format('data/embeddings/GoogleNews-vectors-negative300.bin', binary=True)"
   ]
  },
  {
   "cell_type": "code",
   "execution_count": 14,
   "metadata": {
    "ExecuteTime": {
     "end_time": "2018-10-24T13:34:07.691023Z",
     "start_time": "2018-10-24T13:34:06.930839Z"
    }
   },
   "outputs": [
    {
     "name": "stdout",
     "output_type": "stream",
     "text": [
      "(1, 300)\n",
      "(36968, 300)\n"
     ]
    }
   ],
   "source": [
    "targets = to_categorical(sentiments, 3)\n",
    "nb_words = len(word_index) + 1\n",
    "\n",
    "EMBEDDING_DIM = 300\n",
    "embedding_matrix = np.zeros((nb_words, EMBEDDING_DIM))\n",
    "\n",
    "oov = []  # Out of vocabulary\n",
    "oov.append((np.random.rand(EMBEDDING_DIM) * 2.0) - 1.0)\n",
    "oov = oov / np.linalg.norm(oov)\n",
    "\n",
    "print(oov.shape)\n",
    "\n",
    "for word, i in word_index.items():\n",
    "    if word in googlenews_w2v.vocab:\n",
    "        embedding_matrix[i] = googlenews_w2v.word_vec(word)\n",
    "    else:\n",
    "        embedding_matrix[i] = oov\n",
    "        \n",
    "print(embedding_matrix.shape)"
   ]
  },
  {
   "cell_type": "code",
   "execution_count": 15,
   "metadata": {
    "ExecuteTime": {
     "end_time": "2018-10-24T13:34:07.721852Z",
     "start_time": "2018-10-24T13:34:07.693942Z"
    }
   },
   "outputs": [
    {
     "name": "stdout",
     "output_type": "stream",
     "text": [
      "training set: 35233 samples\n",
      "validation set: 15100 samples\n",
      "x_train: (35233, 32)\n",
      "y_train: (35233, 3)\n"
     ]
    }
   ],
   "source": [
    "X_train, X_val, y_train, y_val = train_test_split(train_sequences, targets, test_size=0.3)\n",
    "\n",
    "print('training set: ' + str(len(X_train)) + ' samples')\n",
    "print('validation set: ' + str(len(X_val)) + ' samples')\n",
    "\n",
    "print('x_train:', X_train.shape)\n",
    "print('y_train:', y_train.shape)"
   ]
  },
  {
   "cell_type": "code",
   "execution_count": 16,
   "metadata": {
    "ExecuteTime": {
     "end_time": "2018-10-24T13:34:08.678189Z",
     "start_time": "2018-10-24T13:34:07.724593Z"
    }
   },
   "outputs": [
    {
     "name": "stdout",
     "output_type": "stream",
     "text": [
      "_________________________________________________________________\n",
      "Layer (type)                 Output Shape              Param #   \n",
      "=================================================================\n",
      "embedding_layer (Embedding)  (None, 32, 300)           11090400  \n",
      "_________________________________________________________________\n",
      "lstm_1 (LSTM)                (None, 32)                42624     \n",
      "_________________________________________________________________\n",
      "dropout_1 (Dropout)          (None, 32)                0         \n",
      "_________________________________________________________________\n",
      "dense_1 (Dense)              (None, 32)                1056      \n",
      "_________________________________________________________________\n",
      "dropout_2 (Dropout)          (None, 32)                0         \n",
      "_________________________________________________________________\n",
      "dense_2 (Dense)              (None, 3)                 99        \n",
      "=================================================================\n",
      "Total params: 11,134,179\n",
      "Trainable params: 43,779\n",
      "Non-trainable params: 11,090,400\n",
      "_________________________________________________________________\n"
     ]
    }
   ],
   "source": [
    "model = Sequential()\n",
    "model.add(Embedding(len(word_index) + 1, EMBEDDING_DIM, weights=[embedding_matrix], \n",
    "                    input_length=MAX_SEQUENCE_LENGTH, trainable=False, name='embedding_layer'))\n",
    "model.add(LSTM(32))\n",
    "model.add(Dropout(0.2))\n",
    "model.add(Dense(32, activation='relu'))\n",
    "model.add(Dropout(0.2))\n",
    "model.add(Dense(3, activation='softmax'))\n",
    "\n",
    "model.compile(loss='categorical_crossentropy', optimizer='Adam', metrics=['acc'])\n",
    "          \n",
    "model.summary()"
   ]
  },
  {
   "cell_type": "code",
   "execution_count": 17,
   "metadata": {
    "ExecuteTime": {
     "end_time": "2018-10-24T13:36:59.060866Z",
     "start_time": "2018-10-24T13:34:08.681385Z"
    },
    "scrolled": true
   },
   "outputs": [
    {
     "name": "stdout",
     "output_type": "stream",
     "text": [
      "Train on 35233 samples, validate on 15100 samples\n",
      "Epoch 1/6\n",
      "35233/35233 [==============================] - 30s 850us/step - loss: 0.8548 - acc: 0.5881 - val_loss: 0.7707 - val_acc: 0.6379\n",
      "Epoch 2/6\n",
      "35233/35233 [==============================] - 28s 787us/step - loss: 0.7788 - acc: 0.6363 - val_loss: 0.7629 - val_acc: 0.6414\n",
      "Epoch 3/6\n",
      "35233/35233 [==============================] - 29s 811us/step - loss: 0.7573 - acc: 0.6469 - val_loss: 0.7476 - val_acc: 0.6539\n",
      "Epoch 4/6\n",
      "35233/35233 [==============================] - 27s 774us/step - loss: 0.7400 - acc: 0.6583 - val_loss: 0.7455 - val_acc: 0.6517\n",
      "Epoch 5/6\n",
      "35233/35233 [==============================] - 28s 794us/step - loss: 0.7242 - acc: 0.6685 - val_loss: 0.7386 - val_acc: 0.6574\n",
      "Epoch 6/6\n",
      "35233/35233 [==============================] - 27s 775us/step - loss: 0.7070 - acc: 0.6742 - val_loss: 0.7445 - val_acc: 0.6543\n"
     ]
    },
    {
     "data": {
      "text/plain": [
       "<keras.callbacks.History at 0x7f51ccc4ab00>"
      ]
     },
     "execution_count": 17,
     "metadata": {},
     "output_type": "execute_result"
    }
   ],
   "source": [
    "model.fit(X_train, y_train, batch_size=50, validation_data=(X_val, y_val), epochs=6)"
   ]
  },
  {
   "cell_type": "code",
   "execution_count": 18,
   "metadata": {
    "ExecuteTime": {
     "end_time": "2018-10-24T13:43:11.962545Z",
     "start_time": "2018-10-24T13:40:24.085877Z"
    },
    "scrolled": true
   },
   "outputs": [
    {
     "name": "stdout",
     "output_type": "stream",
     "text": [
      "Train on 35233 samples, validate on 15100 samples\n",
      "Epoch 1/6\n",
      "35233/35233 [==============================] - 28s 787us/step - loss: 0.6919 - acc: 0.6831 - val_loss: 0.7295 - val_acc: 0.6653\n",
      "Epoch 2/6\n",
      "35233/35233 [==============================] - 28s 783us/step - loss: 0.6771 - acc: 0.6871 - val_loss: 0.7343 - val_acc: 0.6648\n",
      "Epoch 3/6\n",
      "35233/35233 [==============================] - 27s 776us/step - loss: 0.6603 - acc: 0.6951 - val_loss: 0.7375 - val_acc: 0.6589\n",
      "Epoch 4/6\n",
      "35233/35233 [==============================] - 28s 809us/step - loss: 0.6447 - acc: 0.7056 - val_loss: 0.7501 - val_acc: 0.6669\n",
      "Epoch 5/6\n",
      "35233/35233 [==============================] - 28s 796us/step - loss: 0.6273 - acc: 0.7130 - val_loss: 0.7436 - val_acc: 0.6632\n",
      "Epoch 6/6\n",
      "35233/35233 [==============================] - 29s 814us/step - loss: 0.6137 - acc: 0.7187 - val_loss: 0.7566 - val_acc: 0.6655\n"
     ]
    },
    {
     "data": {
      "text/plain": [
       "<keras.callbacks.History at 0x7f52fcc82518>"
      ]
     },
     "execution_count": 18,
     "metadata": {},
     "output_type": "execute_result"
    }
   ],
   "source": [
    "model.fit(X_train, y_train, batch_size=50, validation_data=(X_val, y_val), epochs=6)"
   ]
  },
  {
   "cell_type": "markdown",
   "metadata": {
    "heading_collapsed": true
   },
   "source": [
    "### Logistic Regression"
   ]
  },
  {
   "cell_type": "code",
   "execution_count": 6,
   "metadata": {
    "ExecuteTime": {
     "end_time": "2018-10-20T21:33:38.790775Z",
     "start_time": "2018-10-20T21:33:37.153969Z"
    },
    "hidden": true
   },
   "outputs": [],
   "source": [
    "from sklearn.feature_extraction.text import CountVectorizer\n",
    "\n",
    "cv = CountVectorizer(binary=True)\n",
    "\n",
    "X = cv.fit_transform(tweets['Tweet'])\n",
    "target = tweets['Sentiment']"
   ]
  },
  {
   "cell_type": "code",
   "execution_count": 7,
   "metadata": {
    "ExecuteTime": {
     "end_time": "2018-10-20T21:33:54.361787Z",
     "start_time": "2018-10-20T21:33:38.793650Z"
    },
    "hidden": true
   },
   "outputs": [
    {
     "name": "stdout",
     "output_type": "stream",
     "text": [
      "Accuracy for C=0.01: 0.6240464081373173\n",
      "Accuracy for C=0.05: 0.6523363000635728\n",
      "Accuracy for C=0.25: 0.6594882390336936\n",
      "Accuracy for C=0.5: 0.6562301335028607\n",
      "Accuracy for C=1: 0.6511443102352193\n"
     ]
    }
   ],
   "source": [
    "from sklearn.linear_model import LogisticRegression\n",
    "from sklearn.metrics import accuracy_score\n",
    "from sklearn.model_selection import train_test_split\n",
    "\n",
    "\n",
    "X_train, X_val, y_train, y_val = train_test_split(X, target)\n",
    "\n",
    "for c in [0.01, 0.05, 0.25, 0.5, 1]:\n",
    "    lr = LogisticRegression(C=c, solver='saga', multi_class='auto')\n",
    "    lr.fit(X_train, y_train)\n",
    "    print (\"Accuracy for C=%s: %s\" % (c, accuracy_score(y_val, lr.predict(X_val))))"
   ]
  },
  {
   "cell_type": "markdown",
   "metadata": {
    "heading_collapsed": true,
    "hidden": true
   },
   "source": [
    "#### Best and worst features"
   ]
  },
  {
   "cell_type": "code",
   "execution_count": 11,
   "metadata": {
    "ExecuteTime": {
     "end_time": "2018-10-20T21:35:18.047652Z",
     "start_time": "2018-10-20T21:35:17.534418Z"
    },
    "hidden": true
   },
   "outputs": [
    {
     "name": "stdout",
     "output_type": "stream",
     "text": [
      "('gifford', -1.2377102595086205)\n",
      "('seinfeld', -1.208227717966838)\n",
      "('bout', -1.121596723479545)\n",
      "('bless', -1.1170007079307602)\n",
      "('greatest', -1.0976803765492371)\n",
      "\n",
      "('worst', 2.4448066170437612)\n",
      "('sucks', 2.221116192138116)\n",
      "('stupid', 2.2174777929515206)\n",
      "('fucked', 2.1713174119575873)\n",
      "('fuck', 2.127179056507483)\n"
     ]
    }
   ],
   "source": [
    "feature_to_coef = {word: coef for word, coef in zip(cv.get_feature_names(), lr.coef_[0])}\n",
    "\n",
    "for best_positive in sorted(feature_to_coef.items(), key=lambda x: x[1])[:5]:\n",
    "    print (best_positive)\n",
    "    \n",
    "print()\n",
    "for best_negative in sorted(feature_to_coef.items(), key=lambda x: x[1], reverse=True)[:5]:\n",
    "    print (best_negative)"
   ]
  },
  {
   "cell_type": "markdown",
   "metadata": {},
   "source": [
    "## Learning (pseudo-code)"
   ]
  },
  {
   "cell_type": "code",
   "execution_count": null,
   "metadata": {
    "ExecuteTime": {
     "end_time": "2018-10-20T18:58:26.973787Z",
     "start_time": "2018-10-20T18:58:26.966674Z"
    }
   },
   "outputs": [],
   "source": [
    "Sequential()\n",
    "Embedding(len(word_index) + 1, EMBEDDING_DIM, weights=[embedding_matrix], input_length=MAX_SEQUENCE_LENGTH, trainable=False)\n",
    "LSTM(32)\n",
    "Dropout(0.2)\n",
    "Dense(32, 'relu')\n",
    "Dropout(0.2)\n",
    "Dense(3, activation='softmax')\n",
    "\n",
    "model.compile(loss='categorical_crossentropy', optimizer='Adam', metrics=['acc'])\n",
    "\n",
    "model.fit(...)"
   ]
  },
  {
   "cell_type": "code",
   "execution_count": null,
   "metadata": {
    "ExecuteTime": {
     "end_time": "2018-10-20T18:58:24.330024Z",
     "start_time": "2018-10-20T18:58:24.280540Z"
    }
   },
   "outputs": [],
   "source": [
    "# transfer:\n",
    "\n",
    "model.layers.pop()\n",
    "model.layers.pop()\n",
    "Dense(150, 'relu')\n",
    "Dense(64, 'relu')\n",
    "Dense(7, 'softmax')\n",
    "model.compile(optimizer='rmsprop', loss='categorical_crossentropy', metrics=['accuracy'])"
   ]
  },
  {
   "cell_type": "markdown",
   "metadata": {},
   "source": [
    "## Notes\n",
    "* Télécharger 50 millions de tweets pour le word2vec\n",
    "* Metric pour le script du prof: pearson\n",
    "* Utiliser pearson au lieu d'accuracy\n",
    "* L'année dernière le prof a eu 78% accuracy \n",
    "\n",
    "**Output attendu**: produire un fichier avec les mêmes noms de cartégories sur un fichier de test façon kaggle"
   ]
  },
  {
   "cell_type": "code",
   "execution_count": null,
   "metadata": {},
   "outputs": [],
   "source": []
  }
 ],
 "metadata": {
  "kernelspec": {
   "display_name": "Python 3",
   "language": "python",
   "name": "python3"
  },
  "language_info": {
   "codemirror_mode": {
    "name": "ipython",
    "version": 3
   },
   "file_extension": ".py",
   "mimetype": "text/x-python",
   "name": "python",
   "nbconvert_exporter": "python",
   "pygments_lexer": "ipython3",
   "version": "3.6.6"
  }
 },
 "nbformat": 4,
 "nbformat_minor": 2
}
