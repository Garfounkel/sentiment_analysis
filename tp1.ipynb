{
 "cells": [
  {
   "cell_type": "code",
   "execution_count": 1,
   "metadata": {
    "ExecuteTime": {
     "end_time": "2018-10-20T21:33:31.799620Z",
     "start_time": "2018-10-20T21:33:28.401763Z"
    }
   },
   "outputs": [
    {
     "name": "stderr",
     "output_type": "stream",
     "text": [
      "Using TensorFlow backend.\n"
     ]
    }
   ],
   "source": [
    "import numpy as np\n",
    "import pandas as pd\n",
    "from keras.preprocessing.text import *\n",
    "import matplotlib.pyplot as plt\n",
    "from tokenizer import tokenizer\n",
    "\n",
    "%matplotlib inline\n",
    "\n",
    "PATH = '/home/epita/sim/sentiment_analysis/data/'\n",
    "\n",
    "train_3 = f'{PATH}/data_train_3.csv'\n",
    "test_3 = f'{PATH}/data_test_3.csv'\n",
    "train_7 = f'{PATH}/data_train_7.csv'\n",
    "train_16m_3 = f'{PATH}/training.1600000.processed.noemoticon.csv'"
   ]
  },
  {
   "cell_type": "markdown",
   "metadata": {},
   "source": [
    "## One hot sample"
   ]
  },
  {
   "cell_type": "code",
   "execution_count": 16,
   "metadata": {
    "ExecuteTime": {
     "end_time": "2018-10-20T19:13:44.756774Z",
     "start_time": "2018-10-20T19:13:44.742287Z"
    }
   },
   "outputs": [
    {
     "name": "stdout",
     "output_type": "stream",
     "text": [
      "8\n",
      "[6, 2, 7, 1, 4, 4, 6, 6, 7]\n"
     ]
    }
   ],
   "source": [
    "text = 'The quick brown fox jumped over the lazy dog.'\n",
    "\n",
    "words = set(text_to_word_sequence(text))\n",
    "vocab_size = len(words)\n",
    "print(vocab_size)\n",
    "\n",
    "result = one_hot(text, round(vocab_size*1.3))\n",
    "print(result)"
   ]
  },
  {
   "cell_type": "markdown",
   "metadata": {},
   "source": [
    "## Tweet Tokenizer sample"
   ]
  },
  {
   "cell_type": "code",
   "execution_count": 17,
   "metadata": {
    "ExecuteTime": {
     "end_time": "2018-10-20T19:13:45.589863Z",
     "start_time": "2018-10-20T19:13:45.582243Z"
    }
   },
   "outputs": [
    {
     "data": {
      "text/plain": [
       "['the', 'quick', 'brown', 'fox', 'jumped', 'over', 'the', 'lazy', 'dog', '.']"
      ]
     },
     "execution_count": 17,
     "metadata": {},
     "output_type": "execute_result"
    }
   ],
   "source": [
    "T = tokenizer.TweetTokenizer(preserve_case=False, preserve_url=False)\n",
    "\n",
    "T.tokenize(text)"
   ]
  },
  {
   "cell_type": "markdown",
   "metadata": {},
   "source": [
    "## Lemmatizer / Stemmer samples"
   ]
  },
  {
   "cell_type": "code",
   "execution_count": 22,
   "metadata": {
    "ExecuteTime": {
     "end_time": "2018-10-20T19:18:52.094815Z",
     "start_time": "2018-10-20T19:18:52.072891Z"
    }
   },
   "outputs": [
    {
     "name": "stdout",
     "output_type": "stream",
     "text": [
      "Stem studying: studi\n",
      "Lemmatise studying: studying\n",
      "Lemmatise studying: study\n"
     ]
    }
   ],
   "source": [
    "from nltk.stem import PorterStemmer, WordNetLemmatizer\n",
    " \n",
    "stemmer = PorterStemmer()\n",
    "lemmatiser = WordNetLemmatizer()\n",
    " \n",
    "print(\"Stem %s: %s\" % (\"studying\", stemmer.stem(\"studying\")))\n",
    "print(\"Lemmatise %s: %s\" % (\"studying\", lemmatiser.lemmatize(\"studying\")))\n",
    "print(\"Lemmatise %s: %s\" % (\"studying\", lemmatiser.lemmatize(\"studying\", pos=\"v\")))"
   ]
  },
  {
   "cell_type": "code",
   "execution_count": 33,
   "metadata": {
    "ExecuteTime": {
     "end_time": "2018-10-20T19:26:23.149301Z",
     "start_time": "2018-10-20T19:26:23.130556Z"
    }
   },
   "outputs": [
    {
     "name": "stdout",
     "output_type": "stream",
     "text": [
      "[('This', 'DT'), ('is', 'VBZ'), ('a', 'DT'), ('simple', 'JJ'), ('sentence', 'NN'), ('that', 'WDT'), ('would', 'MD'), ('be', 'VB'), ('allowing', 'VBG'), ('us', 'PRP'), ('to', 'TO'), ('try', 'VB'), ('lemmatizing', 'VBG')]\n",
      "['This', 'be', 'a', 'simple', 'sentence', 'that', 'would', 'be', 'allow', 'u', 'to', 'try', 'lemmatizing']\n"
     ]
    }
   ],
   "source": [
    "from nltk import pos_tag\n",
    "from nltk.tokenize import word_tokenize\n",
    "from collections import defaultdict\n",
    "from nltk.corpus import wordnet as wn\n",
    "\n",
    "\n",
    "tag_map = defaultdict(lambda: wn.NOUN, {'J': wn.ADJ, 'V': wn.VERB, 'R': wn.ADV})\n",
    "\n",
    "s = \"This is a simple sentence that would be allowing us to try lemmatizing\"\n",
    "\n",
    "tokens = word_tokenize(s)\n",
    "tokens_pos = pos_tag(tokens)\n",
    " \n",
    "print(tokens_pos)\n",
    "\n",
    "\n",
    "lems = [lemmatiser.lemmatize(word, tag_map[pos[0]]) for word, pos in tokens_pos]\n",
    "print(lems)"
   ]
  },
  {
   "cell_type": "markdown",
   "metadata": {},
   "source": [
    "# Serious business"
   ]
  },
  {
   "cell_type": "code",
   "execution_count": 2,
   "metadata": {
    "ExecuteTime": {
     "end_time": "2018-10-20T21:33:33.621563Z",
     "start_time": "2018-10-20T21:33:33.431277Z"
    }
   },
   "outputs": [
    {
     "data": {
      "text/plain": [
       "(50333, 3)"
      ]
     },
     "execution_count": 2,
     "metadata": {},
     "output_type": "execute_result"
    }
   ],
   "source": [
    "tweets = pd.read_csv(train_3, sep='\\t', names=['ID', 'Sentiment', 'Tweet'])\n",
    "\n",
    "tweets.shape"
   ]
  },
  {
   "cell_type": "code",
   "execution_count": 3,
   "metadata": {
    "ExecuteTime": {
     "end_time": "2018-10-20T21:33:33.897599Z",
     "start_time": "2018-10-20T21:33:33.867688Z"
    }
   },
   "outputs": [
    {
     "data": {
      "text/html": [
       "<div>\n",
       "<style scoped>\n",
       "    .dataframe tbody tr th:only-of-type {\n",
       "        vertical-align: middle;\n",
       "    }\n",
       "\n",
       "    .dataframe tbody tr th {\n",
       "        vertical-align: top;\n",
       "    }\n",
       "\n",
       "    .dataframe thead th {\n",
       "        text-align: right;\n",
       "    }\n",
       "</style>\n",
       "<table border=\"1\" class=\"dataframe\">\n",
       "  <thead>\n",
       "    <tr style=\"text-align: right;\">\n",
       "      <th></th>\n",
       "      <th>ID</th>\n",
       "      <th>Sentiment</th>\n",
       "      <th>Tweet</th>\n",
       "    </tr>\n",
       "  </thead>\n",
       "  <tbody>\n",
       "    <tr>\n",
       "      <th>2319</th>\n",
       "      <td>256539059999109121</td>\n",
       "      <td>negative</td>\n",
       "      <td>Buffalo Bills\\u2019 Kyle Williams Misses Pract...</td>\n",
       "    </tr>\n",
       "    <tr>\n",
       "      <th>42105</th>\n",
       "      <td>639979942617436160</td>\n",
       "      <td>positive</td>\n",
       "      <td>@bowiescheekbone I just wrote a prayer to Bern...</td>\n",
       "    </tr>\n",
       "    <tr>\n",
       "      <th>35144</th>\n",
       "      <td>641038093928263680</td>\n",
       "      <td>neutral</td>\n",
       "      <td>With an ace, Murray takes the 3rd set 7-6(2)  ...</td>\n",
       "    </tr>\n",
       "    <tr>\n",
       "      <th>3425</th>\n",
       "      <td>255108367037636611</td>\n",
       "      <td>neutral</td>\n",
       "      <td>@KolaptimusPrime He bet me 5 bucks the Lions w...</td>\n",
       "    </tr>\n",
       "    <tr>\n",
       "      <th>38821</th>\n",
       "      <td>676631249188839424</td>\n",
       "      <td>positive</td>\n",
       "      <td>Kendrick is reinventing the rap industry, he m...</td>\n",
       "    </tr>\n",
       "  </tbody>\n",
       "</table>\n",
       "</div>"
      ],
      "text/plain": [
       "                       ID Sentiment  \\\n",
       "2319   256539059999109121  negative   \n",
       "42105  639979942617436160  positive   \n",
       "35144  641038093928263680   neutral   \n",
       "3425   255108367037636611   neutral   \n",
       "38821  676631249188839424  positive   \n",
       "\n",
       "                                                   Tweet  \n",
       "2319   Buffalo Bills\\u2019 Kyle Williams Misses Pract...  \n",
       "42105  @bowiescheekbone I just wrote a prayer to Bern...  \n",
       "35144  With an ace, Murray takes the 3rd set 7-6(2)  ...  \n",
       "3425   @KolaptimusPrime He bet me 5 bucks the Lions w...  \n",
       "38821  Kendrick is reinventing the rap industry, he m...  "
      ]
     },
     "execution_count": 3,
     "metadata": {},
     "output_type": "execute_result"
    }
   ],
   "source": [
    "tweets.sample(5)"
   ]
  },
  {
   "cell_type": "code",
   "execution_count": 4,
   "metadata": {
    "ExecuteTime": {
     "end_time": "2018-10-20T21:33:34.372942Z",
     "start_time": "2018-10-20T21:33:34.307577Z"
    }
   },
   "outputs": [],
   "source": [
    "tweets['Sentiment'] = tweets['Sentiment'].apply(lambda x: {'negative': -1, 'neutral': 0, 'positive': 1}[x])"
   ]
  },
  {
   "cell_type": "code",
   "execution_count": 5,
   "metadata": {
    "ExecuteTime": {
     "end_time": "2018-10-20T21:33:34.874274Z",
     "start_time": "2018-10-20T21:33:34.844855Z"
    }
   },
   "outputs": [
    {
     "data": {
      "text/html": [
       "<div>\n",
       "<style scoped>\n",
       "    .dataframe tbody tr th:only-of-type {\n",
       "        vertical-align: middle;\n",
       "    }\n",
       "\n",
       "    .dataframe tbody tr th {\n",
       "        vertical-align: top;\n",
       "    }\n",
       "\n",
       "    .dataframe thead th {\n",
       "        text-align: right;\n",
       "    }\n",
       "</style>\n",
       "<table border=\"1\" class=\"dataframe\">\n",
       "  <thead>\n",
       "    <tr style=\"text-align: right;\">\n",
       "      <th></th>\n",
       "      <th>ID</th>\n",
       "      <th>Sentiment</th>\n",
       "      <th>Tweet</th>\n",
       "    </tr>\n",
       "  </thead>\n",
       "  <tbody>\n",
       "    <tr>\n",
       "      <th>35</th>\n",
       "      <td>264224174153818113</td>\n",
       "      <td>0</td>\n",
       "      <td>I may exit off twitter and fb  and thug with i...</td>\n",
       "    </tr>\n",
       "    <tr>\n",
       "      <th>42654</th>\n",
       "      <td>641278049208569856</td>\n",
       "      <td>1</td>\n",
       "      <td>Selling 1 ticket to Chris Brown this Thursday ...</td>\n",
       "    </tr>\n",
       "    <tr>\n",
       "      <th>38515</th>\n",
       "      <td>675816742258475008</td>\n",
       "      <td>0</td>\n",
       "      <td>Glamorous dinner options: clam chowder or a ch...</td>\n",
       "    </tr>\n",
       "    <tr>\n",
       "      <th>45850</th>\n",
       "      <td>638291604537630720</td>\n",
       "      <td>0</td>\n",
       "      <td>Chelsea and Juventus in Pogba Talks: Now with ...</td>\n",
       "    </tr>\n",
       "    <tr>\n",
       "      <th>10192</th>\n",
       "      <td>240977151531298816</td>\n",
       "      <td>1</td>\n",
       "      <td>$224.60.  Not a bad payoff for a 2nd race Trif...</td>\n",
       "    </tr>\n",
       "  </tbody>\n",
       "</table>\n",
       "</div>"
      ],
      "text/plain": [
       "                       ID  Sentiment  \\\n",
       "35     264224174153818113          0   \n",
       "42654  641278049208569856          1   \n",
       "38515  675816742258475008          0   \n",
       "45850  638291604537630720          0   \n",
       "10192  240977151531298816          1   \n",
       "\n",
       "                                                   Tweet  \n",
       "35     I may exit off twitter and fb  and thug with i...  \n",
       "42654  Selling 1 ticket to Chris Brown this Thursday ...  \n",
       "38515  Glamorous dinner options: clam chowder or a ch...  \n",
       "45850  Chelsea and Juventus in Pogba Talks: Now with ...  \n",
       "10192  $224.60.  Not a bad payoff for a 2nd race Trif...  "
      ]
     },
     "execution_count": 5,
     "metadata": {},
     "output_type": "execute_result"
    }
   ],
   "source": [
    "tweets.sample(5)"
   ]
  },
  {
   "cell_type": "code",
   "execution_count": 6,
   "metadata": {
    "ExecuteTime": {
     "end_time": "2018-10-20T21:33:38.790775Z",
     "start_time": "2018-10-20T21:33:37.153969Z"
    }
   },
   "outputs": [],
   "source": [
    "from sklearn.feature_extraction.text import CountVectorizer\n",
    "\n",
    "cv = CountVectorizer(binary=True)\n",
    "\n",
    "X = cv.fit_transform(tweets['Tweet'])\n",
    "target = tweets['Sentiment']"
   ]
  },
  {
   "cell_type": "code",
   "execution_count": 7,
   "metadata": {
    "ExecuteTime": {
     "end_time": "2018-10-20T21:33:54.361787Z",
     "start_time": "2018-10-20T21:33:38.793650Z"
    }
   },
   "outputs": [
    {
     "name": "stdout",
     "output_type": "stream",
     "text": [
      "Accuracy for C=0.01: 0.6240464081373173\n",
      "Accuracy for C=0.05: 0.6523363000635728\n",
      "Accuracy for C=0.25: 0.6594882390336936\n",
      "Accuracy for C=0.5: 0.6562301335028607\n",
      "Accuracy for C=1: 0.6511443102352193\n"
     ]
    }
   ],
   "source": [
    "from sklearn.linear_model import LogisticRegression\n",
    "from sklearn.metrics import accuracy_score\n",
    "from sklearn.model_selection import train_test_split\n",
    "\n",
    "\n",
    "X_train, X_val, y_train, y_val = train_test_split(X, target)\n",
    "\n",
    "for c in [0.01, 0.05, 0.25, 0.5, 1]:\n",
    "    lr = LogisticRegression(C=c, solver='saga', multi_class='auto')\n",
    "    lr.fit(X_train, y_train)\n",
    "    print (\"Accuracy for C=%s: %s\" % (c, accuracy_score(y_val, lr.predict(X_val))))"
   ]
  },
  {
   "cell_type": "markdown",
   "metadata": {},
   "source": [
    "### Best and worst features"
   ]
  },
  {
   "cell_type": "code",
   "execution_count": 11,
   "metadata": {
    "ExecuteTime": {
     "end_time": "2018-10-20T21:35:18.047652Z",
     "start_time": "2018-10-20T21:35:17.534418Z"
    }
   },
   "outputs": [
    {
     "name": "stdout",
     "output_type": "stream",
     "text": [
      "('gifford', -1.2377102595086205)\n",
      "('seinfeld', -1.208227717966838)\n",
      "('bout', -1.121596723479545)\n",
      "('bless', -1.1170007079307602)\n",
      "('greatest', -1.0976803765492371)\n",
      "\n",
      "('worst', 2.4448066170437612)\n",
      "('sucks', 2.221116192138116)\n",
      "('stupid', 2.2174777929515206)\n",
      "('fucked', 2.1713174119575873)\n",
      "('fuck', 2.127179056507483)\n"
     ]
    }
   ],
   "source": [
    "feature_to_coef = {word: coef for word, coef in zip(cv.get_feature_names(), lr.coef_[0])}\n",
    "\n",
    "for best_positive in sorted(feature_to_coef.items(), key=lambda x: x[1])[:5]:\n",
    "    print (best_positive)\n",
    "    \n",
    "print()\n",
    "for best_negative in sorted(feature_to_coef.items(), key=lambda x: x[1], reverse=True)[:5]:\n",
    "    print (best_negative)"
   ]
  },
  {
   "cell_type": "markdown",
   "metadata": {},
   "source": [
    "## Learning (pseudo-code)"
   ]
  },
  {
   "cell_type": "code",
   "execution_count": null,
   "metadata": {
    "ExecuteTime": {
     "end_time": "2018-10-20T18:58:26.973787Z",
     "start_time": "2018-10-20T18:58:26.966674Z"
    }
   },
   "outputs": [],
   "source": [
    "Sequential()\n",
    "Embedding(len(word_index) + 1, EMBEDDING_PATH...?, weights=[embedding_matrix], input_length=MAX_SEQUENCE_LENGTH, trainable=False)\n",
    "LSTM(32)\n",
    "Dropout(0.2)\n",
    "Dense(32, 'relu')\n",
    "Dropout(0.2)\n",
    "Dense(3, activation='softmax')\n",
    "\n",
    "model.compile(loss='categorical_crossentropy', optimizer='Adam', metrics=['acc'])\n",
    "\n",
    "model.fit(...)"
   ]
  },
  {
   "cell_type": "code",
   "execution_count": null,
   "metadata": {
    "ExecuteTime": {
     "end_time": "2018-10-20T18:58:24.330024Z",
     "start_time": "2018-10-20T18:58:24.280540Z"
    }
   },
   "outputs": [],
   "source": [
    "# transfer:\n",
    "\n",
    "model.layers.pop()\n",
    "model.layers.pop()\n",
    "Dense(150, 'relu')\n",
    "Dense(64, 'relu')\n",
    "Dense(7, 'softmax')\n",
    "model.compile(optimizer='rmsprop', loss='categorical_crossentropy', metrics=['accuracy'])"
   ]
  },
  {
   "cell_type": "markdown",
   "metadata": {},
   "source": [
    "## Notes\n",
    "* Télécharger 50 millions de tweets pour le word2vec\n",
    "* Metric pour le script du prof: pearson\n",
    "* Utiliser pearson au lieu d'accuracy\n",
    "* L'année dernière le prof a eu 78% accuracy \n",
    "\n",
    "**Output attendu**: produire un fichier avec les mêmes noms de cartégories sur un fichier de test façon kaggle"
   ]
  },
  {
   "cell_type": "code",
   "execution_count": null,
   "metadata": {},
   "outputs": [],
   "source": []
  }
 ],
 "metadata": {
  "kernelspec": {
   "display_name": "Python 3",
   "language": "python",
   "name": "python3"
  },
  "language_info": {
   "codemirror_mode": {
    "name": "ipython",
    "version": 3
   },
   "file_extension": ".py",
   "mimetype": "text/x-python",
   "name": "python",
   "nbconvert_exporter": "python",
   "pygments_lexer": "ipython3",
   "version": "3.6.6"
  }
 },
 "nbformat": 4,
 "nbformat_minor": 2
}
