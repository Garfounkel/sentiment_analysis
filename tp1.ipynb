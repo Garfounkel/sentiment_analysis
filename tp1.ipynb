{
 "cells": [
  {
   "cell_type": "code",
   "execution_count": null,
   "metadata": {
    "ExecuteTime": {
     "end_time": "2018-10-24T13:30:02.777559Z",
     "start_time": "2018-10-24T13:29:59.996642Z"
    },
    "collapsed": true
   },
   "outputs": [],
   "source": [
    "# import tensorflow as tf\n",
    "# from keras import backend as K\n",
    "\n",
    "# num_cores = 4\n",
    "# CPU = True\n",
    "# GPU = False\n",
    "\n",
    "# if GPU:\n",
    "#     num_GPU = 1\n",
    "#     num_CPU = 1\n",
    "# if CPU:\n",
    "#     num_CPU = 1\n",
    "#     num_GPU = 0\n",
    "\n",
    "# config = tf.ConfigProto(intra_op_parallelism_threads=num_cores,\\\n",
    "#         inter_op_parallelism_threads=num_cores, allow_soft_placement=True,\\\n",
    "#         device_count = {'CPU' : num_CPU, 'GPU' : num_GPU})\n",
    "# session = tf.Session(config=config)\n",
    "# K.set_session(session)"
   ]
  },
  {
   "cell_type": "code",
   "execution_count": 1,
   "metadata": {
    "ExecuteTime": {
     "end_time": "2018-11-02T17:02:29.357900Z",
     "start_time": "2018-11-02T17:02:29.317769Z"
    }
   },
   "outputs": [
    {
     "name": "stderr",
     "output_type": "stream",
     "text": [
      "Using TensorFlow backend.\n"
     ]
    }
   ],
   "source": [
    "import numpy as np\n",
    "import pandas as pd\n",
    "from keras.preprocessing.text import *\n",
    "import matplotlib.pyplot as plt\n",
    "from tokenizer import tokenizer as tweet_tokenizer\n",
    "from keras.utils.np_utils import to_categorical\n",
    "from keras.preprocessing.sequence import pad_sequences\n",
    "from keras.preprocessing.text import Tokenizer\n",
    "from keras.layers import *\n",
    "from gensim.models import KeyedVectors\n",
    "from sklearn.model_selection import train_test_split\n",
    "from keras.models import Sequential\n",
    "from keras.optimizers import * \n",
    "from keras.regularizers import *\n",
    "from keras.models import load_model\n",
    "\n",
    "\n",
    "%matplotlib inline\n",
    "\n",
    "PATH = './data'\n",
    "\n",
    "train_3 = f'{PATH}/data_train_3.csv'\n",
    "test_3 = f'{PATH}/data_test_3.csv'\n",
    "train_7 = f'{PATH}/data_train_7.csv'\n",
    "train_16m_3 = f'{PATH}/training.1600000.processed.noemoticon.csv'"
   ]
  },
  {
   "cell_type": "markdown",
   "metadata": {},
   "source": [
    "## One hot sample"
   ]
  },
  {
   "cell_type": "code",
   "execution_count": null,
   "metadata": {
    "ExecuteTime": {
     "end_time": "2018-10-20T19:13:44.756774Z",
     "start_time": "2018-10-20T19:13:44.742287Z"
    },
    "collapsed": true
   },
   "outputs": [],
   "source": [
    "text = 'The quick brown fox jumped over the lazy dog.'\n",
    "\n",
    "words = set(text_to_word_sequence(text))\n",
    "vocab_size = len(words)\n",
    "print(vocab_size)\n",
    "\n",
    "result = one_hot(text, round(vocab_size*1.3))\n",
    "print(result)"
   ]
  },
  {
   "cell_type": "markdown",
   "metadata": {},
   "source": [
    "## Tweet Tokenizer sample"
   ]
  },
  {
   "cell_type": "code",
   "execution_count": null,
   "metadata": {
    "ExecuteTime": {
     "end_time": "2018-10-24T12:46:21.628712Z",
     "start_time": "2018-10-24T12:46:21.609088Z"
    },
    "collapsed": true
   },
   "outputs": [],
   "source": [
    "T = tweet_tokenizer.TweetTokenizer(preserve_case=False, preserve_url=False)\n",
    "\n",
    "text = 'The quick brown fox jumped over the lazy dog.'\n",
    "\n",
    "T.tokenize(text)"
   ]
  },
  {
   "cell_type": "markdown",
   "metadata": {},
   "source": [
    "## Lemmatizer / Stemmer samples"
   ]
  },
  {
   "cell_type": "code",
   "execution_count": null,
   "metadata": {
    "ExecuteTime": {
     "end_time": "2018-10-20T19:18:52.094815Z",
     "start_time": "2018-10-20T19:18:52.072891Z"
    },
    "collapsed": true
   },
   "outputs": [],
   "source": [
    "from nltk.stem import PorterStemmer, WordNetLemmatizer\n",
    " \n",
    "stemmer = PorterStemmer()\n",
    "lemmatiser = WordNetLemmatizer()\n",
    " \n",
    "print(\"Stem %s: %s\" % (\"studying\", stemmer.stem(\"studying\")))\n",
    "print(\"Lemmatise %s: %s\" % (\"studying\", lemmatiser.lemmatize(\"studying\")))\n",
    "print(\"Lemmatise %s: %s\" % (\"studying\", lemmatiser.lemmatize(\"studying\", pos=\"v\")))"
   ]
  },
  {
   "cell_type": "code",
   "execution_count": null,
   "metadata": {
    "ExecuteTime": {
     "end_time": "2018-10-20T19:26:23.149301Z",
     "start_time": "2018-10-20T19:26:23.130556Z"
    },
    "collapsed": true,
    "scrolled": true
   },
   "outputs": [],
   "source": [
    "from nltk import pos_tag\n",
    "from nltk.tokenize import word_tokenize\n",
    "from collections import defaultdict\n",
    "from nltk.corpus import wordnet as wn\n",
    "\n",
    "\n",
    "tag_map = defaultdict(lambda: wn.NOUN, {'J': wn.ADJ, 'V': wn.VERB, 'R': wn.ADV})\n",
    "\n",
    "s = \"This is a simple sentence that would be allowing us to try lemmatizing\"\n",
    "\n",
    "tokens = word_tokenize(s)\n",
    "tokens_pos = pos_tag(tokens)\n",
    " \n",
    "print(tokens_pos)\n",
    "\n",
    "\n",
    "lems = [lemmatiser.lemmatize(word, tag_map[pos[0]]) for word, pos in tokens_pos]\n",
    "print(lems)"
   ]
  },
  {
   "cell_type": "markdown",
   "metadata": {},
   "source": [
    "# Serious business"
   ]
  },
  {
   "cell_type": "markdown",
   "metadata": {
    "heading_collapsed": true
   },
   "source": [
    "## Preprocess Train_16m_3"
   ]
  },
  {
   "cell_type": "code",
   "execution_count": null,
   "metadata": {
    "ExecuteTime": {
     "end_time": "2018-11-01T11:34:00.813555Z",
     "start_time": "2018-11-01T11:33:55.355808Z"
    },
    "collapsed": true,
    "hidden": true
   },
   "outputs": [],
   "source": [
    "tweets_16m = pd.read_csv(train_16m_3, sep=',', encoding='latin-1').drop(columns=['date', 'flag', 'user'])\n",
    "\n",
    "print(tweets_16m.shape)\n",
    "tweets_16m.sample(5)"
   ]
  },
  {
   "cell_type": "code",
   "execution_count": null,
   "metadata": {
    "ExecuteTime": {
     "end_time": "2018-11-01T12:06:33.553573Z",
     "start_time": "2018-11-01T11:37:19.546472Z"
    },
    "collapsed": true,
    "hidden": true
   },
   "outputs": [],
   "source": [
    "from TP_transfer_learning_2018 import *\n",
    "from TP_transfer_learning_2018.preprocessing import standardization\n",
    "\n",
    "\n",
    "tweets_16m['target'] = tweets_16m['target'].apply(lambda x: {0: 0, 2: 1, 4: 2}[x])  # Neg (0), Neu (2), Pos (4)\n",
    "tweets_16m['text'] = tweets_16m['text'].apply(lambda x: standardization(x))"
   ]
  },
  {
   "cell_type": "code",
   "execution_count": null,
   "metadata": {
    "ExecuteTime": {
     "end_time": "2018-11-01T12:06:33.764607Z",
     "start_time": "2018-11-01T12:06:33.577280Z"
    },
    "collapsed": true,
    "hidden": true
   },
   "outputs": [],
   "source": [
    "display(tweets_16m.sample(5))\n",
    "tweets_16m.sample(5)['text'].iloc[0]"
   ]
  },
  {
   "cell_type": "code",
   "execution_count": null,
   "metadata": {
    "ExecuteTime": {
     "end_time": "2018-11-01T12:06:34.472709Z",
     "start_time": "2018-11-01T12:06:34.039450Z"
    },
    "collapsed": true,
    "hidden": true
   },
   "outputs": [],
   "source": [
    "tweets_16m.to_feather('pickles/train_16m_3.feather')"
   ]
  },
  {
   "cell_type": "markdown",
   "metadata": {},
   "source": [
    "## Preprocess Train_3"
   ]
  },
  {
   "cell_type": "code",
   "execution_count": 46,
   "metadata": {
    "ExecuteTime": {
     "end_time": "2018-11-01T11:19:02.082629Z",
     "start_time": "2018-11-01T11:19:01.850229Z"
    }
   },
   "outputs": [
    {
     "data": {
      "text/plain": [
       "(50333, 3)"
      ]
     },
     "execution_count": 46,
     "metadata": {},
     "output_type": "execute_result"
    }
   ],
   "source": [
    "tweets = pd.read_csv(train_3, sep='\\t', names=['ID', 'Class', 'Tweet'])\n",
    "\n",
    "tweets.shape"
   ]
  },
  {
   "cell_type": "code",
   "execution_count": 47,
   "metadata": {
    "ExecuteTime": {
     "end_time": "2018-10-31T19:03:22.353439Z",
     "start_time": "2018-10-31T19:03:22.309694Z"
    }
   },
   "outputs": [
    {
     "data": {
      "text/html": [
       "<div>\n",
       "<style scoped>\n",
       "    .dataframe tbody tr th:only-of-type {\n",
       "        vertical-align: middle;\n",
       "    }\n",
       "\n",
       "    .dataframe tbody tr th {\n",
       "        vertical-align: top;\n",
       "    }\n",
       "\n",
       "    .dataframe thead th {\n",
       "        text-align: right;\n",
       "    }\n",
       "</style>\n",
       "<table border=\"1\" class=\"dataframe\">\n",
       "  <thead>\n",
       "    <tr style=\"text-align: right;\">\n",
       "      <th></th>\n",
       "      <th>ID</th>\n",
       "      <th>Class</th>\n",
       "      <th>Tweet</th>\n",
       "    </tr>\n",
       "  </thead>\n",
       "  <tbody>\n",
       "    <tr>\n",
       "      <th>17851</th>\n",
       "      <td>641558464356052992</td>\n",
       "      <td>negative</td>\n",
       "      <td>@FixTheCourt  Judge rules that he can NOT issu...</td>\n",
       "    </tr>\n",
       "    <tr>\n",
       "      <th>25439</th>\n",
       "      <td>631629205185294338</td>\n",
       "      <td>neutral</td>\n",
       "      <td>@sonic_hedgehog Paul McCartney may have sung a...</td>\n",
       "    </tr>\n",
       "    <tr>\n",
       "      <th>38149</th>\n",
       "      <td>674555040636473344</td>\n",
       "      <td>positive</td>\n",
       "      <td>@Burke32_7 black Friday by Kendrick is love. T...</td>\n",
       "    </tr>\n",
       "    <tr>\n",
       "      <th>5182</th>\n",
       "      <td>261584813318885376</td>\n",
       "      <td>positive</td>\n",
       "      <td>Good result tonight\\u002c though! Part one of ...</td>\n",
       "    </tr>\n",
       "    <tr>\n",
       "      <th>2650</th>\n",
       "      <td>263763678283849729</td>\n",
       "      <td>neutral</td>\n",
       "      <td>@ben_higham we put a 2nd team out and get beat...</td>\n",
       "    </tr>\n",
       "  </tbody>\n",
       "</table>\n",
       "</div>"
      ],
      "text/plain": [
       "                       ID     Class  \\\n",
       "17851  641558464356052992  negative   \n",
       "25439  631629205185294338   neutral   \n",
       "38149  674555040636473344  positive   \n",
       "5182   261584813318885376  positive   \n",
       "2650   263763678283849729   neutral   \n",
       "\n",
       "                                                   Tweet  \n",
       "17851  @FixTheCourt  Judge rules that he can NOT issu...  \n",
       "25439  @sonic_hedgehog Paul McCartney may have sung a...  \n",
       "38149  @Burke32_7 black Friday by Kendrick is love. T...  \n",
       "5182   Good result tonight\\u002c though! Part one of ...  \n",
       "2650   @ben_higham we put a 2nd team out and get beat...  "
      ]
     },
     "execution_count": 47,
     "metadata": {},
     "output_type": "execute_result"
    }
   ],
   "source": [
    "tweets.sample(5)"
   ]
  },
  {
   "cell_type": "code",
   "execution_count": 48,
   "metadata": {
    "ExecuteTime": {
     "end_time": "2018-11-01T11:20:34.446157Z",
     "start_time": "2018-11-01T11:19:15.874251Z"
    }
   },
   "outputs": [
    {
     "ename": "KeyboardInterrupt",
     "evalue": "",
     "output_type": "error",
     "traceback": [
      "\u001b[0;31m---------------------------------------------------------------------------\u001b[0m",
      "\u001b[0;31mKeyboardInterrupt\u001b[0m                         Traceback (most recent call last)",
      "\u001b[0;32m<ipython-input-48-ab94549a4257>\u001b[0m in \u001b[0;36m<module>\u001b[0;34m()\u001b[0m\n\u001b[1;32m      4\u001b[0m \u001b[0;34m\u001b[0m\u001b[0m\n\u001b[1;32m      5\u001b[0m \u001b[0mtweets\u001b[0m\u001b[0;34m[\u001b[0m\u001b[0;34m'Sentiment'\u001b[0m\u001b[0;34m]\u001b[0m \u001b[0;34m=\u001b[0m \u001b[0mtweets\u001b[0m\u001b[0;34m[\u001b[0m\u001b[0;34m'Class'\u001b[0m\u001b[0;34m]\u001b[0m\u001b[0;34m.\u001b[0m\u001b[0mapply\u001b[0m\u001b[0;34m(\u001b[0m\u001b[0;32mlambda\u001b[0m \u001b[0mx\u001b[0m\u001b[0;34m:\u001b[0m \u001b[0;34m{\u001b[0m\u001b[0;34m'negative'\u001b[0m\u001b[0;34m:\u001b[0m \u001b[0;36m0\u001b[0m\u001b[0;34m,\u001b[0m \u001b[0;34m'neutral'\u001b[0m\u001b[0;34m:\u001b[0m \u001b[0;36m1\u001b[0m\u001b[0;34m,\u001b[0m \u001b[0;34m'positive'\u001b[0m\u001b[0;34m:\u001b[0m \u001b[0;36m2\u001b[0m\u001b[0;34m}\u001b[0m\u001b[0;34m[\u001b[0m\u001b[0mx\u001b[0m\u001b[0;34m]\u001b[0m\u001b[0;34m)\u001b[0m\u001b[0;34m\u001b[0m\u001b[0m\n\u001b[0;32m----> 6\u001b[0;31m \u001b[0mtweets\u001b[0m\u001b[0;34m[\u001b[0m\u001b[0;34m'Tweet'\u001b[0m\u001b[0;34m]\u001b[0m \u001b[0;34m=\u001b[0m \u001b[0mtweets\u001b[0m\u001b[0;34m[\u001b[0m\u001b[0;34m'Tweet'\u001b[0m\u001b[0;34m]\u001b[0m\u001b[0;34m.\u001b[0m\u001b[0mapply\u001b[0m\u001b[0;34m(\u001b[0m\u001b[0;32mlambda\u001b[0m \u001b[0mx\u001b[0m\u001b[0;34m:\u001b[0m \u001b[0mstandardization\u001b[0m\u001b[0;34m(\u001b[0m\u001b[0mx\u001b[0m\u001b[0;34m)\u001b[0m\u001b[0;34m)\u001b[0m\u001b[0;34m\u001b[0m\u001b[0m\n\u001b[0m",
      "\u001b[0;32m~/anaconda3/lib/python3.6/site-packages/pandas/core/series.py\u001b[0m in \u001b[0;36mapply\u001b[0;34m(self, func, convert_dtype, args, **kwds)\u001b[0m\n\u001b[1;32m   3192\u001b[0m             \u001b[0;32melse\u001b[0m\u001b[0;34m:\u001b[0m\u001b[0;34m\u001b[0m\u001b[0m\n\u001b[1;32m   3193\u001b[0m                 \u001b[0mvalues\u001b[0m \u001b[0;34m=\u001b[0m \u001b[0mself\u001b[0m\u001b[0;34m.\u001b[0m\u001b[0mastype\u001b[0m\u001b[0;34m(\u001b[0m\u001b[0mobject\u001b[0m\u001b[0;34m)\u001b[0m\u001b[0;34m.\u001b[0m\u001b[0mvalues\u001b[0m\u001b[0;34m\u001b[0m\u001b[0m\n\u001b[0;32m-> 3194\u001b[0;31m                 \u001b[0mmapped\u001b[0m \u001b[0;34m=\u001b[0m \u001b[0mlib\u001b[0m\u001b[0;34m.\u001b[0m\u001b[0mmap_infer\u001b[0m\u001b[0;34m(\u001b[0m\u001b[0mvalues\u001b[0m\u001b[0;34m,\u001b[0m \u001b[0mf\u001b[0m\u001b[0;34m,\u001b[0m \u001b[0mconvert\u001b[0m\u001b[0;34m=\u001b[0m\u001b[0mconvert_dtype\u001b[0m\u001b[0;34m)\u001b[0m\u001b[0;34m\u001b[0m\u001b[0m\n\u001b[0m\u001b[1;32m   3195\u001b[0m \u001b[0;34m\u001b[0m\u001b[0m\n\u001b[1;32m   3196\u001b[0m         \u001b[0;32mif\u001b[0m \u001b[0mlen\u001b[0m\u001b[0;34m(\u001b[0m\u001b[0mmapped\u001b[0m\u001b[0;34m)\u001b[0m \u001b[0;32mand\u001b[0m \u001b[0misinstance\u001b[0m\u001b[0;34m(\u001b[0m\u001b[0mmapped\u001b[0m\u001b[0;34m[\u001b[0m\u001b[0;36m0\u001b[0m\u001b[0;34m]\u001b[0m\u001b[0;34m,\u001b[0m \u001b[0mSeries\u001b[0m\u001b[0;34m)\u001b[0m\u001b[0;34m:\u001b[0m\u001b[0;34m\u001b[0m\u001b[0m\n",
      "\u001b[0;32mpandas/_libs/src/inference.pyx\u001b[0m in \u001b[0;36mpandas._libs.lib.map_infer\u001b[0;34m()\u001b[0m\n",
      "\u001b[0;32m<ipython-input-48-ab94549a4257>\u001b[0m in \u001b[0;36m<lambda>\u001b[0;34m(x)\u001b[0m\n\u001b[1;32m      4\u001b[0m \u001b[0;34m\u001b[0m\u001b[0m\n\u001b[1;32m      5\u001b[0m \u001b[0mtweets\u001b[0m\u001b[0;34m[\u001b[0m\u001b[0;34m'Sentiment'\u001b[0m\u001b[0;34m]\u001b[0m \u001b[0;34m=\u001b[0m \u001b[0mtweets\u001b[0m\u001b[0;34m[\u001b[0m\u001b[0;34m'Class'\u001b[0m\u001b[0;34m]\u001b[0m\u001b[0;34m.\u001b[0m\u001b[0mapply\u001b[0m\u001b[0;34m(\u001b[0m\u001b[0;32mlambda\u001b[0m \u001b[0mx\u001b[0m\u001b[0;34m:\u001b[0m \u001b[0;34m{\u001b[0m\u001b[0;34m'negative'\u001b[0m\u001b[0;34m:\u001b[0m \u001b[0;36m0\u001b[0m\u001b[0;34m,\u001b[0m \u001b[0;34m'neutral'\u001b[0m\u001b[0;34m:\u001b[0m \u001b[0;36m1\u001b[0m\u001b[0;34m,\u001b[0m \u001b[0;34m'positive'\u001b[0m\u001b[0;34m:\u001b[0m \u001b[0;36m2\u001b[0m\u001b[0;34m}\u001b[0m\u001b[0;34m[\u001b[0m\u001b[0mx\u001b[0m\u001b[0;34m]\u001b[0m\u001b[0;34m)\u001b[0m\u001b[0;34m\u001b[0m\u001b[0m\n\u001b[0;32m----> 6\u001b[0;31m \u001b[0mtweets\u001b[0m\u001b[0;34m[\u001b[0m\u001b[0;34m'Tweet'\u001b[0m\u001b[0;34m]\u001b[0m \u001b[0;34m=\u001b[0m \u001b[0mtweets\u001b[0m\u001b[0;34m[\u001b[0m\u001b[0;34m'Tweet'\u001b[0m\u001b[0;34m]\u001b[0m\u001b[0;34m.\u001b[0m\u001b[0mapply\u001b[0m\u001b[0;34m(\u001b[0m\u001b[0;32mlambda\u001b[0m \u001b[0mx\u001b[0m\u001b[0;34m:\u001b[0m \u001b[0mstandardization\u001b[0m\u001b[0;34m(\u001b[0m\u001b[0mx\u001b[0m\u001b[0;34m)\u001b[0m\u001b[0;34m)\u001b[0m\u001b[0;34m\u001b[0m\u001b[0m\n\u001b[0m",
      "\u001b[0;32m~/Documents/Sentiment_analysis/sentiment_analysis/TP_transfer_learning_2018/preprocessing.py\u001b[0m in \u001b[0;36mstandardization\u001b[0;34m(tweet)\u001b[0m\n\u001b[1;32m     56\u001b[0m         \u001b[0mtweet\u001b[0m \u001b[0;34m=\u001b[0m \u001b[0mre\u001b[0m\u001b[0;34m.\u001b[0m\u001b[0msub\u001b[0m\u001b[0;34m(\u001b[0m\u001b[0;34mr\"#\\w+\"\u001b[0m\u001b[0;34m,\u001b[0m \u001b[0;34mr' '\u001b[0m\u001b[0;34m,\u001b[0m\u001b[0mtweet\u001b[0m\u001b[0;34m)\u001b[0m\u001b[0;34m\u001b[0m\u001b[0m\n\u001b[1;32m     57\u001b[0m         \u001b[0mtweet\u001b[0m \u001b[0;34m=\u001b[0m \u001b[0mre\u001b[0m\u001b[0;34m.\u001b[0m\u001b[0msub\u001b[0m\u001b[0;34m(\u001b[0m\u001b[0;34mr\" [0-9]+ \"\u001b[0m\u001b[0;34m,\u001b[0m\u001b[0;34m\" \"\u001b[0m\u001b[0;34m,\u001b[0m\u001b[0mtweet\u001b[0m\u001b[0;34m)\u001b[0m\u001b[0;34m\u001b[0m\u001b[0m\n\u001b[0;32m---> 58\u001b[0;31m         \u001b[0mtweet\u001b[0m \u001b[0;34m=\u001b[0m \u001b[0;34m[\u001b[0m\u001b[0mlemmatizer\u001b[0m\u001b[0;34m.\u001b[0m\u001b[0mlemmatize\u001b[0m\u001b[0;34m(\u001b[0m\u001b[0mi\u001b[0m\u001b[0;34m,\u001b[0m\u001b[0mj\u001b[0m\u001b[0;34m[\u001b[0m\u001b[0;36m0\u001b[0m\u001b[0;34m]\u001b[0m\u001b[0;34m.\u001b[0m\u001b[0mlower\u001b[0m\u001b[0;34m(\u001b[0m\u001b[0;34m)\u001b[0m\u001b[0;34m)\u001b[0m \u001b[0;32mif\u001b[0m \u001b[0mj\u001b[0m\u001b[0;34m[\u001b[0m\u001b[0;36m0\u001b[0m\u001b[0;34m]\u001b[0m\u001b[0;34m.\u001b[0m\u001b[0mlower\u001b[0m\u001b[0;34m(\u001b[0m\u001b[0;34m)\u001b[0m \u001b[0;32min\u001b[0m \u001b[0;34m[\u001b[0m\u001b[0;34m'a'\u001b[0m\u001b[0;34m,\u001b[0m\u001b[0;34m'n'\u001b[0m\u001b[0;34m,\u001b[0m\u001b[0;34m'v'\u001b[0m\u001b[0;34m]\u001b[0m  \u001b[0;32melse\u001b[0m \u001b[0mlemmatizer\u001b[0m\u001b[0;34m.\u001b[0m\u001b[0mlemmatize\u001b[0m\u001b[0;34m(\u001b[0m\u001b[0mi\u001b[0m\u001b[0;34m)\u001b[0m \u001b[0;32mfor\u001b[0m \u001b[0mi\u001b[0m\u001b[0;34m,\u001b[0m\u001b[0mj\u001b[0m \u001b[0;32min\u001b[0m \u001b[0mpos_tag\u001b[0m\u001b[0;34m(\u001b[0m\u001b[0mtknzr\u001b[0m\u001b[0;34m.\u001b[0m\u001b[0mtokenize\u001b[0m\u001b[0;34m(\u001b[0m\u001b[0mtweet\u001b[0m\u001b[0;34m)\u001b[0m\u001b[0;34m)\u001b[0m\u001b[0;34m]\u001b[0m\u001b[0;34m\u001b[0m\u001b[0m\n\u001b[0m\u001b[1;32m     59\u001b[0m         \u001b[0mtweet\u001b[0m \u001b[0;34m=\u001b[0m \u001b[0;34m[\u001b[0m \u001b[0mi\u001b[0m \u001b[0;32mfor\u001b[0m \u001b[0mi\u001b[0m \u001b[0;32min\u001b[0m \u001b[0mtweet\u001b[0m \u001b[0;32mif\u001b[0m \u001b[0;34m(\u001b[0m\u001b[0mi\u001b[0m \u001b[0;32mnot\u001b[0m \u001b[0;32min\u001b[0m \u001b[0mstopwords\u001b[0m\u001b[0;34m)\u001b[0m \u001b[0;32mand\u001b[0m \u001b[0;34m(\u001b[0m\u001b[0mi\u001b[0m \u001b[0;32mnot\u001b[0m \u001b[0;32min\u001b[0m \u001b[0mpunctuation\u001b[0m \u001b[0;34m)\u001b[0m \u001b[0;34m]\u001b[0m\u001b[0;34m\u001b[0m\u001b[0m\n\u001b[1;32m     60\u001b[0m         \u001b[0mtweet\u001b[0m \u001b[0;34m=\u001b[0m \u001b[0;34m' '\u001b[0m\u001b[0;34m.\u001b[0m\u001b[0mjoin\u001b[0m\u001b[0;34m(\u001b[0m\u001b[0mtweet\u001b[0m\u001b[0;34m)\u001b[0m\u001b[0;34m\u001b[0m\u001b[0m\n",
      "\u001b[0;32m~/anaconda3/lib/python3.6/site-packages/nltk/tag/__init__.py\u001b[0m in \u001b[0;36mpos_tag\u001b[0;34m(tokens, tagset, lang)\u001b[0m\n\u001b[1;32m    125\u001b[0m     \"\"\"\n\u001b[1;32m    126\u001b[0m     \u001b[0mtagger\u001b[0m \u001b[0;34m=\u001b[0m \u001b[0m_get_tagger\u001b[0m\u001b[0;34m(\u001b[0m\u001b[0mlang\u001b[0m\u001b[0;34m)\u001b[0m\u001b[0;34m\u001b[0m\u001b[0m\n\u001b[0;32m--> 127\u001b[0;31m     \u001b[0;32mreturn\u001b[0m \u001b[0m_pos_tag\u001b[0m\u001b[0;34m(\u001b[0m\u001b[0mtokens\u001b[0m\u001b[0;34m,\u001b[0m \u001b[0mtagset\u001b[0m\u001b[0;34m,\u001b[0m \u001b[0mtagger\u001b[0m\u001b[0;34m)\u001b[0m\u001b[0;34m\u001b[0m\u001b[0m\n\u001b[0m\u001b[1;32m    128\u001b[0m \u001b[0;34m\u001b[0m\u001b[0m\n\u001b[1;32m    129\u001b[0m \u001b[0;34m\u001b[0m\u001b[0m\n",
      "\u001b[0;32m~/anaconda3/lib/python3.6/site-packages/nltk/tag/__init__.py\u001b[0m in \u001b[0;36m_pos_tag\u001b[0;34m(tokens, tagset, tagger)\u001b[0m\n\u001b[1;32m     93\u001b[0m \u001b[0;34m\u001b[0m\u001b[0m\n\u001b[1;32m     94\u001b[0m \u001b[0;32mdef\u001b[0m \u001b[0m_pos_tag\u001b[0m\u001b[0;34m(\u001b[0m\u001b[0mtokens\u001b[0m\u001b[0;34m,\u001b[0m \u001b[0mtagset\u001b[0m\u001b[0;34m,\u001b[0m \u001b[0mtagger\u001b[0m\u001b[0;34m)\u001b[0m\u001b[0;34m:\u001b[0m\u001b[0;34m\u001b[0m\u001b[0m\n\u001b[0;32m---> 95\u001b[0;31m     \u001b[0mtagged_tokens\u001b[0m \u001b[0;34m=\u001b[0m \u001b[0mtagger\u001b[0m\u001b[0;34m.\u001b[0m\u001b[0mtag\u001b[0m\u001b[0;34m(\u001b[0m\u001b[0mtokens\u001b[0m\u001b[0;34m)\u001b[0m\u001b[0;34m\u001b[0m\u001b[0m\n\u001b[0m\u001b[1;32m     96\u001b[0m     \u001b[0;32mif\u001b[0m \u001b[0mtagset\u001b[0m\u001b[0;34m:\u001b[0m\u001b[0;34m\u001b[0m\u001b[0m\n\u001b[1;32m     97\u001b[0m         \u001b[0mtagged_tokens\u001b[0m \u001b[0;34m=\u001b[0m \u001b[0;34m[\u001b[0m\u001b[0;34m(\u001b[0m\u001b[0mtoken\u001b[0m\u001b[0;34m,\u001b[0m \u001b[0mmap_tag\u001b[0m\u001b[0;34m(\u001b[0m\u001b[0;34m'en-ptb'\u001b[0m\u001b[0;34m,\u001b[0m \u001b[0mtagset\u001b[0m\u001b[0;34m,\u001b[0m \u001b[0mtag\u001b[0m\u001b[0;34m)\u001b[0m\u001b[0;34m)\u001b[0m \u001b[0;32mfor\u001b[0m \u001b[0;34m(\u001b[0m\u001b[0mtoken\u001b[0m\u001b[0;34m,\u001b[0m \u001b[0mtag\u001b[0m\u001b[0;34m)\u001b[0m \u001b[0;32min\u001b[0m \u001b[0mtagged_tokens\u001b[0m\u001b[0;34m]\u001b[0m\u001b[0;34m\u001b[0m\u001b[0m\n",
      "\u001b[0;32m~/anaconda3/lib/python3.6/site-packages/nltk/tag/perceptron.py\u001b[0m in \u001b[0;36mtag\u001b[0;34m(self, tokens)\u001b[0m\n\u001b[1;32m    155\u001b[0m             \u001b[0;32mif\u001b[0m \u001b[0;32mnot\u001b[0m \u001b[0mtag\u001b[0m\u001b[0;34m:\u001b[0m\u001b[0;34m\u001b[0m\u001b[0m\n\u001b[1;32m    156\u001b[0m                 \u001b[0mfeatures\u001b[0m \u001b[0;34m=\u001b[0m \u001b[0mself\u001b[0m\u001b[0;34m.\u001b[0m\u001b[0m_get_features\u001b[0m\u001b[0;34m(\u001b[0m\u001b[0mi\u001b[0m\u001b[0;34m,\u001b[0m \u001b[0mword\u001b[0m\u001b[0;34m,\u001b[0m \u001b[0mcontext\u001b[0m\u001b[0;34m,\u001b[0m \u001b[0mprev\u001b[0m\u001b[0;34m,\u001b[0m \u001b[0mprev2\u001b[0m\u001b[0;34m)\u001b[0m\u001b[0;34m\u001b[0m\u001b[0m\n\u001b[0;32m--> 157\u001b[0;31m                 \u001b[0mtag\u001b[0m \u001b[0;34m=\u001b[0m \u001b[0mself\u001b[0m\u001b[0;34m.\u001b[0m\u001b[0mmodel\u001b[0m\u001b[0;34m.\u001b[0m\u001b[0mpredict\u001b[0m\u001b[0;34m(\u001b[0m\u001b[0mfeatures\u001b[0m\u001b[0;34m)\u001b[0m\u001b[0;34m\u001b[0m\u001b[0m\n\u001b[0m\u001b[1;32m    158\u001b[0m             \u001b[0moutput\u001b[0m\u001b[0;34m.\u001b[0m\u001b[0mappend\u001b[0m\u001b[0;34m(\u001b[0m\u001b[0;34m(\u001b[0m\u001b[0mword\u001b[0m\u001b[0;34m,\u001b[0m \u001b[0mtag\u001b[0m\u001b[0;34m)\u001b[0m\u001b[0;34m)\u001b[0m\u001b[0;34m\u001b[0m\u001b[0m\n\u001b[1;32m    159\u001b[0m             \u001b[0mprev2\u001b[0m \u001b[0;34m=\u001b[0m \u001b[0mprev\u001b[0m\u001b[0;34m\u001b[0m\u001b[0m\n",
      "\u001b[0;32m~/anaconda3/lib/python3.6/site-packages/nltk/tag/perceptron.py\u001b[0m in \u001b[0;36mpredict\u001b[0;34m(self, features)\u001b[0m\n\u001b[1;32m     56\u001b[0m                 \u001b[0mscores\u001b[0m\u001b[0;34m[\u001b[0m\u001b[0mlabel\u001b[0m\u001b[0;34m]\u001b[0m \u001b[0;34m+=\u001b[0m \u001b[0mvalue\u001b[0m \u001b[0;34m*\u001b[0m \u001b[0mweight\u001b[0m\u001b[0;34m\u001b[0m\u001b[0m\n\u001b[1;32m     57\u001b[0m         \u001b[0;31m# Do a secondary alphabetic sort, for stability\u001b[0m\u001b[0;34m\u001b[0m\u001b[0;34m\u001b[0m\u001b[0m\n\u001b[0;32m---> 58\u001b[0;31m         \u001b[0;32mreturn\u001b[0m \u001b[0mmax\u001b[0m\u001b[0;34m(\u001b[0m\u001b[0mself\u001b[0m\u001b[0;34m.\u001b[0m\u001b[0mclasses\u001b[0m\u001b[0;34m,\u001b[0m \u001b[0mkey\u001b[0m\u001b[0;34m=\u001b[0m\u001b[0;32mlambda\u001b[0m \u001b[0mlabel\u001b[0m\u001b[0;34m:\u001b[0m \u001b[0;34m(\u001b[0m\u001b[0mscores\u001b[0m\u001b[0;34m[\u001b[0m\u001b[0mlabel\u001b[0m\u001b[0;34m]\u001b[0m\u001b[0;34m,\u001b[0m \u001b[0mlabel\u001b[0m\u001b[0;34m)\u001b[0m\u001b[0;34m)\u001b[0m\u001b[0;34m\u001b[0m\u001b[0m\n\u001b[0m\u001b[1;32m     59\u001b[0m \u001b[0;34m\u001b[0m\u001b[0m\n\u001b[1;32m     60\u001b[0m     \u001b[0;32mdef\u001b[0m \u001b[0mupdate\u001b[0m\u001b[0;34m(\u001b[0m\u001b[0mself\u001b[0m\u001b[0;34m,\u001b[0m \u001b[0mtruth\u001b[0m\u001b[0;34m,\u001b[0m \u001b[0mguess\u001b[0m\u001b[0;34m,\u001b[0m \u001b[0mfeatures\u001b[0m\u001b[0;34m)\u001b[0m\u001b[0;34m:\u001b[0m\u001b[0;34m\u001b[0m\u001b[0m\n",
      "\u001b[0;32m~/anaconda3/lib/python3.6/site-packages/nltk/tag/perceptron.py\u001b[0m in \u001b[0;36m<lambda>\u001b[0;34m(label)\u001b[0m\n\u001b[1;32m     56\u001b[0m                 \u001b[0mscores\u001b[0m\u001b[0;34m[\u001b[0m\u001b[0mlabel\u001b[0m\u001b[0;34m]\u001b[0m \u001b[0;34m+=\u001b[0m \u001b[0mvalue\u001b[0m \u001b[0;34m*\u001b[0m \u001b[0mweight\u001b[0m\u001b[0;34m\u001b[0m\u001b[0m\n\u001b[1;32m     57\u001b[0m         \u001b[0;31m# Do a secondary alphabetic sort, for stability\u001b[0m\u001b[0;34m\u001b[0m\u001b[0;34m\u001b[0m\u001b[0m\n\u001b[0;32m---> 58\u001b[0;31m         \u001b[0;32mreturn\u001b[0m \u001b[0mmax\u001b[0m\u001b[0;34m(\u001b[0m\u001b[0mself\u001b[0m\u001b[0;34m.\u001b[0m\u001b[0mclasses\u001b[0m\u001b[0;34m,\u001b[0m \u001b[0mkey\u001b[0m\u001b[0;34m=\u001b[0m\u001b[0;32mlambda\u001b[0m \u001b[0mlabel\u001b[0m\u001b[0;34m:\u001b[0m \u001b[0;34m(\u001b[0m\u001b[0mscores\u001b[0m\u001b[0;34m[\u001b[0m\u001b[0mlabel\u001b[0m\u001b[0;34m]\u001b[0m\u001b[0;34m,\u001b[0m \u001b[0mlabel\u001b[0m\u001b[0;34m)\u001b[0m\u001b[0;34m)\u001b[0m\u001b[0;34m\u001b[0m\u001b[0m\n\u001b[0m\u001b[1;32m     59\u001b[0m \u001b[0;34m\u001b[0m\u001b[0m\n\u001b[1;32m     60\u001b[0m     \u001b[0;32mdef\u001b[0m \u001b[0mupdate\u001b[0m\u001b[0;34m(\u001b[0m\u001b[0mself\u001b[0m\u001b[0;34m,\u001b[0m \u001b[0mtruth\u001b[0m\u001b[0;34m,\u001b[0m \u001b[0mguess\u001b[0m\u001b[0;34m,\u001b[0m \u001b[0mfeatures\u001b[0m\u001b[0;34m)\u001b[0m\u001b[0;34m:\u001b[0m\u001b[0;34m\u001b[0m\u001b[0m\n",
      "\u001b[0;31mKeyboardInterrupt\u001b[0m: "
     ]
    }
   ],
   "source": [
    "from TP_transfer_learning_2018 import *\n",
    "from TP_transfer_learning_2018.preprocessing import standardization\n",
    "\n",
    "\n",
    "tweets['Sentiment'] = tweets['Class'].apply(lambda x: {'negative': 0, 'neutral': 1, 'positive': 2}[x])\n",
    "tweets['Tweet'] = tweets['Tweet'].apply(lambda x: standardization(x))"
   ]
  },
  {
   "cell_type": "code",
   "execution_count": 45,
   "metadata": {
    "ExecuteTime": {
     "end_time": "2018-11-01T11:20:34.490519Z",
     "start_time": "2018-11-01T11:20:34.454390Z"
    }
   },
   "outputs": [
    {
     "data": {
      "text/html": [
       "<div>\n",
       "<style scoped>\n",
       "    .dataframe tbody tr th:only-of-type {\n",
       "        vertical-align: middle;\n",
       "    }\n",
       "\n",
       "    .dataframe tbody tr th {\n",
       "        vertical-align: top;\n",
       "    }\n",
       "\n",
       "    .dataframe thead th {\n",
       "        text-align: right;\n",
       "    }\n",
       "</style>\n",
       "<table border=\"1\" class=\"dataframe\">\n",
       "  <thead>\n",
       "    <tr style=\"text-align: right;\">\n",
       "      <th></th>\n",
       "      <th>ID</th>\n",
       "      <th>Class</th>\n",
       "      <th>Tweet</th>\n",
       "    </tr>\n",
       "  </thead>\n",
       "  <tbody>\n",
       "    <tr>\n",
       "      <th>519</th>\n",
       "      <td>519</td>\n",
       "      <td>0</td>\n",
       "      <td>@BreezyWeekes hey breezy, you wanna give me so...</td>\n",
       "    </tr>\n",
       "    <tr>\n",
       "      <th>831</th>\n",
       "      <td>831</td>\n",
       "      <td>-3</td>\n",
       "      <td>We're all in D. T. (Discipleship training or d...</td>\n",
       "    </tr>\n",
       "    <tr>\n",
       "      <th>1291</th>\n",
       "      <td>1291</td>\n",
       "      <td>1</td>\n",
       "      <td>The moon tonight 😮 #beautiful</td>\n",
       "    </tr>\n",
       "    <tr>\n",
       "      <th>93</th>\n",
       "      <td>93</td>\n",
       "      <td>-3</td>\n",
       "      <td>@PuseLepuru it's the irritation of not having ...</td>\n",
       "    </tr>\n",
       "    <tr>\n",
       "      <th>1051</th>\n",
       "      <td>1051</td>\n",
       "      <td>-2</td>\n",
       "      <td>@NessaMatthews he's perfect. But not even in t...</td>\n",
       "    </tr>\n",
       "  </tbody>\n",
       "</table>\n",
       "</div>"
      ],
      "text/plain": [
       "        ID  Class                                              Tweet\n",
       "519    519      0  @BreezyWeekes hey breezy, you wanna give me so...\n",
       "831    831     -3  We're all in D. T. (Discipleship training or d...\n",
       "1291  1291      1                      The moon tonight 😮 #beautiful\n",
       "93      93     -3  @PuseLepuru it's the irritation of not having ...\n",
       "1051  1051     -2  @NessaMatthews he's perfect. But not even in t..."
      ]
     },
     "metadata": {},
     "output_type": "display_data"
    },
    {
     "data": {
      "text/plain": [
       "'Desmond was asleep when I called after I got out of my meeting... he still answered and let me vent to him the whole way home 😍 #sweetness'"
      ]
     },
     "execution_count": 45,
     "metadata": {},
     "output_type": "execute_result"
    }
   ],
   "source": [
    "display(tweets.sample(5))\n",
    "tweets.sample(5)['Tweet'].iloc[0]"
   ]
  },
  {
   "cell_type": "code",
   "execution_count": null,
   "metadata": {
    "ExecuteTime": {
     "end_time": "2018-11-01T12:06:34.034157Z",
     "start_time": "2018-11-01T12:06:33.769108Z"
    },
    "collapsed": true
   },
   "outputs": [],
   "source": [
    "tweets.to_feather('pickles/train_3.feather')"
   ]
  },
  {
   "cell_type": "markdown",
   "metadata": {},
   "source": [
    "## preprocess train_7"
   ]
  },
  {
   "cell_type": "code",
   "execution_count": 49,
   "metadata": {},
   "outputs": [
    {
     "data": {
      "text/plain": [
       "(1630, 3)"
      ]
     },
     "execution_count": 49,
     "metadata": {},
     "output_type": "execute_result"
    }
   ],
   "source": [
    "tweets = pd.read_csv(train_7, sep='\\t', names=['ID', 'Class', 'Tweet'])\n",
    "\n",
    "tweets.shape"
   ]
  },
  {
   "cell_type": "code",
   "execution_count": 50,
   "metadata": {},
   "outputs": [
    {
     "data": {
      "text/html": [
       "<div>\n",
       "<style scoped>\n",
       "    .dataframe tbody tr th:only-of-type {\n",
       "        vertical-align: middle;\n",
       "    }\n",
       "\n",
       "    .dataframe tbody tr th {\n",
       "        vertical-align: top;\n",
       "    }\n",
       "\n",
       "    .dataframe thead th {\n",
       "        text-align: right;\n",
       "    }\n",
       "</style>\n",
       "<table border=\"1\" class=\"dataframe\">\n",
       "  <thead>\n",
       "    <tr style=\"text-align: right;\">\n",
       "      <th></th>\n",
       "      <th>ID</th>\n",
       "      <th>Class</th>\n",
       "      <th>Tweet</th>\n",
       "    </tr>\n",
       "  </thead>\n",
       "  <tbody>\n",
       "    <tr>\n",
       "      <th>751</th>\n",
       "      <td>751</td>\n",
       "      <td>0</td>\n",
       "      <td>@tunaeP_ cheer up☺️</td>\n",
       "    </tr>\n",
       "    <tr>\n",
       "      <th>526</th>\n",
       "      <td>526</td>\n",
       "      <td>0</td>\n",
       "      <td>it's not the most comforting &amp;amp; jubilant pl...</td>\n",
       "    </tr>\n",
       "    <tr>\n",
       "      <th>1568</th>\n",
       "      <td>1568</td>\n",
       "      <td>2</td>\n",
       "      <td>Waking up to the #scent of #coffee, there's no...</td>\n",
       "    </tr>\n",
       "    <tr>\n",
       "      <th>76</th>\n",
       "      <td>76</td>\n",
       "      <td>-1</td>\n",
       "      <td>Hope was an instinct only the reasoning human ...</td>\n",
       "    </tr>\n",
       "    <tr>\n",
       "      <th>941</th>\n",
       "      <td>941</td>\n",
       "      <td>0</td>\n",
       "      <td>SRV's 'Voodoo Child' is approximately 76 times...</td>\n",
       "    </tr>\n",
       "  </tbody>\n",
       "</table>\n",
       "</div>"
      ],
      "text/plain": [
       "        ID  Class                                              Tweet\n",
       "751    751      0                                @tunaeP_ cheer up☺️\n",
       "526    526      0  it's not the most comforting &amp; jubilant pl...\n",
       "1568  1568      2  Waking up to the #scent of #coffee, there's no...\n",
       "76      76     -1  Hope was an instinct only the reasoning human ...\n",
       "941    941      0  SRV's 'Voodoo Child' is approximately 76 times..."
      ]
     },
     "execution_count": 50,
     "metadata": {},
     "output_type": "execute_result"
    }
   ],
   "source": [
    "tweets.sample(5)"
   ]
  },
  {
   "cell_type": "code",
   "execution_count": 54,
   "metadata": {},
   "outputs": [],
   "source": [
    "tweets['Sentiment'] = tweets['Class']\n",
    "tweets['Tweet'] = tweets['Tweet'].apply(lambda x: standardization(x))"
   ]
  },
  {
   "cell_type": "code",
   "execution_count": 55,
   "metadata": {},
   "outputs": [
    {
     "data": {
      "text/html": [
       "<div>\n",
       "<style scoped>\n",
       "    .dataframe tbody tr th:only-of-type {\n",
       "        vertical-align: middle;\n",
       "    }\n",
       "\n",
       "    .dataframe tbody tr th {\n",
       "        vertical-align: top;\n",
       "    }\n",
       "\n",
       "    .dataframe thead th {\n",
       "        text-align: right;\n",
       "    }\n",
       "</style>\n",
       "<table border=\"1\" class=\"dataframe\">\n",
       "  <thead>\n",
       "    <tr style=\"text-align: right;\">\n",
       "      <th></th>\n",
       "      <th>ID</th>\n",
       "      <th>Class</th>\n",
       "      <th>Tweet</th>\n",
       "      <th>Sentiment</th>\n",
       "    </tr>\n",
       "  </thead>\n",
       "  <tbody>\n",
       "    <tr>\n",
       "      <th>1103</th>\n",
       "      <td>1103</td>\n",
       "      <td>1</td>\n",
       "      <td>good morning chirpy pensive sister perfect day...</td>\n",
       "      <td>1</td>\n",
       "    </tr>\n",
       "    <tr>\n",
       "      <th>173</th>\n",
       "      <td>173</td>\n",
       "      <td>0</td>\n",
       "      <td>everyone hat twice kinda get bop bump rn cheer</td>\n",
       "      <td>0</td>\n",
       "    </tr>\n",
       "    <tr>\n",
       "      <th>447</th>\n",
       "      <td>447</td>\n",
       "      <td>1</td>\n",
       "      <td>well draw lively</td>\n",
       "      <td>1</td>\n",
       "    </tr>\n",
       "    <tr>\n",
       "      <th>1487</th>\n",
       "      <td>1487</td>\n",
       "      <td>1</td>\n",
       "      <td>sleep past noon look window see hotel hot tub</td>\n",
       "      <td>1</td>\n",
       "    </tr>\n",
       "    <tr>\n",
       "      <th>822</th>\n",
       "      <td>822</td>\n",
       "      <td>-2</td>\n",
       "      <td>... nervous test rip</td>\n",
       "      <td>-2</td>\n",
       "    </tr>\n",
       "  </tbody>\n",
       "</table>\n",
       "</div>"
      ],
      "text/plain": [
       "        ID  Class                                              Tweet  \\\n",
       "1103  1103      1  good morning chirpy pensive sister perfect day...   \n",
       "173    173      0     everyone hat twice kinda get bop bump rn cheer   \n",
       "447    447      1                                   well draw lively   \n",
       "1487  1487      1      sleep past noon look window see hotel hot tub   \n",
       "822    822     -2                               ... nervous test rip   \n",
       "\n",
       "      Sentiment  \n",
       "1103          1  \n",
       "173           0  \n",
       "447           1  \n",
       "1487          1  \n",
       "822          -2  "
      ]
     },
     "metadata": {},
     "output_type": "display_data"
    },
    {
     "data": {
      "text/plain": [
       "'awesome p ok odds swap neighborhood'"
      ]
     },
     "execution_count": 55,
     "metadata": {},
     "output_type": "execute_result"
    }
   ],
   "source": [
    "display(tweets.sample(5))\n",
    "tweets.sample(5)['Tweet'].iloc[0]"
   ]
  },
  {
   "cell_type": "code",
   "execution_count": 56,
   "metadata": {
    "collapsed": true
   },
   "outputs": [],
   "source": [
    "tweets.to_feather('pickles/train_7.feather')"
   ]
  },
  {
   "cell_type": "markdown",
   "metadata": {},
   "source": [
    "## Training"
   ]
  },
  {
   "cell_type": "code",
   "execution_count": 2,
   "metadata": {
    "ExecuteTime": {
     "end_time": "2018-11-02T16:00:39.960344Z",
     "start_time": "2018-11-02T16:00:39.823972Z"
    },
    "collapsed": true
   },
   "outputs": [],
   "source": [
    "tweets = pd.read_feather('pickles/train_3.feather')"
   ]
  },
  {
   "cell_type": "code",
   "execution_count": 57,
   "metadata": {
    "ExecuteTime": {
     "end_time": "2018-11-02T16:02:00.207293Z",
     "start_time": "2018-11-02T16:01:59.176817Z"
    },
    "collapsed": true
   },
   "outputs": [],
   "source": [
    "train_tweets, sentiments = tweets['Tweet'], tweets['Sentiment']\n",
    "# train_tweets, sentiments = tweets_16m['text'], tweets_16m['target']\n",
    "\n",
    "all_tweets = train_tweets # + test_tweets\n",
    "tokenizer = Tokenizer(filters=' ')\n",
    "tokenizer.fit_on_texts(all_tweets)\n",
    "word_index = tokenizer.word_index"
   ]
  },
  {
   "cell_type": "code",
   "execution_count": 58,
   "metadata": {
    "ExecuteTime": {
     "end_time": "2018-11-02T16:02:01.920789Z",
     "start_time": "2018-11-02T16:02:00.872243Z"
    }
   },
   "outputs": [
    {
     "data": {
      "text/plain": [
       "28"
      ]
     },
     "execution_count": 58,
     "metadata": {},
     "output_type": "execute_result"
    }
   ],
   "source": [
    "train_sequences = tokenizer.texts_to_sequences(train_tweets)\n",
    "\n",
    "sequences = train_sequences # + test_sequences\n",
    "MAX_SEQUENCE_LENGTH = 0\n",
    "for elt in sequences:\n",
    "    if len(elt) > MAX_SEQUENCE_LENGTH:\n",
    "        MAX_SEQUENCE_LENGTH = len(elt)\n",
    "\n",
    "MAX_SEQUENCE_LENGTH"
   ]
  },
  {
   "cell_type": "code",
   "execution_count": 5,
   "metadata": {
    "ExecuteTime": {
     "end_time": "2018-11-02T16:02:03.849933Z",
     "start_time": "2018-11-02T16:02:03.415182Z"
    }
   },
   "outputs": [
    {
     "data": {
      "text/plain": [
       "(50333, 32)"
      ]
     },
     "execution_count": 5,
     "metadata": {},
     "output_type": "execute_result"
    }
   ],
   "source": [
    "train_sequences = pad_sequences(train_sequences, MAX_SEQUENCE_LENGTH)\n",
    "train_sequences.shape"
   ]
  },
  {
   "cell_type": "code",
   "execution_count": 12,
   "metadata": {
    "ExecuteTime": {
     "end_time": "2018-11-02T16:07:03.189660Z",
     "start_time": "2018-11-02T16:03:24.696182Z"
    }
   },
   "outputs": [],
   "source": [
    "# googlenews_w2v = KeyedVectors.load_word2vec_format('data/embeddings/GoogleNews-vectors-negative300.bin', binary=True)\n",
    "from gensim.scripts.glove2word2vec import glove2word2vec\n",
    "from gensim.test.utils import get_tmpfile\n",
    "\n",
    "\n",
    "tmp_file = get_tmpfile('datastories.300d.word2vec')\n",
    "glove2word2vec('data/embeddings/datastories.twitter.300d.txt', tmp_file)\n",
    "w2v = KeyedVectors.load_word2vec_format(tmp_file)"
   ]
  },
  {
   "cell_type": "code",
   "execution_count": 14,
   "metadata": {},
   "outputs": [],
   "source": [
    "from gensim.models import Word2Vec\n",
    "\n",
    "w2vModel = Word2Vec.load('./data/trained_embeddings_23M.model')"
   ]
  },
  {
   "cell_type": "code",
   "execution_count": 15,
   "metadata": {},
   "outputs": [],
   "source": [
    "our_w2v = w2vModel.wv\n",
    "w2v = our_w2v"
   ]
  },
  {
   "cell_type": "code",
   "execution_count": 16,
   "metadata": {},
   "outputs": [
    {
     "name": "stdout",
     "output_type": "stream",
     "text": [
      "[0.0054066991014751825, 0.010635989194095686, 0.011927524123865642, 0.010163990269009415, 0.19470465335113124, 0.08262850924065103, 0.6797990668088009, 0.004733567910970831]\n"
     ]
    }
   ],
   "source": [
    "DepecheMoodpp = pd.read_csv('data/DepecheMood/DepecheMood_english_token_full.tsv', sep='\\t')\n",
    "\n",
    "print(DepecheMoodpp.loc[DepecheMoodpp['word'] == 'aa'].values.tolist()[0][1:9])"
   ]
  },
  {
   "cell_type": "code",
   "execution_count": 17,
   "metadata": {},
   "outputs": [
    {
     "name": "stdout",
     "output_type": "stream",
     "text": [
      "         word                                val\n",
      "0     abandon  [0, 0, 0, 1, 0, 0, 0, 0, 0, 0, 0]\n",
      "1   abandoned  [0, 0, 0, 1, 0, 0, 0, 0, 0, 0, 0]\n",
      "2    abandons  [0, 0, 0, 1, 0, 0, 0, 0, 0, 0, 0]\n",
      "3    abducted  [0, 0, 0, 1, 0, 0, 0, 0, 0, 0, 0]\n",
      "4   abduction  [0, 0, 0, 1, 0, 0, 0, 0, 0, 0, 0]\n",
      "5  abductions  [0, 0, 0, 1, 0, 0, 0, 0, 0, 0, 0]\n",
      "6       abhor  [0, 0, 1, 0, 0, 0, 0, 0, 0, 0, 0]\n",
      "7    abhorred  [0, 0, 1, 0, 0, 0, 0, 0, 0, 0, 0]\n",
      "8   abhorrent  [0, 0, 1, 0, 0, 0, 0, 0, 0, 0, 0]\n",
      "9      abhors  [0, 0, 1, 0, 0, 0, 0, 0, 0, 0, 0]\n",
      "0    [0, 0, 0, 1, 0, 0, 0, 0, 0, 0, 0]\n",
      "Name: val, dtype: object\n"
     ]
    }
   ],
   "source": [
    "afinn = pd.read_csv('data/AFINN-111.txt', sep='\\t')\n",
    "\n",
    "def val_to_list(x):\n",
    "    x += 5\n",
    "    return(to_categorical(x, num_classes=11, dtype='int'))\n",
    "\n",
    "\n",
    "afinn[['val']] = afinn['val'].apply(val_to_list)\n",
    "print(afinn.head(10))\n",
    "print(afinn.loc[afinn['word'] == 'abandon'].val)"
   ]
  },
  {
   "cell_type": "code",
   "execution_count": 18,
   "metadata": {},
   "outputs": [
    {
     "data": {
      "text/plain": [
       "[{'emoji': '💯',\n",
       "  'name': '100',\n",
       "  'polarity': array([0, 0, 0, 0, 0, 0, 0, 0, 1, 0, 0])},\n",
       " {'emoji': '😠',\n",
       "  'name': 'angry',\n",
       "  'polarity': array([0, 0, 1, 0, 0, 0, 0, 0, 0, 0, 0])},\n",
       " {'emoji': '😧',\n",
       "  'name': 'anguished',\n",
       "  'polarity': array([0, 0, 1, 0, 0, 0, 0, 0, 0, 0, 0])},\n",
       " {'emoji': '😲',\n",
       "  'name': 'astonished',\n",
       "  'polarity': array([0, 0, 0, 0, 0, 0, 0, 1, 0, 0, 0])},\n",
       " {'emoji': '🖤',\n",
       "  'name': 'black_heart',\n",
       "  'polarity': array([0, 0, 0, 0, 0, 0, 0, 0, 1, 0, 0])},\n",
       " {'emoji': '💙',\n",
       "  'name': 'blue_heart',\n",
       "  'polarity': array([0, 0, 0, 0, 0, 0, 0, 0, 1, 0, 0])},\n",
       " {'emoji': '😊',\n",
       "  'name': 'blush',\n",
       "  'polarity': array([0, 0, 0, 0, 0, 0, 0, 1, 0, 0, 0])},\n",
       " {'emoji': '💔',\n",
       "  'name': 'broken_heart',\n",
       "  'polarity': array([0, 0, 1, 0, 0, 0, 0, 0, 0, 0, 0])},\n",
       " {'emoji': '👏',\n",
       "  'name': 'clap',\n",
       "  'polarity': array([0, 0, 0, 0, 0, 0, 0, 0, 1, 0, 0])},\n",
       " {'emoji': '🤡',\n",
       "  'name': 'clown_face',\n",
       "  'polarity': array([0, 0, 0, 0, 0, 1, 0, 0, 0, 0, 0])},\n",
       " {'emoji': '😰',\n",
       "  'name': 'cold_sweat',\n",
       "  'polarity': array([0, 0, 0, 1, 0, 0, 0, 0, 0, 0, 0])},\n",
       " {'emoji': '😖',\n",
       "  'name': 'confounded',\n",
       "  'polarity': array([0, 0, 0, 1, 0, 0, 0, 0, 0, 0, 0])},\n",
       " {'emoji': '😕',\n",
       "  'name': 'confused',\n",
       "  'polarity': array([0, 0, 0, 1, 0, 0, 0, 0, 0, 0, 0])},\n",
       " {'emoji': '🤠',\n",
       "  'name': 'cowboy_hat_face',\n",
       "  'polarity': array([0, 0, 0, 0, 0, 0, 0, 1, 0, 0, 0])},\n",
       " {'emoji': '🤞',\n",
       "  'name': 'crossed_fingers',\n",
       "  'polarity': array([0, 0, 0, 0, 0, 0, 0, 1, 0, 0, 0])},\n",
       " {'emoji': '😢',\n",
       "  'name': 'cry',\n",
       "  'polarity': array([0, 0, 0, 1, 0, 0, 0, 0, 0, 0, 0])},\n",
       " {'emoji': '😿',\n",
       "  'name': 'crying_cat_face',\n",
       "  'polarity': array([0, 0, 0, 1, 0, 0, 0, 0, 0, 0, 0])},\n",
       " {'emoji': '💘',\n",
       "  'name': 'cupid',\n",
       "  'polarity': array([0, 0, 0, 0, 0, 0, 0, 0, 1, 0, 0])},\n",
       " {'emoji': '😞',\n",
       "  'name': 'disappointed',\n",
       "  'polarity': array([0, 0, 0, 1, 0, 0, 0, 0, 0, 0, 0])},\n",
       " {'emoji': '😥',\n",
       "  'name': 'disappointed_relieved',\n",
       "  'polarity': array([0, 0, 0, 0, 1, 0, 0, 0, 0, 0, 0])},\n",
       " {'emoji': '😵',\n",
       "  'name': 'dizzy_face',\n",
       "  'polarity': array([0, 0, 0, 0, 1, 0, 0, 0, 0, 0, 0])},\n",
       " {'emoji': '🤤',\n",
       "  'name': 'drooling_face',\n",
       "  'polarity': array([0, 0, 0, 0, 0, 1, 0, 0, 0, 0, 0])},\n",
       " {'emoji': '😑',\n",
       "  'name': 'expressionless',\n",
       "  'polarity': array([0, 0, 0, 0, 0, 1, 0, 0, 0, 0, 0])},\n",
       " {'emoji': '🤕',\n",
       "  'name': 'face_with_head_bandage',\n",
       "  'polarity': array([0, 0, 0, 1, 0, 0, 0, 0, 0, 0, 0])},\n",
       " {'emoji': '🤒',\n",
       "  'name': 'face_with_thermometer',\n",
       "  'polarity': array([0, 0, 0, 0, 1, 0, 0, 0, 0, 0, 0])},\n",
       " {'emoji': '😨',\n",
       "  'name': 'fearful',\n",
       "  'polarity': array([0, 0, 0, 1, 0, 0, 0, 0, 0, 0, 0])},\n",
       " {'emoji': '😳',\n",
       "  'name': 'flushed',\n",
       "  'polarity': array([0, 0, 0, 1, 0, 0, 0, 0, 0, 0, 0])},\n",
       " {'emoji': '😦',\n",
       "  'name': 'frowning',\n",
       "  'polarity': array([0, 0, 0, 0, 1, 0, 0, 0, 0, 0, 0])},\n",
       " {'emoji': '☹️',\n",
       "  'name': 'frowning_face',\n",
       "  'polarity': array([0, 0, 0, 1, 0, 0, 0, 0, 0, 0, 0])},\n",
       " {'emoji': '🖕',\n",
       "  'name': 'fu',\n",
       "  'polarity': array([0, 1, 0, 0, 0, 0, 0, 0, 0, 0, 0])},\n",
       " {'emoji': '👻',\n",
       "  'name': 'ghost',\n",
       "  'polarity': array([0, 0, 0, 0, 1, 0, 0, 0, 0, 0, 0])},\n",
       " {'emoji': '💝',\n",
       "  'name': 'gift_heart',\n",
       "  'polarity': array([0, 0, 0, 0, 0, 0, 0, 0, 1, 0, 0])},\n",
       " {'emoji': '💚',\n",
       "  'name': 'green_heart',\n",
       "  'polarity': array([0, 0, 0, 0, 0, 0, 0, 0, 1, 0, 0])},\n",
       " {'emoji': '😬',\n",
       "  'name': 'grimacing',\n",
       "  'polarity': array([0, 0, 0, 1, 0, 0, 0, 0, 0, 0, 0])},\n",
       " {'emoji': '😁',\n",
       "  'name': 'grin',\n",
       "  'polarity': array([0, 0, 0, 0, 0, 0, 0, 1, 0, 0, 0])},\n",
       " {'emoji': '😀',\n",
       "  'name': 'grinning',\n",
       "  'polarity': array([0, 0, 0, 0, 0, 0, 0, 1, 0, 0, 0])},\n",
       " {'emoji': '🤝',\n",
       "  'name': 'handshake',\n",
       "  'polarity': array([0, 0, 0, 0, 0, 0, 1, 0, 0, 0, 0])},\n",
       " {'emoji': '❤️',\n",
       "  'name': 'heart',\n",
       "  'polarity': array([0, 0, 0, 0, 0, 0, 0, 0, 1, 0, 0])},\n",
       " {'emoji': '😍',\n",
       "  'name': 'heart_eyes',\n",
       "  'polarity': array([0, 0, 0, 0, 0, 0, 0, 0, 1, 0, 0])},\n",
       " {'emoji': '😻',\n",
       "  'name': 'heart_eyes_cat',\n",
       "  'polarity': array([0, 0, 0, 0, 0, 0, 0, 0, 1, 0, 0])},\n",
       " {'emoji': '💓',\n",
       "  'name': 'heartbeat',\n",
       "  'polarity': array([0, 0, 0, 0, 0, 0, 0, 0, 1, 0, 0])},\n",
       " {'emoji': '💗',\n",
       "  'name': 'heartpulse',\n",
       "  'polarity': array([0, 0, 0, 0, 0, 0, 0, 0, 1, 0, 0])},\n",
       " {'emoji': '🤗',\n",
       "  'name': 'hugs',\n",
       "  'polarity': array([0, 0, 0, 0, 0, 0, 0, 1, 0, 0, 0])},\n",
       " {'emoji': '😯',\n",
       "  'name': 'hushed',\n",
       "  'polarity': array([0, 0, 0, 0, 1, 0, 0, 0, 0, 0, 0])},\n",
       " {'emoji': '👿',\n",
       "  'name': 'imp',\n",
       "  'polarity': array([0, 1, 0, 0, 0, 0, 0, 0, 0, 0, 0])},\n",
       " {'emoji': '😇',\n",
       "  'name': 'innocent',\n",
       "  'polarity': array([0, 0, 0, 0, 0, 0, 0, 0, 1, 0, 0])},\n",
       " {'emoji': '😂',\n",
       "  'name': 'joy',\n",
       "  'polarity': array([0, 0, 0, 0, 0, 0, 0, 0, 1, 0, 0])},\n",
       " {'emoji': '😹',\n",
       "  'name': 'joy_cat',\n",
       "  'polarity': array([0, 0, 0, 0, 0, 0, 0, 0, 1, 0, 0])},\n",
       " {'emoji': '💋',\n",
       "  'name': 'kiss',\n",
       "  'polarity': array([0, 0, 0, 0, 0, 0, 0, 1, 0, 0, 0])},\n",
       " {'emoji': '😗',\n",
       "  'name': 'kissing',\n",
       "  'polarity': array([0, 0, 0, 0, 0, 0, 0, 1, 0, 0, 0])},\n",
       " {'emoji': '😽',\n",
       "  'name': 'kissing_cat',\n",
       "  'polarity': array([0, 0, 0, 0, 0, 0, 0, 1, 0, 0, 0])},\n",
       " {'emoji': '😚',\n",
       "  'name': 'kissing_closed_eyes',\n",
       "  'polarity': array([0, 0, 0, 0, 0, 0, 0, 1, 0, 0, 0])},\n",
       " {'emoji': '😘',\n",
       "  'name': 'kissing_heart',\n",
       "  'polarity': array([0, 0, 0, 0, 0, 0, 0, 0, 1, 0, 0])},\n",
       " {'emoji': '😙',\n",
       "  'name': 'kissing_smiling_eyes',\n",
       "  'polarity': array([0, 0, 0, 0, 0, 0, 0, 1, 0, 0, 0])},\n",
       " {'emoji': '😆',\n",
       "  'name': 'laughing',\n",
       "  'polarity': array([0, 0, 0, 0, 0, 0, 1, 0, 0, 0, 0])},\n",
       " {'emoji': '👄',\n",
       "  'name': 'lips',\n",
       "  'polarity': array([0, 0, 0, 0, 0, 0, 0, 1, 0, 0, 0])},\n",
       " {'emoji': '🤥',\n",
       "  'name': 'lying_face',\n",
       "  'polarity': array([0, 0, 0, 1, 0, 0, 0, 0, 0, 0, 0])},\n",
       " {'emoji': '😷',\n",
       "  'name': 'mask',\n",
       "  'polarity': array([0, 0, 0, 0, 1, 0, 0, 0, 0, 0, 0])},\n",
       " {'emoji': '🤑',\n",
       "  'name': 'money_mouth_face',\n",
       "  'polarity': array([0, 0, 0, 0, 0, 1, 0, 0, 0, 0, 0])},\n",
       " {'emoji': '🤢',\n",
       "  'name': 'nauseated_face',\n",
       "  'polarity': array([0, 0, 0, 1, 0, 0, 0, 0, 0, 0, 0])},\n",
       " {'emoji': '🤓',\n",
       "  'name': 'nerd_face',\n",
       "  'polarity': array([0, 0, 0, 0, 1, 0, 0, 0, 0, 0, 0])},\n",
       " {'emoji': '😐',\n",
       "  'name': 'neutral_face',\n",
       "  'polarity': array([0, 0, 0, 0, 0, 1, 0, 0, 0, 0, 0])},\n",
       " {'emoji': '😶',\n",
       "  'name': 'no_mouth',\n",
       "  'polarity': array([0, 0, 0, 0, 0, 1, 0, 0, 0, 0, 0])},\n",
       " {'emoji': '👌',\n",
       "  'name': 'ok_hand',\n",
       "  'polarity': array([0, 0, 0, 0, 0, 0, 0, 1, 0, 0, 0])},\n",
       " {'emoji': '😮',\n",
       "  'name': 'open_mouth',\n",
       "  'polarity': array([0, 0, 0, 1, 0, 0, 0, 0, 0, 0, 0])},\n",
       " {'emoji': '😔',\n",
       "  'name': 'pensive',\n",
       "  'polarity': array([0, 0, 0, 0, 1, 0, 0, 0, 0, 0, 0])},\n",
       " {'emoji': '😣',\n",
       "  'name': 'persevere',\n",
       "  'polarity': array([0, 0, 0, 1, 0, 0, 0, 0, 0, 0, 0])},\n",
       " {'emoji': '😾',\n",
       "  'name': 'pouting_cat',\n",
       "  'polarity': array([0, 1, 0, 0, 0, 0, 0, 0, 0, 0, 0])},\n",
       " {'emoji': '🙏',\n",
       "  'name': 'pray',\n",
       "  'polarity': array([0, 0, 0, 0, 0, 0, 1, 0, 0, 0, 0])},\n",
       " {'emoji': '👊',\n",
       "  'name': 'punch',\n",
       "  'polarity': array([0, 0, 0, 0, 1, 0, 0, 0, 0, 0, 0])},\n",
       " {'emoji': '💜',\n",
       "  'name': 'purple_heart',\n",
       "  'polarity': array([0, 0, 0, 0, 0, 0, 0, 0, 1, 0, 0])},\n",
       " {'emoji': '😡',\n",
       "  'name': 'rage',\n",
       "  'polarity': array([0, 1, 0, 0, 0, 0, 0, 0, 0, 0, 0])},\n",
       " {'emoji': '🙌',\n",
       "  'name': 'raised_hands',\n",
       "  'polarity': array([0, 0, 0, 0, 0, 0, 0, 0, 0, 1, 0])},\n",
       " {'emoji': '☺️',\n",
       "  'name': 'relaxed',\n",
       "  'polarity': array([0, 0, 0, 0, 0, 0, 0, 1, 0, 0, 0])},\n",
       " {'emoji': '😌',\n",
       "  'name': 'relieved',\n",
       "  'polarity': array([0, 0, 0, 0, 0, 0, 0, 1, 0, 0, 0])},\n",
       " {'emoji': '💞',\n",
       "  'name': 'revolving_hearts',\n",
       "  'polarity': array([0, 0, 0, 0, 0, 0, 0, 0, 1, 0, 0])},\n",
       " {'emoji': '🤣',\n",
       "  'name': 'rofl',\n",
       "  'polarity': array([0, 0, 0, 0, 0, 0, 0, 0, 0, 1, 0])},\n",
       " {'emoji': '🙄',\n",
       "  'name': 'roll_eyes',\n",
       "  'polarity': array([0, 0, 0, 0, 1, 0, 0, 0, 0, 0, 0])},\n",
       " {'emoji': '😱',\n",
       "  'name': 'scream',\n",
       "  'polarity': array([0, 0, 1, 0, 0, 0, 0, 0, 0, 0, 0])},\n",
       " {'emoji': '🙀',\n",
       "  'name': 'scream_cat',\n",
       "  'polarity': array([0, 0, 1, 0, 0, 0, 0, 0, 0, 0, 0])},\n",
       " {'emoji': '💩',\n",
       "  'name': 'shit',\n",
       "  'polarity': array([0, 0, 1, 0, 0, 0, 0, 0, 0, 0, 0])},\n",
       " {'emoji': '💀',\n",
       "  'name': 'skull',\n",
       "  'polarity': array([0, 0, 0, 1, 0, 0, 0, 0, 0, 0, 0])},\n",
       " {'emoji': '☠️',\n",
       "  'name': 'skull_and_crossbones',\n",
       "  'polarity': array([0, 0, 0, 1, 0, 0, 0, 0, 0, 0, 0])},\n",
       " {'emoji': '😴',\n",
       "  'name': 'sleeping',\n",
       "  'polarity': array([0, 0, 0, 0, 0, 1, 0, 0, 0, 0, 0])},\n",
       " {'emoji': '😪',\n",
       "  'name': 'sleepy',\n",
       "  'polarity': array([0, 0, 0, 0, 0, 1, 0, 0, 0, 0, 0])},\n",
       " {'emoji': '🙁',\n",
       "  'name': 'slightly_frowning_face',\n",
       "  'polarity': array([0, 0, 0, 0, 1, 0, 0, 0, 0, 0, 0])},\n",
       " {'emoji': '🙂',\n",
       "  'name': 'slightly_smiling_face',\n",
       "  'polarity': array([0, 0, 0, 0, 0, 0, 1, 0, 0, 0, 0])},\n",
       " {'emoji': '😄',\n",
       "  'name': 'smile',\n",
       "  'polarity': array([0, 0, 0, 0, 0, 0, 0, 1, 0, 0, 0])},\n",
       " {'emoji': '😸',\n",
       "  'name': 'smile_cat',\n",
       "  'polarity': array([0, 0, 0, 0, 0, 0, 0, 1, 0, 0, 0])},\n",
       " {'emoji': '😃',\n",
       "  'name': 'smiley',\n",
       "  'polarity': array([0, 0, 0, 0, 0, 0, 0, 1, 0, 0, 0])},\n",
       " {'emoji': '😺',\n",
       "  'name': 'smiley_cat',\n",
       "  'polarity': array([0, 0, 0, 0, 0, 0, 0, 1, 0, 0, 0])},\n",
       " {'emoji': '😈',\n",
       "  'name': 'smiling_imp',\n",
       "  'polarity': array([0, 0, 1, 0, 0, 0, 0, 0, 0, 0, 0])},\n",
       " {'emoji': '😏',\n",
       "  'name': 'smirk',\n",
       "  'polarity': array([0, 0, 0, 0, 0, 0, 0, 1, 0, 0, 0])},\n",
       " {'emoji': '😼',\n",
       "  'name': 'smirk_cat',\n",
       "  'polarity': array([0, 0, 0, 0, 0, 0, 0, 1, 0, 0, 0])},\n",
       " {'emoji': '🤧',\n",
       "  'name': 'sneezing_face',\n",
       "  'polarity': array([0, 0, 0, 1, 0, 0, 0, 0, 0, 0, 0])},\n",
       " {'emoji': '😭',\n",
       "  'name': 'sob',\n",
       "  'polarity': array([0, 0, 1, 0, 0, 0, 0, 0, 0, 0, 0])},\n",
       " {'emoji': '💖',\n",
       "  'name': 'sparkling_heart',\n",
       "  'polarity': array([0, 0, 0, 0, 0, 0, 0, 0, 1, 0, 0])},\n",
       " {'emoji': '😛',\n",
       "  'name': 'stuck_out_tongue',\n",
       "  'polarity': array([0, 0, 0, 0, 0, 0, 1, 0, 0, 0, 0])},\n",
       " {'emoji': '😝',\n",
       "  'name': 'stuck_out_tongue_closed_eyes',\n",
       "  'polarity': array([0, 0, 0, 0, 0, 1, 0, 0, 0, 0, 0])},\n",
       " {'emoji': '😜',\n",
       "  'name': 'stuck_out_tongue_winking_eye',\n",
       "  'polarity': array([0, 0, 0, 0, 1, 0, 0, 0, 0, 0, 0])},\n",
       " {'emoji': '😎',\n",
       "  'name': 'sunglasses',\n",
       "  'polarity': array([0, 0, 0, 0, 0, 0, 1, 0, 0, 0, 0])},\n",
       " {'emoji': '😓',\n",
       "  'name': 'sweat',\n",
       "  'polarity': array([0, 0, 0, 0, 1, 0, 0, 0, 0, 0, 0])},\n",
       " {'emoji': '😅',\n",
       "  'name': 'sweat_smile',\n",
       "  'polarity': array([0, 0, 0, 0, 0, 0, 0, 1, 0, 0, 0])},\n",
       " {'emoji': '🤔',\n",
       "  'name': 'thinking',\n",
       "  'polarity': array([0, 0, 0, 0, 1, 0, 0, 0, 0, 0, 0])},\n",
       " {'emoji': '👎',\n",
       "  'name': 'thumbsdown',\n",
       "  'polarity': array([0, 0, 0, 1, 0, 0, 0, 0, 0, 0, 0])},\n",
       " {'emoji': '👍',\n",
       "  'name': 'thumbsup',\n",
       "  'polarity': array([0, 0, 0, 0, 0, 0, 0, 1, 0, 0, 0])},\n",
       " {'emoji': '😫',\n",
       "  'name': 'tired_face',\n",
       "  'polarity': array([0, 0, 0, 1, 0, 0, 0, 0, 0, 0, 0])},\n",
       " {'emoji': '😤',\n",
       "  'name': 'triumph',\n",
       "  'polarity': array([0, 0, 0, 0, 0, 1, 0, 0, 0, 0, 0])},\n",
       " {'emoji': '💕',\n",
       "  'name': 'two_hearts',\n",
       "  'polarity': array([0, 0, 0, 0, 0, 0, 0, 0, 1, 0, 0])},\n",
       " {'emoji': '😒',\n",
       "  'name': 'unamused',\n",
       "  'polarity': array([0, 0, 0, 1, 0, 0, 0, 0, 0, 0, 0])},\n",
       " {'emoji': '🙃',\n",
       "  'name': 'upside_down_face',\n",
       "  'polarity': array([0, 0, 0, 0, 0, 1, 0, 0, 0, 0, 0])},\n",
       " {'emoji': '✌️',\n",
       "  'name': 'v',\n",
       "  'polarity': array([0, 0, 0, 0, 0, 0, 0, 1, 0, 0, 0])},\n",
       " {'emoji': '😩',\n",
       "  'name': 'weary',\n",
       "  'polarity': array([0, 0, 0, 1, 0, 0, 0, 0, 0, 0, 0])},\n",
       " {'emoji': '😉',\n",
       "  'name': 'wink',\n",
       "  'polarity': array([0, 0, 0, 0, 0, 0, 0, 0, 1, 0, 0])},\n",
       " {'emoji': '😟',\n",
       "  'name': 'worried',\n",
       "  'polarity': array([0, 0, 1, 0, 0, 0, 0, 0, 0, 0, 0])},\n",
       " {'emoji': '💛',\n",
       "  'name': 'yellow_heart',\n",
       "  'polarity': array([0, 0, 0, 0, 0, 0, 0, 0, 1, 0, 0])},\n",
       " {'emoji': '😋',\n",
       "  'name': 'yum',\n",
       "  'polarity': array([0, 0, 0, 0, 0, 0, 0, 0, 1, 0, 0])},\n",
       " {'emoji': '🤐',\n",
       "  'name': 'zipper_mouth_face',\n",
       "  'polarity': array([0, 0, 0, 0, 1, 0, 0, 0, 0, 0, 0])}]"
      ]
     },
     "execution_count": 18,
     "metadata": {},
     "output_type": "execute_result"
    }
   ],
   "source": [
    "import json\n",
    "with open('./data/index.json') as emojiFile:\n",
    "    emoji_valence = json.load(emojiFile)\n",
    "\n",
    "for elmt in emoji_valence:\n",
    "    val = elmt['polarity']\n",
    "    elmt['polarity'] = val_to_list(val)\n",
    "emoji_valence"
   ]
  },
  {
   "cell_type": "code",
   "execution_count": 19,
   "metadata": {
    "collapsed": true
   },
   "outputs": [],
   "source": [
    "emolex = pd.read_csv('TP_transfer_learning_2018/EmoLex.txt', sep='\\t')"
   ]
  },
  {
   "cell_type": "code",
   "execution_count": 20,
   "metadata": {
    "collapsed": true
   },
   "outputs": [],
   "source": [
    "positive_words = []\n",
    "negative_words = []\n",
    "\n",
    "with open('data/positive-words.txt') as positive_file, open('data/negative-words.txt', encoding='ISO-8859-1') as negative_file:\n",
    "    for _ in range(35):\n",
    "        next(positive_file)\n",
    "        next(negative_file)\n",
    "        \n",
    "    for line in positive_file:\n",
    "        positive_words.append(line)\n",
    "    for line in negative_file:\n",
    "        negative_words.append(line)"
   ]
  },
  {
   "cell_type": "code",
   "execution_count": 60,
   "metadata": {
    "ExecuteTime": {
     "end_time": "2018-11-02T16:08:37.757213Z",
     "start_time": "2018-11-02T16:08:36.846432Z"
    }
   },
   "outputs": [
    {
     "name": "stdout",
     "output_type": "stream",
     "text": [
      "[0 0 0 0 0 0 0 0 0 0]\n",
      "(300,)\n",
      "(4178, 342)\n"
     ]
    }
   ],
   "source": [
    "targets = to_categorical(sentiments, 7)\n",
    "nb_words = len(word_index) + 1\n",
    "\n",
    "EMBEDDING_DIM = 300\n",
    "EMOLEX_DIM = 10\n",
    "OLE_DIM = 2\n",
    "EMOJI_VALENCE_DIM = 11\n",
    "AFINN_DIM = 11 \n",
    "DEPECHE_MOOD_DIM = 8\n",
    "embedding_matrix = np.zeros((nb_words, EMBEDDING_DIM + EMOLEX_DIM + OLE_DIM + AFINN_DIM + DEPECHE_MOOD_DIM + EMOJI_VALENCE_DIM))\n",
    "\n",
    "oov = []  # Out of vocabulary\n",
    "oov.append((np.random.rand(EMBEDDING_DIM) * 2.0) - 1.0)\n",
    "oov = np.full(EMBEDDING_DIM, 0)\n",
    "#oov = oov / np.linalg.norm(oov)\n",
    "empty_afinn = np.full(11, 0)\n",
    "empty_emoji = np.full(11, 0)\n",
    "empty_emolex = np.full(10, 0)\n",
    "empty_depeche = np.full(8, 0)\n",
    "\n",
    "\n",
    "print(empty_emolex)\n",
    "print(oov.shape)\n",
    "\n",
    "for word, i in word_index.items():\n",
    "    emoji_val = 0\n",
    "    \n",
    "    word_vector = oov\n",
    "    if word in w2v.vocab:\n",
    "        word_vector = w2v.word_vec(word)\n",
    "\n",
    "    emolex_row = emolex.loc[emolex['word'] == word]\n",
    "    if emolex_row.empty:\n",
    "        word_vector = np.append(word_vector, empty_emolex)\n",
    "    else:\n",
    "        word_vector = np.append(word_vector, emolex_row.values.tolist()[0][1:])\n",
    "        \n",
    "    depeche_row = DepecheMoodpp.loc[DepecheMoodpp['word'] == word]\n",
    "    if depeche_row.empty:\n",
    "        word_vector = np.append(word_vector, empty_depeche)\n",
    "    else:\n",
    "        word_vector = np.append(word_vector, depeche_row.values.tolist()[0][1:9])\n",
    "        \n",
    "    ole_val = [0, 0]\n",
    "    if word in positive_words:\n",
    "        ole_val = [1, 0]\n",
    "    elif word in negative_words:\n",
    "        ole_val = [0, 1]\n",
    "    word_vector = np.append(word_vector, ole_val)\n",
    "    \n",
    "    afinn_val = empty_afinn\n",
    "    emoji_val = empty_emoji\n",
    "    \n",
    "    afinn_row = afinn.loc[afinn['word'] == word]\n",
    "    if not afinn_row.empty:\n",
    "        afinn_val = afinn_row['val'].item()\n",
    "    else:\n",
    "        for emoji in emoji_valence:\n",
    "            if word == emoji['emoji']:\n",
    "                emoji_val = emoji['polarity']\n",
    "\n",
    "    word_vector = np.append(word_vector, afinn_val)\n",
    "    \n",
    "    word_vector = np.append(word_vector, emoji_val)\n",
    "    \n",
    "    embedding_matrix[i] = word_vector\n",
    "\n",
    "        \n",
    "print(embedding_matrix.shape)"
   ]
  },
  {
   "cell_type": "code",
   "execution_count": 41,
   "metadata": {},
   "outputs": [],
   "source": [
    "import json\n",
    "import pickle\n",
    "\n",
    "file = open('pickles/embedding_matrix_7', 'wb')\n",
    "pickle.dump(embedding_matrix, file)"
   ]
  },
  {
   "cell_type": "code",
   "execution_count": null,
   "metadata": {
    "ExecuteTime": {
     "end_time": "2018-11-02T16:08:50.837607Z",
     "start_time": "2018-11-02T16:08:50.244263Z"
    },
    "collapsed": true
   },
   "outputs": [],
   "source": [
    "# Claim memory back from this very large object we don't use anymore\n",
    "del w2v"
   ]
  },
  {
   "cell_type": "code",
   "execution_count": 22,
   "metadata": {
    "ExecuteTime": {
     "end_time": "2018-11-02T16:08:57.730818Z",
     "start_time": "2018-11-02T16:08:57.683854Z"
    }
   },
   "outputs": [
    {
     "name": "stdout",
     "output_type": "stream",
     "text": [
      "training set: 35233 samples\n",
      "validation set: 15100 samples\n",
      "x_train: (35233, 32)\n",
      "y_train: (35233, 3)\n"
     ]
    }
   ],
   "source": [
    "X_train, X_val, y_train, y_val = train_test_split(train_sequences, targets, test_size=0.3)\n",
    "\n",
    "print('training set: ' + str(len(X_train)) + ' samples')\n",
    "print('validation set: ' + str(len(X_val)) + ' samples')\n",
    "\n",
    "print('x_train:', X_train.shape)\n",
    "print('y_train:', y_train.shape)"
   ]
  },
  {
   "cell_type": "code",
   "execution_count": 23,
   "metadata": {
    "ExecuteTime": {
     "end_time": "2018-11-02T16:09:15.806909Z",
     "start_time": "2018-11-02T16:09:15.783955Z"
    },
    "collapsed": true
   },
   "outputs": [],
   "source": [
    "def model_2017():\n",
    "    vocab_size = embedding_matrix.shape[0]\n",
    "    embedding_size = embedding_matrix.shape[1]\n",
    "\n",
    "    model = Sequential()\n",
    "    model.add(Embedding(vocab_size, embedding_size, weights=[embedding_matrix], \n",
    "                        input_length=MAX_SEQUENCE_LENGTH, trainable=False, name='embedding_layer'))\n",
    "    model.add(GaussianNoise(0.3))\n",
    "    # model.add(SpatialDropout1D(0.3))\n",
    "    model.add(Dropout(0.3))\n",
    "    model.add(Bidirectional(LSTM(150, recurrent_dropout=0.3, return_sequences=True)))\n",
    "    # model.add(Dropout(0.5))\n",
    "    model.add(Dropout(0.3))\n",
    "    model.add(Bidirectional(LSTM(150, recurrent_dropout=0.3, return_sequences=True)))\n",
    "    model.add(Dropout(0.3))\n",
    "    model.add(Flatten())\n",
    "    model.add(Dense(3, activity_regularizer=l2(1e-4)))\n",
    "    model.add(Activation('softmax'))\n",
    "\n",
    "    # RMSprop or lr=1e-3\n",
    "    model.compile(loss='categorical_crossentropy', optimizer=Adam(lr=1e-2), metrics=['acc'])\n",
    "\n",
    "    print(model.summary())\n",
    "    \n",
    "    return model\n",
    "\n",
    "def model_mine():\n",
    "    vocab_size = embedding_matrix.shape[0]\n",
    "    embedding_size = embedding_matrix.shape[1]\n",
    "\n",
    "    model = Sequential()\n",
    "    model.add(Embedding(vocab_size, embedding_size, weights=[embedding_matrix], \n",
    "                        input_length=MAX_SEQUENCE_LENGTH, trainable=False, name='embedding_layer'))\n",
    "    model.add(Dropout(0.3))\n",
    "    model.add(Bidirectional(LSTM(150, return_sequences=True)))\n",
    "    model.add(Dropout(0.5))\n",
    "    model.add(Bidirectional(LSTM(150, return_sequences=True)))\n",
    "    model.add(Dropout(0.5))\n",
    "    model.add(Flatten())\n",
    "    model.add(Dense(3, activation='softmax'))\n",
    "\n",
    "    model.compile(loss='categorical_crossentropy', optimizer='adam', metrics=['acc'])\n",
    "\n",
    "    print(model.summary())\n",
    "    \n",
    "    return model"
   ]
  },
  {
   "cell_type": "code",
   "execution_count": 24,
   "metadata": {
    "ExecuteTime": {
     "end_time": "2018-11-02T16:09:36.408075Z",
     "start_time": "2018-11-02T16:09:31.620856Z"
    }
   },
   "outputs": [
    {
     "name": "stdout",
     "output_type": "stream",
     "text": [
      "_________________________________________________________________\n",
      "Layer (type)                 Output Shape              Param #   \n",
      "=================================================================\n",
      "embedding_layer (Embedding)  (None, 32, 342)           12643056  \n",
      "_________________________________________________________________\n",
      "dropout_1 (Dropout)          (None, 32, 342)           0         \n",
      "_________________________________________________________________\n",
      "bidirectional_1 (Bidirection (None, 32, 300)           591600    \n",
      "_________________________________________________________________\n",
      "dropout_2 (Dropout)          (None, 32, 300)           0         \n",
      "_________________________________________________________________\n",
      "bidirectional_2 (Bidirection (None, 32, 300)           541200    \n",
      "_________________________________________________________________\n",
      "dropout_3 (Dropout)          (None, 32, 300)           0         \n",
      "_________________________________________________________________\n",
      "flatten_1 (Flatten)          (None, 9600)              0         \n",
      "_________________________________________________________________\n",
      "dense_1 (Dense)              (None, 3)                 28803     \n",
      "=================================================================\n",
      "Total params: 13,804,659\n",
      "Trainable params: 1,161,603\n",
      "Non-trainable params: 12,643,056\n",
      "_________________________________________________________________\n",
      "None\n"
     ]
    }
   ],
   "source": [
    "model = model_mine()"
   ]
  },
  {
   "cell_type": "code",
   "execution_count": 25,
   "metadata": {
    "ExecuteTime": {
     "end_time": "2018-11-02T16:21:01.838358Z",
     "start_time": "2018-11-02T16:09:52.662125Z"
    }
   },
   "outputs": [
    {
     "name": "stdout",
     "output_type": "stream",
     "text": [
      "Train on 35233 samples, validate on 15100 samples\n",
      "Epoch 1/5\n",
      "35233/35233 [==============================] - 230s 7ms/step - loss: 0.8657 - acc: 0.5795 - val_loss: 0.8091 - val_acc: 0.6175\n",
      "Epoch 2/5\n",
      "35233/35233 [==============================] - 228s 6ms/step - loss: 0.8139 - acc: 0.6142 - val_loss: 0.7925 - val_acc: 0.6293\n",
      "Epoch 3/5\n",
      "35233/35233 [==============================] - 225s 6ms/step - loss: 0.7899 - acc: 0.6295 - val_loss: 0.7723 - val_acc: 0.6363\n",
      "Epoch 4/5\n",
      "28544/35233 [=======================>......] - ETA: 37s - loss: 0.7701 - acc: 0.6386"
     ]
    },
    {
     "ename": "KeyboardInterrupt",
     "evalue": "",
     "output_type": "error",
     "traceback": [
      "\u001b[0;31m---------------------------------------------------------------------------\u001b[0m",
      "\u001b[0;31mKeyboardInterrupt\u001b[0m                         Traceback (most recent call last)",
      "\u001b[0;32m<ipython-input-25-bfa6bef96726>\u001b[0m in \u001b[0;36m<module>\u001b[0;34m()\u001b[0m\n\u001b[0;32m----> 1\u001b[0;31m \u001b[0mmodel\u001b[0m\u001b[0;34m.\u001b[0m\u001b[0mfit\u001b[0m\u001b[0;34m(\u001b[0m\u001b[0mX_train\u001b[0m\u001b[0;34m,\u001b[0m \u001b[0my_train\u001b[0m\u001b[0;34m,\u001b[0m \u001b[0mbatch_size\u001b[0m\u001b[0;34m=\u001b[0m\u001b[0;36m128\u001b[0m\u001b[0;34m,\u001b[0m \u001b[0mvalidation_data\u001b[0m\u001b[0;34m=\u001b[0m\u001b[0;34m(\u001b[0m\u001b[0mX_val\u001b[0m\u001b[0;34m,\u001b[0m \u001b[0my_val\u001b[0m\u001b[0;34m)\u001b[0m\u001b[0;34m,\u001b[0m \u001b[0mepochs\u001b[0m\u001b[0;34m=\u001b[0m\u001b[0;36m5\u001b[0m\u001b[0;34m)\u001b[0m\u001b[0;34m\u001b[0m\u001b[0m\n\u001b[0m",
      "\u001b[0;32m~/anaconda3/lib/python3.6/site-packages/keras/engine/training.py\u001b[0m in \u001b[0;36mfit\u001b[0;34m(self, x, y, batch_size, epochs, verbose, callbacks, validation_split, validation_data, shuffle, class_weight, sample_weight, initial_epoch, steps_per_epoch, validation_steps, **kwargs)\u001b[0m\n\u001b[1;32m   1037\u001b[0m                                         \u001b[0minitial_epoch\u001b[0m\u001b[0;34m=\u001b[0m\u001b[0minitial_epoch\u001b[0m\u001b[0;34m,\u001b[0m\u001b[0;34m\u001b[0m\u001b[0m\n\u001b[1;32m   1038\u001b[0m                                         \u001b[0msteps_per_epoch\u001b[0m\u001b[0;34m=\u001b[0m\u001b[0msteps_per_epoch\u001b[0m\u001b[0;34m,\u001b[0m\u001b[0;34m\u001b[0m\u001b[0m\n\u001b[0;32m-> 1039\u001b[0;31m                                         validation_steps=validation_steps)\n\u001b[0m\u001b[1;32m   1040\u001b[0m \u001b[0;34m\u001b[0m\u001b[0m\n\u001b[1;32m   1041\u001b[0m     def evaluate(self, x=None, y=None,\n",
      "\u001b[0;32m~/anaconda3/lib/python3.6/site-packages/keras/engine/training_arrays.py\u001b[0m in \u001b[0;36mfit_loop\u001b[0;34m(model, f, ins, out_labels, batch_size, epochs, verbose, callbacks, val_f, val_ins, shuffle, callback_metrics, initial_epoch, steps_per_epoch, validation_steps)\u001b[0m\n\u001b[1;32m    197\u001b[0m                     \u001b[0mins_batch\u001b[0m\u001b[0;34m[\u001b[0m\u001b[0mi\u001b[0m\u001b[0;34m]\u001b[0m \u001b[0;34m=\u001b[0m \u001b[0mins_batch\u001b[0m\u001b[0;34m[\u001b[0m\u001b[0mi\u001b[0m\u001b[0;34m]\u001b[0m\u001b[0;34m.\u001b[0m\u001b[0mtoarray\u001b[0m\u001b[0;34m(\u001b[0m\u001b[0;34m)\u001b[0m\u001b[0;34m\u001b[0m\u001b[0m\n\u001b[1;32m    198\u001b[0m \u001b[0;34m\u001b[0m\u001b[0m\n\u001b[0;32m--> 199\u001b[0;31m                 \u001b[0mouts\u001b[0m \u001b[0;34m=\u001b[0m \u001b[0mf\u001b[0m\u001b[0;34m(\u001b[0m\u001b[0mins_batch\u001b[0m\u001b[0;34m)\u001b[0m\u001b[0;34m\u001b[0m\u001b[0m\n\u001b[0m\u001b[1;32m    200\u001b[0m                 \u001b[0mouts\u001b[0m \u001b[0;34m=\u001b[0m \u001b[0mto_list\u001b[0m\u001b[0;34m(\u001b[0m\u001b[0mouts\u001b[0m\u001b[0;34m)\u001b[0m\u001b[0;34m\u001b[0m\u001b[0m\n\u001b[1;32m    201\u001b[0m                 \u001b[0;32mfor\u001b[0m \u001b[0ml\u001b[0m\u001b[0;34m,\u001b[0m \u001b[0mo\u001b[0m \u001b[0;32min\u001b[0m \u001b[0mzip\u001b[0m\u001b[0;34m(\u001b[0m\u001b[0mout_labels\u001b[0m\u001b[0;34m,\u001b[0m \u001b[0mouts\u001b[0m\u001b[0;34m)\u001b[0m\u001b[0;34m:\u001b[0m\u001b[0;34m\u001b[0m\u001b[0m\n",
      "\u001b[0;32m~/anaconda3/lib/python3.6/site-packages/keras/backend/tensorflow_backend.py\u001b[0m in \u001b[0;36m__call__\u001b[0;34m(self, inputs)\u001b[0m\n\u001b[1;32m   2713\u001b[0m                 \u001b[0;32mreturn\u001b[0m \u001b[0mself\u001b[0m\u001b[0;34m.\u001b[0m\u001b[0m_legacy_call\u001b[0m\u001b[0;34m(\u001b[0m\u001b[0minputs\u001b[0m\u001b[0;34m)\u001b[0m\u001b[0;34m\u001b[0m\u001b[0m\n\u001b[1;32m   2714\u001b[0m \u001b[0;34m\u001b[0m\u001b[0m\n\u001b[0;32m-> 2715\u001b[0;31m             \u001b[0;32mreturn\u001b[0m \u001b[0mself\u001b[0m\u001b[0;34m.\u001b[0m\u001b[0m_call\u001b[0m\u001b[0;34m(\u001b[0m\u001b[0minputs\u001b[0m\u001b[0;34m)\u001b[0m\u001b[0;34m\u001b[0m\u001b[0m\n\u001b[0m\u001b[1;32m   2716\u001b[0m         \u001b[0;32melse\u001b[0m\u001b[0;34m:\u001b[0m\u001b[0;34m\u001b[0m\u001b[0m\n\u001b[1;32m   2717\u001b[0m             \u001b[0;32mif\u001b[0m \u001b[0mpy_any\u001b[0m\u001b[0;34m(\u001b[0m\u001b[0mis_tensor\u001b[0m\u001b[0;34m(\u001b[0m\u001b[0mx\u001b[0m\u001b[0;34m)\u001b[0m \u001b[0;32mfor\u001b[0m \u001b[0mx\u001b[0m \u001b[0;32min\u001b[0m \u001b[0minputs\u001b[0m\u001b[0;34m)\u001b[0m\u001b[0;34m:\u001b[0m\u001b[0;34m\u001b[0m\u001b[0m\n",
      "\u001b[0;32m~/anaconda3/lib/python3.6/site-packages/keras/backend/tensorflow_backend.py\u001b[0m in \u001b[0;36m_call\u001b[0;34m(self, inputs)\u001b[0m\n\u001b[1;32m   2673\u001b[0m             \u001b[0mfetched\u001b[0m \u001b[0;34m=\u001b[0m \u001b[0mself\u001b[0m\u001b[0;34m.\u001b[0m\u001b[0m_callable_fn\u001b[0m\u001b[0;34m(\u001b[0m\u001b[0;34m*\u001b[0m\u001b[0marray_vals\u001b[0m\u001b[0;34m,\u001b[0m \u001b[0mrun_metadata\u001b[0m\u001b[0;34m=\u001b[0m\u001b[0mself\u001b[0m\u001b[0;34m.\u001b[0m\u001b[0mrun_metadata\u001b[0m\u001b[0;34m)\u001b[0m\u001b[0;34m\u001b[0m\u001b[0m\n\u001b[1;32m   2674\u001b[0m         \u001b[0;32melse\u001b[0m\u001b[0;34m:\u001b[0m\u001b[0;34m\u001b[0m\u001b[0m\n\u001b[0;32m-> 2675\u001b[0;31m             \u001b[0mfetched\u001b[0m \u001b[0;34m=\u001b[0m \u001b[0mself\u001b[0m\u001b[0;34m.\u001b[0m\u001b[0m_callable_fn\u001b[0m\u001b[0;34m(\u001b[0m\u001b[0;34m*\u001b[0m\u001b[0marray_vals\u001b[0m\u001b[0;34m)\u001b[0m\u001b[0;34m\u001b[0m\u001b[0m\n\u001b[0m\u001b[1;32m   2676\u001b[0m         \u001b[0;32mreturn\u001b[0m \u001b[0mfetched\u001b[0m\u001b[0;34m[\u001b[0m\u001b[0;34m:\u001b[0m\u001b[0mlen\u001b[0m\u001b[0;34m(\u001b[0m\u001b[0mself\u001b[0m\u001b[0;34m.\u001b[0m\u001b[0moutputs\u001b[0m\u001b[0;34m)\u001b[0m\u001b[0;34m]\u001b[0m\u001b[0;34m\u001b[0m\u001b[0m\n\u001b[1;32m   2677\u001b[0m \u001b[0;34m\u001b[0m\u001b[0m\n",
      "\u001b[0;32m~/anaconda3/lib/python3.6/site-packages/tensorflow/python/client/session.py\u001b[0m in \u001b[0;36m__call__\u001b[0;34m(self, *args, **kwargs)\u001b[0m\n\u001b[1;32m   1397\u001b[0m           ret = tf_session.TF_SessionRunCallable(\n\u001b[1;32m   1398\u001b[0m               \u001b[0mself\u001b[0m\u001b[0;34m.\u001b[0m\u001b[0m_session\u001b[0m\u001b[0;34m.\u001b[0m\u001b[0m_session\u001b[0m\u001b[0;34m,\u001b[0m \u001b[0mself\u001b[0m\u001b[0;34m.\u001b[0m\u001b[0m_handle\u001b[0m\u001b[0;34m,\u001b[0m \u001b[0margs\u001b[0m\u001b[0;34m,\u001b[0m \u001b[0mstatus\u001b[0m\u001b[0;34m,\u001b[0m\u001b[0;34m\u001b[0m\u001b[0m\n\u001b[0;32m-> 1399\u001b[0;31m               run_metadata_ptr)\n\u001b[0m\u001b[1;32m   1400\u001b[0m         \u001b[0;32mif\u001b[0m \u001b[0mrun_metadata\u001b[0m\u001b[0;34m:\u001b[0m\u001b[0;34m\u001b[0m\u001b[0m\n\u001b[1;32m   1401\u001b[0m           \u001b[0mproto_data\u001b[0m \u001b[0;34m=\u001b[0m \u001b[0mtf_session\u001b[0m\u001b[0;34m.\u001b[0m\u001b[0mTF_GetBuffer\u001b[0m\u001b[0;34m(\u001b[0m\u001b[0mrun_metadata_ptr\u001b[0m\u001b[0;34m)\u001b[0m\u001b[0;34m\u001b[0m\u001b[0m\n",
      "\u001b[0;31mKeyboardInterrupt\u001b[0m: "
     ]
    }
   ],
   "source": [
    "model.fit(X_train, y_train, batch_size=128, validation_data=(X_val, y_val), epochs=5)"
   ]
  },
  {
   "cell_type": "code",
   "execution_count": null,
   "metadata": {
    "ExecuteTime": {
     "end_time": "2018-11-02T16:26:27.712496Z",
     "start_time": "2018-11-02T16:26:26.929262Z"
    },
    "collapsed": true
   },
   "outputs": [],
   "source": [
    "# model.save('pickles/train_3_66.7-emb_dr3_bi_dr5_bi_dr4.h5')"
   ]
  },
  {
   "cell_type": "code",
   "execution_count": null,
   "metadata": {
    "ExecuteTime": {
     "end_time": "2018-11-02T17:02:42.994665Z",
     "start_time": "2018-11-02T17:02:33.933385Z"
    },
    "collapsed": true
   },
   "outputs": [],
   "source": [
    "model = load_model('pickles/train_3_66.7-emb_dr3_bi_dr5_bi_dr4.h5')"
   ]
  },
  {
   "cell_type": "code",
   "execution_count": null,
   "metadata": {
    "ExecuteTime": {
     "end_time": "2018-11-02T17:07:23.324617Z",
     "start_time": "2018-11-02T17:02:49.214832Z"
    },
    "collapsed": true
   },
   "outputs": [],
   "source": [
    "model.fit(X_train, y_train, batch_size=128, validation_data=(X_val, y_val), epochs=10, initial_epoch=5)"
   ]
  },
  {
   "cell_type": "code",
   "execution_count": null,
   "metadata": {
    "ExecuteTime": {
     "end_time": "2018-11-02T17:17:07.118180Z",
     "start_time": "2018-11-02T17:17:05.924679Z"
    },
    "collapsed": true
   },
   "outputs": [],
   "source": [
    "model.save('pickles/train_3_67.2-emb_dr3_bi_dr5_bi_dr4.h5')"
   ]
  },
  {
   "cell_type": "code",
   "execution_count": null,
   "metadata": {
    "ExecuteTime": {
     "end_time": "2018-11-02T17:20:10.422105Z",
     "start_time": "2018-11-02T17:18:42.230547Z"
    },
    "collapsed": true
   },
   "outputs": [],
   "source": [
    "loss, acc = model.evaluate(X_val, y_val)\n",
    "\n",
    "print(f'val_loss: {loss}\\nval_acc: {acc}')"
   ]
  },
  {
   "cell_type": "markdown",
   "metadata": {
    "heading_collapsed": true
   },
   "source": [
    "### Bi-derectional LSTM x2"
   ]
  },
  {
   "cell_type": "code",
   "execution_count": null,
   "metadata": {
    "ExecuteTime": {
     "end_time": "2018-10-31T20:19:53.195177Z",
     "start_time": "2018-10-31T19:36:32.457074Z"
    },
    "collapsed": true,
    "hidden": true,
    "scrolled": true
   },
   "outputs": [],
   "source": [
    "model.fit(X_train, y_train, batch_size=128, validation_data=(X_val, y_val), epochs=20)"
   ]
  },
  {
   "cell_type": "markdown",
   "metadata": {},
   "source": [
    "## Transfer Learning"
   ]
  },
  {
   "cell_type": "code",
   "execution_count": null,
   "metadata": {
    "ExecuteTime": {
     "end_time": "2018-11-02T17:38:20.715325Z",
     "start_time": "2018-11-02T17:38:08.358535Z"
    },
    "collapsed": true
   },
   "outputs": [],
   "source": [
    "model = load_model('pickles/train_3_67.2-emb_dr3_bi_dr5_bi_dr4.h5')\n",
    "\n",
    "model.layers.pop()\n",
    "model.layers.pop()\n",
    "for layer in model.layers:\n",
    "    layer.trainable = False\n",
    "model.add(Dense(150, activation='relu'))\n",
    "# model.add(Flatten())\n",
    "model.add(Dense(7, activation='softmax'))\n",
    "model.compile(loss='categorical_crossentropy', optimizer='adam', metrics=['acc'])\n",
    "print(model.summary())"
   ]
  },
  {
   "cell_type": "code",
   "execution_count": null,
   "metadata": {
    "collapsed": true
   },
   "outputs": [],
   "source": [
    "history = model.fit(x_train_7, y_train_7, validation_data=(x_val_7,y_val_7), epochs=11, batch_size=50)"
   ]
  },
  {
   "cell_type": "markdown",
   "metadata": {
    "heading_collapsed": true
   },
   "source": [
    "### Logistic Regression"
   ]
  },
  {
   "cell_type": "code",
   "execution_count": null,
   "metadata": {
    "ExecuteTime": {
     "end_time": "2018-10-20T21:33:38.790775Z",
     "start_time": "2018-10-20T21:33:37.153969Z"
    },
    "collapsed": true,
    "hidden": true
   },
   "outputs": [],
   "source": [
    "from sklearn.feature_extraction.text import CountVectorizer\n",
    "\n",
    "cv = CountVectorizer(binary=True)\n",
    "\n",
    "X = cv.fit_transform(tweets['Tweet'])\n",
    "target = tweets['Sentiment']"
   ]
  },
  {
   "cell_type": "code",
   "execution_count": null,
   "metadata": {
    "ExecuteTime": {
     "end_time": "2018-10-20T21:33:54.361787Z",
     "start_time": "2018-10-20T21:33:38.793650Z"
    },
    "collapsed": true,
    "hidden": true
   },
   "outputs": [],
   "source": [
    "from sklearn.linear_model import LogisticRegression\n",
    "from sklearn.metrics import accuracy_score\n",
    "from sklearn.model_selection import train_test_split\n",
    "\n",
    "\n",
    "X_train, X_val, y_train, y_val = train_test_split(X, target)\n",
    "\n",
    "for c in [0.01, 0.05, 0.25, 0.5, 1]:\n",
    "    lr = LogisticRegression(C=c, solver='saga', multi_class='auto')\n",
    "    lr.fit(X_train, y_train)\n",
    "    print (\"Accuracy for C=%s: %s\" % (c, accuracy_score(y_val, lr.predict(X_val))))"
   ]
  },
  {
   "cell_type": "markdown",
   "metadata": {
    "heading_collapsed": true,
    "hidden": true
   },
   "source": [
    "#### Best and worst features"
   ]
  },
  {
   "cell_type": "code",
   "execution_count": null,
   "metadata": {
    "ExecuteTime": {
     "end_time": "2018-10-20T21:35:18.047652Z",
     "start_time": "2018-10-20T21:35:17.534418Z"
    },
    "collapsed": true,
    "hidden": true
   },
   "outputs": [],
   "source": [
    "feature_to_coef = {word: coef for word, coef in zip(cv.get_feature_names(), lr.coef_[0])}\n",
    "\n",
    "for best_positive in sorted(feature_to_coef.items(), key=lambda x: x[1])[:5]:\n",
    "    print (best_positive)\n",
    "    \n",
    "print()\n",
    "for best_negative in sorted(feature_to_coef.items(), key=lambda x: x[1], reverse=True)[:5]:\n",
    "    print (best_negative)"
   ]
  },
  {
   "cell_type": "markdown",
   "metadata": {},
   "source": [
    "## Learning (pseudo-code)"
   ]
  },
  {
   "cell_type": "code",
   "execution_count": null,
   "metadata": {
    "ExecuteTime": {
     "end_time": "2018-10-20T18:58:24.330024Z",
     "start_time": "2018-10-20T18:58:24.280540Z"
    },
    "collapsed": true
   },
   "outputs": [],
   "source": [
    "# transfer:\n",
    "\n",
    "model.layers.pop()\n",
    "model.layers.pop()\n",
    "for layer in model.layers:\n",
    "    layer.trainable = False\n",
    "Dense(150, 'relu')\n",
    "Dense(64, 'relu')\n",
    "Dense(7, 'softmax')\n",
    "model.compile(optimizer='rmsprop', loss='categorical_crossentropy', metrics=['accuracy'])"
   ]
  },
  {
   "cell_type": "markdown",
   "metadata": {},
   "source": [
    "## Notes\n",
    "* Télécharger 50 millions de tweets pour le word2vec\n",
    "* Metric pour le script du prof: pearson\n",
    "* Utiliser pearson au lieu d'accuracy\n",
    "* L'année dernière le prof a eu 78% accuracy \n",
    "\n",
    "**Output attendu**: produire un fichier avec les mêmes noms de cartégories sur un fichier de test façon kaggle"
   ]
  },
  {
   "cell_type": "code",
   "execution_count": null,
   "metadata": {
    "collapsed": true
   },
   "outputs": [],
   "source": []
  }
 ],
 "metadata": {
  "kernelspec": {
   "display_name": "Python 3",
   "language": "python",
   "name": "python3"
  },
  "language_info": {
   "codemirror_mode": {
    "name": "ipython",
    "version": 3
   },
   "file_extension": ".py",
   "mimetype": "text/x-python",
   "name": "python",
   "nbconvert_exporter": "python",
   "pygments_lexer": "ipython3",
   "version": "3.6.6"
  }
 },
 "nbformat": 4,
 "nbformat_minor": 2
}
