{
 "cells": [
  {
   "cell_type": "code",
   "execution_count": null,
   "metadata": {
    "ExecuteTime": {
     "end_time": "2018-10-24T13:30:02.777559Z",
     "start_time": "2018-10-24T13:29:59.996642Z"
    },
    "collapsed": true
   },
   "outputs": [],
   "source": [
    "# import tensorflow as tf\n",
    "# from keras import backend as K\n",
    "\n",
    "# num_cores = 4\n",
    "# CPU = True\n",
    "# GPU = False\n",
    "\n",
    "# if GPU:\n",
    "#     num_GPU = 1\n",
    "#     num_CPU = 1\n",
    "# if CPU:\n",
    "#     num_CPU = 1\n",
    "#     num_GPU = 0\n",
    "\n",
    "# config = tf.ConfigProto(intra_op_parallelism_threads=num_cores,\\\n",
    "#         inter_op_parallelism_threads=num_cores, allow_soft_placement=True,\\\n",
    "#         device_count = {'CPU' : num_CPU, 'GPU' : num_GPU})\n",
    "# session = tf.Session(config=config)\n",
    "# K.set_session(session)"
   ]
  },
  {
   "cell_type": "code",
   "execution_count": null,
   "metadata": {
    "ExecuteTime": {
     "end_time": "2018-11-02T17:02:29.357900Z",
     "start_time": "2018-11-02T17:02:29.317769Z"
    }
   },
   "outputs": [],
   "source": [
    "import numpy as np\n",
    "import pandas as pd\n",
    "from keras.preprocessing.text import *\n",
    "import matplotlib.pyplot as plt\n",
    "from tokenizer import tokenizer as tweet_tokenizer\n",
    "from keras.utils.np_utils import to_categorical\n",
    "from keras.preprocessing.sequence import pad_sequences\n",
    "from keras.preprocessing.text import Tokenizer\n",
    "from keras.layers import *\n",
    "from gensim.models import KeyedVectors\n",
    "from sklearn.model_selection import train_test_split\n",
    "from keras.models import Sequential\n",
    "from keras.optimizers import * \n",
    "from keras.regularizers import *\n",
    "from keras.models import load_model\n",
    "\n",
    "\n",
    "%matplotlib inline\n",
    "\n",
    "PATH = './data'\n",
    "\n",
    "train_3 = f'{PATH}/data_train_3.csv'\n",
    "test_3 = f'{PATH}/data_test_3.csv'\n",
    "train_7 = f'{PATH}/data_train_7.csv'\n",
    "train_16m_3 = f'{PATH}/training.1600000.processed.noemoticon.csv'"
   ]
  },
  {
   "cell_type": "markdown",
   "metadata": {},
   "source": [
    "## One hot sample"
   ]
  },
  {
   "cell_type": "code",
   "execution_count": null,
   "metadata": {
    "ExecuteTime": {
     "end_time": "2018-10-20T19:13:44.756774Z",
     "start_time": "2018-10-20T19:13:44.742287Z"
    }
   },
   "outputs": [],
   "source": [
    "text = 'The quick brown fox jumped over the lazy dog.'\n",
    "\n",
    "words = set(text_to_word_sequence(text))\n",
    "vocab_size = len(words)\n",
    "print(vocab_size)\n",
    "\n",
    "result = one_hot(text, round(vocab_size*1.3))\n",
    "print(result)"
   ]
  },
  {
   "cell_type": "markdown",
   "metadata": {},
   "source": [
    "## Tweet Tokenizer sample"
   ]
  },
  {
   "cell_type": "code",
   "execution_count": null,
   "metadata": {
    "ExecuteTime": {
     "end_time": "2018-10-24T12:46:21.628712Z",
     "start_time": "2018-10-24T12:46:21.609088Z"
    }
   },
   "outputs": [],
   "source": [
    "T = tweet_tokenizer.TweetTokenizer(preserve_case=False, preserve_url=False)\n",
    "\n",
    "text = 'The quick brown fox jumped over the lazy dog.'\n",
    "\n",
    "T.tokenize(text)"
   ]
  },
  {
   "cell_type": "markdown",
   "metadata": {},
   "source": [
    "## Lemmatizer / Stemmer samples"
   ]
  },
  {
   "cell_type": "code",
   "execution_count": null,
   "metadata": {
    "ExecuteTime": {
     "end_time": "2018-10-20T19:18:52.094815Z",
     "start_time": "2018-10-20T19:18:52.072891Z"
    }
   },
   "outputs": [],
   "source": [
    "from nltk.stem import PorterStemmer, WordNetLemmatizer\n",
    " \n",
    "stemmer = PorterStemmer()\n",
    "lemmatiser = WordNetLemmatizer()\n",
    " \n",
    "print(\"Stem %s: %s\" % (\"studying\", stemmer.stem(\"studying\")))\n",
    "print(\"Lemmatise %s: %s\" % (\"studying\", lemmatiser.lemmatize(\"studying\")))\n",
    "print(\"Lemmatise %s: %s\" % (\"studying\", lemmatiser.lemmatize(\"studying\", pos=\"v\")))"
   ]
  },
  {
   "cell_type": "code",
   "execution_count": null,
   "metadata": {
    "ExecuteTime": {
     "end_time": "2018-10-20T19:26:23.149301Z",
     "start_time": "2018-10-20T19:26:23.130556Z"
    },
    "scrolled": true
   },
   "outputs": [],
   "source": [
    "from nltk import pos_tag\n",
    "from nltk.tokenize import word_tokenize\n",
    "from collections import defaultdict\n",
    "from nltk.corpus import wordnet as wn\n",
    "\n",
    "\n",
    "tag_map = defaultdict(lambda: wn.NOUN, {'J': wn.ADJ, 'V': wn.VERB, 'R': wn.ADV})\n",
    "\n",
    "s = \"This is a simple sentence that would be allowing us to try lemmatizing\"\n",
    "\n",
    "tokens = word_tokenize(s)\n",
    "tokens_pos = pos_tag(tokens)\n",
    " \n",
    "print(tokens_pos)\n",
    "\n",
    "\n",
    "lems = [lemmatiser.lemmatize(word, tag_map[pos[0]]) for word, pos in tokens_pos]\n",
    "print(lems)"
   ]
  },
  {
   "cell_type": "markdown",
   "metadata": {},
   "source": [
    "# Serious business"
   ]
  },
  {
   "cell_type": "markdown",
   "metadata": {
    "heading_collapsed": true
   },
   "source": [
    "## Preprocess Train_16m_3"
   ]
  },
  {
   "cell_type": "code",
   "execution_count": null,
   "metadata": {
    "ExecuteTime": {
     "end_time": "2018-11-01T11:34:00.813555Z",
     "start_time": "2018-11-01T11:33:55.355808Z"
    },
    "hidden": true
   },
   "outputs": [],
   "source": [
    "tweets_16m = pd.read_csv(train_16m_3, sep=',', encoding='latin-1').drop(columns=['date', 'flag', 'user'])\n",
    "\n",
    "print(tweets_16m.shape)\n",
    "tweets_16m.sample(5)"
   ]
  },
  {
   "cell_type": "code",
   "execution_count": null,
   "metadata": {
    "ExecuteTime": {
     "end_time": "2018-11-01T12:06:33.553573Z",
     "start_time": "2018-11-01T11:37:19.546472Z"
    },
    "collapsed": true,
    "hidden": true
   },
   "outputs": [],
   "source": [
    "from TP_transfer_learning_2018 import *\n",
    "from TP_transfer_learning_2018.preprocessing import standardization\n",
    "\n",
    "\n",
    "tweets_16m['target'] = tweets_16m['target'].apply(lambda x: {0: 0, 2: 1, 4: 2}[x])  # Neg (0), Neu (2), Pos (4)\n",
    "tweets_16m['text'] = tweets_16m['text'].apply(lambda x: standardization(x))"
   ]
  },
  {
   "cell_type": "code",
   "execution_count": null,
   "metadata": {
    "ExecuteTime": {
     "end_time": "2018-11-01T12:06:33.764607Z",
     "start_time": "2018-11-01T12:06:33.577280Z"
    },
    "collapsed": true,
    "hidden": true
   },
   "outputs": [],
   "source": [
    "display(tweets_16m.sample(5))\n",
    "tweets_16m.sample(5)['text'].iloc[0]"
   ]
  },
  {
   "cell_type": "code",
   "execution_count": null,
   "metadata": {
    "ExecuteTime": {
     "end_time": "2018-11-01T12:06:34.472709Z",
     "start_time": "2018-11-01T12:06:34.039450Z"
    },
    "collapsed": true,
    "hidden": true
   },
   "outputs": [],
   "source": [
    "tweets_16m.to_feather('pickles/train_16m_3.feather')"
   ]
  },
  {
   "cell_type": "markdown",
   "metadata": {},
   "source": [
    "## Preprocess Train_3"
   ]
  },
  {
   "cell_type": "code",
   "execution_count": null,
   "metadata": {
    "ExecuteTime": {
     "end_time": "2018-11-01T11:19:02.082629Z",
     "start_time": "2018-11-01T11:19:01.850229Z"
    }
   },
   "outputs": [],
   "source": [
    "tweets = pd.read_csv(train_3, sep='\\t', names=['ID', 'Class', 'Tweet'])\n",
    "\n",
    "tweets.shape"
   ]
  },
  {
   "cell_type": "code",
   "execution_count": null,
   "metadata": {
    "ExecuteTime": {
     "end_time": "2018-10-31T19:03:22.353439Z",
     "start_time": "2018-10-31T19:03:22.309694Z"
    }
   },
   "outputs": [],
   "source": [
    "tweets.sample(5)"
   ]
  },
  {
   "cell_type": "code",
   "execution_count": null,
   "metadata": {
    "ExecuteTime": {
     "end_time": "2018-11-01T11:20:34.446157Z",
     "start_time": "2018-11-01T11:19:15.874251Z"
    },
    "collapsed": true
   },
   "outputs": [],
   "source": [
    "from TP_transfer_learning_2018 import *\n",
    "from TP_transfer_learning_2018.preprocessing import standardization\n",
    "\n",
    "\n",
    "tweets['Sentiment'] = tweets['Class'].apply(lambda x: {'negative': 0, 'neutral': 1, 'positive': 2}[x])\n",
    "tweets['Tweet'] = tweets['Tweet'].apply(lambda x: standardization(x))"
   ]
  },
  {
   "cell_type": "code",
   "execution_count": null,
   "metadata": {
    "ExecuteTime": {
     "end_time": "2018-11-01T11:20:34.490519Z",
     "start_time": "2018-11-01T11:20:34.454390Z"
    }
   },
   "outputs": [],
   "source": [
    "display(tweets.sample(5))\n",
    "tweets.sample(5)['Tweet'].iloc[0]"
   ]
  },
  {
   "cell_type": "code",
   "execution_count": null,
   "metadata": {
    "ExecuteTime": {
     "end_time": "2018-11-01T12:06:34.034157Z",
     "start_time": "2018-11-01T12:06:33.769108Z"
    },
    "collapsed": true
   },
   "outputs": [],
   "source": [
    "tweets.to_feather('pickles/train_3.feather')"
   ]
  },
  {
   "cell_type": "markdown",
   "metadata": {},
   "source": [
    "## Training"
   ]
  },
  {
   "cell_type": "code",
   "execution_count": null,
   "metadata": {
    "ExecuteTime": {
     "end_time": "2018-11-02T16:00:39.960344Z",
     "start_time": "2018-11-02T16:00:39.823972Z"
    },
    "collapsed": true
   },
   "outputs": [],
   "source": [
    "tweets = pd.read_feather('pickles/train_3.feather')"
   ]
  },
  {
   "cell_type": "code",
   "execution_count": null,
   "metadata": {
    "ExecuteTime": {
     "end_time": "2018-11-02T16:02:00.207293Z",
     "start_time": "2018-11-02T16:01:59.176817Z"
    },
    "collapsed": true
   },
   "outputs": [],
   "source": [
    "train_tweets, sentiments = tweets['Tweet'], tweets['Sentiment']\n",
    "# train_tweets, sentiments = tweets_16m['text'], tweets_16m['target']\n",
    "\n",
    "all_tweets = train_tweets # + test_tweets\n",
    "tokenizer = Tokenizer(filters=' ')\n",
    "tokenizer.fit_on_texts(all_tweets)\n",
    "word_index = tokenizer.word_index"
   ]
  },
  {
   "cell_type": "code",
   "execution_count": null,
   "metadata": {
    "ExecuteTime": {
     "end_time": "2018-11-02T16:02:01.920789Z",
     "start_time": "2018-11-02T16:02:00.872243Z"
    }
   },
   "outputs": [],
   "source": [
    "train_sequences = tokenizer.texts_to_sequences(train_tweets)\n",
    "\n",
    "sequences = train_sequences # + test_sequences\n",
    "MAX_SEQUENCE_LENGTH = 0\n",
    "for elt in sequences:\n",
    "    if len(elt) > MAX_SEQUENCE_LENGTH:\n",
    "        MAX_SEQUENCE_LENGTH = len(elt)\n",
    "\n",
    "MAX_SEQUENCE_LENGTH"
   ]
  },
  {
   "cell_type": "code",
   "execution_count": null,
   "metadata": {
    "ExecuteTime": {
     "end_time": "2018-11-02T16:02:03.849933Z",
     "start_time": "2018-11-02T16:02:03.415182Z"
    }
   },
   "outputs": [],
   "source": [
    "train_sequences = pad_sequences(train_sequences, MAX_SEQUENCE_LENGTH)\n",
    "train_sequences.shape"
   ]
  },
  {
   "cell_type": "code",
   "execution_count": null,
   "metadata": {
    "ExecuteTime": {
     "end_time": "2018-11-02T16:07:03.189660Z",
     "start_time": "2018-11-02T16:03:24.696182Z"
    },
    "collapsed": true
   },
   "outputs": [],
   "source": [
    "# googlenews_w2v = KeyedVectors.load_word2vec_format('data/embeddings/GoogleNews-vectors-negative300.bin', binary=True)\n",
    "from gensim.scripts.glove2word2vec import glove2word2vec\n",
    "from gensim.test.utils import get_tmpfile\n",
    "\n",
    "\n",
    "tmp_file = get_tmpfile('datastories.300d.word2vec')\n",
    "glove2word2vec('data/embeddings/datastories.twitter.300d.txt', tmp_file)\n",
    "w2v = KeyedVectors.load_word2vec_format(tmp_file)"
   ]
  },
  {
   "cell_type": "code",
   "execution_count": null,
   "metadata": {},
   "outputs": [],
   "source": [
    "DepecheMoodpp = pd.read_csv('data/DepecheMood/DepecheMood_english_token_full.tsv', sep='\\t')\n",
    "\n",
    "print(DepecheMoodpp.loc[DepecheMoodpp['word'] == 'aa'].values.tolist()[0][1:9])"
   ]
  },
  {
   "cell_type": "code",
   "execution_count": null,
   "metadata": {},
   "outputs": [],
   "source": [
    "afinn = pd.read_csv('data/AFINN-111.txt', sep='\\t')\n",
    "\n",
    "def val_to_list(x):\n",
    "    x += 5\n",
    "    return(to_categorical(x, num_classes=11, dtype='int'))\n",
    "\n",
    "\n",
    "afinn[['val']] = afinn['val'].apply(val_to_list)\n",
    "print(afinn.head(10))\n",
    "print(afinn.loc[afinn['word'] == 'abandon'].val)"
   ]
  },
  {
   "cell_type": "code",
   "execution_count": null,
   "metadata": {},
   "outputs": [],
   "source": [
    "import json\n",
    "with open('./data/index.json') as emojiFile:\n",
    "    emoji_valence = json.load(emojiFile)\n",
    "\n",
    "for elmt in emoji_valence:\n",
    "    val = elmt['polarity']\n",
    "    elmt['polarity'] = val_to_list(val)\n",
    "emoji_valence"
   ]
  },
  {
   "cell_type": "code",
   "execution_count": null,
   "metadata": {
    "collapsed": true
   },
   "outputs": [],
   "source": [
    "emolex = pd.read_csv('TP_transfer_learning_2018/EmoLex.txt', sep='\\t')"
   ]
  },
  {
   "cell_type": "code",
   "execution_count": null,
   "metadata": {
    "collapsed": true
   },
   "outputs": [],
   "source": [
    "positive_words = []\n",
    "negative_words = []\n",
    "\n",
    "with open('data/positive-words.txt') as positive_file, open('data/negative-words.txt', encoding='ISO-8859-1') as negative_file:\n",
    "    for _ in range(35):\n",
    "        next(positive_file)\n",
    "        next(negative_file)\n",
    "        \n",
    "    for line in positive_file:\n",
    "        positive_words.append(line)\n",
    "    for line in negative_file:\n",
    "        negative_words.append(line)"
   ]
  },
  {
   "cell_type": "code",
   "execution_count": null,
   "metadata": {
    "ExecuteTime": {
     "end_time": "2018-11-02T16:08:37.757213Z",
     "start_time": "2018-11-02T16:08:36.846432Z"
    }
   },
   "outputs": [],
   "source": [
    "targets = to_categorical(sentiments, 3)\n",
    "nb_words = len(word_index) + 1\n",
    "\n",
    "EMBEDDING_DIM = 300\n",
    "EMOLEX_DIM = 10\n",
    "OLE_DIM = 2\n",
    "EMOJI_VALENCE_DIM = 11\n",
    "AFINN_DIM = 11 \n",
    "DEPECHE_MOOD_DIM = 8\n",
    "embedding_matrix = np.zeros((nb_words, EMBEDDING_DIM + EMOLEX_DIM + OLE_DIM + AFINN_DIM + DEPECHE_MOOD_DIM + EMOJI_VALENCE_DIM))\n",
    "\n",
    "oov = []  # Out of vocabulary\n",
    "oov.append((np.random.rand(EMBEDDING_DIM) * 2.0) - 1.0)\n",
    "oov = np.full(EMBEDDING_DIM, 0)\n",
    "#oov = oov / np.linalg.norm(oov)\n",
    "empty_afinn = np.full(11, 0)\n",
    "empty_emoji = np.full(11, 0)\n",
    "empty_emolex = np.full(10, 0)\n",
    "empty_depeche = np.full(8, 0)\n",
    "\n",
    "\n",
    "print(empty_emolex)\n",
    "print(oov.shape)\n",
    "\n",
    "for word, i in word_index.items():\n",
    "    emoji_val = 0\n",
    "    \n",
    "    word_vector = oov\n",
    "    if word in w2v.vocab:\n",
    "        word_vector = w2v.word_vec(word)\n",
    "\n",
    "    emolex_row = emolex.loc[emolex['word'] == word]\n",
    "    if emolex_row.empty:\n",
    "        word_vector = np.append(word_vector, empty_emolex)\n",
    "    else:\n",
    "        word_vector = np.append(word_vector, emolex_row.values.tolist()[0][1:])\n",
    "        \n",
    "    depeche_row = DepecheMoodpp.loc[DepecheMoodpp['word'] == word]\n",
    "    if depeche_row.empty:\n",
    "        word_vector = np.append(word_vector, empty_depeche)\n",
    "    else:\n",
    "        word_vector = np.append(word_vector, depeche_row.values.tolist()[0][1:9])\n",
    "        \n",
    "    ole_val = [0, 0]\n",
    "    if word in positive_words:\n",
    "        ole_val = [1, 0]\n",
    "    elif word in negative_words:\n",
    "        ole_val = [0, 1]\n",
    "    word_vector = np.append(word_vector, ole_val)\n",
    "    \n",
    "    afinn_val = empty_afinn\n",
    "    emoji_val = empty_emoji\n",
    "    \n",
    "    afinn_row = afinn.loc[afinn['word'] == word]\n",
    "    if not afinn_row.empty:\n",
    "        afinn_val = afinn_row['val'].item()\n",
    "    else:\n",
    "        for emoji in emoji_valence:\n",
    "            if word == emoji['emoji']:\n",
    "                emoji_val = emoji['polarity']\n",
    "\n",
    "    word_vector = np.append(word_vector, afinn_val)\n",
    "    \n",
    "    word_vector = np.append(word_vector, emoji_val)\n",
    "    \n",
    "    embedding_matrix[i] = word_vector\n",
    "\n",
    "        \n",
    "print(embedding_matrix.shape)"
   ]
  },
  {
   "cell_type": "code",
   "execution_count": null,
   "metadata": {
    "ExecuteTime": {
     "end_time": "2018-11-02T16:08:50.837607Z",
     "start_time": "2018-11-02T16:08:50.244263Z"
    },
    "collapsed": true
   },
   "outputs": [],
   "source": [
    "# Claim memory back from this very large object we don't use anymore\n",
    "del w2v"
   ]
  },
  {
   "cell_type": "code",
   "execution_count": null,
   "metadata": {
    "ExecuteTime": {
     "end_time": "2018-11-02T16:08:57.730818Z",
     "start_time": "2018-11-02T16:08:57.683854Z"
    }
   },
   "outputs": [],
   "source": [
    "X_train, X_val, y_train, y_val = train_test_split(train_sequences, targets, test_size=0.3)\n",
    "\n",
    "print('training set: ' + str(len(X_train)) + ' samples')\n",
    "print('validation set: ' + str(len(X_val)) + ' samples')\n",
    "\n",
    "print('x_train:', X_train.shape)\n",
    "print('y_train:', y_train.shape)"
   ]
  },
  {
   "cell_type": "code",
   "execution_count": null,
   "metadata": {
    "ExecuteTime": {
     "end_time": "2018-11-02T16:09:15.806909Z",
     "start_time": "2018-11-02T16:09:15.783955Z"
    },
    "collapsed": true
   },
   "outputs": [],
   "source": [
    "def model_2017():\n",
    "    vocab_size = embedding_matrix.shape[0]\n",
    "    embedding_size = embedding_matrix.shape[1]\n",
    "\n",
    "    model = Sequential()\n",
    "    model.add(Embedding(vocab_size, embedding_size, weights=[embedding_matrix], \n",
    "                        input_length=MAX_SEQUENCE_LENGTH, trainable=False, name='embedding_layer'))\n",
    "    model.add(GaussianNoise(0.3))\n",
    "    # model.add(SpatialDropout1D(0.3))\n",
    "    model.add(Dropout(0.3))\n",
    "    model.add(Bidirectional(LSTM(150, recurrent_dropout=0.3, return_sequences=True)))\n",
    "    # model.add(Dropout(0.5))\n",
    "    model.add(Dropout(0.3))\n",
    "    model.add(Bidirectional(LSTM(150, recurrent_dropout=0.3, return_sequences=True)))\n",
    "    model.add(Dropout(0.3))\n",
    "    model.add(Flatten())\n",
    "    model.add(Dense(3, activity_regularizer=l2(1e-4)))\n",
    "    model.add(Activation('softmax'))\n",
    "\n",
    "    # RMSprop or lr=1e-3\n",
    "    model.compile(loss='categorical_crossentropy', optimizer=Adam(lr=1e-2), metrics=['acc'])\n",
    "\n",
    "    print(model.summary())\n",
    "    \n",
    "    return model\n",
    "\n",
    "def model_mine():\n",
    "    vocab_size = embedding_matrix.shape[0]\n",
    "    embedding_size = embedding_matrix.shape[1]\n",
    "\n",
    "    model = Sequential()\n",
    "    model.add(Embedding(vocab_size, embedding_size, weights=[embedding_matrix], \n",
    "                        input_length=MAX_SEQUENCE_LENGTH, trainable=False, name='embedding_layer'))\n",
    "    model.add(Dropout(0.3))\n",
    "    model.add(Bidirectional(LSTM(150, return_sequences=True)))\n",
    "    model.add(Dropout(0.5))\n",
    "    model.add(Bidirectional(LSTM(150, return_sequences=True)))\n",
    "    model.add(Dropout(0.5))\n",
    "    model.add(Flatten())\n",
    "    model.add(Dense(3, activation='softmax'))\n",
    "\n",
    "    model.compile(loss='categorical_crossentropy', optimizer='adam', metrics=['acc'])\n",
    "\n",
    "    print(model.summary())\n",
    "    \n",
    "    return model"
   ]
  },
  {
   "cell_type": "code",
   "execution_count": null,
   "metadata": {
    "ExecuteTime": {
     "end_time": "2018-11-02T16:09:36.408075Z",
     "start_time": "2018-11-02T16:09:31.620856Z"
    }
   },
   "outputs": [],
   "source": [
    "model = model_mine()"
   ]
  },
  {
   "cell_type": "code",
   "execution_count": null,
   "metadata": {
    "ExecuteTime": {
     "end_time": "2018-11-02T16:21:01.838358Z",
     "start_time": "2018-11-02T16:09:52.662125Z"
    }
   },
   "outputs": [],
   "source": [
    "model.fit(X_train, y_train, batch_size=128, validation_data=(X_val, y_val), epochs=5)"
   ]
  },
  {
   "cell_type": "code",
   "execution_count": null,
   "metadata": {
    "ExecuteTime": {
     "end_time": "2018-11-02T16:26:27.712496Z",
     "start_time": "2018-11-02T16:26:26.929262Z"
    },
    "collapsed": true
   },
   "outputs": [],
   "source": [
    "# model.save('pickles/train_3_66.7-emb_dr3_bi_dr5_bi_dr4.h5')"
   ]
  },
  {
   "cell_type": "code",
   "execution_count": null,
   "metadata": {
    "ExecuteTime": {
     "end_time": "2018-11-02T17:02:42.994665Z",
     "start_time": "2018-11-02T17:02:33.933385Z"
    },
    "collapsed": true
   },
   "outputs": [],
   "source": [
    "model = load_model('pickles/train_3_66.7-emb_dr3_bi_dr5_bi_dr4.h5')"
   ]
  },
  {
   "cell_type": "code",
   "execution_count": null,
   "metadata": {
    "ExecuteTime": {
     "end_time": "2018-11-02T17:07:23.324617Z",
     "start_time": "2018-11-02T17:02:49.214832Z"
    }
   },
   "outputs": [],
   "source": [
    "model.fit(X_train, y_train, batch_size=128, validation_data=(X_val, y_val), epochs=10, initial_epoch=5)"
   ]
  },
  {
   "cell_type": "code",
   "execution_count": null,
   "metadata": {
    "ExecuteTime": {
     "end_time": "2018-11-02T17:17:07.118180Z",
     "start_time": "2018-11-02T17:17:05.924679Z"
    },
    "collapsed": true
   },
   "outputs": [],
   "source": [
    "model.save('pickles/train_3_67.2-emb_dr3_bi_dr5_bi_dr4.h5')"
   ]
  },
  {
   "cell_type": "code",
   "execution_count": null,
   "metadata": {
    "ExecuteTime": {
     "end_time": "2018-11-02T17:20:10.422105Z",
     "start_time": "2018-11-02T17:18:42.230547Z"
    }
   },
   "outputs": [],
   "source": [
    "loss, acc = model.evaluate(X_val, y_val)\n",
    "\n",
    "print(f'val_loss: {loss}\\nval_acc: {acc}')"
   ]
  },
  {
   "cell_type": "markdown",
   "metadata": {
    "heading_collapsed": true
   },
   "source": [
    "### Bi-derectional LSTM x2"
   ]
  },
  {
   "cell_type": "code",
   "execution_count": null,
   "metadata": {
    "ExecuteTime": {
     "end_time": "2018-10-31T20:19:53.195177Z",
     "start_time": "2018-10-31T19:36:32.457074Z"
    },
    "hidden": true,
    "scrolled": true
   },
   "outputs": [],
   "source": [
    "model.fit(X_train, y_train, batch_size=128, validation_data=(X_val, y_val), epochs=20)"
   ]
  },
  {
   "cell_type": "markdown",
   "metadata": {},
   "source": [
    "## Transfer Learning"
   ]
  },
  {
   "cell_type": "code",
   "execution_count": null,
   "metadata": {
    "ExecuteTime": {
     "end_time": "2018-11-02T17:38:20.715325Z",
     "start_time": "2018-11-02T17:38:08.358535Z"
    }
   },
   "outputs": [],
   "source": [
    "model = load_model('pickles/train_3_67.2-emb_dr3_bi_dr5_bi_dr4.h5')\n",
    "\n",
    "model.layers.pop()\n",
    "model.layers.pop()\n",
    "for layer in model.layers:\n",
    "    layer.trainable = False\n",
    "model.add(Dense(150, activation='relu'))\n",
    "# model.add(Flatten())\n",
    "model.add(Dense(7, activation='softmax'))\n",
    "model.compile(loss='categorical_crossentropy', optimizer='adam', metrics=['acc'])\n",
    "print(model.summary())"
   ]
  },
  {
   "cell_type": "code",
   "execution_count": null,
   "metadata": {
    "collapsed": true
   },
   "outputs": [],
   "source": [
    "history = model.fit(x_train_7, y_train_7, validation_data=(x_val_7,y_val_7), epochs=11, batch_size=50)"
   ]
  },
  {
   "cell_type": "markdown",
   "metadata": {
    "heading_collapsed": true
   },
   "source": [
    "### Logistic Regression"
   ]
  },
  {
   "cell_type": "code",
   "execution_count": null,
   "metadata": {
    "ExecuteTime": {
     "end_time": "2018-10-20T21:33:38.790775Z",
     "start_time": "2018-10-20T21:33:37.153969Z"
    },
    "collapsed": true,
    "hidden": true
   },
   "outputs": [],
   "source": [
    "from sklearn.feature_extraction.text import CountVectorizer\n",
    "\n",
    "cv = CountVectorizer(binary=True)\n",
    "\n",
    "X = cv.fit_transform(tweets['Tweet'])\n",
    "target = tweets['Sentiment']"
   ]
  },
  {
   "cell_type": "code",
   "execution_count": null,
   "metadata": {
    "ExecuteTime": {
     "end_time": "2018-10-20T21:33:54.361787Z",
     "start_time": "2018-10-20T21:33:38.793650Z"
    },
    "hidden": true
   },
   "outputs": [],
   "source": [
    "from sklearn.linear_model import LogisticRegression\n",
    "from sklearn.metrics import accuracy_score\n",
    "from sklearn.model_selection import train_test_split\n",
    "\n",
    "\n",
    "X_train, X_val, y_train, y_val = train_test_split(X, target)\n",
    "\n",
    "for c in [0.01, 0.05, 0.25, 0.5, 1]:\n",
    "    lr = LogisticRegression(C=c, solver='saga', multi_class='auto')\n",
    "    lr.fit(X_train, y_train)\n",
    "    print (\"Accuracy for C=%s: %s\" % (c, accuracy_score(y_val, lr.predict(X_val))))"
   ]
  },
  {
   "cell_type": "markdown",
   "metadata": {
    "heading_collapsed": true,
    "hidden": true
   },
   "source": [
    "#### Best and worst features"
   ]
  },
  {
   "cell_type": "code",
   "execution_count": null,
   "metadata": {
    "ExecuteTime": {
     "end_time": "2018-10-20T21:35:18.047652Z",
     "start_time": "2018-10-20T21:35:17.534418Z"
    },
    "hidden": true
   },
   "outputs": [],
   "source": [
    "feature_to_coef = {word: coef for word, coef in zip(cv.get_feature_names(), lr.coef_[0])}\n",
    "\n",
    "for best_positive in sorted(feature_to_coef.items(), key=lambda x: x[1])[:5]:\n",
    "    print (best_positive)\n",
    "    \n",
    "print()\n",
    "for best_negative in sorted(feature_to_coef.items(), key=lambda x: x[1], reverse=True)[:5]:\n",
    "    print (best_negative)"
   ]
  },
  {
   "cell_type": "markdown",
   "metadata": {},
   "source": [
    "## Learning (pseudo-code)"
   ]
  },
  {
   "cell_type": "code",
   "execution_count": null,
   "metadata": {
    "ExecuteTime": {
     "end_time": "2018-10-20T18:58:24.330024Z",
     "start_time": "2018-10-20T18:58:24.280540Z"
    },
    "collapsed": true
   },
   "outputs": [],
   "source": [
    "# transfer:\n",
    "\n",
    "model.layers.pop()\n",
    "model.layers.pop()\n",
    "for layer in model.layers:\n",
    "    layer.trainable = False\n",
    "Dense(150, 'relu')\n",
    "Dense(64, 'relu')\n",
    "Dense(7, 'softmax')\n",
    "model.compile(optimizer='rmsprop', loss='categorical_crossentropy', metrics=['accuracy'])"
   ]
  },
  {
   "cell_type": "markdown",
   "metadata": {},
   "source": [
    "## Notes\n",
    "* Télécharger 50 millions de tweets pour le word2vec\n",
    "* Metric pour le script du prof: pearson\n",
    "* Utiliser pearson au lieu d'accuracy\n",
    "* L'année dernière le prof a eu 78% accuracy \n",
    "\n",
    "**Output attendu**: produire un fichier avec les mêmes noms de cartégories sur un fichier de test façon kaggle"
   ]
  },
  {
   "cell_type": "code",
   "execution_count": null,
   "metadata": {
    "collapsed": true
   },
   "outputs": [],
   "source": []
  }
 ],
 "metadata": {
  "kernelspec": {
   "display_name": "Python 3",
   "language": "python",
   "name": "python3"
  },
  "language_info": {
   "codemirror_mode": {
    "name": "ipython",
    "version": 3
   },
   "file_extension": ".py",
   "mimetype": "text/x-python",
   "name": "python",
   "nbconvert_exporter": "python",
   "pygments_lexer": "ipython3",
   "version": "3.6.6"
  }
 },
 "nbformat": 4,
 "nbformat_minor": 2
}
