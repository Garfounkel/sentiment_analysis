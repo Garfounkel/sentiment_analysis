{
 "cells": [
  {
   "cell_type": "code",
   "execution_count": 24,
   "metadata": {
    "ExecuteTime": {
     "end_time": "2018-11-19T21:48:11.972915Z",
     "start_time": "2018-11-19T21:48:11.961169Z"
    }
   },
   "outputs": [],
   "source": [
    "from keras.models import load_model\n",
    "from keras.layers import Dense, Flatten\n",
    "from keras import Model\n",
    "import pandas as pd\n",
    "import numpy as np"
   ]
  },
  {
   "cell_type": "code",
   "execution_count": 38,
   "metadata": {},
   "outputs": [
    {
     "name": "stdout",
     "output_type": "stream",
     "text": [
      "_________________________________________________________________\n",
      "Layer (type)                 Output Shape              Param #   \n",
      "=================================================================\n",
      "embedding_layer (Embedding)  (None, 32, 300)           11090400  \n",
      "_________________________________________________________________\n",
      "dropout_1 (Dropout)          (None, 32, 300)           0         \n",
      "_________________________________________________________________\n",
      "bidirectional_1 (Bidirection (None, 32, 300)           541200    \n",
      "_________________________________________________________________\n",
      "dropout_2 (Dropout)          (None, 32, 300)           0         \n",
      "_________________________________________________________________\n",
      "bidirectional_2 (Bidirection (None, 32, 300)           541200    \n",
      "_________________________________________________________________\n",
      "dropout_3 (Dropout)          (None, 32, 300)           0         \n",
      "_________________________________________________________________\n",
      "flatten_1 (Flatten)          (None, 9600)              0         \n",
      "_________________________________________________________________\n",
      "dense_1 (Dense)              (None, 3)                 28803     \n",
      "=================================================================\n",
      "Total params: 12,201,603\n",
      "Trainable params: 1,111,203\n",
      "Non-trainable params: 11,090,400\n",
      "_________________________________________________________________\n",
      "None\n"
     ]
    }
   ],
   "source": [
    "model = load_model('pickles/train_3_66.7-emb_dr3_bi_dr5_bi_dr4.h5')\n",
    "print(model.summary())"
   ]
  },
  {
   "cell_type": "code",
   "execution_count": 2,
   "metadata": {
    "ExecuteTime": {
     "end_time": "2018-11-19T21:31:26.516926Z",
     "start_time": "2018-11-19T21:31:26.504732Z"
    }
   },
   "outputs": [],
   "source": [
    "def reshape_model(model):\n",
    "    model.pop()\n",
    "    model.pop()\n",
    "    for layer in model.layers:\n",
    "        layer.trainable = False\n",
    "\n",
    "    dense1 = Dense(150, activation='relu')\n",
    "    dense2 = Dense(7, activation='softmax')\n",
    "\n",
    "    model.add(dense1)\n",
    "    model.add(Flatten())\n",
    "    model.add(dense2)\n",
    "\n",
    "    model.compile(loss='categorical_crossentropy', optimizer='adam', metrics=['acc'])"
   ]
  },
  {
   "cell_type": "code",
   "execution_count": 3,
   "metadata": {
    "ExecuteTime": {
     "end_time": "2018-11-19T21:31:28.087441Z",
     "start_time": "2018-11-19T21:31:28.080476Z"
    }
   },
   "outputs": [],
   "source": [
    "import pickle"
   ]
  },
  {
   "cell_type": "code",
   "execution_count": 8,
   "metadata": {
    "ExecuteTime": {
     "end_time": "2018-11-19T21:33:47.497665Z",
     "start_time": "2018-11-19T21:33:39.832492Z"
    }
   },
   "outputs": [],
   "source": [
    "model = load_model('pickles/train_3_65-mine.h5')"
   ]
  },
  {
   "cell_type": "code",
   "execution_count": 9,
   "metadata": {
    "ExecuteTime": {
     "end_time": "2018-11-19T21:33:55.328361Z",
     "start_time": "2018-11-19T21:33:55.143044Z"
    }
   },
   "outputs": [
    {
     "name": "stdout",
     "output_type": "stream",
     "text": [
      "_________________________________________________________________\n",
      "Layer (type)                 Output Shape              Param #   \n",
      "=================================================================\n",
      "embedding_layer (Embedding)  (None, 32, 300)           11335500  \n",
      "_________________________________________________________________\n",
      "dropout_1 (Dropout)          (None, 32, 300)           0         \n",
      "_________________________________________________________________\n",
      "bidirectional_1 (Bidirection (None, 32, 300)           541200    \n",
      "_________________________________________________________________\n",
      "dropout_2 (Dropout)          (None, 32, 300)           0         \n",
      "_________________________________________________________________\n",
      "bidirectional_2 (Bidirection (None, 32, 300)           541200    \n",
      "_________________________________________________________________\n",
      "dropout_3 (Dropout)          (None, 32, 300)           0         \n",
      "_________________________________________________________________\n",
      "dense_1 (Dense)              (None, 32, 150)           45150     \n",
      "_________________________________________________________________\n",
      "flatten_1 (Flatten)          (None, 4800)              0         \n",
      "_________________________________________________________________\n",
      "dense_2 (Dense)              (None, 7)                 33607     \n",
      "=================================================================\n",
      "Total params: 12,496,657\n",
      "Trainable params: 78,757\n",
      "Non-trainable params: 12,417,900\n",
      "_________________________________________________________________\n",
      "None\n"
     ]
    }
   ],
   "source": [
    "reshape_model(model)\n",
    "print(model.summary())"
   ]
  },
  {
   "cell_type": "code",
   "execution_count": 10,
   "metadata": {
    "ExecuteTime": {
     "end_time": "2018-11-19T21:34:00.333606Z",
     "start_time": "2018-11-19T21:34:00.176259Z"
    }
   },
   "outputs": [
    {
     "name": "stderr",
     "output_type": "stream",
     "text": [
      "/home/epita/.local/lib/python3.6/site-packages/pandas/io/feather_format.py:112: FutureWarning: `nthreads` argument is deprecated, pass `use_threads` instead\n",
      "  return feather.read_dataframe(path, nthreads=nthreads)\n"
     ]
    },
    {
     "data": {
      "text/html": [
       "<div>\n",
       "<style scoped>\n",
       "    .dataframe tbody tr th:only-of-type {\n",
       "        vertical-align: middle;\n",
       "    }\n",
       "\n",
       "    .dataframe tbody tr th {\n",
       "        vertical-align: top;\n",
       "    }\n",
       "\n",
       "    .dataframe thead th {\n",
       "        text-align: right;\n",
       "    }\n",
       "</style>\n",
       "<table border=\"1\" class=\"dataframe\">\n",
       "  <thead>\n",
       "    <tr style=\"text-align: right;\">\n",
       "      <th></th>\n",
       "      <th>ID</th>\n",
       "      <th>Class</th>\n",
       "      <th>Tweet</th>\n",
       "      <th>Sentiment</th>\n",
       "    </tr>\n",
       "  </thead>\n",
       "  <tbody>\n",
       "    <tr>\n",
       "      <th>0</th>\n",
       "      <td>0</td>\n",
       "      <td>0</td>\n",
       "      <td>yeah ☺ ️ playing well</td>\n",
       "      <td>0</td>\n",
       "    </tr>\n",
       "    <tr>\n",
       "      <th>1</th>\n",
       "      <td>1</td>\n",
       "      <td>0</td>\n",
       "      <td>least not guy try discourage anymore want neve...</td>\n",
       "      <td>0</td>\n",
       "    </tr>\n",
       "    <tr>\n",
       "      <th>2</th>\n",
       "      <td>2</td>\n",
       "      <td>0</td>\n",
       "      <td>uplift still discourage mean listen wrong voic...</td>\n",
       "      <td>0</td>\n",
       "    </tr>\n",
       "    <tr>\n",
       "      <th>3</th>\n",
       "      <td>3</td>\n",
       "      <td>0</td>\n",
       "      <td>... age heyday blood tame ...</td>\n",
       "      <td>0</td>\n",
       "    </tr>\n",
       "    <tr>\n",
       "      <th>4</th>\n",
       "      <td>4</td>\n",
       "      <td>-2</td>\n",
       "      <td>embarrassed saw u like knvfkkjg think stalker ...</td>\n",
       "      <td>-2</td>\n",
       "    </tr>\n",
       "    <tr>\n",
       "      <th>5</th>\n",
       "      <td>5</td>\n",
       "      <td>-3</td>\n",
       "      <td>really plan make video week tv die phone break...</td>\n",
       "      <td>-3</td>\n",
       "    </tr>\n",
       "    <tr>\n",
       "      <th>6</th>\n",
       "      <td>6</td>\n",
       "      <td>-3</td>\n",
       "      <td>hate idea afraid share</td>\n",
       "      <td>-3</td>\n",
       "    </tr>\n",
       "    <tr>\n",
       "      <th>7</th>\n",
       "      <td>7</td>\n",
       "      <td>1</td>\n",
       "      <td>regular cheerfulness emotion supper give lady ...</td>\n",
       "      <td>1</td>\n",
       "    </tr>\n",
       "    <tr>\n",
       "      <th>8</th>\n",
       "      <td>8</td>\n",
       "      <td>1</td>\n",
       "      <td>pessimist see difficulty every opportunity opt...</td>\n",
       "      <td>1</td>\n",
       "    </tr>\n",
       "    <tr>\n",
       "      <th>9</th>\n",
       "      <td>9</td>\n",
       "      <td>-2</td>\n",
       "      <td>hurt ndoes not mean hurt ndoes not mean not ge...</td>\n",
       "      <td>-2</td>\n",
       "    </tr>\n",
       "  </tbody>\n",
       "</table>\n",
       "</div>"
      ],
      "text/plain": [
       "   ID  Class                                              Tweet  Sentiment\n",
       "0   0      0                              yeah ☺ ️ playing well          0\n",
       "1   1      0  least not guy try discourage anymore want neve...          0\n",
       "2   2      0  uplift still discourage mean listen wrong voic...          0\n",
       "3   3      0                      ... age heyday blood tame ...          0\n",
       "4   4     -2  embarrassed saw u like knvfkkjg think stalker ...         -2\n",
       "5   5     -3  really plan make video week tv die phone break...         -3\n",
       "6   6     -3                             hate idea afraid share         -3\n",
       "7   7      1  regular cheerfulness emotion supper give lady ...          1\n",
       "8   8      1  pessimist see difficulty every opportunity opt...          1\n",
       "9   9     -2  hurt ndoes not mean hurt ndoes not mean not ge...         -2"
      ]
     },
     "execution_count": 10,
     "metadata": {},
     "output_type": "execute_result"
    }
   ],
   "source": [
    "tweets = pd.read_feather('pickles/train_7.feather')\n",
    "tweets.head(10)"
   ]
  },
  {
   "cell_type": "code",
   "execution_count": 11,
   "metadata": {
    "ExecuteTime": {
     "end_time": "2018-11-19T21:34:06.406677Z",
     "start_time": "2018-11-19T21:34:05.615179Z"
    }
   },
   "outputs": [],
   "source": [
    "from keras.preprocessing.text import Tokenizer\n",
    "from keras.preprocessing.sequence import pad_sequences\n",
    "from keras.utils.np_utils import to_categorical\n",
    "from sklearn.model_selection import train_test_split"
   ]
  },
  {
   "cell_type": "code",
   "execution_count": 13,
   "metadata": {
    "ExecuteTime": {
     "end_time": "2018-11-19T21:35:42.462439Z",
     "start_time": "2018-11-19T21:35:42.320464Z"
    }
   },
   "outputs": [],
   "source": [
    "train_tweets, sentiments = tweets['Tweet'], tweets['Sentiment']\n",
    "\n",
    "tokenizer = pickle.load(open(\"pickles/tokenizer.pickle\", 'rb'))\n",
    "sequences = tokenizer.texts_to_sequences(train_tweets)\n",
    "\n",
    "MAX_SEQUENCE_LENGTH = 32\n",
    "\n",
    "train_sequences = pad_sequences(sequences, MAX_SEQUENCE_LENGTH)\n",
    "targets = to_categorical(sentiments, 7)"
   ]
  },
  {
   "cell_type": "code",
   "execution_count": 14,
   "metadata": {
    "ExecuteTime": {
     "end_time": "2018-11-19T21:35:44.134941Z",
     "start_time": "2018-11-19T21:35:44.125256Z"
    }
   },
   "outputs": [
    {
     "name": "stdout",
     "output_type": "stream",
     "text": [
      "(1630, 32)\n",
      "(1630, 7)\n"
     ]
    }
   ],
   "source": [
    "print(train_sequences.shape)\n",
    "print(targets.shape)"
   ]
  },
  {
   "cell_type": "code",
   "execution_count": 15,
   "metadata": {
    "ExecuteTime": {
     "end_time": "2018-11-19T21:35:46.128295Z",
     "start_time": "2018-11-19T21:35:46.110138Z"
    }
   },
   "outputs": [
    {
     "name": "stdout",
     "output_type": "stream",
     "text": [
      "training set: 1141 samples\n",
      "validation set: 489 samples\n",
      "x_train: (1141, 32)\n",
      "y_train: (1141, 7)\n"
     ]
    }
   ],
   "source": [
    "X_train, X_val, y_train, y_val = train_test_split(train_sequences, targets, test_size=0.3)\n",
    "\n",
    "print('training set: ' + str(len(X_train)) + ' samples')\n",
    "print('validation set: ' + str(len(X_val)) + ' samples')\n",
    "\n",
    "print('x_train:', X_train.shape)\n",
    "print('y_train:', y_train.shape)\n"
   ]
  },
  {
   "cell_type": "code",
   "execution_count": 16,
   "metadata": {
    "ExecuteTime": {
     "end_time": "2018-11-19T21:36:02.282029Z",
     "start_time": "2018-11-19T21:35:49.797607Z"
    }
   },
   "outputs": [
    {
     "name": "stdout",
     "output_type": "stream",
     "text": [
      "Train on 1141 samples, validate on 489 samples\n",
      "Epoch 1/5\n",
      "1141/1141 [==============================] - 4s 3ms/step - loss: 1.8348 - acc: 0.2805 - val_loss: 1.7480 - val_acc: 0.2761\n",
      "Epoch 2/5\n",
      "1141/1141 [==============================] - 2s 2ms/step - loss: 1.6824 - acc: 0.3260 - val_loss: 1.6449 - val_acc: 0.3129\n",
      "Epoch 3/5\n",
      "1141/1141 [==============================] - 2s 2ms/step - loss: 1.6115 - acc: 0.3620 - val_loss: 1.6084 - val_acc: 0.3129\n",
      "Epoch 4/5\n",
      "1141/1141 [==============================] - 2s 2ms/step - loss: 1.5924 - acc: 0.3602 - val_loss: 1.5922 - val_acc: 0.3231\n",
      "Epoch 5/5\n",
      "1141/1141 [==============================] - 2s 2ms/step - loss: 1.5892 - acc: 0.3514 - val_loss: 1.5823 - val_acc: 0.3292\n"
     ]
    },
    {
     "data": {
      "text/plain": [
       "<keras.callbacks.History at 0x7fd77fd9fb00>"
      ]
     },
     "execution_count": 16,
     "metadata": {},
     "output_type": "execute_result"
    }
   ],
   "source": [
    "model.fit(X_train, y_train, batch_size=128, validation_data=(X_val, y_val), epochs=5)"
   ]
  },
  {
   "cell_type": "code",
   "execution_count": 17,
   "metadata": {
    "ExecuteTime": {
     "end_time": "2018-11-19T21:37:23.955409Z",
     "start_time": "2018-11-19T21:36:18.285501Z"
    }
   },
   "outputs": [
    {
     "name": "stdout",
     "output_type": "stream",
     "text": [
      "Train on 1141 samples, validate on 489 samples\n",
      "Epoch 1/30\n",
      "1141/1141 [==============================] - 2s 2ms/step - loss: 1.5796 - acc: 0.3663 - val_loss: 1.5772 - val_acc: 0.3252\n",
      "Epoch 2/30\n",
      "1141/1141 [==============================] - 2s 2ms/step - loss: 1.5720 - acc: 0.3795 - val_loss: 1.5723 - val_acc: 0.3231\n",
      "Epoch 3/30\n",
      "1141/1141 [==============================] - 2s 2ms/step - loss: 1.5656 - acc: 0.3751 - val_loss: 1.5770 - val_acc: 0.3313\n",
      "Epoch 4/30\n",
      "1141/1141 [==============================] - 2s 2ms/step - loss: 1.5522 - acc: 0.3777 - val_loss: 1.5807 - val_acc: 0.3436\n",
      "Epoch 5/30\n",
      "1141/1141 [==============================] - 2s 2ms/step - loss: 1.5451 - acc: 0.3812 - val_loss: 1.5694 - val_acc: 0.3395\n",
      "Epoch 6/30\n",
      "1141/1141 [==============================] - 2s 2ms/step - loss: 1.5359 - acc: 0.3812 - val_loss: 1.5791 - val_acc: 0.3497\n",
      "Epoch 7/30\n",
      "1141/1141 [==============================] - 2s 2ms/step - loss: 1.5292 - acc: 0.3742 - val_loss: 1.5632 - val_acc: 0.3436\n",
      "Epoch 8/30\n",
      "1141/1141 [==============================] - 2s 2ms/step - loss: 1.5315 - acc: 0.3918 - val_loss: 1.5662 - val_acc: 0.3415\n",
      "Epoch 9/30\n",
      "1141/1141 [==============================] - 2s 2ms/step - loss: 1.5071 - acc: 0.4119 - val_loss: 1.5663 - val_acc: 0.3497\n",
      "Epoch 10/30\n",
      "1141/1141 [==============================] - 2s 2ms/step - loss: 1.4999 - acc: 0.4049 - val_loss: 1.5710 - val_acc: 0.3354\n",
      "Epoch 11/30\n",
      "1141/1141 [==============================] - 2s 2ms/step - loss: 1.4944 - acc: 0.4040 - val_loss: 1.5692 - val_acc: 0.3558\n",
      "Epoch 12/30\n",
      "1141/1141 [==============================] - 2s 2ms/step - loss: 1.5011 - acc: 0.4145 - val_loss: 1.5693 - val_acc: 0.3661\n",
      "Epoch 13/30\n",
      "1141/1141 [==============================] - 2s 2ms/step - loss: 1.4953 - acc: 0.3961 - val_loss: 1.5659 - val_acc: 0.3742\n",
      "Epoch 14/30\n",
      "1141/1141 [==============================] - 2s 2ms/step - loss: 1.4850 - acc: 0.4040 - val_loss: 1.5718 - val_acc: 0.3599\n",
      "Epoch 15/30\n",
      "1141/1141 [==============================] - 2s 2ms/step - loss: 1.4942 - acc: 0.4058 - val_loss: 1.5696 - val_acc: 0.3620\n",
      "Epoch 16/30\n",
      "1141/1141 [==============================] - 2s 2ms/step - loss: 1.4734 - acc: 0.4189 - val_loss: 1.5783 - val_acc: 0.3661\n",
      "Epoch 17/30\n",
      "1141/1141 [==============================] - 2s 2ms/step - loss: 1.4792 - acc: 0.4145 - val_loss: 1.5731 - val_acc: 0.3701\n",
      "Epoch 18/30\n",
      "1141/1141 [==============================] - 2s 2ms/step - loss: 1.4544 - acc: 0.4268 - val_loss: 1.5786 - val_acc: 0.3701\n",
      "Epoch 19/30\n",
      "1141/1141 [==============================] - 2s 2ms/step - loss: 1.4641 - acc: 0.4286 - val_loss: 1.5700 - val_acc: 0.3558\n",
      "Epoch 20/30\n",
      "1141/1141 [==============================] - 2s 2ms/step - loss: 1.4540 - acc: 0.4259 - val_loss: 1.5739 - val_acc: 0.3681\n",
      "Epoch 21/30\n",
      "1141/1141 [==============================] - 2s 2ms/step - loss: 1.4444 - acc: 0.4233 - val_loss: 1.5749 - val_acc: 0.3620\n",
      "Epoch 22/30\n",
      "1141/1141 [==============================] - 2s 2ms/step - loss: 1.4443 - acc: 0.4303 - val_loss: 1.5848 - val_acc: 0.3538\n",
      "Epoch 23/30\n",
      "1141/1141 [==============================] - 2s 2ms/step - loss: 1.4390 - acc: 0.4321 - val_loss: 1.5754 - val_acc: 0.3681\n",
      "Epoch 24/30\n",
      "1141/1141 [==============================] - 2s 2ms/step - loss: 1.4513 - acc: 0.4119 - val_loss: 1.5792 - val_acc: 0.3661\n",
      "Epoch 25/30\n",
      "1141/1141 [==============================] - 2s 2ms/step - loss: 1.4302 - acc: 0.4470 - val_loss: 1.5755 - val_acc: 0.3804\n",
      "Epoch 26/30\n",
      "1141/1141 [==============================] - 2s 2ms/step - loss: 1.4266 - acc: 0.4373 - val_loss: 1.5829 - val_acc: 0.3701\n",
      "Epoch 27/30\n",
      "1141/1141 [==============================] - 2s 2ms/step - loss: 1.4215 - acc: 0.4479 - val_loss: 1.5769 - val_acc: 0.3558\n",
      "Epoch 28/30\n",
      "1141/1141 [==============================] - 2s 2ms/step - loss: 1.4052 - acc: 0.4645 - val_loss: 1.5897 - val_acc: 0.3804\n",
      "Epoch 29/30\n",
      "1141/1141 [==============================] - 2s 2ms/step - loss: 1.3966 - acc: 0.4689 - val_loss: 1.5729 - val_acc: 0.3476\n",
      "Epoch 30/30\n",
      "1141/1141 [==============================] - 2s 2ms/step - loss: 1.3690 - acc: 0.4899 - val_loss: 1.5875 - val_acc: 0.3722\n"
     ]
    },
    {
     "data": {
      "text/plain": [
       "<keras.callbacks.History at 0x7fd77fd9fc50>"
      ]
     },
     "execution_count": 17,
     "metadata": {},
     "output_type": "execute_result"
    }
   ],
   "source": [
    "model.fit(X_train, y_train, batch_size=128, validation_data=(X_val, y_val), epochs=30)"
   ]
  },
  {
   "cell_type": "markdown",
   "metadata": {},
   "source": [
    "# Model evaluation"
   ]
  },
  {
   "cell_type": "code",
   "execution_count": 80,
   "metadata": {
    "ExecuteTime": {
     "end_time": "2018-11-19T22:18:07.762662Z",
     "start_time": "2018-11-19T22:18:07.039739Z"
    }
   },
   "outputs": [],
   "source": [
    "y_pred = np.argmax(model.predict(X_val, batch_size=128), axis=1)\n",
    "y_true = np.argmax(y_val, axis=1)"
   ]
  },
  {
   "cell_type": "code",
   "execution_count": 81,
   "metadata": {
    "ExecuteTime": {
     "end_time": "2018-11-19T22:18:07.782893Z",
     "start_time": "2018-11-19T22:18:07.766496Z"
    }
   },
   "outputs": [
    {
     "name": "stdout",
     "output_type": "stream",
     "text": [
      "Pearson: 0.3063723854696158\n",
      "Quadratic kappa: 0.3025828215169144\n"
     ]
    }
   ],
   "source": [
    "from scipy.stats import pearsonr\n",
    "from sklearn.metrics import cohen_kappa_score\n",
    "\n",
    "\n",
    "p = pearsonr(y_true, y_pred)[0]\n",
    "w = cohen_kappa_score(y_pred, y_true, weights='quadratic')\n",
    "\n",
    "print(f'Pearson: {p}')\n",
    "print(f'Quadratic kappa: {w}')"
   ]
  },
  {
   "cell_type": "code",
   "execution_count": 55,
   "metadata": {
    "ExecuteTime": {
     "end_time": "2018-11-19T21:55:07.318842Z",
     "start_time": "2018-11-19T21:55:07.297431Z"
    }
   },
   "outputs": [
    {
     "data": {
      "text/plain": [
       "array([[72,  5,  5, 12,  5, 25,  0],\n",
       "       [44,  6,  2, 15,  1, 10,  0],\n",
       "       [13,  5,  2, 12,  0,  4,  0],\n",
       "       [13,  6,  2, 33,  0,  2,  0],\n",
       "       [11,  1,  0,  3, 22, 25,  0],\n",
       "       [31,  1,  0,  3, 13, 47,  2],\n",
       "       [18,  0,  0,  2,  3, 13,  0]])"
      ]
     },
     "execution_count": 55,
     "metadata": {},
     "output_type": "execute_result"
    }
   ],
   "source": [
    "from sklearn.metrics import confusion_matrix\n",
    "\n",
    "\n",
    "cm = confusion_matrix(y_true, y_pred)\n",
    "cm"
   ]
  },
  {
   "cell_type": "code",
   "execution_count": 53,
   "metadata": {
    "ExecuteTime": {
     "end_time": "2018-11-19T21:54:30.258151Z",
     "start_time": "2018-11-19T21:54:30.240798Z"
    }
   },
   "outputs": [],
   "source": [
    "import itertools\n",
    "import matplotlib.pyplot as plt\n",
    "\n",
    "def plot_confusion_matrix(cm, classes,\n",
    "                          title='Confusion matrix',\n",
    "                          cmap=plt.cm.Blues):\n",
    "    plt.imshow(cm, interpolation='nearest', cmap=cmap)\n",
    "    plt.title(title)\n",
    "    plt.colorbar()\n",
    "    tick_marks = np.arange(len(classes))\n",
    "    plt.xticks(tick_marks, classes, rotation=45)\n",
    "    plt.yticks(tick_marks, classes)\n",
    "\n",
    "    fmt = 'd'\n",
    "    thresh = cm.max() / 2.\n",
    "    for i, j in itertools.product(range(cm.shape[0]), range(cm.shape[1])):\n",
    "        plt.text(j, i, format(cm[i, j], fmt),\n",
    "                 horizontalalignment=\"center\",\n",
    "                 color=\"white\" if cm[i, j] > thresh else \"black\")\n",
    "\n",
    "    plt.ylabel('True label')\n",
    "    plt.xlabel('Predicted label')\n",
    "    plt.tight_layout()"
   ]
  },
  {
   "cell_type": "code",
   "execution_count": 54,
   "metadata": {
    "ExecuteTime": {
     "end_time": "2018-11-19T21:54:31.823714Z",
     "start_time": "2018-11-19T21:54:31.045400Z"
    }
   },
   "outputs": [
    {
     "data": {
      "image/png": "[encoded data removed]",
      "text/plain": [
       "<Figure size 432x288 with 2 Axes>"
      ]
     },
     "metadata": {
      "needs_background": "light"
     },
     "output_type": "display_data"
    }
   ],
   "source": [
    "plot_confusion_matrix(cm, [-3, -2, -1, 0, 1, 2, 3])"
   ]
  },
  {
   "cell_type": "markdown",
   "metadata": {},
   "source": [
    "## Class distribution"
   ]
  },
  {
   "cell_type": "code",
   "execution_count": 72,
   "metadata": {
    "ExecuteTime": {
     "end_time": "2018-11-19T22:03:14.243290Z",
     "start_time": "2018-11-19T22:03:13.875931Z"
    }
   },
   "outputs": [
    {
     "data": {
      "text/html": [
       "<div>\n",
       "<style scoped>\n",
       "    .dataframe tbody tr th:only-of-type {\n",
       "        vertical-align: middle;\n",
       "    }\n",
       "\n",
       "    .dataframe tbody tr th {\n",
       "        vertical-align: top;\n",
       "    }\n",
       "\n",
       "    .dataframe thead th {\n",
       "        text-align: right;\n",
       "    }\n",
       "</style>\n",
       "<table border=\"1\" class=\"dataframe\">\n",
       "  <thead>\n",
       "    <tr style=\"text-align: right;\">\n",
       "      <th>Sentiment</th>\n",
       "      <th>-3</th>\n",
       "      <th>-2</th>\n",
       "      <th>-1</th>\n",
       "      <th>0</th>\n",
       "      <th>1</th>\n",
       "      <th>2</th>\n",
       "      <th>3</th>\n",
       "    </tr>\n",
       "  </thead>\n",
       "  <tbody>\n",
       "    <tr>\n",
       "      <th>ID</th>\n",
       "      <td>198</td>\n",
       "      <td>344</td>\n",
       "      <td>112</td>\n",
       "      <td>446</td>\n",
       "      <td>225</td>\n",
       "      <td>127</td>\n",
       "      <td>178</td>\n",
       "    </tr>\n",
       "    <tr>\n",
       "      <th>Class</th>\n",
       "      <td>198</td>\n",
       "      <td>344</td>\n",
       "      <td>112</td>\n",
       "      <td>446</td>\n",
       "      <td>225</td>\n",
       "      <td>127</td>\n",
       "      <td>178</td>\n",
       "    </tr>\n",
       "    <tr>\n",
       "      <th>Tweet</th>\n",
       "      <td>198</td>\n",
       "      <td>344</td>\n",
       "      <td>112</td>\n",
       "      <td>446</td>\n",
       "      <td>225</td>\n",
       "      <td>127</td>\n",
       "      <td>178</td>\n",
       "    </tr>\n",
       "  </tbody>\n",
       "</table>\n",
       "</div>"
      ],
      "text/plain": [
       "Sentiment   -3   -2   -1    0    1    2    3\n",
       "ID         198  344  112  446  225  127  178\n",
       "Class      198  344  112  446  225  127  178\n",
       "Tweet      198  344  112  446  225  127  178"
      ]
     },
     "metadata": {},
     "output_type": "display_data"
    },
    {
     "data": {
      "text/plain": [
       "<matplotlib.axes._subplots.AxesSubplot at 0x7fd77d166550>"
      ]
     },
     "execution_count": 72,
     "metadata": {},
     "output_type": "execute_result"
    },
    {
     "data": {
      "image/png": "[encoded data removed]",
      "text/plain": [
       "<Figure size 432x288 with 1 Axes>"
      ]
     },
     "metadata": {
      "needs_background": "light"
     },
     "output_type": "display_data"
    }
   ],
   "source": [
    "display(tweets.groupby('Sentiment').count().T)\n",
    "sentiments.hist()"
   ]
  },
  {
   "cell_type": "code",
   "execution_count": null,
   "metadata": {},
   "outputs": [],
   "source": []
  }
 ],
 "metadata": {
  "kernelspec": {
   "display_name": "Python 3",
   "language": "python",
   "name": "python3"
  },
  "language_info": {
   "codemirror_mode": {
    "name": "ipython",
    "version": 3
   },
   "file_extension": ".py",
   "mimetype": "text/x-python",
   "name": "python",
   "nbconvert_exporter": "python",
   "pygments_lexer": "ipython3",
   "version": "3.6.6"
  }
 },
 "nbformat": 4,
 "nbformat_minor": 2
}
