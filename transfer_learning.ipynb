{
 "cells": [
  {
   "cell_type": "code",
   "execution_count": 135,
   "metadata": {
    "ExecuteTime": {
     "end_time": "2018-11-21T13:11:55.893483Z",
     "start_time": "2018-11-21T13:11:55.882666Z"
    }
   },
   "outputs": [],
   "source": [
    "from keras.models import load_model\n",
    "from keras.layers import Dense, Flatten\n",
    "from keras import Model\n",
    "import pandas as pd\n",
    "import numpy as np\n",
    "import pickle\n",
    "\n",
    "from keras.preprocessing.text import Tokenizer\n",
    "from keras.preprocessing.sequence import pad_sequences\n",
    "from keras.utils.np_utils import to_categorical\n",
    "from sklearn.model_selection import train_test_split"
   ]
  },
  {
   "cell_type": "code",
   "execution_count": 129,
   "metadata": {
    "ExecuteTime": {
     "end_time": "2018-11-21T13:10:15.213250Z",
     "start_time": "2018-11-21T13:10:15.183411Z"
    }
   },
   "outputs": [],
   "source": [
    "from keras import backend as K\n",
    "def correlation_coefficient_loss(y_true, y_pred):\n",
    "    x = y_true\n",
    "    y = y_pred\n",
    "    mx = K.mean(x)\n",
    "    my = K.mean(y)\n",
    "    xm, ym = x-mx, y-my\n",
    "    r_num = K.sum(tf.multiply(xm,ym))\n",
    "    r_den = K.sqrt(tf.multiply(K.sum(K.square(xm)), K.sum(K.square(ym))))\n",
    "    r = r_num / r_den\n",
    "\n",
    "    r = K.maximum(K.minimum(r, 1.0), -1.0)\n",
    "    return 1 - K.square(r)"
   ]
  },
  {
   "cell_type": "code",
   "execution_count": 179,
   "metadata": {
    "ExecuteTime": {
     "end_time": "2018-11-21T13:45:50.780988Z",
     "start_time": "2018-11-21T13:45:50.761610Z"
    }
   },
   "outputs": [],
   "source": [
    "def reshape_model(model):\n",
    "    model.pop()\n",
    "    model.pop()\n",
    "    for layer in model.layers:\n",
    "        layer.trainable = False\n",
    "\n",
    "    dense1 = Dense(150, activation='relu')\n",
    "    dense3 = Dense(80, activation='relu')\n",
    "    dense4 = Dense(30, activation='relu')\n",
    "    dense2 = Dense(7, activation='softmax')\n",
    "\n",
    "    model.add(dense1)\n",
    "    model.add(dense3)\n",
    "    model.add(dense4)\n",
    "    model.add(Flatten())\n",
    "    model.add(dense2)\n",
    "\n",
    "#     model.compile(loss=correlation_coefficient_loss, optimizer='adam', metrics=['acc'])\n",
    "    model.compile(loss='categorical_crossentropy', optimizer='adam', metrics=['acc'])    "
   ]
  },
  {
   "cell_type": "code",
   "execution_count": 180,
   "metadata": {
    "ExecuteTime": {
     "end_time": "2018-11-21T13:46:06.993137Z",
     "start_time": "2018-11-21T13:45:52.974542Z"
    }
   },
   "outputs": [],
   "source": [
    "# model = load_model('pickles/train_3_65-mine.h5')\n",
    "# model = load_model('pickles/train_3_6715-mine.h5')\n",
    "model = load_model('pickles/train3_weights-05-0.67.hdf5')"
   ]
  },
  {
   "cell_type": "code",
   "execution_count": 181,
   "metadata": {
    "ExecuteTime": {
     "end_time": "2018-11-21T13:46:07.298914Z",
     "start_time": "2018-11-21T13:46:06.997703Z"
    }
   },
   "outputs": [
    {
     "name": "stdout",
     "output_type": "stream",
     "text": [
      "_________________________________________________________________\n",
      "Layer (type)                 Output Shape              Param #   \n",
      "=================================================================\n",
      "embedding_layer (Embedding)  (None, 32, 342)           12922470  \n",
      "_________________________________________________________________\n",
      "dropout_10 (Dropout)         (None, 32, 342)           0         \n",
      "_________________________________________________________________\n",
      "bidirectional_7 (Bidirection (None, 32, 300)           591600    \n",
      "_________________________________________________________________\n",
      "dropout_11 (Dropout)         (None, 32, 300)           0         \n",
      "_________________________________________________________________\n",
      "bidirectional_8 (Bidirection (None, 32, 300)           541200    \n",
      "_________________________________________________________________\n",
      "dropout_12 (Dropout)         (None, 32, 300)           0         \n",
      "_________________________________________________________________\n",
      "dense_17 (Dense)             (None, 32, 150)           45150     \n",
      "_________________________________________________________________\n",
      "dense_18 (Dense)             (None, 32, 80)            12080     \n",
      "_________________________________________________________________\n",
      "dense_19 (Dense)             (None, 32, 30)            2430      \n",
      "_________________________________________________________________\n",
      "flatten_6 (Flatten)          (None, 960)               0         \n",
      "_________________________________________________________________\n",
      "dense_20 (Dense)             (None, 7)                 6727      \n",
      "=================================================================\n",
      "Total params: 14,121,657\n",
      "Trainable params: 66,387\n",
      "Non-trainable params: 14,055,270\n",
      "_________________________________________________________________\n",
      "None\n"
     ]
    }
   ],
   "source": [
    "reshape_model(model)\n",
    "print(model.summary())"
   ]
  },
  {
   "cell_type": "code",
   "execution_count": 172,
   "metadata": {
    "ExecuteTime": {
     "end_time": "2018-11-21T13:36:52.109806Z",
     "start_time": "2018-11-21T13:36:52.050084Z"
    }
   },
   "outputs": [
    {
     "name": "stderr",
     "output_type": "stream",
     "text": [
      "/home/epita/.local/lib/python3.6/site-packages/pandas/io/feather_format.py:112: FutureWarning: `nthreads` argument is deprecated, pass `use_threads` instead\n",
      "  return feather.read_dataframe(path, nthreads=nthreads)\n"
     ]
    },
    {
     "data": {
      "text/html": [
       "<div>\n",
       "<style scoped>\n",
       "    .dataframe tbody tr th:only-of-type {\n",
       "        vertical-align: middle;\n",
       "    }\n",
       "\n",
       "    .dataframe tbody tr th {\n",
       "        vertical-align: top;\n",
       "    }\n",
       "\n",
       "    .dataframe thead th {\n",
       "        text-align: right;\n",
       "    }\n",
       "</style>\n",
       "<table border=\"1\" class=\"dataframe\">\n",
       "  <thead>\n",
       "    <tr style=\"text-align: right;\">\n",
       "      <th></th>\n",
       "      <th>ID</th>\n",
       "      <th>Class</th>\n",
       "      <th>Tweet</th>\n",
       "      <th>Sentiment</th>\n",
       "    </tr>\n",
       "  </thead>\n",
       "  <tbody>\n",
       "    <tr>\n",
       "      <th>0</th>\n",
       "      <td>0</td>\n",
       "      <td>0</td>\n",
       "      <td>yeah playing well</td>\n",
       "      <td>3</td>\n",
       "    </tr>\n",
       "    <tr>\n",
       "      <th>1</th>\n",
       "      <td>1</td>\n",
       "      <td>0</td>\n",
       "      <td>least not guy try discourage anymore want neve...</td>\n",
       "      <td>3</td>\n",
       "    </tr>\n",
       "    <tr>\n",
       "      <th>2</th>\n",
       "      <td>2</td>\n",
       "      <td>0</td>\n",
       "      <td>uplift still discourage mean listen wrong voic...</td>\n",
       "      <td>3</td>\n",
       "    </tr>\n",
       "    <tr>\n",
       "      <th>3</th>\n",
       "      <td>3</td>\n",
       "      <td>0</td>\n",
       "      <td>... age heyday blood tame ...</td>\n",
       "      <td>3</td>\n",
       "    </tr>\n",
       "    <tr>\n",
       "      <th>4</th>\n",
       "      <td>4</td>\n",
       "      <td>-2</td>\n",
       "      <td>embarrass saw u like knvfkkjg think stalker n ...</td>\n",
       "      <td>1</td>\n",
       "    </tr>\n",
       "  </tbody>\n",
       "</table>\n",
       "</div>"
      ],
      "text/plain": [
       "   ID  Class                                              Tweet  Sentiment\n",
       "0   0      0                                  yeah playing well          3\n",
       "1   1      0  least not guy try discourage anymore want neve...          3\n",
       "2   2      0  uplift still discourage mean listen wrong voic...          3\n",
       "3   3      0                      ... age heyday blood tame ...          3\n",
       "4   4     -2  embarrass saw u like knvfkkjg think stalker n ...          1"
      ]
     },
     "execution_count": 172,
     "metadata": {},
     "output_type": "execute_result"
    }
   ],
   "source": [
    "tweets = pd.read_feather('pickles/train_7.feather')\n",
    "tweets.head(5)"
   ]
  },
  {
   "cell_type": "code",
   "execution_count": 173,
   "metadata": {
    "ExecuteTime": {
     "end_time": "2018-11-21T13:43:04.949264Z",
     "start_time": "2018-11-21T13:43:04.722057Z"
    }
   },
   "outputs": [],
   "source": [
    "train_tweets, sentiments = tweets['Tweet'], tweets['Sentiment']\n",
    "\n",
    "tokenizer = pickle.load(open(\"pickles/tokenizer.pickle\", 'rb'))\n",
    "sequences = tokenizer.texts_to_sequences(train_tweets)\n",
    "\n",
    "MAX_SEQUENCE_LENGTH = 32\n",
    "\n",
    "train_sequences = pad_sequences(sequences, MAX_SEQUENCE_LENGTH)\n",
    "targets = to_categorical(sentiments, 7)"
   ]
  },
  {
   "cell_type": "code",
   "execution_count": 174,
   "metadata": {
    "ExecuteTime": {
     "end_time": "2018-11-21T13:43:06.975643Z",
     "start_time": "2018-11-21T13:43:06.944791Z"
    }
   },
   "outputs": [
    {
     "data": {
      "text/plain": [
       "(array([3, 3, 3, 3, 1, 0, 0, 4, 4, 1]), array([3, 3, 3, 3, 1, 0, 0, 4, 4, 1]))"
      ]
     },
     "execution_count": 174,
     "metadata": {},
     "output_type": "execute_result"
    }
   ],
   "source": [
    "np.argmax(to_categorical(sentiments, 7) ,axis=1)[:10], np.array(sentiments[:10])"
   ]
  },
  {
   "cell_type": "code",
   "execution_count": 175,
   "metadata": {
    "ExecuteTime": {
     "end_time": "2018-11-21T13:45:16.085393Z",
     "start_time": "2018-11-21T13:45:16.038761Z"
    }
   },
   "outputs": [
    {
     "data": {
      "text/plain": [
       "((1630, 32), (1630, 7))"
      ]
     },
     "execution_count": 175,
     "metadata": {},
     "output_type": "execute_result"
    }
   ],
   "source": [
    "train_sequences.shape, targets.shape"
   ]
  },
  {
   "cell_type": "code",
   "execution_count": 177,
   "metadata": {
    "ExecuteTime": {
     "end_time": "2018-11-21T13:45:21.443719Z",
     "start_time": "2018-11-21T13:45:21.424617Z"
    }
   },
   "outputs": [
    {
     "name": "stdout",
     "output_type": "stream",
     "text": [
      "training set: 1467 samples\n",
      "validation set: 163 samples\n",
      "x_train: (1467, 32)\n",
      "y_train: (1467, 7)\n"
     ]
    }
   ],
   "source": [
    "X_train, X_val, y_train, y_val = train_test_split(train_sequences, targets, test_size=0.1)\n",
    "\n",
    "print('training set: ' + str(len(X_train)) + ' samples')\n",
    "print('validation set: ' + str(len(X_val)) + ' samples')\n",
    "\n",
    "print('x_train:', X_train.shape)\n",
    "print('y_train:', y_train.shape)"
   ]
  },
  {
   "cell_type": "code",
   "execution_count": 182,
   "metadata": {
    "ExecuteTime": {
     "end_time": "2018-11-21T13:46:40.134826Z",
     "start_time": "2018-11-21T13:46:22.957285Z"
    }
   },
   "outputs": [
    {
     "name": "stdout",
     "output_type": "stream",
     "text": [
      "Train on 1467 samples, validate on 163 samples\n",
      "Epoch 1/5\n",
      "1467/1467 [==============================] - 6s 4ms/step - loss: 1.8999 - acc: 0.2284 - val_loss: 1.8340 - val_acc: 0.3067\n",
      "Epoch 2/5\n",
      "1467/1467 [==============================] - 3s 2ms/step - loss: 1.7286 - acc: 0.3292 - val_loss: 1.6750 - val_acc: 0.3252\n",
      "Epoch 3/5\n",
      "1467/1467 [==============================] - 2s 2ms/step - loss: 1.6244 - acc: 0.3347 - val_loss: 1.6050 - val_acc: 0.3558\n",
      "Epoch 4/5\n",
      "1467/1467 [==============================] - 3s 2ms/step - loss: 1.5959 - acc: 0.3545 - val_loss: 1.6132 - val_acc: 0.3558\n",
      "Epoch 5/5\n",
      "1467/1467 [==============================] - 3s 2ms/step - loss: 1.5987 - acc: 0.3592 - val_loss: 1.6099 - val_acc: 0.3681\n"
     ]
    },
    {
     "data": {
      "text/plain": [
       "<keras.callbacks.History at 0x7fd76424db38>"
      ]
     },
     "execution_count": 182,
     "metadata": {},
     "output_type": "execute_result"
    }
   ],
   "source": [
    "model.fit(X_train, y_train, batch_size=128, validation_data=(X_val, y_val), epochs=5)"
   ]
  },
  {
   "cell_type": "code",
   "execution_count": 195,
   "metadata": {
    "ExecuteTime": {
     "end_time": "2018-11-21T13:54:13.811160Z",
     "start_time": "2018-11-21T13:54:08.857153Z"
    }
   },
   "outputs": [],
   "source": [
    "model.save('pickles/train7_0.3681-0.59p_dev.hdf5')"
   ]
  },
  {
   "cell_type": "code",
   "execution_count": 196,
   "metadata": {
    "ExecuteTime": {
     "end_time": "2018-11-21T13:58:20.563731Z",
     "start_time": "2018-11-21T13:57:04.893073Z"
    }
   },
   "outputs": [
    {
     "name": "stdout",
     "output_type": "stream",
     "text": [
      "Train on 1467 samples, validate on 163 samples\n",
      "Epoch 1/30\n",
      "1467/1467 [==============================] - 3s 2ms/step - loss: 1.5907 - acc: 0.3476 - val_loss: 1.6016 - val_acc: 0.3926\n",
      "Epoch 2/30\n",
      "1467/1467 [==============================] - 2s 2ms/step - loss: 1.5822 - acc: 0.3606 - val_loss: 1.5998 - val_acc: 0.3742\n",
      "Epoch 3/30\n",
      "1467/1467 [==============================] - 3s 2ms/step - loss: 1.5693 - acc: 0.3592 - val_loss: 1.5968 - val_acc: 0.3620\n",
      "Epoch 4/30\n",
      "1467/1467 [==============================] - 3s 2ms/step - loss: 1.5631 - acc: 0.3729 - val_loss: 1.6005 - val_acc: 0.3988\n",
      "Epoch 5/30\n",
      "1467/1467 [==============================] - 3s 2ms/step - loss: 1.5602 - acc: 0.3851 - val_loss: 1.5964 - val_acc: 0.3252\n",
      "Epoch 6/30\n",
      "1467/1467 [==============================] - 2s 2ms/step - loss: 1.5567 - acc: 0.3763 - val_loss: 1.5864 - val_acc: 0.3681\n",
      "Epoch 7/30\n",
      "1467/1467 [==============================] - 2s 2ms/step - loss: 1.5567 - acc: 0.3654 - val_loss: 1.5827 - val_acc: 0.3558\n",
      "Epoch 8/30\n",
      "1467/1467 [==============================] - 2s 2ms/step - loss: 1.5557 - acc: 0.3783 - val_loss: 1.5940 - val_acc: 0.3558\n",
      "Epoch 9/30\n",
      "1467/1467 [==============================] - 2s 2ms/step - loss: 1.5542 - acc: 0.3729 - val_loss: 1.5806 - val_acc: 0.3926\n",
      "Epoch 10/30\n",
      "1467/1467 [==============================] - 2s 2ms/step - loss: 1.5503 - acc: 0.3838 - val_loss: 1.5778 - val_acc: 0.3497\n",
      "Epoch 11/30\n",
      "1467/1467 [==============================] - 2s 2ms/step - loss: 1.5390 - acc: 0.3810 - val_loss: 1.5911 - val_acc: 0.3804\n",
      "Epoch 12/30\n",
      "1467/1467 [==============================] - 2s 2ms/step - loss: 1.5387 - acc: 0.3810 - val_loss: 1.5929 - val_acc: 0.3620\n",
      "Epoch 13/30\n",
      "1467/1467 [==============================] - 2s 2ms/step - loss: 1.5349 - acc: 0.3736 - val_loss: 1.5864 - val_acc: 0.3620\n",
      "Epoch 14/30\n",
      "1467/1467 [==============================] - 3s 2ms/step - loss: 1.5277 - acc: 0.3831 - val_loss: 1.5888 - val_acc: 0.3865\n",
      "Epoch 15/30\n",
      "1467/1467 [==============================] - 3s 2ms/step - loss: 1.5109 - acc: 0.4015 - val_loss: 1.5814 - val_acc: 0.3804\n",
      "Epoch 16/30\n",
      "1467/1467 [==============================] - 3s 2ms/step - loss: 1.5145 - acc: 0.3947 - val_loss: 1.5762 - val_acc: 0.3681\n",
      "Epoch 17/30\n",
      "1467/1467 [==============================] - 3s 2ms/step - loss: 1.5183 - acc: 0.3831 - val_loss: 1.5913 - val_acc: 0.3620\n",
      "Epoch 18/30\n",
      "1467/1467 [==============================] - 3s 2ms/step - loss: 1.5216 - acc: 0.3913 - val_loss: 1.6020 - val_acc: 0.3681\n",
      "Epoch 19/30\n",
      "1467/1467 [==============================] - 2s 2ms/step - loss: 1.4997 - acc: 0.4083 - val_loss: 1.5871 - val_acc: 0.3742\n",
      "Epoch 20/30\n",
      "1467/1467 [==============================] - 2s 2ms/step - loss: 1.5065 - acc: 0.3995 - val_loss: 1.5798 - val_acc: 0.3988\n",
      "Epoch 21/30\n",
      "1467/1467 [==============================] - 2s 2ms/step - loss: 1.4924 - acc: 0.4001 - val_loss: 1.5783 - val_acc: 0.3742\n",
      "Epoch 22/30\n",
      "1467/1467 [==============================] - 2s 2ms/step - loss: 1.4985 - acc: 0.4090 - val_loss: 1.5937 - val_acc: 0.3436\n",
      "Epoch 23/30\n",
      "1467/1467 [==============================] - 3s 2ms/step - loss: 1.4873 - acc: 0.3960 - val_loss: 1.5848 - val_acc: 0.3681\n",
      "Epoch 24/30\n",
      "1467/1467 [==============================] - 2s 2ms/step - loss: 1.4923 - acc: 0.4090 - val_loss: 1.5814 - val_acc: 0.3926\n",
      "Epoch 25/30\n",
      "1467/1467 [==============================] - 3s 2ms/step - loss: 1.4859 - acc: 0.4056 - val_loss: 1.5928 - val_acc: 0.3926\n",
      "Epoch 26/30\n",
      "1467/1467 [==============================] - 3s 2ms/step - loss: 1.4756 - acc: 0.4070 - val_loss: 1.5927 - val_acc: 0.3742\n",
      "Epoch 27/30\n",
      "1467/1467 [==============================] - 3s 2ms/step - loss: 1.4671 - acc: 0.4063 - val_loss: 1.5923 - val_acc: 0.3558\n",
      "Epoch 28/30\n",
      "1467/1467 [==============================] - 3s 2ms/step - loss: 1.4672 - acc: 0.4029 - val_loss: 1.5997 - val_acc: 0.3742\n",
      "Epoch 29/30\n",
      "1467/1467 [==============================] - 3s 2ms/step - loss: 1.4547 - acc: 0.4145 - val_loss: 1.6444 - val_acc: 0.3067\n",
      "Epoch 30/30\n",
      "1467/1467 [==============================] - 3s 2ms/step - loss: 1.4664 - acc: 0.3988 - val_loss: 1.6367 - val_acc: 0.3313\n"
     ]
    },
    {
     "data": {
      "text/plain": [
       "<keras.callbacks.History at 0x7fd760a3b198>"
      ]
     },
     "execution_count": 196,
     "metadata": {},
     "output_type": "execute_result"
    }
   ],
   "source": [
    "model.fit(X_train, y_train, batch_size=128, validation_data=(X_val, y_val), epochs=30)"
   ]
  },
  {
   "cell_type": "markdown",
   "metadata": {},
   "source": [
    "# Model evaluation"
   ]
  },
  {
   "cell_type": "code",
   "execution_count": 187,
   "metadata": {
    "ExecuteTime": {
     "end_time": "2018-11-21T13:48:15.240250Z",
     "start_time": "2018-11-21T13:48:15.196856Z"
    }
   },
   "outputs": [
    {
     "name": "stderr",
     "output_type": "stream",
     "text": [
      "/home/epita/.local/lib/python3.6/site-packages/pandas/io/feather_format.py:112: FutureWarning: `nthreads` argument is deprecated, pass `use_threads` instead\n",
      "  return feather.read_dataframe(path, nthreads=nthreads)\n"
     ]
    }
   ],
   "source": [
    "dev_7 = pd.read_feather('pickles/dev_7.feather')\n",
    "\n",
    "dev_x, dev_y = dev_7['Tweet'], dev_7['Target_from_0']\n",
    "\n",
    "dev_sequences = tokenizer.texts_to_sequences(dev_x)\n",
    "dev_sequences = pad_sequences(dev_sequences, MAX_SEQUENCE_LENGTH)"
   ]
  },
  {
   "cell_type": "code",
   "execution_count": 188,
   "metadata": {
    "ExecuteTime": {
     "end_time": "2018-11-21T13:48:16.722658Z",
     "start_time": "2018-11-21T13:48:16.708140Z"
    }
   },
   "outputs": [
    {
     "data": {
      "text/plain": [
       "array([0, 1, 6, 4, 5, 2, 3])"
      ]
     },
     "execution_count": 188,
     "metadata": {},
     "output_type": "execute_result"
    }
   ],
   "source": [
    "dev_y.unique()"
   ]
  },
  {
   "cell_type": "code",
   "execution_count": 197,
   "metadata": {
    "ExecuteTime": {
     "end_time": "2018-11-21T13:59:08.711462Z",
     "start_time": "2018-11-21T13:59:08.009844Z"
    }
   },
   "outputs": [],
   "source": [
    "y_pred = np.argmax(model.predict(dev_sequences, batch_size=128), axis=1)\n",
    "y_true = dev_y # np.argmax(y_val, axis=1)"
   ]
  },
  {
   "cell_type": "code",
   "execution_count": 198,
   "metadata": {
    "ExecuteTime": {
     "end_time": "2018-11-21T13:59:09.434880Z",
     "start_time": "2018-11-21T13:59:09.405943Z"
    }
   },
   "outputs": [
    {
     "data": {
      "text/plain": [
       "(array([0, 3, 3, 6, 5, 3, 4, 1, 0, 3]), array([0, 1, 0, 6, 4, 6, 5, 4, 1, 4]))"
      ]
     },
     "execution_count": 198,
     "metadata": {},
     "output_type": "execute_result"
    }
   ],
   "source": [
    "y_pred[:10], np.array(y_true[:10])"
   ]
  },
  {
   "cell_type": "code",
   "execution_count": 199,
   "metadata": {
    "ExecuteTime": {
     "end_time": "2018-11-21T13:59:12.682878Z",
     "start_time": "2018-11-21T13:59:12.657702Z"
    }
   },
   "outputs": [
    {
     "name": "stdout",
     "output_type": "stream",
     "text": [
      "Pearson: 0.6622257781324817\n",
      "Quadratic kappa: 0.6551798484766569\n"
     ]
    }
   ],
   "source": [
    "from scipy.stats import pearsonr\n",
    "from sklearn.metrics import cohen_kappa_score\n",
    "\n",
    "\n",
    "p = pearsonr(y_true, y_pred)[0]\n",
    "w = cohen_kappa_score(y_pred, y_true, weights='quadratic')\n",
    "\n",
    "print(f'Pearson: {p}')\n",
    "print(f'Quadratic kappa: {w}')"
   ]
  },
  {
   "cell_type": "code",
   "execution_count": 200,
   "metadata": {
    "ExecuteTime": {
     "end_time": "2018-11-21T14:00:31.586605Z",
     "start_time": "2018-11-21T14:00:31.072715Z"
    }
   },
   "outputs": [],
   "source": [
    "model.save('pickles/train7_0.33-0.66p_dev.hdf5')"
   ]
  },
  {
   "cell_type": "code",
   "execution_count": 201,
   "metadata": {
    "ExecuteTime": {
     "end_time": "2018-11-21T14:00:40.249281Z",
     "start_time": "2018-11-21T14:00:40.218301Z"
    }
   },
   "outputs": [
    {
     "data": {
      "text/plain": [
       "array([[31, 30,  0,  7,  1,  0,  0],\n",
       "       [ 8, 69,  0, 16,  0,  0,  2],\n",
       "       [ 4, 19,  1, 10,  0,  0,  0],\n",
       "       [ 2, 51,  0, 38,  4,  0, 10],\n",
       "       [ 1, 13,  0, 19, 10,  1, 14],\n",
       "       [ 0,  5,  0,  9,  2,  1, 18],\n",
       "       [ 0,  4,  0, 14,  4,  0, 31]])"
      ]
     },
     "execution_count": 201,
     "metadata": {},
     "output_type": "execute_result"
    }
   ],
   "source": [
    "from sklearn.metrics import confusion_matrix\n",
    "\n",
    "\n",
    "cm = confusion_matrix(y_true, y_pred)\n",
    "cm"
   ]
  },
  {
   "cell_type": "code",
   "execution_count": 202,
   "metadata": {
    "ExecuteTime": {
     "end_time": "2018-11-21T14:00:42.508670Z",
     "start_time": "2018-11-21T14:00:42.490016Z"
    }
   },
   "outputs": [],
   "source": [
    "import itertools\n",
    "import matplotlib.pyplot as plt\n",
    "\n",
    "def plot_confusion_matrix(cm, classes,\n",
    "                          title='Confusion matrix',\n",
    "                          cmap=plt.cm.Blues):\n",
    "    plt.imshow(cm, interpolation='nearest', cmap=cmap)\n",
    "    plt.title(title)\n",
    "    plt.colorbar()\n",
    "    tick_marks = np.arange(len(classes))\n",
    "    plt.xticks(tick_marks, classes, rotation=45)\n",
    "    plt.yticks(tick_marks, classes)\n",
    "\n",
    "    fmt = 'd'\n",
    "    thresh = cm.max() / 2.\n",
    "    for i, j in itertools.product(range(cm.shape[0]), range(cm.shape[1])):\n",
    "        plt.text(j, i, format(cm[i, j], fmt),\n",
    "                 horizontalalignment=\"center\",\n",
    "                 color=\"white\" if cm[i, j] > thresh else \"black\")\n",
    "\n",
    "    plt.ylabel('True label')\n",
    "    plt.xlabel('Predicted label')\n",
    "    plt.tight_layout()"
   ]
  },
  {
   "cell_type": "code",
   "execution_count": 203,
   "metadata": {
    "ExecuteTime": {
     "end_time": "2018-11-21T14:00:43.701685Z",
     "start_time": "2018-11-21T14:00:42.880880Z"
    }
   },
   "outputs": [
    {
     "data": {
      "image/png": "[encoded data removed]",
      "text/plain": [
       "<Figure size 432x288 with 2 Axes>"
      ]
     },
     "metadata": {
      "needs_background": "light"
     },
     "output_type": "display_data"
    }
   ],
   "source": [
    "plot_confusion_matrix(cm, [-3, -2, -1, 0, 1, 2, 3])"
   ]
  },
  {
   "cell_type": "markdown",
   "metadata": {},
   "source": [
    "## Class distribution"
   ]
  },
  {
   "cell_type": "code",
   "execution_count": 72,
   "metadata": {
    "ExecuteTime": {
     "end_time": "2018-11-19T22:03:14.243290Z",
     "start_time": "2018-11-19T22:03:13.875931Z"
    }
   },
   "outputs": [
    {
     "data": {
      "text/html": [
       "<div>\n",
       "<style scoped>\n",
       "    .dataframe tbody tr th:only-of-type {\n",
       "        vertical-align: middle;\n",
       "    }\n",
       "\n",
       "    .dataframe tbody tr th {\n",
       "        vertical-align: top;\n",
       "    }\n",
       "\n",
       "    .dataframe thead th {\n",
       "        text-align: right;\n",
       "    }\n",
       "</style>\n",
       "<table border=\"1\" class=\"dataframe\">\n",
       "  <thead>\n",
       "    <tr style=\"text-align: right;\">\n",
       "      <th>Sentiment</th>\n",
       "      <th>-3</th>\n",
       "      <th>-2</th>\n",
       "      <th>-1</th>\n",
       "      <th>0</th>\n",
       "      <th>1</th>\n",
       "      <th>2</th>\n",
       "      <th>3</th>\n",
       "    </tr>\n",
       "  </thead>\n",
       "  <tbody>\n",
       "    <tr>\n",
       "      <th>ID</th>\n",
       "      <td>198</td>\n",
       "      <td>344</td>\n",
       "      <td>112</td>\n",
       "      <td>446</td>\n",
       "      <td>225</td>\n",
       "      <td>127</td>\n",
       "      <td>178</td>\n",
       "    </tr>\n",
       "    <tr>\n",
       "      <th>Class</th>\n",
       "      <td>198</td>\n",
       "      <td>344</td>\n",
       "      <td>112</td>\n",
       "      <td>446</td>\n",
       "      <td>225</td>\n",
       "      <td>127</td>\n",
       "      <td>178</td>\n",
       "    </tr>\n",
       "    <tr>\n",
       "      <th>Tweet</th>\n",
       "      <td>198</td>\n",
       "      <td>344</td>\n",
       "      <td>112</td>\n",
       "      <td>446</td>\n",
       "      <td>225</td>\n",
       "      <td>127</td>\n",
       "      <td>178</td>\n",
       "    </tr>\n",
       "  </tbody>\n",
       "</table>\n",
       "</div>"
      ],
      "text/plain": [
       "Sentiment   -3   -2   -1    0    1    2    3\n",
       "ID         198  344  112  446  225  127  178\n",
       "Class      198  344  112  446  225  127  178\n",
       "Tweet      198  344  112  446  225  127  178"
      ]
     },
     "metadata": {},
     "output_type": "display_data"
    },
    {
     "data": {
      "text/plain": [
       "<matplotlib.axes._subplots.AxesSubplot at 0x7fd77d166550>"
      ]
     },
     "execution_count": 72,
     "metadata": {},
     "output_type": "execute_result"
    },
    {
     "data": {
      "image/png": "[encoded data removed]",
      "text/plain": [
       "<Figure size 432x288 with 1 Axes>"
      ]
     },
     "metadata": {
      "needs_background": "light"
     },
     "output_type": "display_data"
    }
   ],
   "source": [
    "display(tweets.groupby('Sentiment').count().T)\n",
    "sentiments.hist()"
   ]
  },
  {
   "cell_type": "code",
   "execution_count": 204,
   "metadata": {
    "ExecuteTime": {
     "end_time": "2018-11-21T14:02:43.289755Z",
     "start_time": "2018-11-21T14:02:42.516553Z"
    }
   },
   "outputs": [
    {
     "data": {
      "image/png": "[encoded data removed]",
      "text/plain": [
       "<Figure size 432x288 with 2 Axes>"
      ]
     },
     "metadata": {
      "needs_background": "light"
     },
     "output_type": "display_data"
    }
   ],
   "source": [
    "import seaborn as sns\n",
    "\n",
    "def plot_cm(cm, class_names):\n",
    "    df_cm = pd.DataFrame(cm, index=class_names, columns=class_names)\n",
    "\n",
    "    fig = plt.figure()\n",
    "    \n",
    "    heatmap = sns.heatmap(df_cm, annot=True, fmt=\"d\", cmap=plt.cm.Blues)\n",
    "    heatmap.yaxis.set_ticklabels(heatmap.yaxis.get_ticklabels(), rotation=0, ha='right', fontsize=14)\n",
    "    heatmap.xaxis.set_ticklabels(heatmap.xaxis.get_ticklabels(), rotation=45, ha='right', fontsize=14)\n",
    "    \n",
    "    plt.ylabel('True label')\n",
    "    plt.xlabel('Predicted label')\n",
    "    \n",
    "plot_cm(cm, [-3, -2, -1, 0, 1, 2, 3])"
   ]
  },
  {
   "cell_type": "code",
   "execution_count": null,
   "metadata": {},
   "outputs": [],
   "source": [
    "output_file = dev_7.assign(ic=pd.Series(y_pred).values)\n",
    "output_file = output_file[['ID', 'Tweet', 'Affect Dimension', 'ic']]\n",
    "output_file = output_file.rename(index=str, columns={\"ic\": \"Intensity Class\"})\n",
    "\n",
    "file = open('test_output.tsv', 'w')\n",
    "output_file.to_csv(path_or_buf=file, sep='\\t'))\n",
    "file.close()"
   ]
  }
 ],
 "metadata": {
  "kernelspec": {
   "display_name": "Python 3",
   "language": "python",
   "name": "python3"
  },
  "language_info": {
   "codemirror_mode": {
    "name": "ipython",
    "version": 3
   },
   "file_extension": ".py",
   "mimetype": "text/x-python",
   "name": "python",
   "nbconvert_exporter": "python",
   "pygments_lexer": "ipython3",
   "version": "3.5.3"
  }
 },
 "nbformat": 4,
 "nbformat_minor": 2
}
